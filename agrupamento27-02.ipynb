{
  "nbformat": 4,
  "nbformat_minor": 0,
  "metadata": {
    "colab": {
      "provenance": [],
      "toc_visible": true
    },
    "kernelspec": {
      "name": "python3",
      "display_name": "Python 3"
    },
    "language_info": {
      "name": "python"
    }
  },
  "cells": [
    {
      "cell_type": "markdown",
      "source": [
        "#Machine Learning e Data Science com Python de A a Z - Agrupamento"
      ],
      "metadata": {
        "id": "AyWWBfsV8Dw-"
      }
    },
    {
      "cell_type": "code",
      "source": [
        "!pip install plotly --upgrade"
      ],
      "metadata": {
        "colab": {
          "base_uri": "https://localhost:8080/",
          "height": 0
        },
        "id": "aRFqed1p-yOx",
        "outputId": "b656fd5a-953f-4f01-ddc1-be31f58641ac"
      },
      "execution_count": 1,
      "outputs": [
        {
          "output_type": "stream",
          "name": "stdout",
          "text": [
            "Requirement already satisfied: plotly in /usr/local/lib/python3.10/dist-packages (5.15.0)\n",
            "Collecting plotly\n",
            "  Downloading plotly-5.19.0-py3-none-any.whl (15.7 MB)\n",
            "\u001b[2K     \u001b[90m━━━━━━━━━━━━━━━━━━━━━━━━━━━━━━━━━━━━━━━━\u001b[0m \u001b[32m15.7/15.7 MB\u001b[0m \u001b[31m27.7 MB/s\u001b[0m eta \u001b[36m0:00:00\u001b[0m\n",
            "\u001b[?25hRequirement already satisfied: tenacity>=6.2.0 in /usr/local/lib/python3.10/dist-packages (from plotly) (8.2.3)\n",
            "Requirement already satisfied: packaging in /usr/local/lib/python3.10/dist-packages (from plotly) (23.2)\n",
            "Installing collected packages: plotly\n",
            "  Attempting uninstall: plotly\n",
            "    Found existing installation: plotly 5.15.0\n",
            "    Uninstalling plotly-5.15.0:\n",
            "      Successfully uninstalled plotly-5.15.0\n",
            "Successfully installed plotly-5.19.0\n"
          ]
        }
      ]
    },
    {
      "cell_type": "code",
      "source": [
        "import plotly.express as px\n",
        "import plotly.graph_objects as go\n",
        "import numpy as np\n",
        "from sklearn.preprocessing import StandardScaler"
      ],
      "metadata": {
        "id": "KGNbSy5m-3dF"
      },
      "execution_count": 2,
      "outputs": []
    },
    {
      "cell_type": "markdown",
      "source": [
        "##K-means"
      ],
      "metadata": {
        "id": "5zOFSByL8LyA"
      }
    },
    {
      "cell_type": "markdown",
      "source": [
        "###Base idade e salário"
      ],
      "metadata": {
        "id": "AFeJNx5Y8NkC"
      }
    },
    {
      "cell_type": "code",
      "source": [
        "from sklearn.cluster import KMeans"
      ],
      "metadata": {
        "id": "MBdWz57H8LL3"
      },
      "execution_count": 3,
      "outputs": []
    },
    {
      "cell_type": "code",
      "source": [
        "x = [20, 27, 21, 37, 46, 53, 55, 47, 52, 32, 39, 41, 39, 48, 48]\n",
        "y = [1000, 1200, 2900, 1850, 900, 950, 2000, 2100, 3000, 5900, 4100, 5100, 7000, 5000, 6500]"
      ],
      "metadata": {
        "id": "ddDWQtpS_bzg"
      },
      "execution_count": 4,
      "outputs": []
    },
    {
      "cell_type": "code",
      "source": [
        "grafico = px.scatter(x =x , y = y)\n",
        "grafico.show()"
      ],
      "metadata": {
        "colab": {
          "base_uri": "https://localhost:8080/",
          "height": 542
        },
        "id": "uoC10Mkc_-Qo",
        "outputId": "3f640c63-9541-4af6-ecd6-a177208428a7"
      },
      "execution_count": 5,
      "outputs": [
        {
          "output_type": "display_data",
          "data": {
            "text/html": [
              "<html>\n",
              "<head><meta charset=\"utf-8\" /></head>\n",
              "<body>\n",
              "    <div>            <script src=\"https://cdnjs.cloudflare.com/ajax/libs/mathjax/2.7.5/MathJax.js?config=TeX-AMS-MML_SVG\"></script><script type=\"text/javascript\">if (window.MathJax && window.MathJax.Hub && window.MathJax.Hub.Config) {window.MathJax.Hub.Config({SVG: {font: \"STIX-Web\"}});}</script>                <script type=\"text/javascript\">window.PlotlyConfig = {MathJaxConfig: 'local'};</script>\n",
              "        <script charset=\"utf-8\" src=\"https://cdn.plot.ly/plotly-2.29.1.min.js\"></script>                <div id=\"1c007987-b0fb-4466-8edb-fc5276e99877\" class=\"plotly-graph-div\" style=\"height:525px; width:100%;\"></div>            <script type=\"text/javascript\">                                    window.PLOTLYENV=window.PLOTLYENV || {};                                    if (document.getElementById(\"1c007987-b0fb-4466-8edb-fc5276e99877\")) {                    Plotly.newPlot(                        \"1c007987-b0fb-4466-8edb-fc5276e99877\",                        [{\"hovertemplate\":\"x=%{x}\\u003cbr\\u003ey=%{y}\\u003cextra\\u003e\\u003c\\u002fextra\\u003e\",\"legendgroup\":\"\",\"marker\":{\"color\":\"#636efa\",\"symbol\":\"circle\"},\"mode\":\"markers\",\"name\":\"\",\"orientation\":\"v\",\"showlegend\":false,\"x\":[20,27,21,37,46,53,55,47,52,32,39,41,39,48,48],\"xaxis\":\"x\",\"y\":[1000,1200,2900,1850,900,950,2000,2100,3000,5900,4100,5100,7000,5000,6500],\"yaxis\":\"y\",\"type\":\"scatter\"}],                        {\"template\":{\"data\":{\"histogram2dcontour\":[{\"type\":\"histogram2dcontour\",\"colorbar\":{\"outlinewidth\":0,\"ticks\":\"\"},\"colorscale\":[[0.0,\"#0d0887\"],[0.1111111111111111,\"#46039f\"],[0.2222222222222222,\"#7201a8\"],[0.3333333333333333,\"#9c179e\"],[0.4444444444444444,\"#bd3786\"],[0.5555555555555556,\"#d8576b\"],[0.6666666666666666,\"#ed7953\"],[0.7777777777777778,\"#fb9f3a\"],[0.8888888888888888,\"#fdca26\"],[1.0,\"#f0f921\"]]}],\"choropleth\":[{\"type\":\"choropleth\",\"colorbar\":{\"outlinewidth\":0,\"ticks\":\"\"}}],\"histogram2d\":[{\"type\":\"histogram2d\",\"colorbar\":{\"outlinewidth\":0,\"ticks\":\"\"},\"colorscale\":[[0.0,\"#0d0887\"],[0.1111111111111111,\"#46039f\"],[0.2222222222222222,\"#7201a8\"],[0.3333333333333333,\"#9c179e\"],[0.4444444444444444,\"#bd3786\"],[0.5555555555555556,\"#d8576b\"],[0.6666666666666666,\"#ed7953\"],[0.7777777777777778,\"#fb9f3a\"],[0.8888888888888888,\"#fdca26\"],[1.0,\"#f0f921\"]]}],\"heatmap\":[{\"type\":\"heatmap\",\"colorbar\":{\"outlinewidth\":0,\"ticks\":\"\"},\"colorscale\":[[0.0,\"#0d0887\"],[0.1111111111111111,\"#46039f\"],[0.2222222222222222,\"#7201a8\"],[0.3333333333333333,\"#9c179e\"],[0.4444444444444444,\"#bd3786\"],[0.5555555555555556,\"#d8576b\"],[0.6666666666666666,\"#ed7953\"],[0.7777777777777778,\"#fb9f3a\"],[0.8888888888888888,\"#fdca26\"],[1.0,\"#f0f921\"]]}],\"heatmapgl\":[{\"type\":\"heatmapgl\",\"colorbar\":{\"outlinewidth\":0,\"ticks\":\"\"},\"colorscale\":[[0.0,\"#0d0887\"],[0.1111111111111111,\"#46039f\"],[0.2222222222222222,\"#7201a8\"],[0.3333333333333333,\"#9c179e\"],[0.4444444444444444,\"#bd3786\"],[0.5555555555555556,\"#d8576b\"],[0.6666666666666666,\"#ed7953\"],[0.7777777777777778,\"#fb9f3a\"],[0.8888888888888888,\"#fdca26\"],[1.0,\"#f0f921\"]]}],\"contourcarpet\":[{\"type\":\"contourcarpet\",\"colorbar\":{\"outlinewidth\":0,\"ticks\":\"\"}}],\"contour\":[{\"type\":\"contour\",\"colorbar\":{\"outlinewidth\":0,\"ticks\":\"\"},\"colorscale\":[[0.0,\"#0d0887\"],[0.1111111111111111,\"#46039f\"],[0.2222222222222222,\"#7201a8\"],[0.3333333333333333,\"#9c179e\"],[0.4444444444444444,\"#bd3786\"],[0.5555555555555556,\"#d8576b\"],[0.6666666666666666,\"#ed7953\"],[0.7777777777777778,\"#fb9f3a\"],[0.8888888888888888,\"#fdca26\"],[1.0,\"#f0f921\"]]}],\"surface\":[{\"type\":\"surface\",\"colorbar\":{\"outlinewidth\":0,\"ticks\":\"\"},\"colorscale\":[[0.0,\"#0d0887\"],[0.1111111111111111,\"#46039f\"],[0.2222222222222222,\"#7201a8\"],[0.3333333333333333,\"#9c179e\"],[0.4444444444444444,\"#bd3786\"],[0.5555555555555556,\"#d8576b\"],[0.6666666666666666,\"#ed7953\"],[0.7777777777777778,\"#fb9f3a\"],[0.8888888888888888,\"#fdca26\"],[1.0,\"#f0f921\"]]}],\"mesh3d\":[{\"type\":\"mesh3d\",\"colorbar\":{\"outlinewidth\":0,\"ticks\":\"\"}}],\"scatter\":[{\"fillpattern\":{\"fillmode\":\"overlay\",\"size\":10,\"solidity\":0.2},\"type\":\"scatter\"}],\"parcoords\":[{\"type\":\"parcoords\",\"line\":{\"colorbar\":{\"outlinewidth\":0,\"ticks\":\"\"}}}],\"scatterpolargl\":[{\"type\":\"scatterpolargl\",\"marker\":{\"colorbar\":{\"outlinewidth\":0,\"ticks\":\"\"}}}],\"bar\":[{\"error_x\":{\"color\":\"#2a3f5f\"},\"error_y\":{\"color\":\"#2a3f5f\"},\"marker\":{\"line\":{\"color\":\"#E5ECF6\",\"width\":0.5},\"pattern\":{\"fillmode\":\"overlay\",\"size\":10,\"solidity\":0.2}},\"type\":\"bar\"}],\"scattergeo\":[{\"type\":\"scattergeo\",\"marker\":{\"colorbar\":{\"outlinewidth\":0,\"ticks\":\"\"}}}],\"scatterpolar\":[{\"type\":\"scatterpolar\",\"marker\":{\"colorbar\":{\"outlinewidth\":0,\"ticks\":\"\"}}}],\"histogram\":[{\"marker\":{\"pattern\":{\"fillmode\":\"overlay\",\"size\":10,\"solidity\":0.2}},\"type\":\"histogram\"}],\"scattergl\":[{\"type\":\"scattergl\",\"marker\":{\"colorbar\":{\"outlinewidth\":0,\"ticks\":\"\"}}}],\"scatter3d\":[{\"type\":\"scatter3d\",\"line\":{\"colorbar\":{\"outlinewidth\":0,\"ticks\":\"\"}},\"marker\":{\"colorbar\":{\"outlinewidth\":0,\"ticks\":\"\"}}}],\"scattermapbox\":[{\"type\":\"scattermapbox\",\"marker\":{\"colorbar\":{\"outlinewidth\":0,\"ticks\":\"\"}}}],\"scatterternary\":[{\"type\":\"scatterternary\",\"marker\":{\"colorbar\":{\"outlinewidth\":0,\"ticks\":\"\"}}}],\"scattercarpet\":[{\"type\":\"scattercarpet\",\"marker\":{\"colorbar\":{\"outlinewidth\":0,\"ticks\":\"\"}}}],\"carpet\":[{\"aaxis\":{\"endlinecolor\":\"#2a3f5f\",\"gridcolor\":\"white\",\"linecolor\":\"white\",\"minorgridcolor\":\"white\",\"startlinecolor\":\"#2a3f5f\"},\"baxis\":{\"endlinecolor\":\"#2a3f5f\",\"gridcolor\":\"white\",\"linecolor\":\"white\",\"minorgridcolor\":\"white\",\"startlinecolor\":\"#2a3f5f\"},\"type\":\"carpet\"}],\"table\":[{\"cells\":{\"fill\":{\"color\":\"#EBF0F8\"},\"line\":{\"color\":\"white\"}},\"header\":{\"fill\":{\"color\":\"#C8D4E3\"},\"line\":{\"color\":\"white\"}},\"type\":\"table\"}],\"barpolar\":[{\"marker\":{\"line\":{\"color\":\"#E5ECF6\",\"width\":0.5},\"pattern\":{\"fillmode\":\"overlay\",\"size\":10,\"solidity\":0.2}},\"type\":\"barpolar\"}],\"pie\":[{\"automargin\":true,\"type\":\"pie\"}]},\"layout\":{\"autotypenumbers\":\"strict\",\"colorway\":[\"#636efa\",\"#EF553B\",\"#00cc96\",\"#ab63fa\",\"#FFA15A\",\"#19d3f3\",\"#FF6692\",\"#B6E880\",\"#FF97FF\",\"#FECB52\"],\"font\":{\"color\":\"#2a3f5f\"},\"hovermode\":\"closest\",\"hoverlabel\":{\"align\":\"left\"},\"paper_bgcolor\":\"white\",\"plot_bgcolor\":\"#E5ECF6\",\"polar\":{\"bgcolor\":\"#E5ECF6\",\"angularaxis\":{\"gridcolor\":\"white\",\"linecolor\":\"white\",\"ticks\":\"\"},\"radialaxis\":{\"gridcolor\":\"white\",\"linecolor\":\"white\",\"ticks\":\"\"}},\"ternary\":{\"bgcolor\":\"#E5ECF6\",\"aaxis\":{\"gridcolor\":\"white\",\"linecolor\":\"white\",\"ticks\":\"\"},\"baxis\":{\"gridcolor\":\"white\",\"linecolor\":\"white\",\"ticks\":\"\"},\"caxis\":{\"gridcolor\":\"white\",\"linecolor\":\"white\",\"ticks\":\"\"}},\"coloraxis\":{\"colorbar\":{\"outlinewidth\":0,\"ticks\":\"\"}},\"colorscale\":{\"sequential\":[[0.0,\"#0d0887\"],[0.1111111111111111,\"#46039f\"],[0.2222222222222222,\"#7201a8\"],[0.3333333333333333,\"#9c179e\"],[0.4444444444444444,\"#bd3786\"],[0.5555555555555556,\"#d8576b\"],[0.6666666666666666,\"#ed7953\"],[0.7777777777777778,\"#fb9f3a\"],[0.8888888888888888,\"#fdca26\"],[1.0,\"#f0f921\"]],\"sequentialminus\":[[0.0,\"#0d0887\"],[0.1111111111111111,\"#46039f\"],[0.2222222222222222,\"#7201a8\"],[0.3333333333333333,\"#9c179e\"],[0.4444444444444444,\"#bd3786\"],[0.5555555555555556,\"#d8576b\"],[0.6666666666666666,\"#ed7953\"],[0.7777777777777778,\"#fb9f3a\"],[0.8888888888888888,\"#fdca26\"],[1.0,\"#f0f921\"]],\"diverging\":[[0,\"#8e0152\"],[0.1,\"#c51b7d\"],[0.2,\"#de77ae\"],[0.3,\"#f1b6da\"],[0.4,\"#fde0ef\"],[0.5,\"#f7f7f7\"],[0.6,\"#e6f5d0\"],[0.7,\"#b8e186\"],[0.8,\"#7fbc41\"],[0.9,\"#4d9221\"],[1,\"#276419\"]]},\"xaxis\":{\"gridcolor\":\"white\",\"linecolor\":\"white\",\"ticks\":\"\",\"title\":{\"standoff\":15},\"zerolinecolor\":\"white\",\"automargin\":true,\"zerolinewidth\":2},\"yaxis\":{\"gridcolor\":\"white\",\"linecolor\":\"white\",\"ticks\":\"\",\"title\":{\"standoff\":15},\"zerolinecolor\":\"white\",\"automargin\":true,\"zerolinewidth\":2},\"scene\":{\"xaxis\":{\"backgroundcolor\":\"#E5ECF6\",\"gridcolor\":\"white\",\"linecolor\":\"white\",\"showbackground\":true,\"ticks\":\"\",\"zerolinecolor\":\"white\",\"gridwidth\":2},\"yaxis\":{\"backgroundcolor\":\"#E5ECF6\",\"gridcolor\":\"white\",\"linecolor\":\"white\",\"showbackground\":true,\"ticks\":\"\",\"zerolinecolor\":\"white\",\"gridwidth\":2},\"zaxis\":{\"backgroundcolor\":\"#E5ECF6\",\"gridcolor\":\"white\",\"linecolor\":\"white\",\"showbackground\":true,\"ticks\":\"\",\"zerolinecolor\":\"white\",\"gridwidth\":2}},\"shapedefaults\":{\"line\":{\"color\":\"#2a3f5f\"}},\"annotationdefaults\":{\"arrowcolor\":\"#2a3f5f\",\"arrowhead\":0,\"arrowwidth\":1},\"geo\":{\"bgcolor\":\"white\",\"landcolor\":\"#E5ECF6\",\"subunitcolor\":\"white\",\"showland\":true,\"showlakes\":true,\"lakecolor\":\"white\"},\"title\":{\"x\":0.05},\"mapbox\":{\"style\":\"light\"}}},\"xaxis\":{\"anchor\":\"y\",\"domain\":[0.0,1.0],\"title\":{\"text\":\"x\"}},\"yaxis\":{\"anchor\":\"x\",\"domain\":[0.0,1.0],\"title\":{\"text\":\"y\"}},\"legend\":{\"tracegroupgap\":0},\"margin\":{\"t\":60}},                        {\"responsive\": true}                    ).then(function(){\n",
              "                            \n",
              "var gd = document.getElementById('1c007987-b0fb-4466-8edb-fc5276e99877');\n",
              "var x = new MutationObserver(function (mutations, observer) {{\n",
              "        var display = window.getComputedStyle(gd).display;\n",
              "        if (!display || display === 'none') {{\n",
              "            console.log([gd, 'removed!']);\n",
              "            Plotly.purge(gd);\n",
              "            observer.disconnect();\n",
              "        }}\n",
              "}});\n",
              "\n",
              "// Listen for the removal of the full notebook cells\n",
              "var notebookContainer = gd.closest('#notebook-container');\n",
              "if (notebookContainer) {{\n",
              "    x.observe(notebookContainer, {childList: true});\n",
              "}}\n",
              "\n",
              "// Listen for the clearing of the current output cell\n",
              "var outputEl = gd.closest('.output');\n",
              "if (outputEl) {{\n",
              "    x.observe(outputEl, {childList: true});\n",
              "}}\n",
              "\n",
              "                        })                };                            </script>        </div>\n",
              "</body>\n",
              "</html>"
            ]
          },
          "metadata": {}
        }
      ]
    },
    {
      "cell_type": "code",
      "source": [
        "base_salario = np.array([[20,1000],[27,1200],[21,2900],[37,1850],[46,900],\n",
        "                        [53,950],[55,2000],[47,2100],[52,3000],[32,5900],\n",
        "                        [39,4100],[41,5100],[39,7000],[48,5000],[48,6500]])"
      ],
      "metadata": {
        "id": "2rGKuFii_--Q"
      },
      "execution_count": 6,
      "outputs": []
    },
    {
      "cell_type": "code",
      "source": [
        "base_salario"
      ],
      "metadata": {
        "colab": {
          "base_uri": "https://localhost:8080/",
          "height": 0
        },
        "id": "P8fUi04E__fj",
        "outputId": "54ba4fa2-18ca-4de8-f2ac-106a0cd82c44"
      },
      "execution_count": 7,
      "outputs": [
        {
          "output_type": "execute_result",
          "data": {
            "text/plain": [
              "array([[  20, 1000],\n",
              "       [  27, 1200],\n",
              "       [  21, 2900],\n",
              "       [  37, 1850],\n",
              "       [  46,  900],\n",
              "       [  53,  950],\n",
              "       [  55, 2000],\n",
              "       [  47, 2100],\n",
              "       [  52, 3000],\n",
              "       [  32, 5900],\n",
              "       [  39, 4100],\n",
              "       [  41, 5100],\n",
              "       [  39, 7000],\n",
              "       [  48, 5000],\n",
              "       [  48, 6500]])"
            ]
          },
          "metadata": {},
          "execution_count": 7
        }
      ]
    },
    {
      "cell_type": "code",
      "source": [
        "scaler_salario = StandardScaler()\n",
        "base_salario = scaler_salario.fit_transform(base_salario)"
      ],
      "metadata": {
        "id": "iei-PB_2Akzu"
      },
      "execution_count": 8,
      "outputs": []
    },
    {
      "cell_type": "code",
      "source": [
        "base_salario"
      ],
      "metadata": {
        "colab": {
          "base_uri": "https://localhost:8080/",
          "height": 0
        },
        "id": "tsz0N97ZAoF6",
        "outputId": "3705f1bc-ca13-4ed5-9f03-9c9e5b3a1800"
      },
      "execution_count": 9,
      "outputs": [
        {
          "output_type": "execute_result",
          "data": {
            "text/plain": [
              "array([[-1.87963884, -1.11413572],\n",
              "       [-1.23255006, -1.01725435],\n",
              "       [-1.78719758, -0.19376273],\n",
              "       [-0.30813751, -0.70238991],\n",
              "       [ 0.52383377, -1.1625764 ],\n",
              "       [ 1.17092255, -1.13835606],\n",
              "       [ 1.35580506, -0.62972888],\n",
              "       [ 0.61627503, -0.5812882 ],\n",
              "       [ 1.0784813 , -0.14532205],\n",
              "       [-0.77034379,  1.25945777],\n",
              "       [-0.12325501,  0.38752547],\n",
              "       [ 0.0616275 ,  0.8719323 ],\n",
              "       [-0.12325501,  1.79230528],\n",
              "       [ 0.70871628,  0.82349162],\n",
              "       [ 0.70871628,  1.55010187]])"
            ]
          },
          "metadata": {},
          "execution_count": 9
        }
      ]
    },
    {
      "cell_type": "code",
      "source": [
        "kmeans_salario = KMeans(n_clusters=3)\n",
        "kmeans_salario.fit(base_salario)"
      ],
      "metadata": {
        "colab": {
          "base_uri": "https://localhost:8080/",
          "height": 144
        },
        "id": "kPQ446GYAuZA",
        "outputId": "409a59d8-bfbc-4356-eb3e-b32551c358e6"
      },
      "execution_count": 10,
      "outputs": [
        {
          "output_type": "stream",
          "name": "stderr",
          "text": [
            "/usr/local/lib/python3.10/dist-packages/sklearn/cluster/_kmeans.py:870: FutureWarning:\n",
            "\n",
            "The default value of `n_init` will change from 10 to 'auto' in 1.4. Set the value of `n_init` explicitly to suppress the warning\n",
            "\n"
          ]
        },
        {
          "output_type": "execute_result",
          "data": {
            "text/plain": [
              "KMeans(n_clusters=3)"
            ],
            "text/html": [
              "<style>#sk-container-id-1 {color: black;background-color: white;}#sk-container-id-1 pre{padding: 0;}#sk-container-id-1 div.sk-toggleable {background-color: white;}#sk-container-id-1 label.sk-toggleable__label {cursor: pointer;display: block;width: 100%;margin-bottom: 0;padding: 0.3em;box-sizing: border-box;text-align: center;}#sk-container-id-1 label.sk-toggleable__label-arrow:before {content: \"▸\";float: left;margin-right: 0.25em;color: #696969;}#sk-container-id-1 label.sk-toggleable__label-arrow:hover:before {color: black;}#sk-container-id-1 div.sk-estimator:hover label.sk-toggleable__label-arrow:before {color: black;}#sk-container-id-1 div.sk-toggleable__content {max-height: 0;max-width: 0;overflow: hidden;text-align: left;background-color: #f0f8ff;}#sk-container-id-1 div.sk-toggleable__content pre {margin: 0.2em;color: black;border-radius: 0.25em;background-color: #f0f8ff;}#sk-container-id-1 input.sk-toggleable__control:checked~div.sk-toggleable__content {max-height: 200px;max-width: 100%;overflow: auto;}#sk-container-id-1 input.sk-toggleable__control:checked~label.sk-toggleable__label-arrow:before {content: \"▾\";}#sk-container-id-1 div.sk-estimator input.sk-toggleable__control:checked~label.sk-toggleable__label {background-color: #d4ebff;}#sk-container-id-1 div.sk-label input.sk-toggleable__control:checked~label.sk-toggleable__label {background-color: #d4ebff;}#sk-container-id-1 input.sk-hidden--visually {border: 0;clip: rect(1px 1px 1px 1px);clip: rect(1px, 1px, 1px, 1px);height: 1px;margin: -1px;overflow: hidden;padding: 0;position: absolute;width: 1px;}#sk-container-id-1 div.sk-estimator {font-family: monospace;background-color: #f0f8ff;border: 1px dotted black;border-radius: 0.25em;box-sizing: border-box;margin-bottom: 0.5em;}#sk-container-id-1 div.sk-estimator:hover {background-color: #d4ebff;}#sk-container-id-1 div.sk-parallel-item::after {content: \"\";width: 100%;border-bottom: 1px solid gray;flex-grow: 1;}#sk-container-id-1 div.sk-label:hover label.sk-toggleable__label {background-color: #d4ebff;}#sk-container-id-1 div.sk-serial::before {content: \"\";position: absolute;border-left: 1px solid gray;box-sizing: border-box;top: 0;bottom: 0;left: 50%;z-index: 0;}#sk-container-id-1 div.sk-serial {display: flex;flex-direction: column;align-items: center;background-color: white;padding-right: 0.2em;padding-left: 0.2em;position: relative;}#sk-container-id-1 div.sk-item {position: relative;z-index: 1;}#sk-container-id-1 div.sk-parallel {display: flex;align-items: stretch;justify-content: center;background-color: white;position: relative;}#sk-container-id-1 div.sk-item::before, #sk-container-id-1 div.sk-parallel-item::before {content: \"\";position: absolute;border-left: 1px solid gray;box-sizing: border-box;top: 0;bottom: 0;left: 50%;z-index: -1;}#sk-container-id-1 div.sk-parallel-item {display: flex;flex-direction: column;z-index: 1;position: relative;background-color: white;}#sk-container-id-1 div.sk-parallel-item:first-child::after {align-self: flex-end;width: 50%;}#sk-container-id-1 div.sk-parallel-item:last-child::after {align-self: flex-start;width: 50%;}#sk-container-id-1 div.sk-parallel-item:only-child::after {width: 0;}#sk-container-id-1 div.sk-dashed-wrapped {border: 1px dashed gray;margin: 0 0.4em 0.5em 0.4em;box-sizing: border-box;padding-bottom: 0.4em;background-color: white;}#sk-container-id-1 div.sk-label label {font-family: monospace;font-weight: bold;display: inline-block;line-height: 1.2em;}#sk-container-id-1 div.sk-label-container {text-align: center;}#sk-container-id-1 div.sk-container {/* jupyter's `normalize.less` sets `[hidden] { display: none; }` but bootstrap.min.css set `[hidden] { display: none !important; }` so we also need the `!important` here to be able to override the default hidden behavior on the sphinx rendered scikit-learn.org. See: https://github.com/scikit-learn/scikit-learn/issues/21755 */display: inline-block !important;position: relative;}#sk-container-id-1 div.sk-text-repr-fallback {display: none;}</style><div id=\"sk-container-id-1\" class=\"sk-top-container\"><div class=\"sk-text-repr-fallback\"><pre>KMeans(n_clusters=3)</pre><b>In a Jupyter environment, please rerun this cell to show the HTML representation or trust the notebook. <br />On GitHub, the HTML representation is unable to render, please try loading this page with nbviewer.org.</b></div><div class=\"sk-container\" hidden><div class=\"sk-item\"><div class=\"sk-estimator sk-toggleable\"><input class=\"sk-toggleable__control sk-hidden--visually\" id=\"sk-estimator-id-1\" type=\"checkbox\" checked><label for=\"sk-estimator-id-1\" class=\"sk-toggleable__label sk-toggleable__label-arrow\">KMeans</label><div class=\"sk-toggleable__content\"><pre>KMeans(n_clusters=3)</pre></div></div></div></div></div>"
            ]
          },
          "metadata": {},
          "execution_count": 10
        }
      ]
    },
    {
      "cell_type": "code",
      "source": [
        "centroides = kmeans_salario.cluster_centers_\n",
        "centroides"
      ],
      "metadata": {
        "colab": {
          "base_uri": "https://localhost:8080/",
          "height": 0
        },
        "id": "y-SSgT5fA4dM",
        "outputId": "1e4dc612-1946-4646-9e26-1729bbcc7783"
      },
      "execution_count": 11,
      "outputs": [
        {
          "output_type": "execute_result",
          "data": {
            "text/plain": [
              "array([[ 0.07703438,  1.11413572],\n",
              "       [ 0.73953003, -0.72661025],\n",
              "       [-1.63312883, -0.77505093]])"
            ]
          },
          "metadata": {},
          "execution_count": 11
        }
      ]
    },
    {
      "cell_type": "code",
      "source": [
        "scaler_salario.inverse_transform(kmeans_salario.cluster_centers_)"
      ],
      "metadata": {
        "colab": {
          "base_uri": "https://localhost:8080/",
          "height": 0
        },
        "id": "Lg_Z_FqOA_PC",
        "outputId": "91f460dd-97fe-41e3-ee68-11f4e09672c0"
      },
      "execution_count": 12,
      "outputs": [
        {
          "output_type": "execute_result",
          "data": {
            "text/plain": [
              "array([[  41.16666667, 5600.        ],\n",
              "       [  48.33333333, 1800.        ],\n",
              "       [  22.66666667, 1700.        ]])"
            ]
          },
          "metadata": {},
          "execution_count": 12
        }
      ]
    },
    {
      "cell_type": "code",
      "source": [
        "rotulos = kmeans_salario.labels_"
      ],
      "metadata": {
        "id": "Z29bO44LBFUz"
      },
      "execution_count": 13,
      "outputs": []
    },
    {
      "cell_type": "code",
      "source": [
        "rotulos"
      ],
      "metadata": {
        "colab": {
          "base_uri": "https://localhost:8080/",
          "height": 0
        },
        "id": "C3a8UEV1BQN0",
        "outputId": "680bcea9-b422-4405-be64-f4f8dc3c52ba"
      },
      "execution_count": 14,
      "outputs": [
        {
          "output_type": "execute_result",
          "data": {
            "text/plain": [
              "array([2, 2, 2, 1, 1, 1, 1, 1, 1, 0, 0, 0, 0, 0, 0], dtype=int32)"
            ]
          },
          "metadata": {},
          "execution_count": 14
        }
      ]
    },
    {
      "cell_type": "code",
      "source": [
        "grafico1 = px.scatter(x = base_salario[:, 0], y = base_salario[:, 1], color=rotulos)\n",
        "grafico2 = px.scatter(x = centroides[:, 0], y = centroides[:, 1], size=[12, 12, 12])\n",
        "grafico3 = go.Figure(data = grafico1.data + grafico2.data)\n",
        "grafico3.show()"
      ],
      "metadata": {
        "colab": {
          "base_uri": "https://localhost:8080/",
          "height": 542
        },
        "id": "s4xPSmQGBQ9i",
        "outputId": "4cbf61ff-0715-4dc4-81f3-7d897ac6534d"
      },
      "execution_count": 15,
      "outputs": [
        {
          "output_type": "display_data",
          "data": {
            "text/html": [
              "<html>\n",
              "<head><meta charset=\"utf-8\" /></head>\n",
              "<body>\n",
              "    <div>            <script src=\"https://cdnjs.cloudflare.com/ajax/libs/mathjax/2.7.5/MathJax.js?config=TeX-AMS-MML_SVG\"></script><script type=\"text/javascript\">if (window.MathJax && window.MathJax.Hub && window.MathJax.Hub.Config) {window.MathJax.Hub.Config({SVG: {font: \"STIX-Web\"}});}</script>                <script type=\"text/javascript\">window.PlotlyConfig = {MathJaxConfig: 'local'};</script>\n",
              "        <script charset=\"utf-8\" src=\"https://cdn.plot.ly/plotly-2.29.1.min.js\"></script>                <div id=\"8de58fd7-1a2b-453c-af0c-907afefb18d9\" class=\"plotly-graph-div\" style=\"height:525px; width:100%;\"></div>            <script type=\"text/javascript\">                                    window.PLOTLYENV=window.PLOTLYENV || {};                                    if (document.getElementById(\"8de58fd7-1a2b-453c-af0c-907afefb18d9\")) {                    Plotly.newPlot(                        \"8de58fd7-1a2b-453c-af0c-907afefb18d9\",                        [{\"hovertemplate\":\"x=%{x}\\u003cbr\\u003ey=%{y}\\u003cbr\\u003ecolor=%{marker.color}\\u003cextra\\u003e\\u003c\\u002fextra\\u003e\",\"legendgroup\":\"\",\"marker\":{\"color\":[2,2,2,1,1,1,1,1,1,0,0,0,0,0,0],\"coloraxis\":\"coloraxis\",\"symbol\":\"circle\"},\"mode\":\"markers\",\"name\":\"\",\"orientation\":\"v\",\"showlegend\":false,\"x\":[-1.8796388369139148,-1.232550056992731,-1.78719758263946,-0.3081375142481829,0.5238337742219104,1.170922554143094,1.3558050626920037,0.6162750284963652,1.0784812998686393,-0.770343785620457,-0.1232550056992733,0.06162750284963633,-0.1232550056992733,0.70871628277082,0.70871628277082],\"xaxis\":\"x\",\"y\":[-1.1141357172977029,-1.0172543505761635,-0.19376273344307876,-0.7023899087311605,-1.1625764006584725,-1.1383560589780877,-0.6297288836900059,-0.5812882003292362,-0.14532205008230906,1.2594577673800118,0.3875254668861575,0.8719323004938544,1.7923052843484784,0.8234916171330847,1.55010186754463],\"yaxis\":\"y\",\"type\":\"scatter\"},{\"hovertemplate\":\"x=%{x}\\u003cbr\\u003ey=%{y}\\u003cbr\\u003esize=%{marker.size}\\u003cextra\\u003e\\u003c\\u002fextra\\u003e\",\"legendgroup\":\"\",\"marker\":{\"color\":\"#636efa\",\"size\":[12,12,12],\"sizemode\":\"area\",\"sizeref\":0.03,\"symbol\":\"circle\"},\"mode\":\"markers\",\"name\":\"\",\"orientation\":\"v\",\"showlegend\":false,\"x\":[0.07703437856204544,0.7395300341956381,-1.6331288255153686],\"xaxis\":\"x\",\"y\":[1.1141357172977027,-0.7266102504115454,-0.775050933772315],\"yaxis\":\"y\",\"type\":\"scatter\"}],                        {\"template\":{\"data\":{\"histogram2dcontour\":[{\"type\":\"histogram2dcontour\",\"colorbar\":{\"outlinewidth\":0,\"ticks\":\"\"},\"colorscale\":[[0.0,\"#0d0887\"],[0.1111111111111111,\"#46039f\"],[0.2222222222222222,\"#7201a8\"],[0.3333333333333333,\"#9c179e\"],[0.4444444444444444,\"#bd3786\"],[0.5555555555555556,\"#d8576b\"],[0.6666666666666666,\"#ed7953\"],[0.7777777777777778,\"#fb9f3a\"],[0.8888888888888888,\"#fdca26\"],[1.0,\"#f0f921\"]]}],\"choropleth\":[{\"type\":\"choropleth\",\"colorbar\":{\"outlinewidth\":0,\"ticks\":\"\"}}],\"histogram2d\":[{\"type\":\"histogram2d\",\"colorbar\":{\"outlinewidth\":0,\"ticks\":\"\"},\"colorscale\":[[0.0,\"#0d0887\"],[0.1111111111111111,\"#46039f\"],[0.2222222222222222,\"#7201a8\"],[0.3333333333333333,\"#9c179e\"],[0.4444444444444444,\"#bd3786\"],[0.5555555555555556,\"#d8576b\"],[0.6666666666666666,\"#ed7953\"],[0.7777777777777778,\"#fb9f3a\"],[0.8888888888888888,\"#fdca26\"],[1.0,\"#f0f921\"]]}],\"heatmap\":[{\"type\":\"heatmap\",\"colorbar\":{\"outlinewidth\":0,\"ticks\":\"\"},\"colorscale\":[[0.0,\"#0d0887\"],[0.1111111111111111,\"#46039f\"],[0.2222222222222222,\"#7201a8\"],[0.3333333333333333,\"#9c179e\"],[0.4444444444444444,\"#bd3786\"],[0.5555555555555556,\"#d8576b\"],[0.6666666666666666,\"#ed7953\"],[0.7777777777777778,\"#fb9f3a\"],[0.8888888888888888,\"#fdca26\"],[1.0,\"#f0f921\"]]}],\"heatmapgl\":[{\"type\":\"heatmapgl\",\"colorbar\":{\"outlinewidth\":0,\"ticks\":\"\"},\"colorscale\":[[0.0,\"#0d0887\"],[0.1111111111111111,\"#46039f\"],[0.2222222222222222,\"#7201a8\"],[0.3333333333333333,\"#9c179e\"],[0.4444444444444444,\"#bd3786\"],[0.5555555555555556,\"#d8576b\"],[0.6666666666666666,\"#ed7953\"],[0.7777777777777778,\"#fb9f3a\"],[0.8888888888888888,\"#fdca26\"],[1.0,\"#f0f921\"]]}],\"contourcarpet\":[{\"type\":\"contourcarpet\",\"colorbar\":{\"outlinewidth\":0,\"ticks\":\"\"}}],\"contour\":[{\"type\":\"contour\",\"colorbar\":{\"outlinewidth\":0,\"ticks\":\"\"},\"colorscale\":[[0.0,\"#0d0887\"],[0.1111111111111111,\"#46039f\"],[0.2222222222222222,\"#7201a8\"],[0.3333333333333333,\"#9c179e\"],[0.4444444444444444,\"#bd3786\"],[0.5555555555555556,\"#d8576b\"],[0.6666666666666666,\"#ed7953\"],[0.7777777777777778,\"#fb9f3a\"],[0.8888888888888888,\"#fdca26\"],[1.0,\"#f0f921\"]]}],\"surface\":[{\"type\":\"surface\",\"colorbar\":{\"outlinewidth\":0,\"ticks\":\"\"},\"colorscale\":[[0.0,\"#0d0887\"],[0.1111111111111111,\"#46039f\"],[0.2222222222222222,\"#7201a8\"],[0.3333333333333333,\"#9c179e\"],[0.4444444444444444,\"#bd3786\"],[0.5555555555555556,\"#d8576b\"],[0.6666666666666666,\"#ed7953\"],[0.7777777777777778,\"#fb9f3a\"],[0.8888888888888888,\"#fdca26\"],[1.0,\"#f0f921\"]]}],\"mesh3d\":[{\"type\":\"mesh3d\",\"colorbar\":{\"outlinewidth\":0,\"ticks\":\"\"}}],\"scatter\":[{\"fillpattern\":{\"fillmode\":\"overlay\",\"size\":10,\"solidity\":0.2},\"type\":\"scatter\"}],\"parcoords\":[{\"type\":\"parcoords\",\"line\":{\"colorbar\":{\"outlinewidth\":0,\"ticks\":\"\"}}}],\"scatterpolargl\":[{\"type\":\"scatterpolargl\",\"marker\":{\"colorbar\":{\"outlinewidth\":0,\"ticks\":\"\"}}}],\"bar\":[{\"error_x\":{\"color\":\"#2a3f5f\"},\"error_y\":{\"color\":\"#2a3f5f\"},\"marker\":{\"line\":{\"color\":\"#E5ECF6\",\"width\":0.5},\"pattern\":{\"fillmode\":\"overlay\",\"size\":10,\"solidity\":0.2}},\"type\":\"bar\"}],\"scattergeo\":[{\"type\":\"scattergeo\",\"marker\":{\"colorbar\":{\"outlinewidth\":0,\"ticks\":\"\"}}}],\"scatterpolar\":[{\"type\":\"scatterpolar\",\"marker\":{\"colorbar\":{\"outlinewidth\":0,\"ticks\":\"\"}}}],\"histogram\":[{\"marker\":{\"pattern\":{\"fillmode\":\"overlay\",\"size\":10,\"solidity\":0.2}},\"type\":\"histogram\"}],\"scattergl\":[{\"type\":\"scattergl\",\"marker\":{\"colorbar\":{\"outlinewidth\":0,\"ticks\":\"\"}}}],\"scatter3d\":[{\"type\":\"scatter3d\",\"line\":{\"colorbar\":{\"outlinewidth\":0,\"ticks\":\"\"}},\"marker\":{\"colorbar\":{\"outlinewidth\":0,\"ticks\":\"\"}}}],\"scattermapbox\":[{\"type\":\"scattermapbox\",\"marker\":{\"colorbar\":{\"outlinewidth\":0,\"ticks\":\"\"}}}],\"scatterternary\":[{\"type\":\"scatterternary\",\"marker\":{\"colorbar\":{\"outlinewidth\":0,\"ticks\":\"\"}}}],\"scattercarpet\":[{\"type\":\"scattercarpet\",\"marker\":{\"colorbar\":{\"outlinewidth\":0,\"ticks\":\"\"}}}],\"carpet\":[{\"aaxis\":{\"endlinecolor\":\"#2a3f5f\",\"gridcolor\":\"white\",\"linecolor\":\"white\",\"minorgridcolor\":\"white\",\"startlinecolor\":\"#2a3f5f\"},\"baxis\":{\"endlinecolor\":\"#2a3f5f\",\"gridcolor\":\"white\",\"linecolor\":\"white\",\"minorgridcolor\":\"white\",\"startlinecolor\":\"#2a3f5f\"},\"type\":\"carpet\"}],\"table\":[{\"cells\":{\"fill\":{\"color\":\"#EBF0F8\"},\"line\":{\"color\":\"white\"}},\"header\":{\"fill\":{\"color\":\"#C8D4E3\"},\"line\":{\"color\":\"white\"}},\"type\":\"table\"}],\"barpolar\":[{\"marker\":{\"line\":{\"color\":\"#E5ECF6\",\"width\":0.5},\"pattern\":{\"fillmode\":\"overlay\",\"size\":10,\"solidity\":0.2}},\"type\":\"barpolar\"}],\"pie\":[{\"automargin\":true,\"type\":\"pie\"}]},\"layout\":{\"autotypenumbers\":\"strict\",\"colorway\":[\"#636efa\",\"#EF553B\",\"#00cc96\",\"#ab63fa\",\"#FFA15A\",\"#19d3f3\",\"#FF6692\",\"#B6E880\",\"#FF97FF\",\"#FECB52\"],\"font\":{\"color\":\"#2a3f5f\"},\"hovermode\":\"closest\",\"hoverlabel\":{\"align\":\"left\"},\"paper_bgcolor\":\"white\",\"plot_bgcolor\":\"#E5ECF6\",\"polar\":{\"bgcolor\":\"#E5ECF6\",\"angularaxis\":{\"gridcolor\":\"white\",\"linecolor\":\"white\",\"ticks\":\"\"},\"radialaxis\":{\"gridcolor\":\"white\",\"linecolor\":\"white\",\"ticks\":\"\"}},\"ternary\":{\"bgcolor\":\"#E5ECF6\",\"aaxis\":{\"gridcolor\":\"white\",\"linecolor\":\"white\",\"ticks\":\"\"},\"baxis\":{\"gridcolor\":\"white\",\"linecolor\":\"white\",\"ticks\":\"\"},\"caxis\":{\"gridcolor\":\"white\",\"linecolor\":\"white\",\"ticks\":\"\"}},\"coloraxis\":{\"colorbar\":{\"outlinewidth\":0,\"ticks\":\"\"}},\"colorscale\":{\"sequential\":[[0.0,\"#0d0887\"],[0.1111111111111111,\"#46039f\"],[0.2222222222222222,\"#7201a8\"],[0.3333333333333333,\"#9c179e\"],[0.4444444444444444,\"#bd3786\"],[0.5555555555555556,\"#d8576b\"],[0.6666666666666666,\"#ed7953\"],[0.7777777777777778,\"#fb9f3a\"],[0.8888888888888888,\"#fdca26\"],[1.0,\"#f0f921\"]],\"sequentialminus\":[[0.0,\"#0d0887\"],[0.1111111111111111,\"#46039f\"],[0.2222222222222222,\"#7201a8\"],[0.3333333333333333,\"#9c179e\"],[0.4444444444444444,\"#bd3786\"],[0.5555555555555556,\"#d8576b\"],[0.6666666666666666,\"#ed7953\"],[0.7777777777777778,\"#fb9f3a\"],[0.8888888888888888,\"#fdca26\"],[1.0,\"#f0f921\"]],\"diverging\":[[0,\"#8e0152\"],[0.1,\"#c51b7d\"],[0.2,\"#de77ae\"],[0.3,\"#f1b6da\"],[0.4,\"#fde0ef\"],[0.5,\"#f7f7f7\"],[0.6,\"#e6f5d0\"],[0.7,\"#b8e186\"],[0.8,\"#7fbc41\"],[0.9,\"#4d9221\"],[1,\"#276419\"]]},\"xaxis\":{\"gridcolor\":\"white\",\"linecolor\":\"white\",\"ticks\":\"\",\"title\":{\"standoff\":15},\"zerolinecolor\":\"white\",\"automargin\":true,\"zerolinewidth\":2},\"yaxis\":{\"gridcolor\":\"white\",\"linecolor\":\"white\",\"ticks\":\"\",\"title\":{\"standoff\":15},\"zerolinecolor\":\"white\",\"automargin\":true,\"zerolinewidth\":2},\"scene\":{\"xaxis\":{\"backgroundcolor\":\"#E5ECF6\",\"gridcolor\":\"white\",\"linecolor\":\"white\",\"showbackground\":true,\"ticks\":\"\",\"zerolinecolor\":\"white\",\"gridwidth\":2},\"yaxis\":{\"backgroundcolor\":\"#E5ECF6\",\"gridcolor\":\"white\",\"linecolor\":\"white\",\"showbackground\":true,\"ticks\":\"\",\"zerolinecolor\":\"white\",\"gridwidth\":2},\"zaxis\":{\"backgroundcolor\":\"#E5ECF6\",\"gridcolor\":\"white\",\"linecolor\":\"white\",\"showbackground\":true,\"ticks\":\"\",\"zerolinecolor\":\"white\",\"gridwidth\":2}},\"shapedefaults\":{\"line\":{\"color\":\"#2a3f5f\"}},\"annotationdefaults\":{\"arrowcolor\":\"#2a3f5f\",\"arrowhead\":0,\"arrowwidth\":1},\"geo\":{\"bgcolor\":\"white\",\"landcolor\":\"#E5ECF6\",\"subunitcolor\":\"white\",\"showland\":true,\"showlakes\":true,\"lakecolor\":\"white\"},\"title\":{\"x\":0.05},\"mapbox\":{\"style\":\"light\"}}}},                        {\"responsive\": true}                    ).then(function(){\n",
              "                            \n",
              "var gd = document.getElementById('8de58fd7-1a2b-453c-af0c-907afefb18d9');\n",
              "var x = new MutationObserver(function (mutations, observer) {{\n",
              "        var display = window.getComputedStyle(gd).display;\n",
              "        if (!display || display === 'none') {{\n",
              "            console.log([gd, 'removed!']);\n",
              "            Plotly.purge(gd);\n",
              "            observer.disconnect();\n",
              "        }}\n",
              "}});\n",
              "\n",
              "// Listen for the removal of the full notebook cells\n",
              "var notebookContainer = gd.closest('#notebook-container');\n",
              "if (notebookContainer) {{\n",
              "    x.observe(notebookContainer, {childList: true});\n",
              "}}\n",
              "\n",
              "// Listen for the clearing of the current output cell\n",
              "var outputEl = gd.closest('.output');\n",
              "if (outputEl) {{\n",
              "    x.observe(outputEl, {childList: true});\n",
              "}}\n",
              "\n",
              "                        })                };                            </script>        </div>\n",
              "</body>\n",
              "</html>"
            ]
          },
          "metadata": {}
        }
      ]
    },
    {
      "cell_type": "markdown",
      "source": [
        "###Dados randômicos"
      ],
      "metadata": {
        "id": "Ne0lFgdlB18o"
      }
    },
    {
      "cell_type": "code",
      "source": [
        "from sklearn.datasets import make_blobs\n"
      ],
      "metadata": {
        "id": "p7BPIAbiBdua"
      },
      "execution_count": 16,
      "outputs": []
    },
    {
      "cell_type": "code",
      "source": [
        "x_random, y_random = make_blobs(n_samples=200, centers=5)\n"
      ],
      "metadata": {
        "id": "RwXBIWFPB7dJ"
      },
      "execution_count": 17,
      "outputs": []
    },
    {
      "cell_type": "code",
      "source": [
        "x_random"
      ],
      "metadata": {
        "colab": {
          "base_uri": "https://localhost:8080/",
          "height": 0
        },
        "id": "xm0wX1VIB_y5",
        "outputId": "f7d2c490-7f78-47d0-9799-62c4c4fc899e"
      },
      "execution_count": 18,
      "outputs": [
        {
          "output_type": "execute_result",
          "data": {
            "text/plain": [
              "array([[  7.53718421,   4.50663398],\n",
              "       [ -8.77561999,   5.63450709],\n",
              "       [  5.06305729,   3.45677651],\n",
              "       [  3.24041604, -10.87536475],\n",
              "       [  5.56385373,   1.78885359],\n",
              "       [ -7.39338555,   3.04434159],\n",
              "       [  1.95823681, -11.47390972],\n",
              "       [  3.95883099,   4.93508839],\n",
              "       [-10.85589368,   3.00891892],\n",
              "       [  8.49386155,   7.3587866 ],\n",
              "       [-10.76782919,   5.919338  ],\n",
              "       [  3.11046245,  -9.51712633],\n",
              "       [  2.91906115, -10.35556668],\n",
              "       [  3.61406524,   3.32291355],\n",
              "       [  3.835819  ,  -5.51763395],\n",
              "       [  2.31230704,  -6.79816606],\n",
              "       [  3.06130334,   3.19233724],\n",
              "       [  8.42270949,   6.89772779],\n",
              "       [ -9.88121191,   4.90251882],\n",
              "       [  8.01882153,   6.43122482],\n",
              "       [  5.29480154,  -6.71611994],\n",
              "       [  4.69686604,  -6.35428679],\n",
              "       [  5.90908516,  -8.15542787],\n",
              "       [  4.86484958,  -9.76278548],\n",
              "       [  8.62939431,   4.82973624],\n",
              "       [  5.35161536,  -6.64324601],\n",
              "       [  7.04782457,   6.43988192],\n",
              "       [-10.61068497,   3.23472827],\n",
              "       [ -8.97924533,   5.82254014],\n",
              "       [  7.36506885,   6.72675684],\n",
              "       [  5.76482922,   3.85673526],\n",
              "       [ -8.26211546,   5.82602245],\n",
              "       [  4.67422475,  -6.49404505],\n",
              "       [  4.3563866 ,  -6.19132213],\n",
              "       [ -9.73459907,   3.98529349],\n",
              "       [  3.11283372,  -9.57075913],\n",
              "       [-10.47817371,   3.40212407],\n",
              "       [  5.20900601,   1.91929283],\n",
              "       [  7.33827254,   6.12123593],\n",
              "       [  3.50667411,  -5.94971193],\n",
              "       [  9.06756475,   5.74001272],\n",
              "       [  9.65857555,   8.4056261 ],\n",
              "       [  3.64552339,  -8.30311265],\n",
              "       [ -9.15168936,   5.25531207],\n",
              "       [  4.39598638,  -6.24952062],\n",
              "       [  8.08497131,   5.8816733 ],\n",
              "       [  8.25330781,   5.48157556],\n",
              "       [  1.61230406,   2.66015584],\n",
              "       [  6.92859394,   6.07650896],\n",
              "       [  3.56630918,  -9.94283201],\n",
              "       [-10.01685488,   4.87584597],\n",
              "       [  8.76995082,   6.88418552],\n",
              "       [  4.70648184,  -6.01696418],\n",
              "       [  4.41820485, -10.16376113],\n",
              "       [-10.30894579,   4.74491429],\n",
              "       [  3.80060397,   3.43891099],\n",
              "       [  3.70765194, -10.21991103],\n",
              "       [  4.73285372,   2.31831982],\n",
              "       [  3.98156436,  -6.40107334],\n",
              "       [  3.36642104,   4.10409853],\n",
              "       [  5.69944023,  -5.21093102],\n",
              "       [-10.45159396,   4.32678834],\n",
              "       [  4.47834819,  -6.76552077],\n",
              "       [  3.79287771, -10.54950938],\n",
              "       [  5.92141118,   4.94951143],\n",
              "       [ -9.99125414,   4.14819272],\n",
              "       [  5.03820543, -10.16659951],\n",
              "       [  5.17298885,   2.50298839],\n",
              "       [  3.5039295 ,   4.6804949 ],\n",
              "       [  4.36289283,   2.32116714],\n",
              "       [  8.93750389,   7.90961763],\n",
              "       [  5.4832306 ,  -5.71253318],\n",
              "       [ -9.86448743,   4.40342571],\n",
              "       [  5.28550891,   3.89114125],\n",
              "       [  5.47584749,   4.20026148],\n",
              "       [  5.98602825,   6.78030064],\n",
              "       [  7.37921162,   6.78431655],\n",
              "       [-11.93352168,   5.37351312],\n",
              "       [  7.52788854,   7.61271375],\n",
              "       [  3.95198535,   4.10963694],\n",
              "       [ -8.52901179,   4.44192309],\n",
              "       [  5.53897845,   6.8690529 ],\n",
              "       [  4.27288747,  -6.03647232],\n",
              "       [  5.1559155 ,   3.92346523],\n",
              "       [  3.57080483,  -5.49397663],\n",
              "       [  3.05450751,  -9.1607279 ],\n",
              "       [-10.11148888,   4.5692897 ],\n",
              "       [-11.49984442,   7.00425417],\n",
              "       [  5.53271343,  -5.05258568],\n",
              "       [  8.02748649,   6.09960748],\n",
              "       [  3.93463738,  -8.48473592],\n",
              "       [  7.68470163,   6.88171104],\n",
              "       [  3.66838505,   3.33776025],\n",
              "       [  2.77932163,   3.21982105],\n",
              "       [  1.98533655,  -9.64826419],\n",
              "       [ -7.58413007,   4.71825195],\n",
              "       [  4.9057574 ,   4.10925252],\n",
              "       [ -9.80480331,   4.60667593],\n",
              "       [  4.47238132,  -4.77221831],\n",
              "       [  5.40314897,   3.5023894 ],\n",
              "       [-10.07550354,   5.0386903 ],\n",
              "       [  3.28936323,   4.32100201],\n",
              "       [  3.48852783, -10.18627003],\n",
              "       [  2.34343428,  -8.0201647 ],\n",
              "       [  4.406664  ,  -9.01354579],\n",
              "       [ -9.32644203,   5.12630669],\n",
              "       [  3.23126488,  -5.38455424],\n",
              "       [ -9.09023463,   3.78423305],\n",
              "       [  3.09987606,   3.58201744],\n",
              "       [  4.00427174, -10.0796332 ],\n",
              "       [ -8.7473299 ,   2.9472    ],\n",
              "       [  4.97655224,  -7.63524144],\n",
              "       [ -9.52690495,   4.50590496],\n",
              "       [  4.79099721,   4.68992962],\n",
              "       [  3.53232947, -10.5102128 ],\n",
              "       [ -8.74050759,   6.30496258],\n",
              "       [  7.78690965,   5.65510893],\n",
              "       [  4.05007813,   3.2555585 ],\n",
              "       [  7.23818405,   6.04749576],\n",
              "       [  8.1166806 ,   4.74140732],\n",
              "       [  4.16531662, -11.36549833],\n",
              "       [  6.76653516,   4.79474295],\n",
              "       [  4.6954167 ,   3.28802586],\n",
              "       [-10.44640613,   3.03727613],\n",
              "       [  4.53942056,   3.91951088],\n",
              "       [  5.61891567,   1.92150392],\n",
              "       [-10.29542191,   5.86642268],\n",
              "       [  3.26866968,  -6.1504869 ],\n",
              "       [-10.50409165,   5.08906664],\n",
              "       [  6.51668143,   6.85629779],\n",
              "       [  8.3842503 ,   8.32344394],\n",
              "       [  7.48010161,   5.50850813],\n",
              "       [-11.59507254,   6.49325556],\n",
              "       [  4.70059178,  -9.78371752],\n",
              "       [  3.17494053,  -8.22121857],\n",
              "       [  4.3816973 ,   4.11922856],\n",
              "       [  3.49737873,  -8.65813918],\n",
              "       [  6.03024662,   6.6171652 ],\n",
              "       [  5.67582405,   7.37452689],\n",
              "       [  2.4610559 , -10.56539012],\n",
              "       [  3.38141356,  -6.54843518],\n",
              "       [  4.059729  ,  -8.62016879],\n",
              "       [  9.60967548,   6.45019063],\n",
              "       [  1.84573353,  -7.82923996],\n",
              "       [  9.71753807,   5.03401458],\n",
              "       [  4.16117275,  -9.27732366],\n",
              "       [  2.22479419,  -7.46899506],\n",
              "       [  2.57846681,  -4.80169262],\n",
              "       [  4.26043489,  -5.69124475],\n",
              "       [  6.22911024,   5.15345221],\n",
              "       [  7.71066659,   6.13668006],\n",
              "       [  5.2061501 ,  -9.52925985],\n",
              "       [  3.30612243,  -9.90773806],\n",
              "       [  5.35443348,   1.7179387 ],\n",
              "       [-10.92025955,   4.28402899],\n",
              "       [  4.46832818, -10.20183553],\n",
              "       [  4.74765561,  -6.13866376],\n",
              "       [  4.31000163,  -9.36867212],\n",
              "       [  3.7154697 , -10.57063295],\n",
              "       [  4.48018888,   4.71631683],\n",
              "       [  6.33875068,   4.34355793],\n",
              "       [  4.19052764,  -6.42321289],\n",
              "       [ -7.53898268,   4.97709579],\n",
              "       [  5.1065108 ,   3.02740759],\n",
              "       [  3.44321478, -10.05442792],\n",
              "       [  4.09333594,  -5.02929747],\n",
              "       [  3.00165389, -10.28675971],\n",
              "       [  6.0909458 ,   2.9914099 ],\n",
              "       [  4.5584108 ,   4.2238956 ],\n",
              "       [  7.95523627,   5.62492264],\n",
              "       [  5.65885515,   4.79873609],\n",
              "       [  5.20829233,  -6.08570266],\n",
              "       [  5.08507531,  -7.44408774],\n",
              "       [ -9.45289664,   6.09402159],\n",
              "       [  3.16567214,  -6.11626132],\n",
              "       [ -9.10950704,   3.4306048 ],\n",
              "       [  3.07674293,  -4.21622628],\n",
              "       [  5.22856625, -10.64544109],\n",
              "       [  3.93874531,  -9.83825246],\n",
              "       [ -9.12791815,   5.16314022],\n",
              "       [  3.41959673,  -7.11095965],\n",
              "       [  4.18735205,  -6.4702118 ],\n",
              "       [  2.43881998,  -9.74614086],\n",
              "       [-11.02032489,   4.96013658],\n",
              "       [  4.14152565,  -6.94396522],\n",
              "       [  9.1254069 ,   8.97688417],\n",
              "       [  5.65703852,  -6.27397264],\n",
              "       [  5.8257515 ,  -6.54662541],\n",
              "       [  8.03355974,   6.15027911],\n",
              "       [  7.62987915,   6.39216799],\n",
              "       [  4.21295   ,  -6.0786493 ],\n",
              "       [  3.68242563,  -4.10782068],\n",
              "       [ -9.5342709 ,   4.2579631 ],\n",
              "       [  3.26561894,  -6.79901365],\n",
              "       [  5.9606194 ,   2.77108082],\n",
              "       [ -9.61294487,   4.48105509],\n",
              "       [  9.13227172,   5.83892817],\n",
              "       [  7.96334038,   6.60873735],\n",
              "       [  2.82768573,  -5.28971115],\n",
              "       [  4.60437795,   2.00164304]])"
            ]
          },
          "metadata": {},
          "execution_count": 18
        }
      ]
    },
    {
      "cell_type": "code",
      "source": [
        "y_random"
      ],
      "metadata": {
        "colab": {
          "base_uri": "https://localhost:8080/",
          "height": 0
        },
        "id": "BZRxQrYYCAVI",
        "outputId": "6d6acc9d-bd72-44d2-c239-74241f0ec855"
      },
      "execution_count": 19,
      "outputs": [
        {
          "output_type": "execute_result",
          "data": {
            "text/plain": [
              "array([4, 3, 4, 2, 4, 3, 2, 4, 3, 0, 3, 2, 2, 4, 1, 1, 4, 0, 3, 0, 1, 1,\n",
              "       1, 2, 0, 1, 0, 3, 3, 0, 4, 3, 1, 1, 3, 2, 3, 4, 0, 1, 0, 0, 2, 3,\n",
              "       1, 0, 0, 4, 0, 2, 3, 0, 1, 2, 3, 4, 2, 4, 1, 4, 1, 3, 1, 2, 0, 3,\n",
              "       2, 4, 4, 4, 0, 1, 3, 4, 4, 0, 0, 3, 0, 4, 3, 0, 1, 4, 1, 2, 3, 3,\n",
              "       1, 0, 2, 0, 4, 4, 2, 3, 4, 3, 1, 4, 3, 4, 2, 2, 2, 3, 1, 3, 4, 2,\n",
              "       3, 1, 3, 4, 2, 3, 0, 4, 0, 0, 2, 4, 4, 3, 4, 4, 3, 1, 3, 0, 0, 0,\n",
              "       3, 2, 2, 4, 2, 0, 0, 2, 1, 2, 0, 2, 0, 2, 2, 1, 1, 0, 0, 2, 2, 4,\n",
              "       3, 2, 1, 2, 2, 4, 0, 1, 3, 4, 2, 1, 2, 4, 4, 0, 4, 1, 2, 3, 1, 3,\n",
              "       1, 2, 2, 3, 1, 1, 2, 3, 1, 0, 1, 1, 0, 0, 1, 1, 3, 1, 4, 3, 0, 0,\n",
              "       1, 4])"
            ]
          },
          "metadata": {},
          "execution_count": 19
        }
      ]
    },
    {
      "cell_type": "code",
      "source": [
        "kmeans_blobs = KMeans(n_clusters=5)\n",
        "kmeans_blobs.fit(x_random)"
      ],
      "metadata": {
        "colab": {
          "base_uri": "https://localhost:8080/",
          "height": 144
        },
        "id": "hI8D6WTpCCD6",
        "outputId": "3741b731-b826-4c37-bed7-d4a7195647fc"
      },
      "execution_count": 20,
      "outputs": [
        {
          "output_type": "stream",
          "name": "stderr",
          "text": [
            "/usr/local/lib/python3.10/dist-packages/sklearn/cluster/_kmeans.py:870: FutureWarning:\n",
            "\n",
            "The default value of `n_init` will change from 10 to 'auto' in 1.4. Set the value of `n_init` explicitly to suppress the warning\n",
            "\n"
          ]
        },
        {
          "output_type": "execute_result",
          "data": {
            "text/plain": [
              "KMeans(n_clusters=5)"
            ],
            "text/html": [
              "<style>#sk-container-id-2 {color: black;background-color: white;}#sk-container-id-2 pre{padding: 0;}#sk-container-id-2 div.sk-toggleable {background-color: white;}#sk-container-id-2 label.sk-toggleable__label {cursor: pointer;display: block;width: 100%;margin-bottom: 0;padding: 0.3em;box-sizing: border-box;text-align: center;}#sk-container-id-2 label.sk-toggleable__label-arrow:before {content: \"▸\";float: left;margin-right: 0.25em;color: #696969;}#sk-container-id-2 label.sk-toggleable__label-arrow:hover:before {color: black;}#sk-container-id-2 div.sk-estimator:hover label.sk-toggleable__label-arrow:before {color: black;}#sk-container-id-2 div.sk-toggleable__content {max-height: 0;max-width: 0;overflow: hidden;text-align: left;background-color: #f0f8ff;}#sk-container-id-2 div.sk-toggleable__content pre {margin: 0.2em;color: black;border-radius: 0.25em;background-color: #f0f8ff;}#sk-container-id-2 input.sk-toggleable__control:checked~div.sk-toggleable__content {max-height: 200px;max-width: 100%;overflow: auto;}#sk-container-id-2 input.sk-toggleable__control:checked~label.sk-toggleable__label-arrow:before {content: \"▾\";}#sk-container-id-2 div.sk-estimator input.sk-toggleable__control:checked~label.sk-toggleable__label {background-color: #d4ebff;}#sk-container-id-2 div.sk-label input.sk-toggleable__control:checked~label.sk-toggleable__label {background-color: #d4ebff;}#sk-container-id-2 input.sk-hidden--visually {border: 0;clip: rect(1px 1px 1px 1px);clip: rect(1px, 1px, 1px, 1px);height: 1px;margin: -1px;overflow: hidden;padding: 0;position: absolute;width: 1px;}#sk-container-id-2 div.sk-estimator {font-family: monospace;background-color: #f0f8ff;border: 1px dotted black;border-radius: 0.25em;box-sizing: border-box;margin-bottom: 0.5em;}#sk-container-id-2 div.sk-estimator:hover {background-color: #d4ebff;}#sk-container-id-2 div.sk-parallel-item::after {content: \"\";width: 100%;border-bottom: 1px solid gray;flex-grow: 1;}#sk-container-id-2 div.sk-label:hover label.sk-toggleable__label {background-color: #d4ebff;}#sk-container-id-2 div.sk-serial::before {content: \"\";position: absolute;border-left: 1px solid gray;box-sizing: border-box;top: 0;bottom: 0;left: 50%;z-index: 0;}#sk-container-id-2 div.sk-serial {display: flex;flex-direction: column;align-items: center;background-color: white;padding-right: 0.2em;padding-left: 0.2em;position: relative;}#sk-container-id-2 div.sk-item {position: relative;z-index: 1;}#sk-container-id-2 div.sk-parallel {display: flex;align-items: stretch;justify-content: center;background-color: white;position: relative;}#sk-container-id-2 div.sk-item::before, #sk-container-id-2 div.sk-parallel-item::before {content: \"\";position: absolute;border-left: 1px solid gray;box-sizing: border-box;top: 0;bottom: 0;left: 50%;z-index: -1;}#sk-container-id-2 div.sk-parallel-item {display: flex;flex-direction: column;z-index: 1;position: relative;background-color: white;}#sk-container-id-2 div.sk-parallel-item:first-child::after {align-self: flex-end;width: 50%;}#sk-container-id-2 div.sk-parallel-item:last-child::after {align-self: flex-start;width: 50%;}#sk-container-id-2 div.sk-parallel-item:only-child::after {width: 0;}#sk-container-id-2 div.sk-dashed-wrapped {border: 1px dashed gray;margin: 0 0.4em 0.5em 0.4em;box-sizing: border-box;padding-bottom: 0.4em;background-color: white;}#sk-container-id-2 div.sk-label label {font-family: monospace;font-weight: bold;display: inline-block;line-height: 1.2em;}#sk-container-id-2 div.sk-label-container {text-align: center;}#sk-container-id-2 div.sk-container {/* jupyter's `normalize.less` sets `[hidden] { display: none; }` but bootstrap.min.css set `[hidden] { display: none !important; }` so we also need the `!important` here to be able to override the default hidden behavior on the sphinx rendered scikit-learn.org. See: https://github.com/scikit-learn/scikit-learn/issues/21755 */display: inline-block !important;position: relative;}#sk-container-id-2 div.sk-text-repr-fallback {display: none;}</style><div id=\"sk-container-id-2\" class=\"sk-top-container\"><div class=\"sk-text-repr-fallback\"><pre>KMeans(n_clusters=5)</pre><b>In a Jupyter environment, please rerun this cell to show the HTML representation or trust the notebook. <br />On GitHub, the HTML representation is unable to render, please try loading this page with nbviewer.org.</b></div><div class=\"sk-container\" hidden><div class=\"sk-item\"><div class=\"sk-estimator sk-toggleable\"><input class=\"sk-toggleable__control sk-hidden--visually\" id=\"sk-estimator-id-2\" type=\"checkbox\" checked><label for=\"sk-estimator-id-2\" class=\"sk-toggleable__label sk-toggleable__label-arrow\">KMeans</label><div class=\"sk-toggleable__content\"><pre>KMeans(n_clusters=5)</pre></div></div></div></div></div>"
            ]
          },
          "metadata": {},
          "execution_count": 20
        }
      ]
    },
    {
      "cell_type": "code",
      "source": [
        "rotulos = kmeans_blobs.predict(x_random)\n",
        "rotulos"
      ],
      "metadata": {
        "colab": {
          "base_uri": "https://localhost:8080/",
          "height": 0
        },
        "id": "h70vSK9qCcxT",
        "outputId": "0b885b2b-15bb-4c64-ab78-fc8b7174f38e"
      },
      "execution_count": 21,
      "outputs": [
        {
          "output_type": "execute_result",
          "data": {
            "text/plain": [
              "array([2, 0, 3, 4, 3, 0, 4, 3, 0, 2, 0, 4, 4, 3, 1, 1, 3, 2, 0, 2, 1, 1,\n",
              "       1, 4, 2, 1, 2, 0, 0, 2, 3, 0, 1, 1, 0, 4, 0, 3, 2, 1, 2, 2, 4, 0,\n",
              "       1, 2, 2, 3, 2, 4, 0, 2, 1, 4, 0, 3, 4, 3, 1, 3, 1, 0, 1, 4, 3, 0,\n",
              "       4, 3, 3, 3, 2, 1, 0, 3, 3, 2, 2, 0, 2, 3, 0, 2, 1, 3, 1, 4, 0, 0,\n",
              "       1, 2, 4, 2, 3, 3, 4, 0, 3, 0, 1, 3, 0, 3, 4, 4, 4, 0, 1, 0, 3, 4,\n",
              "       0, 1, 0, 3, 4, 0, 2, 3, 2, 2, 4, 2, 3, 0, 3, 3, 0, 1, 0, 2, 2, 2,\n",
              "       0, 4, 4, 3, 4, 2, 2, 4, 1, 4, 2, 4, 2, 4, 1, 1, 1, 2, 2, 4, 4, 3,\n",
              "       0, 4, 1, 4, 4, 3, 3, 1, 0, 3, 4, 1, 4, 3, 3, 2, 3, 1, 1, 0, 1, 0,\n",
              "       1, 4, 4, 0, 1, 1, 4, 0, 1, 2, 1, 1, 2, 2, 1, 1, 0, 1, 3, 0, 2, 2,\n",
              "       1, 3], dtype=int32)"
            ]
          },
          "metadata": {},
          "execution_count": 21
        }
      ]
    },
    {
      "cell_type": "code",
      "source": [
        "centroides = kmeans_blobs.cluster_centers_"
      ],
      "metadata": {
        "id": "wl8S-fHLEJ1u"
      },
      "execution_count": 22,
      "outputs": []
    },
    {
      "cell_type": "code",
      "source": [
        "centroides"
      ],
      "metadata": {
        "colab": {
          "base_uri": "https://localhost:8080/",
          "height": 0
        },
        "id": "nJmr-wsfESFx",
        "outputId": "75b1e725-ecf0-4ab3-b1f6-4da3cfdc7f02"
      },
      "execution_count": 23,
      "outputs": [
        {
          "output_type": "execute_result",
          "data": {
            "text/plain": [
              "array([[-9.7412851 ,  4.72725212],\n",
              "       [ 4.22001098, -6.12587589],\n",
              "       [ 7.79499995,  6.375096  ],\n",
              "       [ 4.59882698,  3.48575339],\n",
              "       [ 3.6117719 , -9.74933287]])"
            ]
          },
          "metadata": {},
          "execution_count": 23
        }
      ]
    },
    {
      "cell_type": "code",
      "source": [
        "'''grafico1 = px.scatter(x = x_random[:, 0], y = y_random[:, 1], color = rotulos)\n",
        "grafico2 = px.scatter(x = centroides[:,0], y=centroides[:, 1], size = [5, 5, 5, 5, 5])\n",
        "grafico3 = go.Figure(data = grafico1.data)\n",
        "grafico3.show()'''"
      ],
      "metadata": {
        "colab": {
          "base_uri": "https://localhost:8080/",
          "height": 53
        },
        "id": "sgbieSsjEVh2",
        "outputId": "a455a542-078b-433d-dd9c-b23d7edd128e"
      },
      "execution_count": 24,
      "outputs": [
        {
          "output_type": "execute_result",
          "data": {
            "text/plain": [
              "'grafico1 = px.scatter(x = x_random[:, 0], y = y_random[:, 1], color = rotulos)\\ngrafico2 = px.scatter(x = centroides[:,0], y=centroides[:, 1], size = [5, 5, 5, 5, 5])\\ngrafico3 = go.Figure(data = grafico1.data)\\ngrafico3.show()'"
            ],
            "application/vnd.google.colaboratory.intrinsic+json": {
              "type": "string"
            }
          },
          "metadata": {},
          "execution_count": 24
        }
      ]
    },
    {
      "cell_type": "markdown",
      "source": [
        "##Base de dados cartão de crédito"
      ],
      "metadata": {
        "id": "cah0mNf3GABI"
      }
    },
    {
      "cell_type": "code",
      "source": [
        "import pandas as pd"
      ],
      "metadata": {
        "id": "LS48j7olGs_K"
      },
      "execution_count": 25,
      "outputs": []
    },
    {
      "cell_type": "markdown",
      "source": [
        "###Agrupamento hierárquico"
      ],
      "metadata": {
        "id": "Ri5ElUXnGXMn"
      }
    },
    {
      "cell_type": "code",
      "source": [
        "base_cartao = pd.read_csv('credit_card_clients.csv', header= 1)\n",
        "base_cartao"
      ],
      "metadata": {
        "colab": {
          "base_uri": "https://localhost:8080/",
          "height": 476
        },
        "id": "P4Uzlr5DEvew",
        "outputId": "d20c7d9d-5eea-47c6-c298-2b6f95cd9024"
      },
      "execution_count": 27,
      "outputs": [
        {
          "output_type": "execute_result",
          "data": {
            "text/plain": [
              "          ID  LIMIT_BAL  SEX  EDUCATION  MARRIAGE   AGE  PAY_0  PAY_2  PAY_3  \\\n",
              "0          1      20000  2.0        2.0       1.0  24.0    2.0    2.0   -1.0   \n",
              "1          2     120000  2.0        2.0       2.0  26.0   -1.0    2.0    0.0   \n",
              "2          3      90000  2.0        2.0       2.0  34.0    0.0    0.0    0.0   \n",
              "3          4      50000  2.0        2.0       1.0  37.0    0.0    0.0    0.0   \n",
              "4          5      50000  1.0        2.0       1.0  57.0   -1.0    0.0   -1.0   \n",
              "...      ...        ...  ...        ...       ...   ...    ...    ...    ...   \n",
              "21781  21782      20000  2.0        1.0       2.0  25.0    1.0   -1.0   -1.0   \n",
              "21782  21783     130000  2.0        1.0       2.0  25.0    0.0    0.0    0.0   \n",
              "21783  21784     200000  2.0        1.0       2.0  25.0    0.0   -1.0   -1.0   \n",
              "21784  21785     320000  2.0        3.0       2.0  25.0    0.0    0.0    0.0   \n",
              "21785  21786       9000  NaN        NaN       NaN   NaN    NaN    NaN    NaN   \n",
              "\n",
              "       PAY_4  ...  BILL_AMT4  BILL_AMT5  BILL_AMT6  PAY_AMT1  PAY_AMT2  \\\n",
              "0       -1.0  ...        0.0        0.0        0.0       0.0     689.0   \n",
              "1        0.0  ...     3272.0     3455.0     3261.0       0.0    1000.0   \n",
              "2        0.0  ...    14331.0    14948.0    15549.0    1518.0    1500.0   \n",
              "3        0.0  ...    28314.0    28959.0    29547.0    2000.0    2019.0   \n",
              "4        0.0  ...    20940.0    19146.0    19131.0    2000.0   36681.0   \n",
              "...      ...  ...        ...        ...        ...       ...       ...   \n",
              "21781   -2.0  ...      200.0    17976.0    17980.0   17388.0       0.0   \n",
              "21782    0.0  ...    44568.0    48560.0    51529.0    5000.0    5000.0   \n",
              "21783   -1.0  ...    92388.0    18758.0        0.0     105.0   99230.0   \n",
              "21784    0.0  ...    69746.0    70040.0    71076.0    3084.0    3007.0   \n",
              "21785    NaN  ...        NaN        NaN        NaN       NaN       NaN   \n",
              "\n",
              "       PAY_AMT3  PAY_AMT4  PAY_AMT5  PAY_AMT6  default payment next month  \n",
              "0           0.0       0.0       0.0       0.0                         1.0  \n",
              "1        1000.0    1000.0       0.0    2000.0                         1.0  \n",
              "2        1000.0    1000.0    1000.0    5000.0                         0.0  \n",
              "3        1200.0    1100.0    1069.0    1000.0                         0.0  \n",
              "4       10000.0    9000.0     689.0     679.0                         0.0  \n",
              "...         ...       ...       ...       ...                         ...  \n",
              "21781     200.0   17976.0       4.0    2170.0                         1.0  \n",
              "21782    5000.0    5000.0    5000.0    5000.0                         0.0  \n",
              "21783   10038.0   18758.0       0.0       0.0                         0.0  \n",
              "21784    3031.0    2367.0    2450.0    2432.0                         0.0  \n",
              "21785       NaN       NaN       NaN       NaN                         NaN  \n",
              "\n",
              "[21786 rows x 25 columns]"
            ],
            "text/html": [
              "\n",
              "  <div id=\"df-3d67637d-c408-455c-80c1-fdfddb168400\" class=\"colab-df-container\">\n",
              "    <div>\n",
              "<style scoped>\n",
              "    .dataframe tbody tr th:only-of-type {\n",
              "        vertical-align: middle;\n",
              "    }\n",
              "\n",
              "    .dataframe tbody tr th {\n",
              "        vertical-align: top;\n",
              "    }\n",
              "\n",
              "    .dataframe thead th {\n",
              "        text-align: right;\n",
              "    }\n",
              "</style>\n",
              "<table border=\"1\" class=\"dataframe\">\n",
              "  <thead>\n",
              "    <tr style=\"text-align: right;\">\n",
              "      <th></th>\n",
              "      <th>ID</th>\n",
              "      <th>LIMIT_BAL</th>\n",
              "      <th>SEX</th>\n",
              "      <th>EDUCATION</th>\n",
              "      <th>MARRIAGE</th>\n",
              "      <th>AGE</th>\n",
              "      <th>PAY_0</th>\n",
              "      <th>PAY_2</th>\n",
              "      <th>PAY_3</th>\n",
              "      <th>PAY_4</th>\n",
              "      <th>...</th>\n",
              "      <th>BILL_AMT4</th>\n",
              "      <th>BILL_AMT5</th>\n",
              "      <th>BILL_AMT6</th>\n",
              "      <th>PAY_AMT1</th>\n",
              "      <th>PAY_AMT2</th>\n",
              "      <th>PAY_AMT3</th>\n",
              "      <th>PAY_AMT4</th>\n",
              "      <th>PAY_AMT5</th>\n",
              "      <th>PAY_AMT6</th>\n",
              "      <th>default payment next month</th>\n",
              "    </tr>\n",
              "  </thead>\n",
              "  <tbody>\n",
              "    <tr>\n",
              "      <th>0</th>\n",
              "      <td>1</td>\n",
              "      <td>20000</td>\n",
              "      <td>2.0</td>\n",
              "      <td>2.0</td>\n",
              "      <td>1.0</td>\n",
              "      <td>24.0</td>\n",
              "      <td>2.0</td>\n",
              "      <td>2.0</td>\n",
              "      <td>-1.0</td>\n",
              "      <td>-1.0</td>\n",
              "      <td>...</td>\n",
              "      <td>0.0</td>\n",
              "      <td>0.0</td>\n",
              "      <td>0.0</td>\n",
              "      <td>0.0</td>\n",
              "      <td>689.0</td>\n",
              "      <td>0.0</td>\n",
              "      <td>0.0</td>\n",
              "      <td>0.0</td>\n",
              "      <td>0.0</td>\n",
              "      <td>1.0</td>\n",
              "    </tr>\n",
              "    <tr>\n",
              "      <th>1</th>\n",
              "      <td>2</td>\n",
              "      <td>120000</td>\n",
              "      <td>2.0</td>\n",
              "      <td>2.0</td>\n",
              "      <td>2.0</td>\n",
              "      <td>26.0</td>\n",
              "      <td>-1.0</td>\n",
              "      <td>2.0</td>\n",
              "      <td>0.0</td>\n",
              "      <td>0.0</td>\n",
              "      <td>...</td>\n",
              "      <td>3272.0</td>\n",
              "      <td>3455.0</td>\n",
              "      <td>3261.0</td>\n",
              "      <td>0.0</td>\n",
              "      <td>1000.0</td>\n",
              "      <td>1000.0</td>\n",
              "      <td>1000.0</td>\n",
              "      <td>0.0</td>\n",
              "      <td>2000.0</td>\n",
              "      <td>1.0</td>\n",
              "    </tr>\n",
              "    <tr>\n",
              "      <th>2</th>\n",
              "      <td>3</td>\n",
              "      <td>90000</td>\n",
              "      <td>2.0</td>\n",
              "      <td>2.0</td>\n",
              "      <td>2.0</td>\n",
              "      <td>34.0</td>\n",
              "      <td>0.0</td>\n",
              "      <td>0.0</td>\n",
              "      <td>0.0</td>\n",
              "      <td>0.0</td>\n",
              "      <td>...</td>\n",
              "      <td>14331.0</td>\n",
              "      <td>14948.0</td>\n",
              "      <td>15549.0</td>\n",
              "      <td>1518.0</td>\n",
              "      <td>1500.0</td>\n",
              "      <td>1000.0</td>\n",
              "      <td>1000.0</td>\n",
              "      <td>1000.0</td>\n",
              "      <td>5000.0</td>\n",
              "      <td>0.0</td>\n",
              "    </tr>\n",
              "    <tr>\n",
              "      <th>3</th>\n",
              "      <td>4</td>\n",
              "      <td>50000</td>\n",
              "      <td>2.0</td>\n",
              "      <td>2.0</td>\n",
              "      <td>1.0</td>\n",
              "      <td>37.0</td>\n",
              "      <td>0.0</td>\n",
              "      <td>0.0</td>\n",
              "      <td>0.0</td>\n",
              "      <td>0.0</td>\n",
              "      <td>...</td>\n",
              "      <td>28314.0</td>\n",
              "      <td>28959.0</td>\n",
              "      <td>29547.0</td>\n",
              "      <td>2000.0</td>\n",
              "      <td>2019.0</td>\n",
              "      <td>1200.0</td>\n",
              "      <td>1100.0</td>\n",
              "      <td>1069.0</td>\n",
              "      <td>1000.0</td>\n",
              "      <td>0.0</td>\n",
              "    </tr>\n",
              "    <tr>\n",
              "      <th>4</th>\n",
              "      <td>5</td>\n",
              "      <td>50000</td>\n",
              "      <td>1.0</td>\n",
              "      <td>2.0</td>\n",
              "      <td>1.0</td>\n",
              "      <td>57.0</td>\n",
              "      <td>-1.0</td>\n",
              "      <td>0.0</td>\n",
              "      <td>-1.0</td>\n",
              "      <td>0.0</td>\n",
              "      <td>...</td>\n",
              "      <td>20940.0</td>\n",
              "      <td>19146.0</td>\n",
              "      <td>19131.0</td>\n",
              "      <td>2000.0</td>\n",
              "      <td>36681.0</td>\n",
              "      <td>10000.0</td>\n",
              "      <td>9000.0</td>\n",
              "      <td>689.0</td>\n",
              "      <td>679.0</td>\n",
              "      <td>0.0</td>\n",
              "    </tr>\n",
              "    <tr>\n",
              "      <th>...</th>\n",
              "      <td>...</td>\n",
              "      <td>...</td>\n",
              "      <td>...</td>\n",
              "      <td>...</td>\n",
              "      <td>...</td>\n",
              "      <td>...</td>\n",
              "      <td>...</td>\n",
              "      <td>...</td>\n",
              "      <td>...</td>\n",
              "      <td>...</td>\n",
              "      <td>...</td>\n",
              "      <td>...</td>\n",
              "      <td>...</td>\n",
              "      <td>...</td>\n",
              "      <td>...</td>\n",
              "      <td>...</td>\n",
              "      <td>...</td>\n",
              "      <td>...</td>\n",
              "      <td>...</td>\n",
              "      <td>...</td>\n",
              "      <td>...</td>\n",
              "    </tr>\n",
              "    <tr>\n",
              "      <th>21781</th>\n",
              "      <td>21782</td>\n",
              "      <td>20000</td>\n",
              "      <td>2.0</td>\n",
              "      <td>1.0</td>\n",
              "      <td>2.0</td>\n",
              "      <td>25.0</td>\n",
              "      <td>1.0</td>\n",
              "      <td>-1.0</td>\n",
              "      <td>-1.0</td>\n",
              "      <td>-2.0</td>\n",
              "      <td>...</td>\n",
              "      <td>200.0</td>\n",
              "      <td>17976.0</td>\n",
              "      <td>17980.0</td>\n",
              "      <td>17388.0</td>\n",
              "      <td>0.0</td>\n",
              "      <td>200.0</td>\n",
              "      <td>17976.0</td>\n",
              "      <td>4.0</td>\n",
              "      <td>2170.0</td>\n",
              "      <td>1.0</td>\n",
              "    </tr>\n",
              "    <tr>\n",
              "      <th>21782</th>\n",
              "      <td>21783</td>\n",
              "      <td>130000</td>\n",
              "      <td>2.0</td>\n",
              "      <td>1.0</td>\n",
              "      <td>2.0</td>\n",
              "      <td>25.0</td>\n",
              "      <td>0.0</td>\n",
              "      <td>0.0</td>\n",
              "      <td>0.0</td>\n",
              "      <td>0.0</td>\n",
              "      <td>...</td>\n",
              "      <td>44568.0</td>\n",
              "      <td>48560.0</td>\n",
              "      <td>51529.0</td>\n",
              "      <td>5000.0</td>\n",
              "      <td>5000.0</td>\n",
              "      <td>5000.0</td>\n",
              "      <td>5000.0</td>\n",
              "      <td>5000.0</td>\n",
              "      <td>5000.0</td>\n",
              "      <td>0.0</td>\n",
              "    </tr>\n",
              "    <tr>\n",
              "      <th>21783</th>\n",
              "      <td>21784</td>\n",
              "      <td>200000</td>\n",
              "      <td>2.0</td>\n",
              "      <td>1.0</td>\n",
              "      <td>2.0</td>\n",
              "      <td>25.0</td>\n",
              "      <td>0.0</td>\n",
              "      <td>-1.0</td>\n",
              "      <td>-1.0</td>\n",
              "      <td>-1.0</td>\n",
              "      <td>...</td>\n",
              "      <td>92388.0</td>\n",
              "      <td>18758.0</td>\n",
              "      <td>0.0</td>\n",
              "      <td>105.0</td>\n",
              "      <td>99230.0</td>\n",
              "      <td>10038.0</td>\n",
              "      <td>18758.0</td>\n",
              "      <td>0.0</td>\n",
              "      <td>0.0</td>\n",
              "      <td>0.0</td>\n",
              "    </tr>\n",
              "    <tr>\n",
              "      <th>21784</th>\n",
              "      <td>21785</td>\n",
              "      <td>320000</td>\n",
              "      <td>2.0</td>\n",
              "      <td>3.0</td>\n",
              "      <td>2.0</td>\n",
              "      <td>25.0</td>\n",
              "      <td>0.0</td>\n",
              "      <td>0.0</td>\n",
              "      <td>0.0</td>\n",
              "      <td>0.0</td>\n",
              "      <td>...</td>\n",
              "      <td>69746.0</td>\n",
              "      <td>70040.0</td>\n",
              "      <td>71076.0</td>\n",
              "      <td>3084.0</td>\n",
              "      <td>3007.0</td>\n",
              "      <td>3031.0</td>\n",
              "      <td>2367.0</td>\n",
              "      <td>2450.0</td>\n",
              "      <td>2432.0</td>\n",
              "      <td>0.0</td>\n",
              "    </tr>\n",
              "    <tr>\n",
              "      <th>21785</th>\n",
              "      <td>21786</td>\n",
              "      <td>9000</td>\n",
              "      <td>NaN</td>\n",
              "      <td>NaN</td>\n",
              "      <td>NaN</td>\n",
              "      <td>NaN</td>\n",
              "      <td>NaN</td>\n",
              "      <td>NaN</td>\n",
              "      <td>NaN</td>\n",
              "      <td>NaN</td>\n",
              "      <td>...</td>\n",
              "      <td>NaN</td>\n",
              "      <td>NaN</td>\n",
              "      <td>NaN</td>\n",
              "      <td>NaN</td>\n",
              "      <td>NaN</td>\n",
              "      <td>NaN</td>\n",
              "      <td>NaN</td>\n",
              "      <td>NaN</td>\n",
              "      <td>NaN</td>\n",
              "      <td>NaN</td>\n",
              "    </tr>\n",
              "  </tbody>\n",
              "</table>\n",
              "<p>21786 rows × 25 columns</p>\n",
              "</div>\n",
              "    <div class=\"colab-df-buttons\">\n",
              "\n",
              "  <div class=\"colab-df-container\">\n",
              "    <button class=\"colab-df-convert\" onclick=\"convertToInteractive('df-3d67637d-c408-455c-80c1-fdfddb168400')\"\n",
              "            title=\"Convert this dataframe to an interactive table.\"\n",
              "            style=\"display:none;\">\n",
              "\n",
              "  <svg xmlns=\"http://www.w3.org/2000/svg\" height=\"24px\" viewBox=\"0 -960 960 960\">\n",
              "    <path d=\"M120-120v-720h720v720H120Zm60-500h600v-160H180v160Zm220 220h160v-160H400v160Zm0 220h160v-160H400v160ZM180-400h160v-160H180v160Zm440 0h160v-160H620v160ZM180-180h160v-160H180v160Zm440 0h160v-160H620v160Z\"/>\n",
              "  </svg>\n",
              "    </button>\n",
              "\n",
              "  <style>\n",
              "    .colab-df-container {\n",
              "      display:flex;\n",
              "      gap: 12px;\n",
              "    }\n",
              "\n",
              "    .colab-df-convert {\n",
              "      background-color: #E8F0FE;\n",
              "      border: none;\n",
              "      border-radius: 50%;\n",
              "      cursor: pointer;\n",
              "      display: none;\n",
              "      fill: #1967D2;\n",
              "      height: 32px;\n",
              "      padding: 0 0 0 0;\n",
              "      width: 32px;\n",
              "    }\n",
              "\n",
              "    .colab-df-convert:hover {\n",
              "      background-color: #E2EBFA;\n",
              "      box-shadow: 0px 1px 2px rgba(60, 64, 67, 0.3), 0px 1px 3px 1px rgba(60, 64, 67, 0.15);\n",
              "      fill: #174EA6;\n",
              "    }\n",
              "\n",
              "    .colab-df-buttons div {\n",
              "      margin-bottom: 4px;\n",
              "    }\n",
              "\n",
              "    [theme=dark] .colab-df-convert {\n",
              "      background-color: #3B4455;\n",
              "      fill: #D2E3FC;\n",
              "    }\n",
              "\n",
              "    [theme=dark] .colab-df-convert:hover {\n",
              "      background-color: #434B5C;\n",
              "      box-shadow: 0px 1px 3px 1px rgba(0, 0, 0, 0.15);\n",
              "      filter: drop-shadow(0px 1px 2px rgba(0, 0, 0, 0.3));\n",
              "      fill: #FFFFFF;\n",
              "    }\n",
              "  </style>\n",
              "\n",
              "    <script>\n",
              "      const buttonEl =\n",
              "        document.querySelector('#df-3d67637d-c408-455c-80c1-fdfddb168400 button.colab-df-convert');\n",
              "      buttonEl.style.display =\n",
              "        google.colab.kernel.accessAllowed ? 'block' : 'none';\n",
              "\n",
              "      async function convertToInteractive(key) {\n",
              "        const element = document.querySelector('#df-3d67637d-c408-455c-80c1-fdfddb168400');\n",
              "        const dataTable =\n",
              "          await google.colab.kernel.invokeFunction('convertToInteractive',\n",
              "                                                    [key], {});\n",
              "        if (!dataTable) return;\n",
              "\n",
              "        const docLinkHtml = 'Like what you see? Visit the ' +\n",
              "          '<a target=\"_blank\" href=https://colab.research.google.com/notebooks/data_table.ipynb>data table notebook</a>'\n",
              "          + ' to learn more about interactive tables.';\n",
              "        element.innerHTML = '';\n",
              "        dataTable['output_type'] = 'display_data';\n",
              "        await google.colab.output.renderOutput(dataTable, element);\n",
              "        const docLink = document.createElement('div');\n",
              "        docLink.innerHTML = docLinkHtml;\n",
              "        element.appendChild(docLink);\n",
              "      }\n",
              "    </script>\n",
              "  </div>\n",
              "\n",
              "\n",
              "<div id=\"df-64d1ca39-3a94-47a1-b53f-0da45cbb95fb\">\n",
              "  <button class=\"colab-df-quickchart\" onclick=\"quickchart('df-64d1ca39-3a94-47a1-b53f-0da45cbb95fb')\"\n",
              "            title=\"Suggest charts\"\n",
              "            style=\"display:none;\">\n",
              "\n",
              "<svg xmlns=\"http://www.w3.org/2000/svg\" height=\"24px\"viewBox=\"0 0 24 24\"\n",
              "     width=\"24px\">\n",
              "    <g>\n",
              "        <path d=\"M19 3H5c-1.1 0-2 .9-2 2v14c0 1.1.9 2 2 2h14c1.1 0 2-.9 2-2V5c0-1.1-.9-2-2-2zM9 17H7v-7h2v7zm4 0h-2V7h2v10zm4 0h-2v-4h2v4z\"/>\n",
              "    </g>\n",
              "</svg>\n",
              "  </button>\n",
              "\n",
              "<style>\n",
              "  .colab-df-quickchart {\n",
              "      --bg-color: #E8F0FE;\n",
              "      --fill-color: #1967D2;\n",
              "      --hover-bg-color: #E2EBFA;\n",
              "      --hover-fill-color: #174EA6;\n",
              "      --disabled-fill-color: #AAA;\n",
              "      --disabled-bg-color: #DDD;\n",
              "  }\n",
              "\n",
              "  [theme=dark] .colab-df-quickchart {\n",
              "      --bg-color: #3B4455;\n",
              "      --fill-color: #D2E3FC;\n",
              "      --hover-bg-color: #434B5C;\n",
              "      --hover-fill-color: #FFFFFF;\n",
              "      --disabled-bg-color: #3B4455;\n",
              "      --disabled-fill-color: #666;\n",
              "  }\n",
              "\n",
              "  .colab-df-quickchart {\n",
              "    background-color: var(--bg-color);\n",
              "    border: none;\n",
              "    border-radius: 50%;\n",
              "    cursor: pointer;\n",
              "    display: none;\n",
              "    fill: var(--fill-color);\n",
              "    height: 32px;\n",
              "    padding: 0;\n",
              "    width: 32px;\n",
              "  }\n",
              "\n",
              "  .colab-df-quickchart:hover {\n",
              "    background-color: var(--hover-bg-color);\n",
              "    box-shadow: 0 1px 2px rgba(60, 64, 67, 0.3), 0 1px 3px 1px rgba(60, 64, 67, 0.15);\n",
              "    fill: var(--button-hover-fill-color);\n",
              "  }\n",
              "\n",
              "  .colab-df-quickchart-complete:disabled,\n",
              "  .colab-df-quickchart-complete:disabled:hover {\n",
              "    background-color: var(--disabled-bg-color);\n",
              "    fill: var(--disabled-fill-color);\n",
              "    box-shadow: none;\n",
              "  }\n",
              "\n",
              "  .colab-df-spinner {\n",
              "    border: 2px solid var(--fill-color);\n",
              "    border-color: transparent;\n",
              "    border-bottom-color: var(--fill-color);\n",
              "    animation:\n",
              "      spin 1s steps(1) infinite;\n",
              "  }\n",
              "\n",
              "  @keyframes spin {\n",
              "    0% {\n",
              "      border-color: transparent;\n",
              "      border-bottom-color: var(--fill-color);\n",
              "      border-left-color: var(--fill-color);\n",
              "    }\n",
              "    20% {\n",
              "      border-color: transparent;\n",
              "      border-left-color: var(--fill-color);\n",
              "      border-top-color: var(--fill-color);\n",
              "    }\n",
              "    30% {\n",
              "      border-color: transparent;\n",
              "      border-left-color: var(--fill-color);\n",
              "      border-top-color: var(--fill-color);\n",
              "      border-right-color: var(--fill-color);\n",
              "    }\n",
              "    40% {\n",
              "      border-color: transparent;\n",
              "      border-right-color: var(--fill-color);\n",
              "      border-top-color: var(--fill-color);\n",
              "    }\n",
              "    60% {\n",
              "      border-color: transparent;\n",
              "      border-right-color: var(--fill-color);\n",
              "    }\n",
              "    80% {\n",
              "      border-color: transparent;\n",
              "      border-right-color: var(--fill-color);\n",
              "      border-bottom-color: var(--fill-color);\n",
              "    }\n",
              "    90% {\n",
              "      border-color: transparent;\n",
              "      border-bottom-color: var(--fill-color);\n",
              "    }\n",
              "  }\n",
              "</style>\n",
              "\n",
              "  <script>\n",
              "    async function quickchart(key) {\n",
              "      const quickchartButtonEl =\n",
              "        document.querySelector('#' + key + ' button');\n",
              "      quickchartButtonEl.disabled = true;  // To prevent multiple clicks.\n",
              "      quickchartButtonEl.classList.add('colab-df-spinner');\n",
              "      try {\n",
              "        const charts = await google.colab.kernel.invokeFunction(\n",
              "            'suggestCharts', [key], {});\n",
              "      } catch (error) {\n",
              "        console.error('Error during call to suggestCharts:', error);\n",
              "      }\n",
              "      quickchartButtonEl.classList.remove('colab-df-spinner');\n",
              "      quickchartButtonEl.classList.add('colab-df-quickchart-complete');\n",
              "    }\n",
              "    (() => {\n",
              "      let quickchartButtonEl =\n",
              "        document.querySelector('#df-64d1ca39-3a94-47a1-b53f-0da45cbb95fb button');\n",
              "      quickchartButtonEl.style.display =\n",
              "        google.colab.kernel.accessAllowed ? 'block' : 'none';\n",
              "    })();\n",
              "  </script>\n",
              "</div>\n",
              "\n",
              "  <div id=\"id_a17d439a-cafd-4237-9ce6-182181f20fa3\">\n",
              "    <style>\n",
              "      .colab-df-generate {\n",
              "        background-color: #E8F0FE;\n",
              "        border: none;\n",
              "        border-radius: 50%;\n",
              "        cursor: pointer;\n",
              "        display: none;\n",
              "        fill: #1967D2;\n",
              "        height: 32px;\n",
              "        padding: 0 0 0 0;\n",
              "        width: 32px;\n",
              "      }\n",
              "\n",
              "      .colab-df-generate:hover {\n",
              "        background-color: #E2EBFA;\n",
              "        box-shadow: 0px 1px 2px rgba(60, 64, 67, 0.3), 0px 1px 3px 1px rgba(60, 64, 67, 0.15);\n",
              "        fill: #174EA6;\n",
              "      }\n",
              "\n",
              "      [theme=dark] .colab-df-generate {\n",
              "        background-color: #3B4455;\n",
              "        fill: #D2E3FC;\n",
              "      }\n",
              "\n",
              "      [theme=dark] .colab-df-generate:hover {\n",
              "        background-color: #434B5C;\n",
              "        box-shadow: 0px 1px 3px 1px rgba(0, 0, 0, 0.15);\n",
              "        filter: drop-shadow(0px 1px 2px rgba(0, 0, 0, 0.3));\n",
              "        fill: #FFFFFF;\n",
              "      }\n",
              "    </style>\n",
              "    <button class=\"colab-df-generate\" onclick=\"generateWithVariable('base_cartao')\"\n",
              "            title=\"Generate code using this dataframe.\"\n",
              "            style=\"display:none;\">\n",
              "\n",
              "  <svg xmlns=\"http://www.w3.org/2000/svg\" height=\"24px\"viewBox=\"0 0 24 24\"\n",
              "       width=\"24px\">\n",
              "    <path d=\"M7,19H8.4L18.45,9,17,7.55,7,17.6ZM5,21V16.75L18.45,3.32a2,2,0,0,1,2.83,0l1.4,1.43a1.91,1.91,0,0,1,.58,1.4,1.91,1.91,0,0,1-.58,1.4L9.25,21ZM18.45,9,17,7.55Zm-12,3A5.31,5.31,0,0,0,4.9,8.1,5.31,5.31,0,0,0,1,6.5,5.31,5.31,0,0,0,4.9,4.9,5.31,5.31,0,0,0,6.5,1,5.31,5.31,0,0,0,8.1,4.9,5.31,5.31,0,0,0,12,6.5,5.46,5.46,0,0,0,6.5,12Z\"/>\n",
              "  </svg>\n",
              "    </button>\n",
              "    <script>\n",
              "      (() => {\n",
              "      const buttonEl =\n",
              "        document.querySelector('#id_a17d439a-cafd-4237-9ce6-182181f20fa3 button.colab-df-generate');\n",
              "      buttonEl.style.display =\n",
              "        google.colab.kernel.accessAllowed ? 'block' : 'none';\n",
              "\n",
              "      buttonEl.onclick = () => {\n",
              "        google.colab.notebook.generateWithVariable('base_cartao');\n",
              "      }\n",
              "      })();\n",
              "    </script>\n",
              "  </div>\n",
              "\n",
              "    </div>\n",
              "  </div>\n"
            ],
            "application/vnd.google.colaboratory.intrinsic+json": {
              "type": "dataframe",
              "variable_name": "base_cartao"
            }
          },
          "metadata": {},
          "execution_count": 27
        }
      ]
    },
    {
      "cell_type": "code",
      "source": [
        "base_cartao['BILL_TOTAL'] = base_cartao['BILL_AMT1'] + base_cartao['BILL_AMT2'] + base_cartao['BILL_AMT3'] + base_cartao['BILL_AMT4'] + base_cartao['BILL_AMT5'] + base_cartao['BILL_AMT6']"
      ],
      "metadata": {
        "id": "FVmO1XNoG1Sp"
      },
      "execution_count": 28,
      "outputs": []
    },
    {
      "cell_type": "code",
      "source": [
        "base_cartao"
      ],
      "metadata": {
        "colab": {
          "base_uri": "https://localhost:8080/",
          "height": 496
        },
        "id": "_7u6H1sgHssX",
        "outputId": "1a066496-3087-45b2-c1c4-5562678d4d61"
      },
      "execution_count": 29,
      "outputs": [
        {
          "output_type": "execute_result",
          "data": {
            "text/plain": [
              "          ID  LIMIT_BAL  SEX  EDUCATION  MARRIAGE   AGE  PAY_0  PAY_2  PAY_3  \\\n",
              "0          1      20000  2.0        2.0       1.0  24.0    2.0    2.0   -1.0   \n",
              "1          2     120000  2.0        2.0       2.0  26.0   -1.0    2.0    0.0   \n",
              "2          3      90000  2.0        2.0       2.0  34.0    0.0    0.0    0.0   \n",
              "3          4      50000  2.0        2.0       1.0  37.0    0.0    0.0    0.0   \n",
              "4          5      50000  1.0        2.0       1.0  57.0   -1.0    0.0   -1.0   \n",
              "...      ...        ...  ...        ...       ...   ...    ...    ...    ...   \n",
              "21781  21782      20000  2.0        1.0       2.0  25.0    1.0   -1.0   -1.0   \n",
              "21782  21783     130000  2.0        1.0       2.0  25.0    0.0    0.0    0.0   \n",
              "21783  21784     200000  2.0        1.0       2.0  25.0    0.0   -1.0   -1.0   \n",
              "21784  21785     320000  2.0        3.0       2.0  25.0    0.0    0.0    0.0   \n",
              "21785  21786       9000  NaN        NaN       NaN   NaN    NaN    NaN    NaN   \n",
              "\n",
              "       PAY_4  ...  BILL_AMT5  BILL_AMT6  PAY_AMT1  PAY_AMT2  PAY_AMT3  \\\n",
              "0       -1.0  ...        0.0        0.0       0.0     689.0       0.0   \n",
              "1        0.0  ...     3455.0     3261.0       0.0    1000.0    1000.0   \n",
              "2        0.0  ...    14948.0    15549.0    1518.0    1500.0    1000.0   \n",
              "3        0.0  ...    28959.0    29547.0    2000.0    2019.0    1200.0   \n",
              "4        0.0  ...    19146.0    19131.0    2000.0   36681.0   10000.0   \n",
              "...      ...  ...        ...        ...       ...       ...       ...   \n",
              "21781   -2.0  ...    17976.0    17980.0   17388.0       0.0     200.0   \n",
              "21782    0.0  ...    48560.0    51529.0    5000.0    5000.0    5000.0   \n",
              "21783   -1.0  ...    18758.0        0.0     105.0   99230.0   10038.0   \n",
              "21784    0.0  ...    70040.0    71076.0    3084.0    3007.0    3031.0   \n",
              "21785    NaN  ...        NaN        NaN       NaN       NaN       NaN   \n",
              "\n",
              "       PAY_AMT4  PAY_AMT5  PAY_AMT6  default payment next month  BILL_TOTAL  \n",
              "0           0.0       0.0       0.0                         1.0      7704.0  \n",
              "1        1000.0       0.0    2000.0                         1.0     17077.0  \n",
              "2        1000.0    1000.0    5000.0                         0.0    101653.0  \n",
              "3        1100.0    1069.0    1000.0                         0.0    231334.0  \n",
              "4        9000.0     689.0     679.0                         0.0    109339.0  \n",
              "...         ...       ...       ...                         ...         ...  \n",
              "21781   17976.0       4.0    2170.0                         1.0     56037.0  \n",
              "21782    5000.0    5000.0    5000.0                         0.0    305373.0  \n",
              "21783   18758.0       0.0       0.0                         0.0    346916.0  \n",
              "21784    2367.0    2450.0    2432.0                         0.0    414445.0  \n",
              "21785       NaN       NaN       NaN                         NaN         NaN  \n",
              "\n",
              "[21786 rows x 26 columns]"
            ],
            "text/html": [
              "\n",
              "  <div id=\"df-1a8b1203-9436-4770-b5a8-3dbea615b871\" class=\"colab-df-container\">\n",
              "    <div>\n",
              "<style scoped>\n",
              "    .dataframe tbody tr th:only-of-type {\n",
              "        vertical-align: middle;\n",
              "    }\n",
              "\n",
              "    .dataframe tbody tr th {\n",
              "        vertical-align: top;\n",
              "    }\n",
              "\n",
              "    .dataframe thead th {\n",
              "        text-align: right;\n",
              "    }\n",
              "</style>\n",
              "<table border=\"1\" class=\"dataframe\">\n",
              "  <thead>\n",
              "    <tr style=\"text-align: right;\">\n",
              "      <th></th>\n",
              "      <th>ID</th>\n",
              "      <th>LIMIT_BAL</th>\n",
              "      <th>SEX</th>\n",
              "      <th>EDUCATION</th>\n",
              "      <th>MARRIAGE</th>\n",
              "      <th>AGE</th>\n",
              "      <th>PAY_0</th>\n",
              "      <th>PAY_2</th>\n",
              "      <th>PAY_3</th>\n",
              "      <th>PAY_4</th>\n",
              "      <th>...</th>\n",
              "      <th>BILL_AMT5</th>\n",
              "      <th>BILL_AMT6</th>\n",
              "      <th>PAY_AMT1</th>\n",
              "      <th>PAY_AMT2</th>\n",
              "      <th>PAY_AMT3</th>\n",
              "      <th>PAY_AMT4</th>\n",
              "      <th>PAY_AMT5</th>\n",
              "      <th>PAY_AMT6</th>\n",
              "      <th>default payment next month</th>\n",
              "      <th>BILL_TOTAL</th>\n",
              "    </tr>\n",
              "  </thead>\n",
              "  <tbody>\n",
              "    <tr>\n",
              "      <th>0</th>\n",
              "      <td>1</td>\n",
              "      <td>20000</td>\n",
              "      <td>2.0</td>\n",
              "      <td>2.0</td>\n",
              "      <td>1.0</td>\n",
              "      <td>24.0</td>\n",
              "      <td>2.0</td>\n",
              "      <td>2.0</td>\n",
              "      <td>-1.0</td>\n",
              "      <td>-1.0</td>\n",
              "      <td>...</td>\n",
              "      <td>0.0</td>\n",
              "      <td>0.0</td>\n",
              "      <td>0.0</td>\n",
              "      <td>689.0</td>\n",
              "      <td>0.0</td>\n",
              "      <td>0.0</td>\n",
              "      <td>0.0</td>\n",
              "      <td>0.0</td>\n",
              "      <td>1.0</td>\n",
              "      <td>7704.0</td>\n",
              "    </tr>\n",
              "    <tr>\n",
              "      <th>1</th>\n",
              "      <td>2</td>\n",
              "      <td>120000</td>\n",
              "      <td>2.0</td>\n",
              "      <td>2.0</td>\n",
              "      <td>2.0</td>\n",
              "      <td>26.0</td>\n",
              "      <td>-1.0</td>\n",
              "      <td>2.0</td>\n",
              "      <td>0.0</td>\n",
              "      <td>0.0</td>\n",
              "      <td>...</td>\n",
              "      <td>3455.0</td>\n",
              "      <td>3261.0</td>\n",
              "      <td>0.0</td>\n",
              "      <td>1000.0</td>\n",
              "      <td>1000.0</td>\n",
              "      <td>1000.0</td>\n",
              "      <td>0.0</td>\n",
              "      <td>2000.0</td>\n",
              "      <td>1.0</td>\n",
              "      <td>17077.0</td>\n",
              "    </tr>\n",
              "    <tr>\n",
              "      <th>2</th>\n",
              "      <td>3</td>\n",
              "      <td>90000</td>\n",
              "      <td>2.0</td>\n",
              "      <td>2.0</td>\n",
              "      <td>2.0</td>\n",
              "      <td>34.0</td>\n",
              "      <td>0.0</td>\n",
              "      <td>0.0</td>\n",
              "      <td>0.0</td>\n",
              "      <td>0.0</td>\n",
              "      <td>...</td>\n",
              "      <td>14948.0</td>\n",
              "      <td>15549.0</td>\n",
              "      <td>1518.0</td>\n",
              "      <td>1500.0</td>\n",
              "      <td>1000.0</td>\n",
              "      <td>1000.0</td>\n",
              "      <td>1000.0</td>\n",
              "      <td>5000.0</td>\n",
              "      <td>0.0</td>\n",
              "      <td>101653.0</td>\n",
              "    </tr>\n",
              "    <tr>\n",
              "      <th>3</th>\n",
              "      <td>4</td>\n",
              "      <td>50000</td>\n",
              "      <td>2.0</td>\n",
              "      <td>2.0</td>\n",
              "      <td>1.0</td>\n",
              "      <td>37.0</td>\n",
              "      <td>0.0</td>\n",
              "      <td>0.0</td>\n",
              "      <td>0.0</td>\n",
              "      <td>0.0</td>\n",
              "      <td>...</td>\n",
              "      <td>28959.0</td>\n",
              "      <td>29547.0</td>\n",
              "      <td>2000.0</td>\n",
              "      <td>2019.0</td>\n",
              "      <td>1200.0</td>\n",
              "      <td>1100.0</td>\n",
              "      <td>1069.0</td>\n",
              "      <td>1000.0</td>\n",
              "      <td>0.0</td>\n",
              "      <td>231334.0</td>\n",
              "    </tr>\n",
              "    <tr>\n",
              "      <th>4</th>\n",
              "      <td>5</td>\n",
              "      <td>50000</td>\n",
              "      <td>1.0</td>\n",
              "      <td>2.0</td>\n",
              "      <td>1.0</td>\n",
              "      <td>57.0</td>\n",
              "      <td>-1.0</td>\n",
              "      <td>0.0</td>\n",
              "      <td>-1.0</td>\n",
              "      <td>0.0</td>\n",
              "      <td>...</td>\n",
              "      <td>19146.0</td>\n",
              "      <td>19131.0</td>\n",
              "      <td>2000.0</td>\n",
              "      <td>36681.0</td>\n",
              "      <td>10000.0</td>\n",
              "      <td>9000.0</td>\n",
              "      <td>689.0</td>\n",
              "      <td>679.0</td>\n",
              "      <td>0.0</td>\n",
              "      <td>109339.0</td>\n",
              "    </tr>\n",
              "    <tr>\n",
              "      <th>...</th>\n",
              "      <td>...</td>\n",
              "      <td>...</td>\n",
              "      <td>...</td>\n",
              "      <td>...</td>\n",
              "      <td>...</td>\n",
              "      <td>...</td>\n",
              "      <td>...</td>\n",
              "      <td>...</td>\n",
              "      <td>...</td>\n",
              "      <td>...</td>\n",
              "      <td>...</td>\n",
              "      <td>...</td>\n",
              "      <td>...</td>\n",
              "      <td>...</td>\n",
              "      <td>...</td>\n",
              "      <td>...</td>\n",
              "      <td>...</td>\n",
              "      <td>...</td>\n",
              "      <td>...</td>\n",
              "      <td>...</td>\n",
              "      <td>...</td>\n",
              "    </tr>\n",
              "    <tr>\n",
              "      <th>21781</th>\n",
              "      <td>21782</td>\n",
              "      <td>20000</td>\n",
              "      <td>2.0</td>\n",
              "      <td>1.0</td>\n",
              "      <td>2.0</td>\n",
              "      <td>25.0</td>\n",
              "      <td>1.0</td>\n",
              "      <td>-1.0</td>\n",
              "      <td>-1.0</td>\n",
              "      <td>-2.0</td>\n",
              "      <td>...</td>\n",
              "      <td>17976.0</td>\n",
              "      <td>17980.0</td>\n",
              "      <td>17388.0</td>\n",
              "      <td>0.0</td>\n",
              "      <td>200.0</td>\n",
              "      <td>17976.0</td>\n",
              "      <td>4.0</td>\n",
              "      <td>2170.0</td>\n",
              "      <td>1.0</td>\n",
              "      <td>56037.0</td>\n",
              "    </tr>\n",
              "    <tr>\n",
              "      <th>21782</th>\n",
              "      <td>21783</td>\n",
              "      <td>130000</td>\n",
              "      <td>2.0</td>\n",
              "      <td>1.0</td>\n",
              "      <td>2.0</td>\n",
              "      <td>25.0</td>\n",
              "      <td>0.0</td>\n",
              "      <td>0.0</td>\n",
              "      <td>0.0</td>\n",
              "      <td>0.0</td>\n",
              "      <td>...</td>\n",
              "      <td>48560.0</td>\n",
              "      <td>51529.0</td>\n",
              "      <td>5000.0</td>\n",
              "      <td>5000.0</td>\n",
              "      <td>5000.0</td>\n",
              "      <td>5000.0</td>\n",
              "      <td>5000.0</td>\n",
              "      <td>5000.0</td>\n",
              "      <td>0.0</td>\n",
              "      <td>305373.0</td>\n",
              "    </tr>\n",
              "    <tr>\n",
              "      <th>21783</th>\n",
              "      <td>21784</td>\n",
              "      <td>200000</td>\n",
              "      <td>2.0</td>\n",
              "      <td>1.0</td>\n",
              "      <td>2.0</td>\n",
              "      <td>25.0</td>\n",
              "      <td>0.0</td>\n",
              "      <td>-1.0</td>\n",
              "      <td>-1.0</td>\n",
              "      <td>-1.0</td>\n",
              "      <td>...</td>\n",
              "      <td>18758.0</td>\n",
              "      <td>0.0</td>\n",
              "      <td>105.0</td>\n",
              "      <td>99230.0</td>\n",
              "      <td>10038.0</td>\n",
              "      <td>18758.0</td>\n",
              "      <td>0.0</td>\n",
              "      <td>0.0</td>\n",
              "      <td>0.0</td>\n",
              "      <td>346916.0</td>\n",
              "    </tr>\n",
              "    <tr>\n",
              "      <th>21784</th>\n",
              "      <td>21785</td>\n",
              "      <td>320000</td>\n",
              "      <td>2.0</td>\n",
              "      <td>3.0</td>\n",
              "      <td>2.0</td>\n",
              "      <td>25.0</td>\n",
              "      <td>0.0</td>\n",
              "      <td>0.0</td>\n",
              "      <td>0.0</td>\n",
              "      <td>0.0</td>\n",
              "      <td>...</td>\n",
              "      <td>70040.0</td>\n",
              "      <td>71076.0</td>\n",
              "      <td>3084.0</td>\n",
              "      <td>3007.0</td>\n",
              "      <td>3031.0</td>\n",
              "      <td>2367.0</td>\n",
              "      <td>2450.0</td>\n",
              "      <td>2432.0</td>\n",
              "      <td>0.0</td>\n",
              "      <td>414445.0</td>\n",
              "    </tr>\n",
              "    <tr>\n",
              "      <th>21785</th>\n",
              "      <td>21786</td>\n",
              "      <td>9000</td>\n",
              "      <td>NaN</td>\n",
              "      <td>NaN</td>\n",
              "      <td>NaN</td>\n",
              "      <td>NaN</td>\n",
              "      <td>NaN</td>\n",
              "      <td>NaN</td>\n",
              "      <td>NaN</td>\n",
              "      <td>NaN</td>\n",
              "      <td>...</td>\n",
              "      <td>NaN</td>\n",
              "      <td>NaN</td>\n",
              "      <td>NaN</td>\n",
              "      <td>NaN</td>\n",
              "      <td>NaN</td>\n",
              "      <td>NaN</td>\n",
              "      <td>NaN</td>\n",
              "      <td>NaN</td>\n",
              "      <td>NaN</td>\n",
              "      <td>NaN</td>\n",
              "    </tr>\n",
              "  </tbody>\n",
              "</table>\n",
              "<p>21786 rows × 26 columns</p>\n",
              "</div>\n",
              "    <div class=\"colab-df-buttons\">\n",
              "\n",
              "  <div class=\"colab-df-container\">\n",
              "    <button class=\"colab-df-convert\" onclick=\"convertToInteractive('df-1a8b1203-9436-4770-b5a8-3dbea615b871')\"\n",
              "            title=\"Convert this dataframe to an interactive table.\"\n",
              "            style=\"display:none;\">\n",
              "\n",
              "  <svg xmlns=\"http://www.w3.org/2000/svg\" height=\"24px\" viewBox=\"0 -960 960 960\">\n",
              "    <path d=\"M120-120v-720h720v720H120Zm60-500h600v-160H180v160Zm220 220h160v-160H400v160Zm0 220h160v-160H400v160ZM180-400h160v-160H180v160Zm440 0h160v-160H620v160ZM180-180h160v-160H180v160Zm440 0h160v-160H620v160Z\"/>\n",
              "  </svg>\n",
              "    </button>\n",
              "\n",
              "  <style>\n",
              "    .colab-df-container {\n",
              "      display:flex;\n",
              "      gap: 12px;\n",
              "    }\n",
              "\n",
              "    .colab-df-convert {\n",
              "      background-color: #E8F0FE;\n",
              "      border: none;\n",
              "      border-radius: 50%;\n",
              "      cursor: pointer;\n",
              "      display: none;\n",
              "      fill: #1967D2;\n",
              "      height: 32px;\n",
              "      padding: 0 0 0 0;\n",
              "      width: 32px;\n",
              "    }\n",
              "\n",
              "    .colab-df-convert:hover {\n",
              "      background-color: #E2EBFA;\n",
              "      box-shadow: 0px 1px 2px rgba(60, 64, 67, 0.3), 0px 1px 3px 1px rgba(60, 64, 67, 0.15);\n",
              "      fill: #174EA6;\n",
              "    }\n",
              "\n",
              "    .colab-df-buttons div {\n",
              "      margin-bottom: 4px;\n",
              "    }\n",
              "\n",
              "    [theme=dark] .colab-df-convert {\n",
              "      background-color: #3B4455;\n",
              "      fill: #D2E3FC;\n",
              "    }\n",
              "\n",
              "    [theme=dark] .colab-df-convert:hover {\n",
              "      background-color: #434B5C;\n",
              "      box-shadow: 0px 1px 3px 1px rgba(0, 0, 0, 0.15);\n",
              "      filter: drop-shadow(0px 1px 2px rgba(0, 0, 0, 0.3));\n",
              "      fill: #FFFFFF;\n",
              "    }\n",
              "  </style>\n",
              "\n",
              "    <script>\n",
              "      const buttonEl =\n",
              "        document.querySelector('#df-1a8b1203-9436-4770-b5a8-3dbea615b871 button.colab-df-convert');\n",
              "      buttonEl.style.display =\n",
              "        google.colab.kernel.accessAllowed ? 'block' : 'none';\n",
              "\n",
              "      async function convertToInteractive(key) {\n",
              "        const element = document.querySelector('#df-1a8b1203-9436-4770-b5a8-3dbea615b871');\n",
              "        const dataTable =\n",
              "          await google.colab.kernel.invokeFunction('convertToInteractive',\n",
              "                                                    [key], {});\n",
              "        if (!dataTable) return;\n",
              "\n",
              "        const docLinkHtml = 'Like what you see? Visit the ' +\n",
              "          '<a target=\"_blank\" href=https://colab.research.google.com/notebooks/data_table.ipynb>data table notebook</a>'\n",
              "          + ' to learn more about interactive tables.';\n",
              "        element.innerHTML = '';\n",
              "        dataTable['output_type'] = 'display_data';\n",
              "        await google.colab.output.renderOutput(dataTable, element);\n",
              "        const docLink = document.createElement('div');\n",
              "        docLink.innerHTML = docLinkHtml;\n",
              "        element.appendChild(docLink);\n",
              "      }\n",
              "    </script>\n",
              "  </div>\n",
              "\n",
              "\n",
              "<div id=\"df-25bd37d9-4590-47dd-a725-e78f07ddbd6c\">\n",
              "  <button class=\"colab-df-quickchart\" onclick=\"quickchart('df-25bd37d9-4590-47dd-a725-e78f07ddbd6c')\"\n",
              "            title=\"Suggest charts\"\n",
              "            style=\"display:none;\">\n",
              "\n",
              "<svg xmlns=\"http://www.w3.org/2000/svg\" height=\"24px\"viewBox=\"0 0 24 24\"\n",
              "     width=\"24px\">\n",
              "    <g>\n",
              "        <path d=\"M19 3H5c-1.1 0-2 .9-2 2v14c0 1.1.9 2 2 2h14c1.1 0 2-.9 2-2V5c0-1.1-.9-2-2-2zM9 17H7v-7h2v7zm4 0h-2V7h2v10zm4 0h-2v-4h2v4z\"/>\n",
              "    </g>\n",
              "</svg>\n",
              "  </button>\n",
              "\n",
              "<style>\n",
              "  .colab-df-quickchart {\n",
              "      --bg-color: #E8F0FE;\n",
              "      --fill-color: #1967D2;\n",
              "      --hover-bg-color: #E2EBFA;\n",
              "      --hover-fill-color: #174EA6;\n",
              "      --disabled-fill-color: #AAA;\n",
              "      --disabled-bg-color: #DDD;\n",
              "  }\n",
              "\n",
              "  [theme=dark] .colab-df-quickchart {\n",
              "      --bg-color: #3B4455;\n",
              "      --fill-color: #D2E3FC;\n",
              "      --hover-bg-color: #434B5C;\n",
              "      --hover-fill-color: #FFFFFF;\n",
              "      --disabled-bg-color: #3B4455;\n",
              "      --disabled-fill-color: #666;\n",
              "  }\n",
              "\n",
              "  .colab-df-quickchart {\n",
              "    background-color: var(--bg-color);\n",
              "    border: none;\n",
              "    border-radius: 50%;\n",
              "    cursor: pointer;\n",
              "    display: none;\n",
              "    fill: var(--fill-color);\n",
              "    height: 32px;\n",
              "    padding: 0;\n",
              "    width: 32px;\n",
              "  }\n",
              "\n",
              "  .colab-df-quickchart:hover {\n",
              "    background-color: var(--hover-bg-color);\n",
              "    box-shadow: 0 1px 2px rgba(60, 64, 67, 0.3), 0 1px 3px 1px rgba(60, 64, 67, 0.15);\n",
              "    fill: var(--button-hover-fill-color);\n",
              "  }\n",
              "\n",
              "  .colab-df-quickchart-complete:disabled,\n",
              "  .colab-df-quickchart-complete:disabled:hover {\n",
              "    background-color: var(--disabled-bg-color);\n",
              "    fill: var(--disabled-fill-color);\n",
              "    box-shadow: none;\n",
              "  }\n",
              "\n",
              "  .colab-df-spinner {\n",
              "    border: 2px solid var(--fill-color);\n",
              "    border-color: transparent;\n",
              "    border-bottom-color: var(--fill-color);\n",
              "    animation:\n",
              "      spin 1s steps(1) infinite;\n",
              "  }\n",
              "\n",
              "  @keyframes spin {\n",
              "    0% {\n",
              "      border-color: transparent;\n",
              "      border-bottom-color: var(--fill-color);\n",
              "      border-left-color: var(--fill-color);\n",
              "    }\n",
              "    20% {\n",
              "      border-color: transparent;\n",
              "      border-left-color: var(--fill-color);\n",
              "      border-top-color: var(--fill-color);\n",
              "    }\n",
              "    30% {\n",
              "      border-color: transparent;\n",
              "      border-left-color: var(--fill-color);\n",
              "      border-top-color: var(--fill-color);\n",
              "      border-right-color: var(--fill-color);\n",
              "    }\n",
              "    40% {\n",
              "      border-color: transparent;\n",
              "      border-right-color: var(--fill-color);\n",
              "      border-top-color: var(--fill-color);\n",
              "    }\n",
              "    60% {\n",
              "      border-color: transparent;\n",
              "      border-right-color: var(--fill-color);\n",
              "    }\n",
              "    80% {\n",
              "      border-color: transparent;\n",
              "      border-right-color: var(--fill-color);\n",
              "      border-bottom-color: var(--fill-color);\n",
              "    }\n",
              "    90% {\n",
              "      border-color: transparent;\n",
              "      border-bottom-color: var(--fill-color);\n",
              "    }\n",
              "  }\n",
              "</style>\n",
              "\n",
              "  <script>\n",
              "    async function quickchart(key) {\n",
              "      const quickchartButtonEl =\n",
              "        document.querySelector('#' + key + ' button');\n",
              "      quickchartButtonEl.disabled = true;  // To prevent multiple clicks.\n",
              "      quickchartButtonEl.classList.add('colab-df-spinner');\n",
              "      try {\n",
              "        const charts = await google.colab.kernel.invokeFunction(\n",
              "            'suggestCharts', [key], {});\n",
              "      } catch (error) {\n",
              "        console.error('Error during call to suggestCharts:', error);\n",
              "      }\n",
              "      quickchartButtonEl.classList.remove('colab-df-spinner');\n",
              "      quickchartButtonEl.classList.add('colab-df-quickchart-complete');\n",
              "    }\n",
              "    (() => {\n",
              "      let quickchartButtonEl =\n",
              "        document.querySelector('#df-25bd37d9-4590-47dd-a725-e78f07ddbd6c button');\n",
              "      quickchartButtonEl.style.display =\n",
              "        google.colab.kernel.accessAllowed ? 'block' : 'none';\n",
              "    })();\n",
              "  </script>\n",
              "</div>\n",
              "\n",
              "  <div id=\"id_d72b831b-2039-487c-83a8-fcda6ff0575a\">\n",
              "    <style>\n",
              "      .colab-df-generate {\n",
              "        background-color: #E8F0FE;\n",
              "        border: none;\n",
              "        border-radius: 50%;\n",
              "        cursor: pointer;\n",
              "        display: none;\n",
              "        fill: #1967D2;\n",
              "        height: 32px;\n",
              "        padding: 0 0 0 0;\n",
              "        width: 32px;\n",
              "      }\n",
              "\n",
              "      .colab-df-generate:hover {\n",
              "        background-color: #E2EBFA;\n",
              "        box-shadow: 0px 1px 2px rgba(60, 64, 67, 0.3), 0px 1px 3px 1px rgba(60, 64, 67, 0.15);\n",
              "        fill: #174EA6;\n",
              "      }\n",
              "\n",
              "      [theme=dark] .colab-df-generate {\n",
              "        background-color: #3B4455;\n",
              "        fill: #D2E3FC;\n",
              "      }\n",
              "\n",
              "      [theme=dark] .colab-df-generate:hover {\n",
              "        background-color: #434B5C;\n",
              "        box-shadow: 0px 1px 3px 1px rgba(0, 0, 0, 0.15);\n",
              "        filter: drop-shadow(0px 1px 2px rgba(0, 0, 0, 0.3));\n",
              "        fill: #FFFFFF;\n",
              "      }\n",
              "    </style>\n",
              "    <button class=\"colab-df-generate\" onclick=\"generateWithVariable('base_cartao')\"\n",
              "            title=\"Generate code using this dataframe.\"\n",
              "            style=\"display:none;\">\n",
              "\n",
              "  <svg xmlns=\"http://www.w3.org/2000/svg\" height=\"24px\"viewBox=\"0 0 24 24\"\n",
              "       width=\"24px\">\n",
              "    <path d=\"M7,19H8.4L18.45,9,17,7.55,7,17.6ZM5,21V16.75L18.45,3.32a2,2,0,0,1,2.83,0l1.4,1.43a1.91,1.91,0,0,1,.58,1.4,1.91,1.91,0,0,1-.58,1.4L9.25,21ZM18.45,9,17,7.55Zm-12,3A5.31,5.31,0,0,0,4.9,8.1,5.31,5.31,0,0,0,1,6.5,5.31,5.31,0,0,0,4.9,4.9,5.31,5.31,0,0,0,6.5,1,5.31,5.31,0,0,0,8.1,4.9,5.31,5.31,0,0,0,12,6.5,5.46,5.46,0,0,0,6.5,12Z\"/>\n",
              "  </svg>\n",
              "    </button>\n",
              "    <script>\n",
              "      (() => {\n",
              "      const buttonEl =\n",
              "        document.querySelector('#id_d72b831b-2039-487c-83a8-fcda6ff0575a button.colab-df-generate');\n",
              "      buttonEl.style.display =\n",
              "        google.colab.kernel.accessAllowed ? 'block' : 'none';\n",
              "\n",
              "      buttonEl.onclick = () => {\n",
              "        google.colab.notebook.generateWithVariable('base_cartao');\n",
              "      }\n",
              "      })();\n",
              "    </script>\n",
              "  </div>\n",
              "\n",
              "    </div>\n",
              "  </div>\n"
            ],
            "application/vnd.google.colaboratory.intrinsic+json": {
              "type": "dataframe",
              "variable_name": "base_cartao"
            }
          },
          "metadata": {},
          "execution_count": 29
        }
      ]
    },
    {
      "cell_type": "code",
      "source": [
        "x_cartao = base_cartao.iloc[:, [1, 25]].values\n",
        "x_cartao"
      ],
      "metadata": {
        "colab": {
          "base_uri": "https://localhost:8080/",
          "height": 0
        },
        "id": "fQOBvtytHtZk",
        "outputId": "0e179574-13f4-4ef6-dac4-ad4d2de2e4db"
      },
      "execution_count": 71,
      "outputs": [
        {
          "output_type": "execute_result",
          "data": {
            "text/plain": [
              "array([[ 20000.,   7704.],\n",
              "       [120000.,  17077.],\n",
              "       [ 90000., 101653.],\n",
              "       ...,\n",
              "       [200000., 346916.],\n",
              "       [320000., 414445.],\n",
              "       [  9000.,     nan]])"
            ]
          },
          "metadata": {},
          "execution_count": 71
        }
      ]
    },
    {
      "cell_type": "code",
      "source": [
        "scaler_cartao = StandardScaler()\n",
        "x_cartao = scaler_cartao.fit_transform(x_cartao)"
      ],
      "metadata": {
        "id": "B1QbNl2TH4U_"
      },
      "execution_count": 31,
      "outputs": []
    },
    {
      "cell_type": "code",
      "source": [
        "x_cartao"
      ],
      "metadata": {
        "colab": {
          "base_uri": "https://localhost:8080/",
          "height": 0
        },
        "id": "-ZvSXomKH_Mv",
        "outputId": "aa15009e-8968-4cfd-9608-7f788c064570"
      },
      "execution_count": 59,
      "outputs": [
        {
          "output_type": "execute_result",
          "data": {
            "text/plain": [
              "array([[ 20000.,   7704.],\n",
              "       [120000.,  17077.],\n",
              "       [ 90000., 101653.],\n",
              "       ...,\n",
              "       [200000., 346916.],\n",
              "       [320000., 414445.],\n",
              "       [  9000.,     nan]])"
            ]
          },
          "metadata": {},
          "execution_count": 59
        }
      ]
    },
    {
      "cell_type": "code",
      "source": [
        "wcss = []\n",
        "for i in range(1, 11):\n",
        "  kmeans_cartao = KMeans(n_clusters=i, random_state=0)\n",
        "  kmeans_cartao.fit(x_cartao)\n",
        "  wcss.append(kmeans_cartao.inertia_)"
      ],
      "metadata": {
        "colab": {
          "base_uri": "https://localhost:8080/",
          "height": 408
        },
        "id": "HmmnO7m5H_vo",
        "outputId": "14daced7-d89f-46e6-e290-7661522c2516"
      },
      "execution_count": 34,
      "outputs": [
        {
          "output_type": "error",
          "ename": "ValueError",
          "evalue": "Input X contains NaN.\nKMeans does not accept missing values encoded as NaN natively. For supervised learning, you might want to consider sklearn.ensemble.HistGradientBoostingClassifier and Regressor which accept missing values encoded as NaNs natively. Alternatively, it is possible to preprocess the data, for instance by using an imputer transformer in a pipeline or drop samples with missing values. See https://scikit-learn.org/stable/modules/impute.html You can find a list of all estimators that handle NaN values at the following page: https://scikit-learn.org/stable/modules/impute.html#estimators-that-handle-nan-values",
          "traceback": [
            "\u001b[0;31m---------------------------------------------------------------------------\u001b[0m",
            "\u001b[0;31mValueError\u001b[0m                                Traceback (most recent call last)",
            "\u001b[0;32m<ipython-input-34-5fe08cae9f40>\u001b[0m in \u001b[0;36m<cell line: 2>\u001b[0;34m()\u001b[0m\n\u001b[1;32m      2\u001b[0m \u001b[0;32mfor\u001b[0m \u001b[0mi\u001b[0m \u001b[0;32min\u001b[0m \u001b[0mrange\u001b[0m\u001b[0;34m(\u001b[0m\u001b[0;36m1\u001b[0m\u001b[0;34m,\u001b[0m \u001b[0;36m11\u001b[0m\u001b[0;34m)\u001b[0m\u001b[0;34m:\u001b[0m\u001b[0;34m\u001b[0m\u001b[0;34m\u001b[0m\u001b[0m\n\u001b[1;32m      3\u001b[0m   \u001b[0mkmeans_cartao\u001b[0m \u001b[0;34m=\u001b[0m \u001b[0mKMeans\u001b[0m\u001b[0;34m(\u001b[0m\u001b[0mn_clusters\u001b[0m\u001b[0;34m=\u001b[0m\u001b[0mi\u001b[0m\u001b[0;34m,\u001b[0m \u001b[0mrandom_state\u001b[0m\u001b[0;34m=\u001b[0m\u001b[0;36m0\u001b[0m\u001b[0;34m)\u001b[0m\u001b[0;34m\u001b[0m\u001b[0;34m\u001b[0m\u001b[0m\n\u001b[0;32m----> 4\u001b[0;31m   \u001b[0mkmeans_cartao\u001b[0m\u001b[0;34m.\u001b[0m\u001b[0mfit\u001b[0m\u001b[0;34m(\u001b[0m\u001b[0mx_cartao\u001b[0m\u001b[0;34m)\u001b[0m\u001b[0;34m\u001b[0m\u001b[0;34m\u001b[0m\u001b[0m\n\u001b[0m\u001b[1;32m      5\u001b[0m   \u001b[0mwcss\u001b[0m\u001b[0;34m.\u001b[0m\u001b[0mappend\u001b[0m\u001b[0;34m(\u001b[0m\u001b[0mkmeans_cartao\u001b[0m\u001b[0;34m.\u001b[0m\u001b[0minertia_\u001b[0m\u001b[0;34m)\u001b[0m\u001b[0;34m\u001b[0m\u001b[0;34m\u001b[0m\u001b[0m\n",
            "\u001b[0;32m/usr/local/lib/python3.10/dist-packages/sklearn/cluster/_kmeans.py\u001b[0m in \u001b[0;36mfit\u001b[0;34m(self, X, y, sample_weight)\u001b[0m\n\u001b[1;32m   1415\u001b[0m         \u001b[0mself\u001b[0m\u001b[0;34m.\u001b[0m\u001b[0m_validate_params\u001b[0m\u001b[0;34m(\u001b[0m\u001b[0;34m)\u001b[0m\u001b[0;34m\u001b[0m\u001b[0;34m\u001b[0m\u001b[0m\n\u001b[1;32m   1416\u001b[0m \u001b[0;34m\u001b[0m\u001b[0m\n\u001b[0;32m-> 1417\u001b[0;31m         X = self._validate_data(\n\u001b[0m\u001b[1;32m   1418\u001b[0m             \u001b[0mX\u001b[0m\u001b[0;34m,\u001b[0m\u001b[0;34m\u001b[0m\u001b[0;34m\u001b[0m\u001b[0m\n\u001b[1;32m   1419\u001b[0m             \u001b[0maccept_sparse\u001b[0m\u001b[0;34m=\u001b[0m\u001b[0;34m\"csr\"\u001b[0m\u001b[0;34m,\u001b[0m\u001b[0;34m\u001b[0m\u001b[0;34m\u001b[0m\u001b[0m\n",
            "\u001b[0;32m/usr/local/lib/python3.10/dist-packages/sklearn/base.py\u001b[0m in \u001b[0;36m_validate_data\u001b[0;34m(self, X, y, reset, validate_separately, **check_params)\u001b[0m\n\u001b[1;32m    563\u001b[0m             \u001b[0;32mraise\u001b[0m \u001b[0mValueError\u001b[0m\u001b[0;34m(\u001b[0m\u001b[0;34m\"Validation should be done on X, y or both.\"\u001b[0m\u001b[0;34m)\u001b[0m\u001b[0;34m\u001b[0m\u001b[0;34m\u001b[0m\u001b[0m\n\u001b[1;32m    564\u001b[0m         \u001b[0;32melif\u001b[0m \u001b[0;32mnot\u001b[0m \u001b[0mno_val_X\u001b[0m \u001b[0;32mand\u001b[0m \u001b[0mno_val_y\u001b[0m\u001b[0;34m:\u001b[0m\u001b[0;34m\u001b[0m\u001b[0;34m\u001b[0m\u001b[0m\n\u001b[0;32m--> 565\u001b[0;31m             \u001b[0mX\u001b[0m \u001b[0;34m=\u001b[0m \u001b[0mcheck_array\u001b[0m\u001b[0;34m(\u001b[0m\u001b[0mX\u001b[0m\u001b[0;34m,\u001b[0m \u001b[0minput_name\u001b[0m\u001b[0;34m=\u001b[0m\u001b[0;34m\"X\"\u001b[0m\u001b[0;34m,\u001b[0m \u001b[0;34m**\u001b[0m\u001b[0mcheck_params\u001b[0m\u001b[0;34m)\u001b[0m\u001b[0;34m\u001b[0m\u001b[0;34m\u001b[0m\u001b[0m\n\u001b[0m\u001b[1;32m    566\u001b[0m             \u001b[0mout\u001b[0m \u001b[0;34m=\u001b[0m \u001b[0mX\u001b[0m\u001b[0;34m\u001b[0m\u001b[0;34m\u001b[0m\u001b[0m\n\u001b[1;32m    567\u001b[0m         \u001b[0;32melif\u001b[0m \u001b[0mno_val_X\u001b[0m \u001b[0;32mand\u001b[0m \u001b[0;32mnot\u001b[0m \u001b[0mno_val_y\u001b[0m\u001b[0;34m:\u001b[0m\u001b[0;34m\u001b[0m\u001b[0;34m\u001b[0m\u001b[0m\n",
            "\u001b[0;32m/usr/local/lib/python3.10/dist-packages/sklearn/utils/validation.py\u001b[0m in \u001b[0;36mcheck_array\u001b[0;34m(array, accept_sparse, accept_large_sparse, dtype, order, copy, force_all_finite, ensure_2d, allow_nd, ensure_min_samples, ensure_min_features, estimator, input_name)\u001b[0m\n\u001b[1;32m    919\u001b[0m \u001b[0;34m\u001b[0m\u001b[0m\n\u001b[1;32m    920\u001b[0m         \u001b[0;32mif\u001b[0m \u001b[0mforce_all_finite\u001b[0m\u001b[0;34m:\u001b[0m\u001b[0;34m\u001b[0m\u001b[0;34m\u001b[0m\u001b[0m\n\u001b[0;32m--> 921\u001b[0;31m             _assert_all_finite(\n\u001b[0m\u001b[1;32m    922\u001b[0m                 \u001b[0marray\u001b[0m\u001b[0;34m,\u001b[0m\u001b[0;34m\u001b[0m\u001b[0;34m\u001b[0m\u001b[0m\n\u001b[1;32m    923\u001b[0m                 \u001b[0minput_name\u001b[0m\u001b[0;34m=\u001b[0m\u001b[0minput_name\u001b[0m\u001b[0;34m,\u001b[0m\u001b[0;34m\u001b[0m\u001b[0;34m\u001b[0m\u001b[0m\n",
            "\u001b[0;32m/usr/local/lib/python3.10/dist-packages/sklearn/utils/validation.py\u001b[0m in \u001b[0;36m_assert_all_finite\u001b[0;34m(X, allow_nan, msg_dtype, estimator_name, input_name)\u001b[0m\n\u001b[1;32m    159\u001b[0m                 \u001b[0;34m\"#estimators-that-handle-nan-values\"\u001b[0m\u001b[0;34m\u001b[0m\u001b[0;34m\u001b[0m\u001b[0m\n\u001b[1;32m    160\u001b[0m             )\n\u001b[0;32m--> 161\u001b[0;31m         \u001b[0;32mraise\u001b[0m \u001b[0mValueError\u001b[0m\u001b[0;34m(\u001b[0m\u001b[0mmsg_err\u001b[0m\u001b[0;34m)\u001b[0m\u001b[0;34m\u001b[0m\u001b[0;34m\u001b[0m\u001b[0m\n\u001b[0m\u001b[1;32m    162\u001b[0m \u001b[0;34m\u001b[0m\u001b[0m\n\u001b[1;32m    163\u001b[0m \u001b[0;34m\u001b[0m\u001b[0m\n",
            "\u001b[0;31mValueError\u001b[0m: Input X contains NaN.\nKMeans does not accept missing values encoded as NaN natively. For supervised learning, you might want to consider sklearn.ensemble.HistGradientBoostingClassifier and Regressor which accept missing values encoded as NaNs natively. Alternatively, it is possible to preprocess the data, for instance by using an imputer transformer in a pipeline or drop samples with missing values. See https://scikit-learn.org/stable/modules/impute.html You can find a list of all estimators that handle NaN values at the following page: https://scikit-learn.org/stable/modules/impute.html#estimators-that-handle-nan-values"
          ]
        }
      ]
    },
    {
      "cell_type": "code",
      "source": [
        "wcss\n"
      ],
      "metadata": {
        "colab": {
          "base_uri": "https://localhost:8080/",
          "height": 0
        },
        "id": "0nfPxBkHIPwq",
        "outputId": "cc24317c-4c38-458c-a47d-a83582eadcca"
      },
      "execution_count": 35,
      "outputs": [
        {
          "output_type": "execute_result",
          "data": {
            "text/plain": [
              "[]"
            ]
          },
          "metadata": {},
          "execution_count": 35
        }
      ]
    },
    {
      "cell_type": "code",
      "source": [
        "grafico = px.line(x=range(1, 11), y = wcss)\n",
        "grafico.show()"
      ],
      "metadata": {
        "colab": {
          "base_uri": "https://localhost:8080/",
          "height": 542
        },
        "id": "CCLmsJzPImu3",
        "outputId": "e3b4b8ca-a6e9-4527-846f-3e4060652910"
      },
      "execution_count": 36,
      "outputs": [
        {
          "output_type": "display_data",
          "data": {
            "text/html": [
              "<html>\n",
              "<head><meta charset=\"utf-8\" /></head>\n",
              "<body>\n",
              "    <div>            <script src=\"https://cdnjs.cloudflare.com/ajax/libs/mathjax/2.7.5/MathJax.js?config=TeX-AMS-MML_SVG\"></script><script type=\"text/javascript\">if (window.MathJax && window.MathJax.Hub && window.MathJax.Hub.Config) {window.MathJax.Hub.Config({SVG: {font: \"STIX-Web\"}});}</script>                <script type=\"text/javascript\">window.PlotlyConfig = {MathJaxConfig: 'local'};</script>\n",
              "        <script charset=\"utf-8\" src=\"https://cdn.plot.ly/plotly-2.29.1.min.js\"></script>                <div id=\"748d6cb6-2d32-4cf0-a039-7590623e1fb9\" class=\"plotly-graph-div\" style=\"height:525px; width:100%;\"></div>            <script type=\"text/javascript\">                                    window.PLOTLYENV=window.PLOTLYENV || {};                                    if (document.getElementById(\"748d6cb6-2d32-4cf0-a039-7590623e1fb9\")) {                    Plotly.newPlot(                        \"748d6cb6-2d32-4cf0-a039-7590623e1fb9\",                        [],                        {\"template\":{\"data\":{\"histogram2dcontour\":[{\"type\":\"histogram2dcontour\",\"colorbar\":{\"outlinewidth\":0,\"ticks\":\"\"},\"colorscale\":[[0.0,\"#0d0887\"],[0.1111111111111111,\"#46039f\"],[0.2222222222222222,\"#7201a8\"],[0.3333333333333333,\"#9c179e\"],[0.4444444444444444,\"#bd3786\"],[0.5555555555555556,\"#d8576b\"],[0.6666666666666666,\"#ed7953\"],[0.7777777777777778,\"#fb9f3a\"],[0.8888888888888888,\"#fdca26\"],[1.0,\"#f0f921\"]]}],\"choropleth\":[{\"type\":\"choropleth\",\"colorbar\":{\"outlinewidth\":0,\"ticks\":\"\"}}],\"histogram2d\":[{\"type\":\"histogram2d\",\"colorbar\":{\"outlinewidth\":0,\"ticks\":\"\"},\"colorscale\":[[0.0,\"#0d0887\"],[0.1111111111111111,\"#46039f\"],[0.2222222222222222,\"#7201a8\"],[0.3333333333333333,\"#9c179e\"],[0.4444444444444444,\"#bd3786\"],[0.5555555555555556,\"#d8576b\"],[0.6666666666666666,\"#ed7953\"],[0.7777777777777778,\"#fb9f3a\"],[0.8888888888888888,\"#fdca26\"],[1.0,\"#f0f921\"]]}],\"heatmap\":[{\"type\":\"heatmap\",\"colorbar\":{\"outlinewidth\":0,\"ticks\":\"\"},\"colorscale\":[[0.0,\"#0d0887\"],[0.1111111111111111,\"#46039f\"],[0.2222222222222222,\"#7201a8\"],[0.3333333333333333,\"#9c179e\"],[0.4444444444444444,\"#bd3786\"],[0.5555555555555556,\"#d8576b\"],[0.6666666666666666,\"#ed7953\"],[0.7777777777777778,\"#fb9f3a\"],[0.8888888888888888,\"#fdca26\"],[1.0,\"#f0f921\"]]}],\"heatmapgl\":[{\"type\":\"heatmapgl\",\"colorbar\":{\"outlinewidth\":0,\"ticks\":\"\"},\"colorscale\":[[0.0,\"#0d0887\"],[0.1111111111111111,\"#46039f\"],[0.2222222222222222,\"#7201a8\"],[0.3333333333333333,\"#9c179e\"],[0.4444444444444444,\"#bd3786\"],[0.5555555555555556,\"#d8576b\"],[0.6666666666666666,\"#ed7953\"],[0.7777777777777778,\"#fb9f3a\"],[0.8888888888888888,\"#fdca26\"],[1.0,\"#f0f921\"]]}],\"contourcarpet\":[{\"type\":\"contourcarpet\",\"colorbar\":{\"outlinewidth\":0,\"ticks\":\"\"}}],\"contour\":[{\"type\":\"contour\",\"colorbar\":{\"outlinewidth\":0,\"ticks\":\"\"},\"colorscale\":[[0.0,\"#0d0887\"],[0.1111111111111111,\"#46039f\"],[0.2222222222222222,\"#7201a8\"],[0.3333333333333333,\"#9c179e\"],[0.4444444444444444,\"#bd3786\"],[0.5555555555555556,\"#d8576b\"],[0.6666666666666666,\"#ed7953\"],[0.7777777777777778,\"#fb9f3a\"],[0.8888888888888888,\"#fdca26\"],[1.0,\"#f0f921\"]]}],\"surface\":[{\"type\":\"surface\",\"colorbar\":{\"outlinewidth\":0,\"ticks\":\"\"},\"colorscale\":[[0.0,\"#0d0887\"],[0.1111111111111111,\"#46039f\"],[0.2222222222222222,\"#7201a8\"],[0.3333333333333333,\"#9c179e\"],[0.4444444444444444,\"#bd3786\"],[0.5555555555555556,\"#d8576b\"],[0.6666666666666666,\"#ed7953\"],[0.7777777777777778,\"#fb9f3a\"],[0.8888888888888888,\"#fdca26\"],[1.0,\"#f0f921\"]]}],\"mesh3d\":[{\"type\":\"mesh3d\",\"colorbar\":{\"outlinewidth\":0,\"ticks\":\"\"}}],\"scatter\":[{\"fillpattern\":{\"fillmode\":\"overlay\",\"size\":10,\"solidity\":0.2},\"type\":\"scatter\"}],\"parcoords\":[{\"type\":\"parcoords\",\"line\":{\"colorbar\":{\"outlinewidth\":0,\"ticks\":\"\"}}}],\"scatterpolargl\":[{\"type\":\"scatterpolargl\",\"marker\":{\"colorbar\":{\"outlinewidth\":0,\"ticks\":\"\"}}}],\"bar\":[{\"error_x\":{\"color\":\"#2a3f5f\"},\"error_y\":{\"color\":\"#2a3f5f\"},\"marker\":{\"line\":{\"color\":\"#E5ECF6\",\"width\":0.5},\"pattern\":{\"fillmode\":\"overlay\",\"size\":10,\"solidity\":0.2}},\"type\":\"bar\"}],\"scattergeo\":[{\"type\":\"scattergeo\",\"marker\":{\"colorbar\":{\"outlinewidth\":0,\"ticks\":\"\"}}}],\"scatterpolar\":[{\"type\":\"scatterpolar\",\"marker\":{\"colorbar\":{\"outlinewidth\":0,\"ticks\":\"\"}}}],\"histogram\":[{\"marker\":{\"pattern\":{\"fillmode\":\"overlay\",\"size\":10,\"solidity\":0.2}},\"type\":\"histogram\"}],\"scattergl\":[{\"type\":\"scattergl\",\"marker\":{\"colorbar\":{\"outlinewidth\":0,\"ticks\":\"\"}}}],\"scatter3d\":[{\"type\":\"scatter3d\",\"line\":{\"colorbar\":{\"outlinewidth\":0,\"ticks\":\"\"}},\"marker\":{\"colorbar\":{\"outlinewidth\":0,\"ticks\":\"\"}}}],\"scattermapbox\":[{\"type\":\"scattermapbox\",\"marker\":{\"colorbar\":{\"outlinewidth\":0,\"ticks\":\"\"}}}],\"scatterternary\":[{\"type\":\"scatterternary\",\"marker\":{\"colorbar\":{\"outlinewidth\":0,\"ticks\":\"\"}}}],\"scattercarpet\":[{\"type\":\"scattercarpet\",\"marker\":{\"colorbar\":{\"outlinewidth\":0,\"ticks\":\"\"}}}],\"carpet\":[{\"aaxis\":{\"endlinecolor\":\"#2a3f5f\",\"gridcolor\":\"white\",\"linecolor\":\"white\",\"minorgridcolor\":\"white\",\"startlinecolor\":\"#2a3f5f\"},\"baxis\":{\"endlinecolor\":\"#2a3f5f\",\"gridcolor\":\"white\",\"linecolor\":\"white\",\"minorgridcolor\":\"white\",\"startlinecolor\":\"#2a3f5f\"},\"type\":\"carpet\"}],\"table\":[{\"cells\":{\"fill\":{\"color\":\"#EBF0F8\"},\"line\":{\"color\":\"white\"}},\"header\":{\"fill\":{\"color\":\"#C8D4E3\"},\"line\":{\"color\":\"white\"}},\"type\":\"table\"}],\"barpolar\":[{\"marker\":{\"line\":{\"color\":\"#E5ECF6\",\"width\":0.5},\"pattern\":{\"fillmode\":\"overlay\",\"size\":10,\"solidity\":0.2}},\"type\":\"barpolar\"}],\"pie\":[{\"automargin\":true,\"type\":\"pie\"}]},\"layout\":{\"autotypenumbers\":\"strict\",\"colorway\":[\"#636efa\",\"#EF553B\",\"#00cc96\",\"#ab63fa\",\"#FFA15A\",\"#19d3f3\",\"#FF6692\",\"#B6E880\",\"#FF97FF\",\"#FECB52\"],\"font\":{\"color\":\"#2a3f5f\"},\"hovermode\":\"closest\",\"hoverlabel\":{\"align\":\"left\"},\"paper_bgcolor\":\"white\",\"plot_bgcolor\":\"#E5ECF6\",\"polar\":{\"bgcolor\":\"#E5ECF6\",\"angularaxis\":{\"gridcolor\":\"white\",\"linecolor\":\"white\",\"ticks\":\"\"},\"radialaxis\":{\"gridcolor\":\"white\",\"linecolor\":\"white\",\"ticks\":\"\"}},\"ternary\":{\"bgcolor\":\"#E5ECF6\",\"aaxis\":{\"gridcolor\":\"white\",\"linecolor\":\"white\",\"ticks\":\"\"},\"baxis\":{\"gridcolor\":\"white\",\"linecolor\":\"white\",\"ticks\":\"\"},\"caxis\":{\"gridcolor\":\"white\",\"linecolor\":\"white\",\"ticks\":\"\"}},\"coloraxis\":{\"colorbar\":{\"outlinewidth\":0,\"ticks\":\"\"}},\"colorscale\":{\"sequential\":[[0.0,\"#0d0887\"],[0.1111111111111111,\"#46039f\"],[0.2222222222222222,\"#7201a8\"],[0.3333333333333333,\"#9c179e\"],[0.4444444444444444,\"#bd3786\"],[0.5555555555555556,\"#d8576b\"],[0.6666666666666666,\"#ed7953\"],[0.7777777777777778,\"#fb9f3a\"],[0.8888888888888888,\"#fdca26\"],[1.0,\"#f0f921\"]],\"sequentialminus\":[[0.0,\"#0d0887\"],[0.1111111111111111,\"#46039f\"],[0.2222222222222222,\"#7201a8\"],[0.3333333333333333,\"#9c179e\"],[0.4444444444444444,\"#bd3786\"],[0.5555555555555556,\"#d8576b\"],[0.6666666666666666,\"#ed7953\"],[0.7777777777777778,\"#fb9f3a\"],[0.8888888888888888,\"#fdca26\"],[1.0,\"#f0f921\"]],\"diverging\":[[0,\"#8e0152\"],[0.1,\"#c51b7d\"],[0.2,\"#de77ae\"],[0.3,\"#f1b6da\"],[0.4,\"#fde0ef\"],[0.5,\"#f7f7f7\"],[0.6,\"#e6f5d0\"],[0.7,\"#b8e186\"],[0.8,\"#7fbc41\"],[0.9,\"#4d9221\"],[1,\"#276419\"]]},\"xaxis\":{\"gridcolor\":\"white\",\"linecolor\":\"white\",\"ticks\":\"\",\"title\":{\"standoff\":15},\"zerolinecolor\":\"white\",\"automargin\":true,\"zerolinewidth\":2},\"yaxis\":{\"gridcolor\":\"white\",\"linecolor\":\"white\",\"ticks\":\"\",\"title\":{\"standoff\":15},\"zerolinecolor\":\"white\",\"automargin\":true,\"zerolinewidth\":2},\"scene\":{\"xaxis\":{\"backgroundcolor\":\"#E5ECF6\",\"gridcolor\":\"white\",\"linecolor\":\"white\",\"showbackground\":true,\"ticks\":\"\",\"zerolinecolor\":\"white\",\"gridwidth\":2},\"yaxis\":{\"backgroundcolor\":\"#E5ECF6\",\"gridcolor\":\"white\",\"linecolor\":\"white\",\"showbackground\":true,\"ticks\":\"\",\"zerolinecolor\":\"white\",\"gridwidth\":2},\"zaxis\":{\"backgroundcolor\":\"#E5ECF6\",\"gridcolor\":\"white\",\"linecolor\":\"white\",\"showbackground\":true,\"ticks\":\"\",\"zerolinecolor\":\"white\",\"gridwidth\":2}},\"shapedefaults\":{\"line\":{\"color\":\"#2a3f5f\"}},\"annotationdefaults\":{\"arrowcolor\":\"#2a3f5f\",\"arrowhead\":0,\"arrowwidth\":1},\"geo\":{\"bgcolor\":\"white\",\"landcolor\":\"#E5ECF6\",\"subunitcolor\":\"white\",\"showland\":true,\"showlakes\":true,\"lakecolor\":\"white\"},\"title\":{\"x\":0.05},\"mapbox\":{\"style\":\"light\"}}},\"xaxis\":{\"anchor\":\"y\",\"domain\":[0.0,1.0],\"title\":{\"text\":\"x\"}},\"yaxis\":{\"anchor\":\"x\",\"domain\":[0.0,1.0],\"title\":{\"text\":\"value\"}},\"legend\":{\"tracegroupgap\":0},\"margin\":{\"t\":60}},                        {\"responsive\": true}                    ).then(function(){\n",
              "                            \n",
              "var gd = document.getElementById('748d6cb6-2d32-4cf0-a039-7590623e1fb9');\n",
              "var x = new MutationObserver(function (mutations, observer) {{\n",
              "        var display = window.getComputedStyle(gd).display;\n",
              "        if (!display || display === 'none') {{\n",
              "            console.log([gd, 'removed!']);\n",
              "            Plotly.purge(gd);\n",
              "            observer.disconnect();\n",
              "        }}\n",
              "}});\n",
              "\n",
              "// Listen for the removal of the full notebook cells\n",
              "var notebookContainer = gd.closest('#notebook-container');\n",
              "if (notebookContainer) {{\n",
              "    x.observe(notebookContainer, {childList: true});\n",
              "}}\n",
              "\n",
              "// Listen for the clearing of the current output cell\n",
              "var outputEl = gd.closest('.output');\n",
              "if (outputEl) {{\n",
              "    x.observe(outputEl, {childList: true});\n",
              "}}\n",
              "\n",
              "                        })                };                            </script>        </div>\n",
              "</body>\n",
              "</html>"
            ]
          },
          "metadata": {}
        }
      ]
    },
    {
      "cell_type": "code",
      "source": [
        "kmeans_cartao = KMeans(n_clusters=4, random_state=0)\n",
        "rotulos = kmeans_cartao.fit_predict(x_cartao)"
      ],
      "metadata": {
        "colab": {
          "base_uri": "https://localhost:8080/",
          "height": 373
        },
        "id": "w9dOSuH3IuHF",
        "outputId": "2326134e-c3a6-4cb3-a262-5c0ea5199b97"
      },
      "execution_count": 37,
      "outputs": [
        {
          "output_type": "error",
          "ename": "ValueError",
          "evalue": "Input X contains NaN.\nKMeans does not accept missing values encoded as NaN natively. For supervised learning, you might want to consider sklearn.ensemble.HistGradientBoostingClassifier and Regressor which accept missing values encoded as NaNs natively. Alternatively, it is possible to preprocess the data, for instance by using an imputer transformer in a pipeline or drop samples with missing values. See https://scikit-learn.org/stable/modules/impute.html You can find a list of all estimators that handle NaN values at the following page: https://scikit-learn.org/stable/modules/impute.html#estimators-that-handle-nan-values",
          "traceback": [
            "\u001b[0;31m---------------------------------------------------------------------------\u001b[0m",
            "\u001b[0;31mValueError\u001b[0m                                Traceback (most recent call last)",
            "\u001b[0;32m<ipython-input-37-678d55033c6a>\u001b[0m in \u001b[0;36m<cell line: 2>\u001b[0;34m()\u001b[0m\n\u001b[1;32m      1\u001b[0m \u001b[0mkmeans_cartao\u001b[0m \u001b[0;34m=\u001b[0m \u001b[0mKMeans\u001b[0m\u001b[0;34m(\u001b[0m\u001b[0mn_clusters\u001b[0m\u001b[0;34m=\u001b[0m\u001b[0;36m4\u001b[0m\u001b[0;34m,\u001b[0m \u001b[0mrandom_state\u001b[0m\u001b[0;34m=\u001b[0m\u001b[0;36m0\u001b[0m\u001b[0;34m)\u001b[0m\u001b[0;34m\u001b[0m\u001b[0;34m\u001b[0m\u001b[0m\n\u001b[0;32m----> 2\u001b[0;31m \u001b[0mrotulos\u001b[0m \u001b[0;34m=\u001b[0m \u001b[0mkmeans_cartao\u001b[0m\u001b[0;34m.\u001b[0m\u001b[0mfit_predict\u001b[0m\u001b[0;34m(\u001b[0m\u001b[0mx_cartao\u001b[0m\u001b[0;34m)\u001b[0m\u001b[0;34m\u001b[0m\u001b[0;34m\u001b[0m\u001b[0m\n\u001b[0m",
            "\u001b[0;32m/usr/local/lib/python3.10/dist-packages/sklearn/cluster/_kmeans.py\u001b[0m in \u001b[0;36mfit_predict\u001b[0;34m(self, X, y, sample_weight)\u001b[0m\n\u001b[1;32m   1031\u001b[0m             \u001b[0mIndex\u001b[0m \u001b[0mof\u001b[0m \u001b[0mthe\u001b[0m \u001b[0mcluster\u001b[0m \u001b[0meach\u001b[0m \u001b[0msample\u001b[0m \u001b[0mbelongs\u001b[0m \u001b[0mto\u001b[0m\u001b[0;34m.\u001b[0m\u001b[0;34m\u001b[0m\u001b[0;34m\u001b[0m\u001b[0m\n\u001b[1;32m   1032\u001b[0m         \"\"\"\n\u001b[0;32m-> 1033\u001b[0;31m         \u001b[0;32mreturn\u001b[0m \u001b[0mself\u001b[0m\u001b[0;34m.\u001b[0m\u001b[0mfit\u001b[0m\u001b[0;34m(\u001b[0m\u001b[0mX\u001b[0m\u001b[0;34m,\u001b[0m \u001b[0msample_weight\u001b[0m\u001b[0;34m=\u001b[0m\u001b[0msample_weight\u001b[0m\u001b[0;34m)\u001b[0m\u001b[0;34m.\u001b[0m\u001b[0mlabels_\u001b[0m\u001b[0;34m\u001b[0m\u001b[0;34m\u001b[0m\u001b[0m\n\u001b[0m\u001b[1;32m   1034\u001b[0m \u001b[0;34m\u001b[0m\u001b[0m\n\u001b[1;32m   1035\u001b[0m     \u001b[0;32mdef\u001b[0m \u001b[0mpredict\u001b[0m\u001b[0;34m(\u001b[0m\u001b[0mself\u001b[0m\u001b[0;34m,\u001b[0m \u001b[0mX\u001b[0m\u001b[0;34m,\u001b[0m \u001b[0msample_weight\u001b[0m\u001b[0;34m=\u001b[0m\u001b[0;32mNone\u001b[0m\u001b[0;34m)\u001b[0m\u001b[0;34m:\u001b[0m\u001b[0;34m\u001b[0m\u001b[0;34m\u001b[0m\u001b[0m\n",
            "\u001b[0;32m/usr/local/lib/python3.10/dist-packages/sklearn/cluster/_kmeans.py\u001b[0m in \u001b[0;36mfit\u001b[0;34m(self, X, y, sample_weight)\u001b[0m\n\u001b[1;32m   1415\u001b[0m         \u001b[0mself\u001b[0m\u001b[0;34m.\u001b[0m\u001b[0m_validate_params\u001b[0m\u001b[0;34m(\u001b[0m\u001b[0;34m)\u001b[0m\u001b[0;34m\u001b[0m\u001b[0;34m\u001b[0m\u001b[0m\n\u001b[1;32m   1416\u001b[0m \u001b[0;34m\u001b[0m\u001b[0m\n\u001b[0;32m-> 1417\u001b[0;31m         X = self._validate_data(\n\u001b[0m\u001b[1;32m   1418\u001b[0m             \u001b[0mX\u001b[0m\u001b[0;34m,\u001b[0m\u001b[0;34m\u001b[0m\u001b[0;34m\u001b[0m\u001b[0m\n\u001b[1;32m   1419\u001b[0m             \u001b[0maccept_sparse\u001b[0m\u001b[0;34m=\u001b[0m\u001b[0;34m\"csr\"\u001b[0m\u001b[0;34m,\u001b[0m\u001b[0;34m\u001b[0m\u001b[0;34m\u001b[0m\u001b[0m\n",
            "\u001b[0;32m/usr/local/lib/python3.10/dist-packages/sklearn/base.py\u001b[0m in \u001b[0;36m_validate_data\u001b[0;34m(self, X, y, reset, validate_separately, **check_params)\u001b[0m\n\u001b[1;32m    563\u001b[0m             \u001b[0;32mraise\u001b[0m \u001b[0mValueError\u001b[0m\u001b[0;34m(\u001b[0m\u001b[0;34m\"Validation should be done on X, y or both.\"\u001b[0m\u001b[0;34m)\u001b[0m\u001b[0;34m\u001b[0m\u001b[0;34m\u001b[0m\u001b[0m\n\u001b[1;32m    564\u001b[0m         \u001b[0;32melif\u001b[0m \u001b[0;32mnot\u001b[0m \u001b[0mno_val_X\u001b[0m \u001b[0;32mand\u001b[0m \u001b[0mno_val_y\u001b[0m\u001b[0;34m:\u001b[0m\u001b[0;34m\u001b[0m\u001b[0;34m\u001b[0m\u001b[0m\n\u001b[0;32m--> 565\u001b[0;31m             \u001b[0mX\u001b[0m \u001b[0;34m=\u001b[0m \u001b[0mcheck_array\u001b[0m\u001b[0;34m(\u001b[0m\u001b[0mX\u001b[0m\u001b[0;34m,\u001b[0m \u001b[0minput_name\u001b[0m\u001b[0;34m=\u001b[0m\u001b[0;34m\"X\"\u001b[0m\u001b[0;34m,\u001b[0m \u001b[0;34m**\u001b[0m\u001b[0mcheck_params\u001b[0m\u001b[0;34m)\u001b[0m\u001b[0;34m\u001b[0m\u001b[0;34m\u001b[0m\u001b[0m\n\u001b[0m\u001b[1;32m    566\u001b[0m             \u001b[0mout\u001b[0m \u001b[0;34m=\u001b[0m \u001b[0mX\u001b[0m\u001b[0;34m\u001b[0m\u001b[0;34m\u001b[0m\u001b[0m\n\u001b[1;32m    567\u001b[0m         \u001b[0;32melif\u001b[0m \u001b[0mno_val_X\u001b[0m \u001b[0;32mand\u001b[0m \u001b[0;32mnot\u001b[0m \u001b[0mno_val_y\u001b[0m\u001b[0;34m:\u001b[0m\u001b[0;34m\u001b[0m\u001b[0;34m\u001b[0m\u001b[0m\n",
            "\u001b[0;32m/usr/local/lib/python3.10/dist-packages/sklearn/utils/validation.py\u001b[0m in \u001b[0;36mcheck_array\u001b[0;34m(array, accept_sparse, accept_large_sparse, dtype, order, copy, force_all_finite, ensure_2d, allow_nd, ensure_min_samples, ensure_min_features, estimator, input_name)\u001b[0m\n\u001b[1;32m    919\u001b[0m \u001b[0;34m\u001b[0m\u001b[0m\n\u001b[1;32m    920\u001b[0m         \u001b[0;32mif\u001b[0m \u001b[0mforce_all_finite\u001b[0m\u001b[0;34m:\u001b[0m\u001b[0;34m\u001b[0m\u001b[0;34m\u001b[0m\u001b[0m\n\u001b[0;32m--> 921\u001b[0;31m             _assert_all_finite(\n\u001b[0m\u001b[1;32m    922\u001b[0m                 \u001b[0marray\u001b[0m\u001b[0;34m,\u001b[0m\u001b[0;34m\u001b[0m\u001b[0;34m\u001b[0m\u001b[0m\n\u001b[1;32m    923\u001b[0m                 \u001b[0minput_name\u001b[0m\u001b[0;34m=\u001b[0m\u001b[0minput_name\u001b[0m\u001b[0;34m,\u001b[0m\u001b[0;34m\u001b[0m\u001b[0;34m\u001b[0m\u001b[0m\n",
            "\u001b[0;32m/usr/local/lib/python3.10/dist-packages/sklearn/utils/validation.py\u001b[0m in \u001b[0;36m_assert_all_finite\u001b[0;34m(X, allow_nan, msg_dtype, estimator_name, input_name)\u001b[0m\n\u001b[1;32m    159\u001b[0m                 \u001b[0;34m\"#estimators-that-handle-nan-values\"\u001b[0m\u001b[0;34m\u001b[0m\u001b[0;34m\u001b[0m\u001b[0m\n\u001b[1;32m    160\u001b[0m             )\n\u001b[0;32m--> 161\u001b[0;31m         \u001b[0;32mraise\u001b[0m \u001b[0mValueError\u001b[0m\u001b[0;34m(\u001b[0m\u001b[0mmsg_err\u001b[0m\u001b[0;34m)\u001b[0m\u001b[0;34m\u001b[0m\u001b[0;34m\u001b[0m\u001b[0m\n\u001b[0m\u001b[1;32m    162\u001b[0m \u001b[0;34m\u001b[0m\u001b[0m\n\u001b[1;32m    163\u001b[0m \u001b[0;34m\u001b[0m\u001b[0m\n",
            "\u001b[0;31mValueError\u001b[0m: Input X contains NaN.\nKMeans does not accept missing values encoded as NaN natively. For supervised learning, you might want to consider sklearn.ensemble.HistGradientBoostingClassifier and Regressor which accept missing values encoded as NaNs natively. Alternatively, it is possible to preprocess the data, for instance by using an imputer transformer in a pipeline or drop samples with missing values. See https://scikit-learn.org/stable/modules/impute.html You can find a list of all estimators that handle NaN values at the following page: https://scikit-learn.org/stable/modules/impute.html#estimators-that-handle-nan-values"
          ]
        }
      ]
    },
    {
      "cell_type": "code",
      "source": [
        "grafico = px.scatter(x = x_cartao[:,0], y = x_cartao[:,1], color = rotulos)\n",
        "grafico.show()"
      ],
      "metadata": {
        "colab": {
          "base_uri": "https://localhost:8080/",
          "height": 304
        },
        "id": "IYOISelfJEq3",
        "outputId": "10de3af4-242e-4211-b554-2687c418ca2b"
      },
      "execution_count": 38,
      "outputs": [
        {
          "output_type": "error",
          "ename": "ValueError",
          "evalue": "All arguments should have the same length. The length of argument `color` is 200, whereas the length of  previously-processed arguments ['x', 'y'] is 21786",
          "traceback": [
            "\u001b[0;31m---------------------------------------------------------------------------\u001b[0m",
            "\u001b[0;31mValueError\u001b[0m                                Traceback (most recent call last)",
            "\u001b[0;32m<ipython-input-38-53da3fcb3ecb>\u001b[0m in \u001b[0;36m<cell line: 1>\u001b[0;34m()\u001b[0m\n\u001b[0;32m----> 1\u001b[0;31m \u001b[0mgrafico\u001b[0m \u001b[0;34m=\u001b[0m \u001b[0mpx\u001b[0m\u001b[0;34m.\u001b[0m\u001b[0mscatter\u001b[0m\u001b[0;34m(\u001b[0m\u001b[0mx\u001b[0m \u001b[0;34m=\u001b[0m \u001b[0mx_cartao\u001b[0m\u001b[0;34m[\u001b[0m\u001b[0;34m:\u001b[0m\u001b[0;34m,\u001b[0m\u001b[0;36m0\u001b[0m\u001b[0;34m]\u001b[0m\u001b[0;34m,\u001b[0m \u001b[0my\u001b[0m \u001b[0;34m=\u001b[0m \u001b[0mx_cartao\u001b[0m\u001b[0;34m[\u001b[0m\u001b[0;34m:\u001b[0m\u001b[0;34m,\u001b[0m\u001b[0;36m1\u001b[0m\u001b[0;34m]\u001b[0m\u001b[0;34m,\u001b[0m \u001b[0mcolor\u001b[0m \u001b[0;34m=\u001b[0m \u001b[0mrotulos\u001b[0m\u001b[0;34m)\u001b[0m\u001b[0;34m\u001b[0m\u001b[0;34m\u001b[0m\u001b[0m\n\u001b[0m\u001b[1;32m      2\u001b[0m \u001b[0mgrafico\u001b[0m\u001b[0;34m.\u001b[0m\u001b[0mshow\u001b[0m\u001b[0;34m(\u001b[0m\u001b[0;34m)\u001b[0m\u001b[0;34m\u001b[0m\u001b[0;34m\u001b[0m\u001b[0m\n",
            "\u001b[0;32m/usr/local/lib/python3.10/dist-packages/plotly/express/_chart_types.py\u001b[0m in \u001b[0;36mscatter\u001b[0;34m(data_frame, x, y, color, symbol, size, hover_name, hover_data, custom_data, text, facet_row, facet_col, facet_col_wrap, facet_row_spacing, facet_col_spacing, error_x, error_x_minus, error_y, error_y_minus, animation_frame, animation_group, category_orders, labels, orientation, color_discrete_sequence, color_discrete_map, color_continuous_scale, range_color, color_continuous_midpoint, symbol_sequence, symbol_map, opacity, size_max, marginal_x, marginal_y, trendline, trendline_options, trendline_color_override, trendline_scope, log_x, log_y, range_x, range_y, render_mode, title, template, width, height)\u001b[0m\n\u001b[1;32m     64\u001b[0m     \u001b[0mmark\u001b[0m \u001b[0;32min\u001b[0m \u001b[0;36m2\u001b[0m\u001b[0mD\u001b[0m \u001b[0mspace\u001b[0m\u001b[0;34m.\u001b[0m\u001b[0;34m\u001b[0m\u001b[0;34m\u001b[0m\u001b[0m\n\u001b[1;32m     65\u001b[0m     \"\"\"\n\u001b[0;32m---> 66\u001b[0;31m     \u001b[0;32mreturn\u001b[0m \u001b[0mmake_figure\u001b[0m\u001b[0;34m(\u001b[0m\u001b[0margs\u001b[0m\u001b[0;34m=\u001b[0m\u001b[0mlocals\u001b[0m\u001b[0;34m(\u001b[0m\u001b[0;34m)\u001b[0m\u001b[0;34m,\u001b[0m \u001b[0mconstructor\u001b[0m\u001b[0;34m=\u001b[0m\u001b[0mgo\u001b[0m\u001b[0;34m.\u001b[0m\u001b[0mScatter\u001b[0m\u001b[0;34m)\u001b[0m\u001b[0;34m\u001b[0m\u001b[0;34m\u001b[0m\u001b[0m\n\u001b[0m\u001b[1;32m     67\u001b[0m \u001b[0;34m\u001b[0m\u001b[0m\n\u001b[1;32m     68\u001b[0m \u001b[0;34m\u001b[0m\u001b[0m\n",
            "\u001b[0;32m/usr/local/lib/python3.10/dist-packages/plotly/express/_core.py\u001b[0m in \u001b[0;36mmake_figure\u001b[0;34m(args, constructor, trace_patch, layout_patch)\u001b[0m\n\u001b[1;32m   2088\u001b[0m     \u001b[0mapply_default_cascade\u001b[0m\u001b[0;34m(\u001b[0m\u001b[0margs\u001b[0m\u001b[0;34m)\u001b[0m\u001b[0;34m\u001b[0m\u001b[0;34m\u001b[0m\u001b[0m\n\u001b[1;32m   2089\u001b[0m \u001b[0;34m\u001b[0m\u001b[0m\n\u001b[0;32m-> 2090\u001b[0;31m     \u001b[0margs\u001b[0m \u001b[0;34m=\u001b[0m \u001b[0mbuild_dataframe\u001b[0m\u001b[0;34m(\u001b[0m\u001b[0margs\u001b[0m\u001b[0;34m,\u001b[0m \u001b[0mconstructor\u001b[0m\u001b[0;34m)\u001b[0m\u001b[0;34m\u001b[0m\u001b[0;34m\u001b[0m\u001b[0m\n\u001b[0m\u001b[1;32m   2091\u001b[0m     \u001b[0;32mif\u001b[0m \u001b[0mconstructor\u001b[0m \u001b[0;32min\u001b[0m \u001b[0;34m[\u001b[0m\u001b[0mgo\u001b[0m\u001b[0;34m.\u001b[0m\u001b[0mTreemap\u001b[0m\u001b[0;34m,\u001b[0m \u001b[0mgo\u001b[0m\u001b[0;34m.\u001b[0m\u001b[0mSunburst\u001b[0m\u001b[0;34m,\u001b[0m \u001b[0mgo\u001b[0m\u001b[0;34m.\u001b[0m\u001b[0mIcicle\u001b[0m\u001b[0;34m]\u001b[0m \u001b[0;32mand\u001b[0m \u001b[0margs\u001b[0m\u001b[0;34m[\u001b[0m\u001b[0;34m\"path\"\u001b[0m\u001b[0;34m]\u001b[0m \u001b[0;32mis\u001b[0m \u001b[0;32mnot\u001b[0m \u001b[0;32mNone\u001b[0m\u001b[0;34m:\u001b[0m\u001b[0;34m\u001b[0m\u001b[0;34m\u001b[0m\u001b[0m\n\u001b[1;32m   2092\u001b[0m         \u001b[0margs\u001b[0m \u001b[0;34m=\u001b[0m \u001b[0mprocess_dataframe_hierarchy\u001b[0m\u001b[0;34m(\u001b[0m\u001b[0margs\u001b[0m\u001b[0;34m)\u001b[0m\u001b[0;34m\u001b[0m\u001b[0;34m\u001b[0m\u001b[0m\n",
            "\u001b[0;32m/usr/local/lib/python3.10/dist-packages/plotly/express/_core.py\u001b[0m in \u001b[0;36mbuild_dataframe\u001b[0;34m(args, constructor)\u001b[0m\n\u001b[1;32m   1490\u001b[0m     \u001b[0;31m# now that things have been prepped, we do the systematic rewriting of `args`\u001b[0m\u001b[0;34m\u001b[0m\u001b[0;34m\u001b[0m\u001b[0m\n\u001b[1;32m   1491\u001b[0m \u001b[0;34m\u001b[0m\u001b[0m\n\u001b[0;32m-> 1492\u001b[0;31m     df_output, wide_id_vars = process_args_into_dataframe(\n\u001b[0m\u001b[1;32m   1493\u001b[0m         \u001b[0margs\u001b[0m\u001b[0;34m,\u001b[0m \u001b[0mwide_mode\u001b[0m\u001b[0;34m,\u001b[0m \u001b[0mvar_name\u001b[0m\u001b[0;34m,\u001b[0m \u001b[0mvalue_name\u001b[0m\u001b[0;34m\u001b[0m\u001b[0;34m\u001b[0m\u001b[0m\n\u001b[1;32m   1494\u001b[0m     )\n",
            "\u001b[0;32m/usr/local/lib/python3.10/dist-packages/plotly/express/_core.py\u001b[0m in \u001b[0;36mprocess_args_into_dataframe\u001b[0;34m(args, wide_mode, var_name, value_name)\u001b[0m\n\u001b[1;32m   1251\u001b[0m \u001b[0;34m\u001b[0m\u001b[0m\n\u001b[1;32m   1252\u001b[0m                 \u001b[0;32mif\u001b[0m \u001b[0mlength\u001b[0m \u001b[0;32mand\u001b[0m \u001b[0mlen\u001b[0m\u001b[0;34m(\u001b[0m\u001b[0margument\u001b[0m\u001b[0;34m)\u001b[0m \u001b[0;34m!=\u001b[0m \u001b[0mlength\u001b[0m\u001b[0;34m:\u001b[0m\u001b[0;34m\u001b[0m\u001b[0;34m\u001b[0m\u001b[0m\n\u001b[0;32m-> 1253\u001b[0;31m                     raise ValueError(\n\u001b[0m\u001b[1;32m   1254\u001b[0m                         \u001b[0;34m\"All arguments should have the same length. \"\u001b[0m\u001b[0;34m\u001b[0m\u001b[0;34m\u001b[0m\u001b[0m\n\u001b[1;32m   1255\u001b[0m                         \u001b[0;34m\"The length of argument `%s` is %d, whereas the \"\u001b[0m\u001b[0;34m\u001b[0m\u001b[0;34m\u001b[0m\u001b[0m\n",
            "\u001b[0;31mValueError\u001b[0m: All arguments should have the same length. The length of argument `color` is 200, whereas the length of  previously-processed arguments ['x', 'y'] is 21786"
          ]
        }
      ]
    },
    {
      "cell_type": "code",
      "source": [
        "lista_clientes = np.column_stack((base_cartao, rotulos))\n",
        "lista_clientes"
      ],
      "metadata": {
        "colab": {
          "base_uri": "https://localhost:8080/",
          "height": 280
        },
        "id": "fhIOsvMiJIxt",
        "outputId": "2eb9c81f-ebd5-4d2a-ce0b-e1b12d608619"
      },
      "execution_count": 39,
      "outputs": [
        {
          "output_type": "error",
          "ename": "ValueError",
          "evalue": "all the input array dimensions except for the concatenation axis must match exactly, but along dimension 0, the array at index 0 has size 21786 and the array at index 1 has size 200",
          "traceback": [
            "\u001b[0;31m---------------------------------------------------------------------------\u001b[0m",
            "\u001b[0;31mValueError\u001b[0m                                Traceback (most recent call last)",
            "\u001b[0;32m<ipython-input-39-db39147b85dd>\u001b[0m in \u001b[0;36m<cell line: 1>\u001b[0;34m()\u001b[0m\n\u001b[0;32m----> 1\u001b[0;31m \u001b[0mlista_clientes\u001b[0m \u001b[0;34m=\u001b[0m \u001b[0mnp\u001b[0m\u001b[0;34m.\u001b[0m\u001b[0mcolumn_stack\u001b[0m\u001b[0;34m(\u001b[0m\u001b[0;34m(\u001b[0m\u001b[0mbase_cartao\u001b[0m\u001b[0;34m,\u001b[0m \u001b[0mrotulos\u001b[0m\u001b[0;34m)\u001b[0m\u001b[0;34m)\u001b[0m\u001b[0;34m\u001b[0m\u001b[0;34m\u001b[0m\u001b[0m\n\u001b[0m\u001b[1;32m      2\u001b[0m \u001b[0mlista_clientes\u001b[0m\u001b[0;34m\u001b[0m\u001b[0;34m\u001b[0m\u001b[0m\n",
            "\u001b[0;32m/usr/local/lib/python3.10/dist-packages/numpy/lib/shape_base.py\u001b[0m in \u001b[0;36mcolumn_stack\u001b[0;34m(tup)\u001b[0m\n\u001b[1;32m    650\u001b[0m             \u001b[0marr\u001b[0m \u001b[0;34m=\u001b[0m \u001b[0marray\u001b[0m\u001b[0;34m(\u001b[0m\u001b[0marr\u001b[0m\u001b[0;34m,\u001b[0m \u001b[0mcopy\u001b[0m\u001b[0;34m=\u001b[0m\u001b[0;32mFalse\u001b[0m\u001b[0;34m,\u001b[0m \u001b[0msubok\u001b[0m\u001b[0;34m=\u001b[0m\u001b[0;32mTrue\u001b[0m\u001b[0;34m,\u001b[0m \u001b[0mndmin\u001b[0m\u001b[0;34m=\u001b[0m\u001b[0;36m2\u001b[0m\u001b[0;34m)\u001b[0m\u001b[0;34m.\u001b[0m\u001b[0mT\u001b[0m\u001b[0;34m\u001b[0m\u001b[0;34m\u001b[0m\u001b[0m\n\u001b[1;32m    651\u001b[0m         \u001b[0marrays\u001b[0m\u001b[0;34m.\u001b[0m\u001b[0mappend\u001b[0m\u001b[0;34m(\u001b[0m\u001b[0marr\u001b[0m\u001b[0;34m)\u001b[0m\u001b[0;34m\u001b[0m\u001b[0;34m\u001b[0m\u001b[0m\n\u001b[0;32m--> 652\u001b[0;31m     \u001b[0;32mreturn\u001b[0m \u001b[0m_nx\u001b[0m\u001b[0;34m.\u001b[0m\u001b[0mconcatenate\u001b[0m\u001b[0;34m(\u001b[0m\u001b[0marrays\u001b[0m\u001b[0;34m,\u001b[0m \u001b[0;36m1\u001b[0m\u001b[0;34m)\u001b[0m\u001b[0;34m\u001b[0m\u001b[0;34m\u001b[0m\u001b[0m\n\u001b[0m\u001b[1;32m    653\u001b[0m \u001b[0;34m\u001b[0m\u001b[0m\n\u001b[1;32m    654\u001b[0m \u001b[0;34m\u001b[0m\u001b[0m\n",
            "\u001b[0;31mValueError\u001b[0m: all the input array dimensions except for the concatenation axis must match exactly, but along dimension 0, the array at index 0 has size 21786 and the array at index 1 has size 200"
          ]
        }
      ]
    },
    {
      "cell_type": "code",
      "source": [
        "lista_clientes = lista_clientes[lista_clientes[:,26].argsort()]"
      ],
      "metadata": {
        "id": "oNd2gUk2KBLe"
      },
      "execution_count": null,
      "outputs": []
    },
    {
      "cell_type": "code",
      "source": [
        "lista_clientes"
      ],
      "metadata": {
        "id": "E8dhrTe4KLPw"
      },
      "execution_count": null,
      "outputs": []
    },
    {
      "cell_type": "markdown",
      "source": [
        "##Base de dados cartao de credito - mais atributos"
      ],
      "metadata": {
        "id": "bgpoxyRkKUFK"
      }
    },
    {
      "cell_type": "code",
      "source": [
        "base_cartao.columns"
      ],
      "metadata": {
        "id": "BXr7H2luLY2m"
      },
      "execution_count": null,
      "outputs": []
    },
    {
      "cell_type": "code",
      "source": [
        "x_cartao_mais = base_cartao.iloc[:, [1, 2 ,3 ,4 ,25]].values\n",
        "x_cartao_mais"
      ],
      "metadata": {
        "id": "JrdGlrBgKMaj"
      },
      "execution_count": null,
      "outputs": []
    },
    {
      "cell_type": "code",
      "source": [
        "scaler_cartao_mais = StandardScaler()"
      ],
      "metadata": {
        "id": "-BBXfK98Kl-R"
      },
      "execution_count": null,
      "outputs": []
    },
    {
      "cell_type": "code",
      "source": [
        "x_cartao_mais = scaler_cartao_mais.fit_transform(x_cartao_mais)"
      ],
      "metadata": {
        "id": "RO7S14vEMTOj"
      },
      "execution_count": null,
      "outputs": []
    },
    {
      "cell_type": "code",
      "source": [
        "x_cartao_mais"
      ],
      "metadata": {
        "id": "BU7hreDIMcLh"
      },
      "execution_count": null,
      "outputs": []
    },
    {
      "cell_type": "code",
      "source": [
        "wcss = []\n",
        "for i in range(1, 11):\n",
        "  kmeans_cartao_mais = KMeans(n_clusters=i, random_state=0)\n",
        "  kmeans_cartao_mais.fit(x_cartao_mais)\n",
        "  wcss.append(kmeans_cartao_mais.inertia_)"
      ],
      "metadata": {
        "id": "5rNI5_WVMdeZ"
      },
      "execution_count": null,
      "outputs": []
    },
    {
      "cell_type": "code",
      "source": [
        "grafico = px.line(x=range(1, 11), y = wcss)\n",
        "grafico.show()"
      ],
      "metadata": {
        "id": "q062ZZ0GMqWR"
      },
      "execution_count": null,
      "outputs": []
    },
    {
      "cell_type": "code",
      "source": [
        "kmeans_cartao_mais = KMeans(n_clusters=2, random_state=0)\n",
        "rotulos = kmeans_cartao_mais.fit_predict(x_cartao_mais)"
      ],
      "metadata": {
        "id": "zdHOuD1mMr23"
      },
      "execution_count": null,
      "outputs": []
    },
    {
      "cell_type": "code",
      "source": [
        "rotulos"
      ],
      "metadata": {
        "id": "_h3t_a7wMz7A"
      },
      "execution_count": null,
      "outputs": []
    },
    {
      "cell_type": "code",
      "source": [
        "from sklearn.decomposition import PCA"
      ],
      "metadata": {
        "id": "nE6FmtKCM0UP"
      },
      "execution_count": null,
      "outputs": []
    },
    {
      "cell_type": "code",
      "source": [
        "pca = PCA(n_components=2)\n",
        "x_cartao_mais_pca = pca.fit_transform(x_cartao_mais)"
      ],
      "metadata": {
        "id": "jXEfhtl7NpLS"
      },
      "execution_count": null,
      "outputs": []
    },
    {
      "cell_type": "code",
      "source": [
        "x_cartao_mais_pca"
      ],
      "metadata": {
        "id": "URP3aDSQNvqI"
      },
      "execution_count": null,
      "outputs": []
    },
    {
      "cell_type": "code",
      "source": [
        "x_cartao_mais_pca.shape"
      ],
      "metadata": {
        "id": "uRYYsK91Nwtg"
      },
      "execution_count": null,
      "outputs": []
    },
    {
      "cell_type": "code",
      "source": [
        "grafico = px.scatter(x = x_cartao_mais_pca[:,0], y = x_cartao_mais_pca[:, 1], color=rotulos)\n",
        "grafico.show()"
      ],
      "metadata": {
        "id": "2hZFMGESN0MP"
      },
      "execution_count": null,
      "outputs": []
    },
    {
      "cell_type": "code",
      "source": [
        "lista_clientes = np.column_stack((base_cartao, rotulos))\n",
        "lista_clientes = lista_clientes[lista_clientes[:,26].argsort()]\n",
        "lista_clientes"
      ],
      "metadata": {
        "id": "C9kUgodGN_rY"
      },
      "execution_count": null,
      "outputs": []
    },
    {
      "cell_type": "markdown",
      "source": [
        "##Agrupamento Hierárquico"
      ],
      "metadata": {
        "id": "uM8ldgHmmlQM"
      }
    },
    {
      "cell_type": "markdown",
      "source": [
        "###Base salário idade"
      ],
      "metadata": {
        "id": "LoeDUzZOmn0A"
      }
    },
    {
      "cell_type": "code",
      "source": [
        "base_salario\n"
      ],
      "metadata": {
        "id": "QhFoO6QxOabr",
        "colab": {
          "base_uri": "https://localhost:8080/",
          "height": 0
        },
        "outputId": "989c3a65-2829-499d-ef49-343380cc167d"
      },
      "execution_count": 41,
      "outputs": [
        {
          "output_type": "execute_result",
          "data": {
            "text/plain": [
              "array([[-1.87963884, -1.11413572],\n",
              "       [-1.23255006, -1.01725435],\n",
              "       [-1.78719758, -0.19376273],\n",
              "       [-0.30813751, -0.70238991],\n",
              "       [ 0.52383377, -1.1625764 ],\n",
              "       [ 1.17092255, -1.13835606],\n",
              "       [ 1.35580506, -0.62972888],\n",
              "       [ 0.61627503, -0.5812882 ],\n",
              "       [ 1.0784813 , -0.14532205],\n",
              "       [-0.77034379,  1.25945777],\n",
              "       [-0.12325501,  0.38752547],\n",
              "       [ 0.0616275 ,  0.8719323 ],\n",
              "       [-0.12325501,  1.79230528],\n",
              "       [ 0.70871628,  0.82349162],\n",
              "       [ 0.70871628,  1.55010187]])"
            ]
          },
          "metadata": {},
          "execution_count": 41
        }
      ]
    },
    {
      "cell_type": "code",
      "source": [
        "grafico = px.scatter(x = base_salario[:,0], y  = base_salario[:,1])\n",
        "grafico.show()"
      ],
      "metadata": {
        "colab": {
          "base_uri": "https://localhost:8080/",
          "height": 542
        },
        "id": "q4vfKwQsnQCq",
        "outputId": "ebb6c418-0daf-46e4-be84-c5736f00858b"
      },
      "execution_count": 44,
      "outputs": [
        {
          "output_type": "display_data",
          "data": {
            "text/html": [
              "<html>\n",
              "<head><meta charset=\"utf-8\" /></head>\n",
              "<body>\n",
              "    <div>            <script src=\"https://cdnjs.cloudflare.com/ajax/libs/mathjax/2.7.5/MathJax.js?config=TeX-AMS-MML_SVG\"></script><script type=\"text/javascript\">if (window.MathJax && window.MathJax.Hub && window.MathJax.Hub.Config) {window.MathJax.Hub.Config({SVG: {font: \"STIX-Web\"}});}</script>                <script type=\"text/javascript\">window.PlotlyConfig = {MathJaxConfig: 'local'};</script>\n",
              "        <script charset=\"utf-8\" src=\"https://cdn.plot.ly/plotly-2.29.1.min.js\"></script>                <div id=\"208305dc-7cdf-48f1-9add-9016a5d4485a\" class=\"plotly-graph-div\" style=\"height:525px; width:100%;\"></div>            <script type=\"text/javascript\">                                    window.PLOTLYENV=window.PLOTLYENV || {};                                    if (document.getElementById(\"208305dc-7cdf-48f1-9add-9016a5d4485a\")) {                    Plotly.newPlot(                        \"208305dc-7cdf-48f1-9add-9016a5d4485a\",                        [{\"hovertemplate\":\"x=%{x}\\u003cbr\\u003ey=%{y}\\u003cextra\\u003e\\u003c\\u002fextra\\u003e\",\"legendgroup\":\"\",\"marker\":{\"color\":\"#636efa\",\"symbol\":\"circle\"},\"mode\":\"markers\",\"name\":\"\",\"orientation\":\"v\",\"showlegend\":false,\"x\":[-1.8796388369139148,-1.232550056992731,-1.78719758263946,-0.3081375142481829,0.5238337742219104,1.170922554143094,1.3558050626920037,0.6162750284963652,1.0784812998686393,-0.770343785620457,-0.1232550056992733,0.06162750284963633,-0.1232550056992733,0.70871628277082,0.70871628277082],\"xaxis\":\"x\",\"y\":[-1.1141357172977029,-1.0172543505761635,-0.19376273344307876,-0.7023899087311605,-1.1625764006584725,-1.1383560589780877,-0.6297288836900059,-0.5812882003292362,-0.14532205008230906,1.2594577673800118,0.3875254668861575,0.8719323004938544,1.7923052843484784,0.8234916171330847,1.55010186754463],\"yaxis\":\"y\",\"type\":\"scatter\"}],                        {\"template\":{\"data\":{\"histogram2dcontour\":[{\"type\":\"histogram2dcontour\",\"colorbar\":{\"outlinewidth\":0,\"ticks\":\"\"},\"colorscale\":[[0.0,\"#0d0887\"],[0.1111111111111111,\"#46039f\"],[0.2222222222222222,\"#7201a8\"],[0.3333333333333333,\"#9c179e\"],[0.4444444444444444,\"#bd3786\"],[0.5555555555555556,\"#d8576b\"],[0.6666666666666666,\"#ed7953\"],[0.7777777777777778,\"#fb9f3a\"],[0.8888888888888888,\"#fdca26\"],[1.0,\"#f0f921\"]]}],\"choropleth\":[{\"type\":\"choropleth\",\"colorbar\":{\"outlinewidth\":0,\"ticks\":\"\"}}],\"histogram2d\":[{\"type\":\"histogram2d\",\"colorbar\":{\"outlinewidth\":0,\"ticks\":\"\"},\"colorscale\":[[0.0,\"#0d0887\"],[0.1111111111111111,\"#46039f\"],[0.2222222222222222,\"#7201a8\"],[0.3333333333333333,\"#9c179e\"],[0.4444444444444444,\"#bd3786\"],[0.5555555555555556,\"#d8576b\"],[0.6666666666666666,\"#ed7953\"],[0.7777777777777778,\"#fb9f3a\"],[0.8888888888888888,\"#fdca26\"],[1.0,\"#f0f921\"]]}],\"heatmap\":[{\"type\":\"heatmap\",\"colorbar\":{\"outlinewidth\":0,\"ticks\":\"\"},\"colorscale\":[[0.0,\"#0d0887\"],[0.1111111111111111,\"#46039f\"],[0.2222222222222222,\"#7201a8\"],[0.3333333333333333,\"#9c179e\"],[0.4444444444444444,\"#bd3786\"],[0.5555555555555556,\"#d8576b\"],[0.6666666666666666,\"#ed7953\"],[0.7777777777777778,\"#fb9f3a\"],[0.8888888888888888,\"#fdca26\"],[1.0,\"#f0f921\"]]}],\"heatmapgl\":[{\"type\":\"heatmapgl\",\"colorbar\":{\"outlinewidth\":0,\"ticks\":\"\"},\"colorscale\":[[0.0,\"#0d0887\"],[0.1111111111111111,\"#46039f\"],[0.2222222222222222,\"#7201a8\"],[0.3333333333333333,\"#9c179e\"],[0.4444444444444444,\"#bd3786\"],[0.5555555555555556,\"#d8576b\"],[0.6666666666666666,\"#ed7953\"],[0.7777777777777778,\"#fb9f3a\"],[0.8888888888888888,\"#fdca26\"],[1.0,\"#f0f921\"]]}],\"contourcarpet\":[{\"type\":\"contourcarpet\",\"colorbar\":{\"outlinewidth\":0,\"ticks\":\"\"}}],\"contour\":[{\"type\":\"contour\",\"colorbar\":{\"outlinewidth\":0,\"ticks\":\"\"},\"colorscale\":[[0.0,\"#0d0887\"],[0.1111111111111111,\"#46039f\"],[0.2222222222222222,\"#7201a8\"],[0.3333333333333333,\"#9c179e\"],[0.4444444444444444,\"#bd3786\"],[0.5555555555555556,\"#d8576b\"],[0.6666666666666666,\"#ed7953\"],[0.7777777777777778,\"#fb9f3a\"],[0.8888888888888888,\"#fdca26\"],[1.0,\"#f0f921\"]]}],\"surface\":[{\"type\":\"surface\",\"colorbar\":{\"outlinewidth\":0,\"ticks\":\"\"},\"colorscale\":[[0.0,\"#0d0887\"],[0.1111111111111111,\"#46039f\"],[0.2222222222222222,\"#7201a8\"],[0.3333333333333333,\"#9c179e\"],[0.4444444444444444,\"#bd3786\"],[0.5555555555555556,\"#d8576b\"],[0.6666666666666666,\"#ed7953\"],[0.7777777777777778,\"#fb9f3a\"],[0.8888888888888888,\"#fdca26\"],[1.0,\"#f0f921\"]]}],\"mesh3d\":[{\"type\":\"mesh3d\",\"colorbar\":{\"outlinewidth\":0,\"ticks\":\"\"}}],\"scatter\":[{\"fillpattern\":{\"fillmode\":\"overlay\",\"size\":10,\"solidity\":0.2},\"type\":\"scatter\"}],\"parcoords\":[{\"type\":\"parcoords\",\"line\":{\"colorbar\":{\"outlinewidth\":0,\"ticks\":\"\"}}}],\"scatterpolargl\":[{\"type\":\"scatterpolargl\",\"marker\":{\"colorbar\":{\"outlinewidth\":0,\"ticks\":\"\"}}}],\"bar\":[{\"error_x\":{\"color\":\"#2a3f5f\"},\"error_y\":{\"color\":\"#2a3f5f\"},\"marker\":{\"line\":{\"color\":\"#E5ECF6\",\"width\":0.5},\"pattern\":{\"fillmode\":\"overlay\",\"size\":10,\"solidity\":0.2}},\"type\":\"bar\"}],\"scattergeo\":[{\"type\":\"scattergeo\",\"marker\":{\"colorbar\":{\"outlinewidth\":0,\"ticks\":\"\"}}}],\"scatterpolar\":[{\"type\":\"scatterpolar\",\"marker\":{\"colorbar\":{\"outlinewidth\":0,\"ticks\":\"\"}}}],\"histogram\":[{\"marker\":{\"pattern\":{\"fillmode\":\"overlay\",\"size\":10,\"solidity\":0.2}},\"type\":\"histogram\"}],\"scattergl\":[{\"type\":\"scattergl\",\"marker\":{\"colorbar\":{\"outlinewidth\":0,\"ticks\":\"\"}}}],\"scatter3d\":[{\"type\":\"scatter3d\",\"line\":{\"colorbar\":{\"outlinewidth\":0,\"ticks\":\"\"}},\"marker\":{\"colorbar\":{\"outlinewidth\":0,\"ticks\":\"\"}}}],\"scattermapbox\":[{\"type\":\"scattermapbox\",\"marker\":{\"colorbar\":{\"outlinewidth\":0,\"ticks\":\"\"}}}],\"scatterternary\":[{\"type\":\"scatterternary\",\"marker\":{\"colorbar\":{\"outlinewidth\":0,\"ticks\":\"\"}}}],\"scattercarpet\":[{\"type\":\"scattercarpet\",\"marker\":{\"colorbar\":{\"outlinewidth\":0,\"ticks\":\"\"}}}],\"carpet\":[{\"aaxis\":{\"endlinecolor\":\"#2a3f5f\",\"gridcolor\":\"white\",\"linecolor\":\"white\",\"minorgridcolor\":\"white\",\"startlinecolor\":\"#2a3f5f\"},\"baxis\":{\"endlinecolor\":\"#2a3f5f\",\"gridcolor\":\"white\",\"linecolor\":\"white\",\"minorgridcolor\":\"white\",\"startlinecolor\":\"#2a3f5f\"},\"type\":\"carpet\"}],\"table\":[{\"cells\":{\"fill\":{\"color\":\"#EBF0F8\"},\"line\":{\"color\":\"white\"}},\"header\":{\"fill\":{\"color\":\"#C8D4E3\"},\"line\":{\"color\":\"white\"}},\"type\":\"table\"}],\"barpolar\":[{\"marker\":{\"line\":{\"color\":\"#E5ECF6\",\"width\":0.5},\"pattern\":{\"fillmode\":\"overlay\",\"size\":10,\"solidity\":0.2}},\"type\":\"barpolar\"}],\"pie\":[{\"automargin\":true,\"type\":\"pie\"}]},\"layout\":{\"autotypenumbers\":\"strict\",\"colorway\":[\"#636efa\",\"#EF553B\",\"#00cc96\",\"#ab63fa\",\"#FFA15A\",\"#19d3f3\",\"#FF6692\",\"#B6E880\",\"#FF97FF\",\"#FECB52\"],\"font\":{\"color\":\"#2a3f5f\"},\"hovermode\":\"closest\",\"hoverlabel\":{\"align\":\"left\"},\"paper_bgcolor\":\"white\",\"plot_bgcolor\":\"#E5ECF6\",\"polar\":{\"bgcolor\":\"#E5ECF6\",\"angularaxis\":{\"gridcolor\":\"white\",\"linecolor\":\"white\",\"ticks\":\"\"},\"radialaxis\":{\"gridcolor\":\"white\",\"linecolor\":\"white\",\"ticks\":\"\"}},\"ternary\":{\"bgcolor\":\"#E5ECF6\",\"aaxis\":{\"gridcolor\":\"white\",\"linecolor\":\"white\",\"ticks\":\"\"},\"baxis\":{\"gridcolor\":\"white\",\"linecolor\":\"white\",\"ticks\":\"\"},\"caxis\":{\"gridcolor\":\"white\",\"linecolor\":\"white\",\"ticks\":\"\"}},\"coloraxis\":{\"colorbar\":{\"outlinewidth\":0,\"ticks\":\"\"}},\"colorscale\":{\"sequential\":[[0.0,\"#0d0887\"],[0.1111111111111111,\"#46039f\"],[0.2222222222222222,\"#7201a8\"],[0.3333333333333333,\"#9c179e\"],[0.4444444444444444,\"#bd3786\"],[0.5555555555555556,\"#d8576b\"],[0.6666666666666666,\"#ed7953\"],[0.7777777777777778,\"#fb9f3a\"],[0.8888888888888888,\"#fdca26\"],[1.0,\"#f0f921\"]],\"sequentialminus\":[[0.0,\"#0d0887\"],[0.1111111111111111,\"#46039f\"],[0.2222222222222222,\"#7201a8\"],[0.3333333333333333,\"#9c179e\"],[0.4444444444444444,\"#bd3786\"],[0.5555555555555556,\"#d8576b\"],[0.6666666666666666,\"#ed7953\"],[0.7777777777777778,\"#fb9f3a\"],[0.8888888888888888,\"#fdca26\"],[1.0,\"#f0f921\"]],\"diverging\":[[0,\"#8e0152\"],[0.1,\"#c51b7d\"],[0.2,\"#de77ae\"],[0.3,\"#f1b6da\"],[0.4,\"#fde0ef\"],[0.5,\"#f7f7f7\"],[0.6,\"#e6f5d0\"],[0.7,\"#b8e186\"],[0.8,\"#7fbc41\"],[0.9,\"#4d9221\"],[1,\"#276419\"]]},\"xaxis\":{\"gridcolor\":\"white\",\"linecolor\":\"white\",\"ticks\":\"\",\"title\":{\"standoff\":15},\"zerolinecolor\":\"white\",\"automargin\":true,\"zerolinewidth\":2},\"yaxis\":{\"gridcolor\":\"white\",\"linecolor\":\"white\",\"ticks\":\"\",\"title\":{\"standoff\":15},\"zerolinecolor\":\"white\",\"automargin\":true,\"zerolinewidth\":2},\"scene\":{\"xaxis\":{\"backgroundcolor\":\"#E5ECF6\",\"gridcolor\":\"white\",\"linecolor\":\"white\",\"showbackground\":true,\"ticks\":\"\",\"zerolinecolor\":\"white\",\"gridwidth\":2},\"yaxis\":{\"backgroundcolor\":\"#E5ECF6\",\"gridcolor\":\"white\",\"linecolor\":\"white\",\"showbackground\":true,\"ticks\":\"\",\"zerolinecolor\":\"white\",\"gridwidth\":2},\"zaxis\":{\"backgroundcolor\":\"#E5ECF6\",\"gridcolor\":\"white\",\"linecolor\":\"white\",\"showbackground\":true,\"ticks\":\"\",\"zerolinecolor\":\"white\",\"gridwidth\":2}},\"shapedefaults\":{\"line\":{\"color\":\"#2a3f5f\"}},\"annotationdefaults\":{\"arrowcolor\":\"#2a3f5f\",\"arrowhead\":0,\"arrowwidth\":1},\"geo\":{\"bgcolor\":\"white\",\"landcolor\":\"#E5ECF6\",\"subunitcolor\":\"white\",\"showland\":true,\"showlakes\":true,\"lakecolor\":\"white\"},\"title\":{\"x\":0.05},\"mapbox\":{\"style\":\"light\"}}},\"xaxis\":{\"anchor\":\"y\",\"domain\":[0.0,1.0],\"title\":{\"text\":\"x\"}},\"yaxis\":{\"anchor\":\"x\",\"domain\":[0.0,1.0],\"title\":{\"text\":\"y\"}},\"legend\":{\"tracegroupgap\":0},\"margin\":{\"t\":60}},                        {\"responsive\": true}                    ).then(function(){\n",
              "                            \n",
              "var gd = document.getElementById('208305dc-7cdf-48f1-9add-9016a5d4485a');\n",
              "var x = new MutationObserver(function (mutations, observer) {{\n",
              "        var display = window.getComputedStyle(gd).display;\n",
              "        if (!display || display === 'none') {{\n",
              "            console.log([gd, 'removed!']);\n",
              "            Plotly.purge(gd);\n",
              "            observer.disconnect();\n",
              "        }}\n",
              "}});\n",
              "\n",
              "// Listen for the removal of the full notebook cells\n",
              "var notebookContainer = gd.closest('#notebook-container');\n",
              "if (notebookContainer) {{\n",
              "    x.observe(notebookContainer, {childList: true});\n",
              "}}\n",
              "\n",
              "// Listen for the clearing of the current output cell\n",
              "var outputEl = gd.closest('.output');\n",
              "if (outputEl) {{\n",
              "    x.observe(outputEl, {childList: true});\n",
              "}}\n",
              "\n",
              "                        })                };                            </script>        </div>\n",
              "</body>\n",
              "</html>"
            ]
          },
          "metadata": {}
        }
      ]
    },
    {
      "cell_type": "code",
      "source": [
        " import matplotlib.pyplot as plt\n",
        " from scipy.cluster.hierarchy import dendrogram, linkage"
      ],
      "metadata": {
        "id": "6H-ljUUMnftb"
      },
      "execution_count": 45,
      "outputs": []
    },
    {
      "cell_type": "code",
      "source": [
        "dendrograma = dendrogram(linkage(base_salario, method='ward'))\n",
        "plt.title('Dendrograma')\n",
        "plt.xlabel('Pessoas')\n",
        "plt.ylabel('Distancia');"
      ],
      "metadata": {
        "colab": {
          "base_uri": "https://localhost:8080/",
          "height": 476
        },
        "id": "f9zsJzdXn0b-",
        "outputId": "76bdc988-f9e3-4d9c-a44b-e1f3e02afaa5"
      },
      "execution_count": 49,
      "outputs": [
        {
          "output_type": "display_data",
          "data": {
            "text/plain": [
              "<Figure size 640x480 with 1 Axes>"
            ],
            "image/png": "[encoded data removed]"
          },
          "metadata": {}
        }
      ]
    },
    {
      "cell_type": "code",
      "source": [
        "from sklearn.cluster import AgglomerativeClustering"
      ],
      "metadata": {
        "id": "AvaPQYFiocR3"
      },
      "execution_count": 50,
      "outputs": []
    },
    {
      "cell_type": "code",
      "source": [
        "hc_salario = AgglomerativeClustering(n_clusters=3, linkage='ward', affinity='euclidean')\n",
        "rotulos = hc_salario.fit_predict(base_salario)"
      ],
      "metadata": {
        "colab": {
          "base_uri": "https://localhost:8080/",
          "height": 0
        },
        "id": "mWcANwUBovu2",
        "outputId": "81be3c8c-eab8-4b40-bdc7-c89c077d70d2"
      },
      "execution_count": 54,
      "outputs": [
        {
          "output_type": "stream",
          "name": "stderr",
          "text": [
            "/usr/local/lib/python3.10/dist-packages/sklearn/cluster/_agglomerative.py:983: FutureWarning:\n",
            "\n",
            "Attribute `affinity` was deprecated in version 1.2 and will be removed in 1.4. Use `metric` instead\n",
            "\n"
          ]
        }
      ]
    },
    {
      "cell_type": "code",
      "source": [
        "rotulos\n"
      ],
      "metadata": {
        "colab": {
          "base_uri": "https://localhost:8080/",
          "height": 0
        },
        "id": "_Y643c05pKJC",
        "outputId": "9beb7074-1a79-47ec-c77c-71ed022f3eea"
      },
      "execution_count": 55,
      "outputs": [
        {
          "output_type": "execute_result",
          "data": {
            "text/plain": [
              "array([2, 2, 2, 1, 1, 1, 1, 1, 1, 0, 0, 0, 0, 0, 0])"
            ]
          },
          "metadata": {},
          "execution_count": 55
        }
      ]
    },
    {
      "cell_type": "code",
      "source": [
        "grafico = px.scatter(x = base_salario[:,0], y = base_salario[:,1], color = rotulos)\n",
        "grafico.show()"
      ],
      "metadata": {
        "colab": {
          "base_uri": "https://localhost:8080/",
          "height": 542
        },
        "id": "HRzvQaL7pLds",
        "outputId": "ac150ee7-b6e9-45e0-b1b5-ad79fbd6ab57"
      },
      "execution_count": 56,
      "outputs": [
        {
          "output_type": "display_data",
          "data": {
            "text/html": [
              "<html>\n",
              "<head><meta charset=\"utf-8\" /></head>\n",
              "<body>\n",
              "    <div>            <script src=\"https://cdnjs.cloudflare.com/ajax/libs/mathjax/2.7.5/MathJax.js?config=TeX-AMS-MML_SVG\"></script><script type=\"text/javascript\">if (window.MathJax && window.MathJax.Hub && window.MathJax.Hub.Config) {window.MathJax.Hub.Config({SVG: {font: \"STIX-Web\"}});}</script>                <script type=\"text/javascript\">window.PlotlyConfig = {MathJaxConfig: 'local'};</script>\n",
              "        <script charset=\"utf-8\" src=\"https://cdn.plot.ly/plotly-2.29.1.min.js\"></script>                <div id=\"c33c7628-c82f-4bfd-b623-4d57c3db62e7\" class=\"plotly-graph-div\" style=\"height:525px; width:100%;\"></div>            <script type=\"text/javascript\">                                    window.PLOTLYENV=window.PLOTLYENV || {};                                    if (document.getElementById(\"c33c7628-c82f-4bfd-b623-4d57c3db62e7\")) {                    Plotly.newPlot(                        \"c33c7628-c82f-4bfd-b623-4d57c3db62e7\",                        [{\"hovertemplate\":\"x=%{x}\\u003cbr\\u003ey=%{y}\\u003cbr\\u003ecolor=%{marker.color}\\u003cextra\\u003e\\u003c\\u002fextra\\u003e\",\"legendgroup\":\"\",\"marker\":{\"color\":[2,2,2,1,1,1,1,1,1,0,0,0,0,0,0],\"coloraxis\":\"coloraxis\",\"symbol\":\"circle\"},\"mode\":\"markers\",\"name\":\"\",\"orientation\":\"v\",\"showlegend\":false,\"x\":[-1.8796388369139148,-1.232550056992731,-1.78719758263946,-0.3081375142481829,0.5238337742219104,1.170922554143094,1.3558050626920037,0.6162750284963652,1.0784812998686393,-0.770343785620457,-0.1232550056992733,0.06162750284963633,-0.1232550056992733,0.70871628277082,0.70871628277082],\"xaxis\":\"x\",\"y\":[-1.1141357172977029,-1.0172543505761635,-0.19376273344307876,-0.7023899087311605,-1.1625764006584725,-1.1383560589780877,-0.6297288836900059,-0.5812882003292362,-0.14532205008230906,1.2594577673800118,0.3875254668861575,0.8719323004938544,1.7923052843484784,0.8234916171330847,1.55010186754463],\"yaxis\":\"y\",\"type\":\"scatter\"}],                        {\"template\":{\"data\":{\"histogram2dcontour\":[{\"type\":\"histogram2dcontour\",\"colorbar\":{\"outlinewidth\":0,\"ticks\":\"\"},\"colorscale\":[[0.0,\"#0d0887\"],[0.1111111111111111,\"#46039f\"],[0.2222222222222222,\"#7201a8\"],[0.3333333333333333,\"#9c179e\"],[0.4444444444444444,\"#bd3786\"],[0.5555555555555556,\"#d8576b\"],[0.6666666666666666,\"#ed7953\"],[0.7777777777777778,\"#fb9f3a\"],[0.8888888888888888,\"#fdca26\"],[1.0,\"#f0f921\"]]}],\"choropleth\":[{\"type\":\"choropleth\",\"colorbar\":{\"outlinewidth\":0,\"ticks\":\"\"}}],\"histogram2d\":[{\"type\":\"histogram2d\",\"colorbar\":{\"outlinewidth\":0,\"ticks\":\"\"},\"colorscale\":[[0.0,\"#0d0887\"],[0.1111111111111111,\"#46039f\"],[0.2222222222222222,\"#7201a8\"],[0.3333333333333333,\"#9c179e\"],[0.4444444444444444,\"#bd3786\"],[0.5555555555555556,\"#d8576b\"],[0.6666666666666666,\"#ed7953\"],[0.7777777777777778,\"#fb9f3a\"],[0.8888888888888888,\"#fdca26\"],[1.0,\"#f0f921\"]]}],\"heatmap\":[{\"type\":\"heatmap\",\"colorbar\":{\"outlinewidth\":0,\"ticks\":\"\"},\"colorscale\":[[0.0,\"#0d0887\"],[0.1111111111111111,\"#46039f\"],[0.2222222222222222,\"#7201a8\"],[0.3333333333333333,\"#9c179e\"],[0.4444444444444444,\"#bd3786\"],[0.5555555555555556,\"#d8576b\"],[0.6666666666666666,\"#ed7953\"],[0.7777777777777778,\"#fb9f3a\"],[0.8888888888888888,\"#fdca26\"],[1.0,\"#f0f921\"]]}],\"heatmapgl\":[{\"type\":\"heatmapgl\",\"colorbar\":{\"outlinewidth\":0,\"ticks\":\"\"},\"colorscale\":[[0.0,\"#0d0887\"],[0.1111111111111111,\"#46039f\"],[0.2222222222222222,\"#7201a8\"],[0.3333333333333333,\"#9c179e\"],[0.4444444444444444,\"#bd3786\"],[0.5555555555555556,\"#d8576b\"],[0.6666666666666666,\"#ed7953\"],[0.7777777777777778,\"#fb9f3a\"],[0.8888888888888888,\"#fdca26\"],[1.0,\"#f0f921\"]]}],\"contourcarpet\":[{\"type\":\"contourcarpet\",\"colorbar\":{\"outlinewidth\":0,\"ticks\":\"\"}}],\"contour\":[{\"type\":\"contour\",\"colorbar\":{\"outlinewidth\":0,\"ticks\":\"\"},\"colorscale\":[[0.0,\"#0d0887\"],[0.1111111111111111,\"#46039f\"],[0.2222222222222222,\"#7201a8\"],[0.3333333333333333,\"#9c179e\"],[0.4444444444444444,\"#bd3786\"],[0.5555555555555556,\"#d8576b\"],[0.6666666666666666,\"#ed7953\"],[0.7777777777777778,\"#fb9f3a\"],[0.8888888888888888,\"#fdca26\"],[1.0,\"#f0f921\"]]}],\"surface\":[{\"type\":\"surface\",\"colorbar\":{\"outlinewidth\":0,\"ticks\":\"\"},\"colorscale\":[[0.0,\"#0d0887\"],[0.1111111111111111,\"#46039f\"],[0.2222222222222222,\"#7201a8\"],[0.3333333333333333,\"#9c179e\"],[0.4444444444444444,\"#bd3786\"],[0.5555555555555556,\"#d8576b\"],[0.6666666666666666,\"#ed7953\"],[0.7777777777777778,\"#fb9f3a\"],[0.8888888888888888,\"#fdca26\"],[1.0,\"#f0f921\"]]}],\"mesh3d\":[{\"type\":\"mesh3d\",\"colorbar\":{\"outlinewidth\":0,\"ticks\":\"\"}}],\"scatter\":[{\"fillpattern\":{\"fillmode\":\"overlay\",\"size\":10,\"solidity\":0.2},\"type\":\"scatter\"}],\"parcoords\":[{\"type\":\"parcoords\",\"line\":{\"colorbar\":{\"outlinewidth\":0,\"ticks\":\"\"}}}],\"scatterpolargl\":[{\"type\":\"scatterpolargl\",\"marker\":{\"colorbar\":{\"outlinewidth\":0,\"ticks\":\"\"}}}],\"bar\":[{\"error_x\":{\"color\":\"#2a3f5f\"},\"error_y\":{\"color\":\"#2a3f5f\"},\"marker\":{\"line\":{\"color\":\"#E5ECF6\",\"width\":0.5},\"pattern\":{\"fillmode\":\"overlay\",\"size\":10,\"solidity\":0.2}},\"type\":\"bar\"}],\"scattergeo\":[{\"type\":\"scattergeo\",\"marker\":{\"colorbar\":{\"outlinewidth\":0,\"ticks\":\"\"}}}],\"scatterpolar\":[{\"type\":\"scatterpolar\",\"marker\":{\"colorbar\":{\"outlinewidth\":0,\"ticks\":\"\"}}}],\"histogram\":[{\"marker\":{\"pattern\":{\"fillmode\":\"overlay\",\"size\":10,\"solidity\":0.2}},\"type\":\"histogram\"}],\"scattergl\":[{\"type\":\"scattergl\",\"marker\":{\"colorbar\":{\"outlinewidth\":0,\"ticks\":\"\"}}}],\"scatter3d\":[{\"type\":\"scatter3d\",\"line\":{\"colorbar\":{\"outlinewidth\":0,\"ticks\":\"\"}},\"marker\":{\"colorbar\":{\"outlinewidth\":0,\"ticks\":\"\"}}}],\"scattermapbox\":[{\"type\":\"scattermapbox\",\"marker\":{\"colorbar\":{\"outlinewidth\":0,\"ticks\":\"\"}}}],\"scatterternary\":[{\"type\":\"scatterternary\",\"marker\":{\"colorbar\":{\"outlinewidth\":0,\"ticks\":\"\"}}}],\"scattercarpet\":[{\"type\":\"scattercarpet\",\"marker\":{\"colorbar\":{\"outlinewidth\":0,\"ticks\":\"\"}}}],\"carpet\":[{\"aaxis\":{\"endlinecolor\":\"#2a3f5f\",\"gridcolor\":\"white\",\"linecolor\":\"white\",\"minorgridcolor\":\"white\",\"startlinecolor\":\"#2a3f5f\"},\"baxis\":{\"endlinecolor\":\"#2a3f5f\",\"gridcolor\":\"white\",\"linecolor\":\"white\",\"minorgridcolor\":\"white\",\"startlinecolor\":\"#2a3f5f\"},\"type\":\"carpet\"}],\"table\":[{\"cells\":{\"fill\":{\"color\":\"#EBF0F8\"},\"line\":{\"color\":\"white\"}},\"header\":{\"fill\":{\"color\":\"#C8D4E3\"},\"line\":{\"color\":\"white\"}},\"type\":\"table\"}],\"barpolar\":[{\"marker\":{\"line\":{\"color\":\"#E5ECF6\",\"width\":0.5},\"pattern\":{\"fillmode\":\"overlay\",\"size\":10,\"solidity\":0.2}},\"type\":\"barpolar\"}],\"pie\":[{\"automargin\":true,\"type\":\"pie\"}]},\"layout\":{\"autotypenumbers\":\"strict\",\"colorway\":[\"#636efa\",\"#EF553B\",\"#00cc96\",\"#ab63fa\",\"#FFA15A\",\"#19d3f3\",\"#FF6692\",\"#B6E880\",\"#FF97FF\",\"#FECB52\"],\"font\":{\"color\":\"#2a3f5f\"},\"hovermode\":\"closest\",\"hoverlabel\":{\"align\":\"left\"},\"paper_bgcolor\":\"white\",\"plot_bgcolor\":\"#E5ECF6\",\"polar\":{\"bgcolor\":\"#E5ECF6\",\"angularaxis\":{\"gridcolor\":\"white\",\"linecolor\":\"white\",\"ticks\":\"\"},\"radialaxis\":{\"gridcolor\":\"white\",\"linecolor\":\"white\",\"ticks\":\"\"}},\"ternary\":{\"bgcolor\":\"#E5ECF6\",\"aaxis\":{\"gridcolor\":\"white\",\"linecolor\":\"white\",\"ticks\":\"\"},\"baxis\":{\"gridcolor\":\"white\",\"linecolor\":\"white\",\"ticks\":\"\"},\"caxis\":{\"gridcolor\":\"white\",\"linecolor\":\"white\",\"ticks\":\"\"}},\"coloraxis\":{\"colorbar\":{\"outlinewidth\":0,\"ticks\":\"\"}},\"colorscale\":{\"sequential\":[[0.0,\"#0d0887\"],[0.1111111111111111,\"#46039f\"],[0.2222222222222222,\"#7201a8\"],[0.3333333333333333,\"#9c179e\"],[0.4444444444444444,\"#bd3786\"],[0.5555555555555556,\"#d8576b\"],[0.6666666666666666,\"#ed7953\"],[0.7777777777777778,\"#fb9f3a\"],[0.8888888888888888,\"#fdca26\"],[1.0,\"#f0f921\"]],\"sequentialminus\":[[0.0,\"#0d0887\"],[0.1111111111111111,\"#46039f\"],[0.2222222222222222,\"#7201a8\"],[0.3333333333333333,\"#9c179e\"],[0.4444444444444444,\"#bd3786\"],[0.5555555555555556,\"#d8576b\"],[0.6666666666666666,\"#ed7953\"],[0.7777777777777778,\"#fb9f3a\"],[0.8888888888888888,\"#fdca26\"],[1.0,\"#f0f921\"]],\"diverging\":[[0,\"#8e0152\"],[0.1,\"#c51b7d\"],[0.2,\"#de77ae\"],[0.3,\"#f1b6da\"],[0.4,\"#fde0ef\"],[0.5,\"#f7f7f7\"],[0.6,\"#e6f5d0\"],[0.7,\"#b8e186\"],[0.8,\"#7fbc41\"],[0.9,\"#4d9221\"],[1,\"#276419\"]]},\"xaxis\":{\"gridcolor\":\"white\",\"linecolor\":\"white\",\"ticks\":\"\",\"title\":{\"standoff\":15},\"zerolinecolor\":\"white\",\"automargin\":true,\"zerolinewidth\":2},\"yaxis\":{\"gridcolor\":\"white\",\"linecolor\":\"white\",\"ticks\":\"\",\"title\":{\"standoff\":15},\"zerolinecolor\":\"white\",\"automargin\":true,\"zerolinewidth\":2},\"scene\":{\"xaxis\":{\"backgroundcolor\":\"#E5ECF6\",\"gridcolor\":\"white\",\"linecolor\":\"white\",\"showbackground\":true,\"ticks\":\"\",\"zerolinecolor\":\"white\",\"gridwidth\":2},\"yaxis\":{\"backgroundcolor\":\"#E5ECF6\",\"gridcolor\":\"white\",\"linecolor\":\"white\",\"showbackground\":true,\"ticks\":\"\",\"zerolinecolor\":\"white\",\"gridwidth\":2},\"zaxis\":{\"backgroundcolor\":\"#E5ECF6\",\"gridcolor\":\"white\",\"linecolor\":\"white\",\"showbackground\":true,\"ticks\":\"\",\"zerolinecolor\":\"white\",\"gridwidth\":2}},\"shapedefaults\":{\"line\":{\"color\":\"#2a3f5f\"}},\"annotationdefaults\":{\"arrowcolor\":\"#2a3f5f\",\"arrowhead\":0,\"arrowwidth\":1},\"geo\":{\"bgcolor\":\"white\",\"landcolor\":\"#E5ECF6\",\"subunitcolor\":\"white\",\"showland\":true,\"showlakes\":true,\"lakecolor\":\"white\"},\"title\":{\"x\":0.05},\"mapbox\":{\"style\":\"light\"}}},\"xaxis\":{\"anchor\":\"y\",\"domain\":[0.0,1.0],\"title\":{\"text\":\"x\"}},\"yaxis\":{\"anchor\":\"x\",\"domain\":[0.0,1.0],\"title\":{\"text\":\"y\"}},\"coloraxis\":{\"colorbar\":{\"title\":{\"text\":\"color\"}},\"colorscale\":[[0.0,\"#0d0887\"],[0.1111111111111111,\"#46039f\"],[0.2222222222222222,\"#7201a8\"],[0.3333333333333333,\"#9c179e\"],[0.4444444444444444,\"#bd3786\"],[0.5555555555555556,\"#d8576b\"],[0.6666666666666666,\"#ed7953\"],[0.7777777777777778,\"#fb9f3a\"],[0.8888888888888888,\"#fdca26\"],[1.0,\"#f0f921\"]]},\"legend\":{\"tracegroupgap\":0},\"margin\":{\"t\":60}},                        {\"responsive\": true}                    ).then(function(){\n",
              "                            \n",
              "var gd = document.getElementById('c33c7628-c82f-4bfd-b623-4d57c3db62e7');\n",
              "var x = new MutationObserver(function (mutations, observer) {{\n",
              "        var display = window.getComputedStyle(gd).display;\n",
              "        if (!display || display === 'none') {{\n",
              "            console.log([gd, 'removed!']);\n",
              "            Plotly.purge(gd);\n",
              "            observer.disconnect();\n",
              "        }}\n",
              "}});\n",
              "\n",
              "// Listen for the removal of the full notebook cells\n",
              "var notebookContainer = gd.closest('#notebook-container');\n",
              "if (notebookContainer) {{\n",
              "    x.observe(notebookContainer, {childList: true});\n",
              "}}\n",
              "\n",
              "// Listen for the clearing of the current output cell\n",
              "var outputEl = gd.closest('.output');\n",
              "if (outputEl) {{\n",
              "    x.observe(outputEl, {childList: true});\n",
              "}}\n",
              "\n",
              "                        })                };                            </script>        </div>\n",
              "</body>\n",
              "</html>"
            ]
          },
          "metadata": {}
        }
      ]
    },
    {
      "cell_type": "markdown",
      "source": [
        "##DBSCAN"
      ],
      "metadata": {
        "id": "XUWqs9nxrFyK"
      }
    },
    {
      "cell_type": "code",
      "source": [
        "base_salario"
      ],
      "metadata": {
        "id": "BO3ar2nprG4_",
        "outputId": "4cc02ea7-68ec-4c41-954d-e197f2645894",
        "colab": {
          "base_uri": "https://localhost:8080/",
          "height": 0
        }
      },
      "execution_count": 62,
      "outputs": [
        {
          "output_type": "execute_result",
          "data": {
            "text/plain": [
              "array([[-1.87963884, -1.11413572],\n",
              "       [-1.23255006, -1.01725435],\n",
              "       [-1.78719758, -0.19376273],\n",
              "       [-0.30813751, -0.70238991],\n",
              "       [ 0.52383377, -1.1625764 ],\n",
              "       [ 1.17092255, -1.13835606],\n",
              "       [ 1.35580506, -0.62972888],\n",
              "       [ 0.61627503, -0.5812882 ],\n",
              "       [ 1.0784813 , -0.14532205],\n",
              "       [-0.77034379,  1.25945777],\n",
              "       [-0.12325501,  0.38752547],\n",
              "       [ 0.0616275 ,  0.8719323 ],\n",
              "       [-0.12325501,  1.79230528],\n",
              "       [ 0.70871628,  0.82349162],\n",
              "       [ 0.70871628,  1.55010187]])"
            ]
          },
          "metadata": {},
          "execution_count": 62
        }
      ]
    },
    {
      "cell_type": "code",
      "source": [
        "from sklearn.cluster import DBSCAN"
      ],
      "metadata": {
        "id": "KtaYSqA9rH7c"
      },
      "execution_count": 63,
      "outputs": []
    },
    {
      "cell_type": "code",
      "source": [
        "dbscan_salario = DBSCAN(eps = 0.95, min_samples=2)\n",
        "dbscan_salario.fit(base_salario)"
      ],
      "metadata": {
        "id": "Nw_9uwe-rbOM",
        "outputId": "b2a8891a-d9d9-4428-bdf5-8a364d6944c6",
        "colab": {
          "base_uri": "https://localhost:8080/",
          "height": 75
        }
      },
      "execution_count": 67,
      "outputs": [
        {
          "output_type": "execute_result",
          "data": {
            "text/plain": [
              "DBSCAN(eps=0.95, min_samples=2)"
            ],
            "text/html": [
              "<style>#sk-container-id-4 {color: black;background-color: white;}#sk-container-id-4 pre{padding: 0;}#sk-container-id-4 div.sk-toggleable {background-color: white;}#sk-container-id-4 label.sk-toggleable__label {cursor: pointer;display: block;width: 100%;margin-bottom: 0;padding: 0.3em;box-sizing: border-box;text-align: center;}#sk-container-id-4 label.sk-toggleable__label-arrow:before {content: \"▸\";float: left;margin-right: 0.25em;color: #696969;}#sk-container-id-4 label.sk-toggleable__label-arrow:hover:before {color: black;}#sk-container-id-4 div.sk-estimator:hover label.sk-toggleable__label-arrow:before {color: black;}#sk-container-id-4 div.sk-toggleable__content {max-height: 0;max-width: 0;overflow: hidden;text-align: left;background-color: #f0f8ff;}#sk-container-id-4 div.sk-toggleable__content pre {margin: 0.2em;color: black;border-radius: 0.25em;background-color: #f0f8ff;}#sk-container-id-4 input.sk-toggleable__control:checked~div.sk-toggleable__content {max-height: 200px;max-width: 100%;overflow: auto;}#sk-container-id-4 input.sk-toggleable__control:checked~label.sk-toggleable__label-arrow:before {content: \"▾\";}#sk-container-id-4 div.sk-estimator input.sk-toggleable__control:checked~label.sk-toggleable__label {background-color: #d4ebff;}#sk-container-id-4 div.sk-label input.sk-toggleable__control:checked~label.sk-toggleable__label {background-color: #d4ebff;}#sk-container-id-4 input.sk-hidden--visually {border: 0;clip: rect(1px 1px 1px 1px);clip: rect(1px, 1px, 1px, 1px);height: 1px;margin: -1px;overflow: hidden;padding: 0;position: absolute;width: 1px;}#sk-container-id-4 div.sk-estimator {font-family: monospace;background-color: #f0f8ff;border: 1px dotted black;border-radius: 0.25em;box-sizing: border-box;margin-bottom: 0.5em;}#sk-container-id-4 div.sk-estimator:hover {background-color: #d4ebff;}#sk-container-id-4 div.sk-parallel-item::after {content: \"\";width: 100%;border-bottom: 1px solid gray;flex-grow: 1;}#sk-container-id-4 div.sk-label:hover label.sk-toggleable__label {background-color: #d4ebff;}#sk-container-id-4 div.sk-serial::before {content: \"\";position: absolute;border-left: 1px solid gray;box-sizing: border-box;top: 0;bottom: 0;left: 50%;z-index: 0;}#sk-container-id-4 div.sk-serial {display: flex;flex-direction: column;align-items: center;background-color: white;padding-right: 0.2em;padding-left: 0.2em;position: relative;}#sk-container-id-4 div.sk-item {position: relative;z-index: 1;}#sk-container-id-4 div.sk-parallel {display: flex;align-items: stretch;justify-content: center;background-color: white;position: relative;}#sk-container-id-4 div.sk-item::before, #sk-container-id-4 div.sk-parallel-item::before {content: \"\";position: absolute;border-left: 1px solid gray;box-sizing: border-box;top: 0;bottom: 0;left: 50%;z-index: -1;}#sk-container-id-4 div.sk-parallel-item {display: flex;flex-direction: column;z-index: 1;position: relative;background-color: white;}#sk-container-id-4 div.sk-parallel-item:first-child::after {align-self: flex-end;width: 50%;}#sk-container-id-4 div.sk-parallel-item:last-child::after {align-self: flex-start;width: 50%;}#sk-container-id-4 div.sk-parallel-item:only-child::after {width: 0;}#sk-container-id-4 div.sk-dashed-wrapped {border: 1px dashed gray;margin: 0 0.4em 0.5em 0.4em;box-sizing: border-box;padding-bottom: 0.4em;background-color: white;}#sk-container-id-4 div.sk-label label {font-family: monospace;font-weight: bold;display: inline-block;line-height: 1.2em;}#sk-container-id-4 div.sk-label-container {text-align: center;}#sk-container-id-4 div.sk-container {/* jupyter's `normalize.less` sets `[hidden] { display: none; }` but bootstrap.min.css set `[hidden] { display: none !important; }` so we also need the `!important` here to be able to override the default hidden behavior on the sphinx rendered scikit-learn.org. See: https://github.com/scikit-learn/scikit-learn/issues/21755 */display: inline-block !important;position: relative;}#sk-container-id-4 div.sk-text-repr-fallback {display: none;}</style><div id=\"sk-container-id-4\" class=\"sk-top-container\"><div class=\"sk-text-repr-fallback\"><pre>DBSCAN(eps=0.95, min_samples=2)</pre><b>In a Jupyter environment, please rerun this cell to show the HTML representation or trust the notebook. <br />On GitHub, the HTML representation is unable to render, please try loading this page with nbviewer.org.</b></div><div class=\"sk-container\" hidden><div class=\"sk-item\"><div class=\"sk-estimator sk-toggleable\"><input class=\"sk-toggleable__control sk-hidden--visually\" id=\"sk-estimator-id-4\" type=\"checkbox\" checked><label for=\"sk-estimator-id-4\" class=\"sk-toggleable__label sk-toggleable__label-arrow\">DBSCAN</label><div class=\"sk-toggleable__content\"><pre>DBSCAN(eps=0.95, min_samples=2)</pre></div></div></div></div></div>"
            ]
          },
          "metadata": {},
          "execution_count": 67
        }
      ]
    },
    {
      "cell_type": "code",
      "source": [
        "rotulos = dbscan_salario.labels_\n",
        "rotulos"
      ],
      "metadata": {
        "id": "z0pmKhB2rw5Z",
        "outputId": "b414028f-9cdc-4f84-fc0e-67d5bd900e9c",
        "colab": {
          "base_uri": "https://localhost:8080/",
          "height": 0
        }
      },
      "execution_count": 68,
      "outputs": [
        {
          "output_type": "execute_result",
          "data": {
            "text/plain": [
              "array([0, 0, 0, 1, 1, 1, 1, 1, 1, 2, 2, 2, 2, 2, 2])"
            ]
          },
          "metadata": {},
          "execution_count": 68
        }
      ]
    },
    {
      "cell_type": "code",
      "source": [
        "grafico = px.scatter(x = base_salario[:,0], y = base_salario[:,1], color=rotulos)\n",
        "grafico.show()"
      ],
      "metadata": {
        "id": "JvtZoaUPr2xx",
        "outputId": "8fb9655f-b1e2-4816-af60-d230212220e2",
        "colab": {
          "base_uri": "https://localhost:8080/",
          "height": 542
        }
      },
      "execution_count": 70,
      "outputs": [
        {
          "output_type": "display_data",
          "data": {
            "text/html": [
              "<html>\n",
              "<head><meta charset=\"utf-8\" /></head>\n",
              "<body>\n",
              "    <div>            <script src=\"https://cdnjs.cloudflare.com/ajax/libs/mathjax/2.7.5/MathJax.js?config=TeX-AMS-MML_SVG\"></script><script type=\"text/javascript\">if (window.MathJax && window.MathJax.Hub && window.MathJax.Hub.Config) {window.MathJax.Hub.Config({SVG: {font: \"STIX-Web\"}});}</script>                <script type=\"text/javascript\">window.PlotlyConfig = {MathJaxConfig: 'local'};</script>\n",
              "        <script charset=\"utf-8\" src=\"https://cdn.plot.ly/plotly-2.29.1.min.js\"></script>                <div id=\"307e418d-0be8-40f8-887f-77df868b3f70\" class=\"plotly-graph-div\" style=\"height:525px; width:100%;\"></div>            <script type=\"text/javascript\">                                    window.PLOTLYENV=window.PLOTLYENV || {};                                    if (document.getElementById(\"307e418d-0be8-40f8-887f-77df868b3f70\")) {                    Plotly.newPlot(                        \"307e418d-0be8-40f8-887f-77df868b3f70\",                        [{\"hovertemplate\":\"x=%{x}\\u003cbr\\u003ey=%{y}\\u003cbr\\u003ecolor=%{marker.color}\\u003cextra\\u003e\\u003c\\u002fextra\\u003e\",\"legendgroup\":\"\",\"marker\":{\"color\":[0,0,0,1,1,1,1,1,1,2,2,2,2,2,2],\"coloraxis\":\"coloraxis\",\"symbol\":\"circle\"},\"mode\":\"markers\",\"name\":\"\",\"orientation\":\"v\",\"showlegend\":false,\"x\":[-1.8796388369139148,-1.232550056992731,-1.78719758263946,-0.3081375142481829,0.5238337742219104,1.170922554143094,1.3558050626920037,0.6162750284963652,1.0784812998686393,-0.770343785620457,-0.1232550056992733,0.06162750284963633,-0.1232550056992733,0.70871628277082,0.70871628277082],\"xaxis\":\"x\",\"y\":[-1.1141357172977029,-1.0172543505761635,-0.19376273344307876,-0.7023899087311605,-1.1625764006584725,-1.1383560589780877,-0.6297288836900059,-0.5812882003292362,-0.14532205008230906,1.2594577673800118,0.3875254668861575,0.8719323004938544,1.7923052843484784,0.8234916171330847,1.55010186754463],\"yaxis\":\"y\",\"type\":\"scatter\"}],                        {\"template\":{\"data\":{\"histogram2dcontour\":[{\"type\":\"histogram2dcontour\",\"colorbar\":{\"outlinewidth\":0,\"ticks\":\"\"},\"colorscale\":[[0.0,\"#0d0887\"],[0.1111111111111111,\"#46039f\"],[0.2222222222222222,\"#7201a8\"],[0.3333333333333333,\"#9c179e\"],[0.4444444444444444,\"#bd3786\"],[0.5555555555555556,\"#d8576b\"],[0.6666666666666666,\"#ed7953\"],[0.7777777777777778,\"#fb9f3a\"],[0.8888888888888888,\"#fdca26\"],[1.0,\"#f0f921\"]]}],\"choropleth\":[{\"type\":\"choropleth\",\"colorbar\":{\"outlinewidth\":0,\"ticks\":\"\"}}],\"histogram2d\":[{\"type\":\"histogram2d\",\"colorbar\":{\"outlinewidth\":0,\"ticks\":\"\"},\"colorscale\":[[0.0,\"#0d0887\"],[0.1111111111111111,\"#46039f\"],[0.2222222222222222,\"#7201a8\"],[0.3333333333333333,\"#9c179e\"],[0.4444444444444444,\"#bd3786\"],[0.5555555555555556,\"#d8576b\"],[0.6666666666666666,\"#ed7953\"],[0.7777777777777778,\"#fb9f3a\"],[0.8888888888888888,\"#fdca26\"],[1.0,\"#f0f921\"]]}],\"heatmap\":[{\"type\":\"heatmap\",\"colorbar\":{\"outlinewidth\":0,\"ticks\":\"\"},\"colorscale\":[[0.0,\"#0d0887\"],[0.1111111111111111,\"#46039f\"],[0.2222222222222222,\"#7201a8\"],[0.3333333333333333,\"#9c179e\"],[0.4444444444444444,\"#bd3786\"],[0.5555555555555556,\"#d8576b\"],[0.6666666666666666,\"#ed7953\"],[0.7777777777777778,\"#fb9f3a\"],[0.8888888888888888,\"#fdca26\"],[1.0,\"#f0f921\"]]}],\"heatmapgl\":[{\"type\":\"heatmapgl\",\"colorbar\":{\"outlinewidth\":0,\"ticks\":\"\"},\"colorscale\":[[0.0,\"#0d0887\"],[0.1111111111111111,\"#46039f\"],[0.2222222222222222,\"#7201a8\"],[0.3333333333333333,\"#9c179e\"],[0.4444444444444444,\"#bd3786\"],[0.5555555555555556,\"#d8576b\"],[0.6666666666666666,\"#ed7953\"],[0.7777777777777778,\"#fb9f3a\"],[0.8888888888888888,\"#fdca26\"],[1.0,\"#f0f921\"]]}],\"contourcarpet\":[{\"type\":\"contourcarpet\",\"colorbar\":{\"outlinewidth\":0,\"ticks\":\"\"}}],\"contour\":[{\"type\":\"contour\",\"colorbar\":{\"outlinewidth\":0,\"ticks\":\"\"},\"colorscale\":[[0.0,\"#0d0887\"],[0.1111111111111111,\"#46039f\"],[0.2222222222222222,\"#7201a8\"],[0.3333333333333333,\"#9c179e\"],[0.4444444444444444,\"#bd3786\"],[0.5555555555555556,\"#d8576b\"],[0.6666666666666666,\"#ed7953\"],[0.7777777777777778,\"#fb9f3a\"],[0.8888888888888888,\"#fdca26\"],[1.0,\"#f0f921\"]]}],\"surface\":[{\"type\":\"surface\",\"colorbar\":{\"outlinewidth\":0,\"ticks\":\"\"},\"colorscale\":[[0.0,\"#0d0887\"],[0.1111111111111111,\"#46039f\"],[0.2222222222222222,\"#7201a8\"],[0.3333333333333333,\"#9c179e\"],[0.4444444444444444,\"#bd3786\"],[0.5555555555555556,\"#d8576b\"],[0.6666666666666666,\"#ed7953\"],[0.7777777777777778,\"#fb9f3a\"],[0.8888888888888888,\"#fdca26\"],[1.0,\"#f0f921\"]]}],\"mesh3d\":[{\"type\":\"mesh3d\",\"colorbar\":{\"outlinewidth\":0,\"ticks\":\"\"}}],\"scatter\":[{\"fillpattern\":{\"fillmode\":\"overlay\",\"size\":10,\"solidity\":0.2},\"type\":\"scatter\"}],\"parcoords\":[{\"type\":\"parcoords\",\"line\":{\"colorbar\":{\"outlinewidth\":0,\"ticks\":\"\"}}}],\"scatterpolargl\":[{\"type\":\"scatterpolargl\",\"marker\":{\"colorbar\":{\"outlinewidth\":0,\"ticks\":\"\"}}}],\"bar\":[{\"error_x\":{\"color\":\"#2a3f5f\"},\"error_y\":{\"color\":\"#2a3f5f\"},\"marker\":{\"line\":{\"color\":\"#E5ECF6\",\"width\":0.5},\"pattern\":{\"fillmode\":\"overlay\",\"size\":10,\"solidity\":0.2}},\"type\":\"bar\"}],\"scattergeo\":[{\"type\":\"scattergeo\",\"marker\":{\"colorbar\":{\"outlinewidth\":0,\"ticks\":\"\"}}}],\"scatterpolar\":[{\"type\":\"scatterpolar\",\"marker\":{\"colorbar\":{\"outlinewidth\":0,\"ticks\":\"\"}}}],\"histogram\":[{\"marker\":{\"pattern\":{\"fillmode\":\"overlay\",\"size\":10,\"solidity\":0.2}},\"type\":\"histogram\"}],\"scattergl\":[{\"type\":\"scattergl\",\"marker\":{\"colorbar\":{\"outlinewidth\":0,\"ticks\":\"\"}}}],\"scatter3d\":[{\"type\":\"scatter3d\",\"line\":{\"colorbar\":{\"outlinewidth\":0,\"ticks\":\"\"}},\"marker\":{\"colorbar\":{\"outlinewidth\":0,\"ticks\":\"\"}}}],\"scattermapbox\":[{\"type\":\"scattermapbox\",\"marker\":{\"colorbar\":{\"outlinewidth\":0,\"ticks\":\"\"}}}],\"scatterternary\":[{\"type\":\"scatterternary\",\"marker\":{\"colorbar\":{\"outlinewidth\":0,\"ticks\":\"\"}}}],\"scattercarpet\":[{\"type\":\"scattercarpet\",\"marker\":{\"colorbar\":{\"outlinewidth\":0,\"ticks\":\"\"}}}],\"carpet\":[{\"aaxis\":{\"endlinecolor\":\"#2a3f5f\",\"gridcolor\":\"white\",\"linecolor\":\"white\",\"minorgridcolor\":\"white\",\"startlinecolor\":\"#2a3f5f\"},\"baxis\":{\"endlinecolor\":\"#2a3f5f\",\"gridcolor\":\"white\",\"linecolor\":\"white\",\"minorgridcolor\":\"white\",\"startlinecolor\":\"#2a3f5f\"},\"type\":\"carpet\"}],\"table\":[{\"cells\":{\"fill\":{\"color\":\"#EBF0F8\"},\"line\":{\"color\":\"white\"}},\"header\":{\"fill\":{\"color\":\"#C8D4E3\"},\"line\":{\"color\":\"white\"}},\"type\":\"table\"}],\"barpolar\":[{\"marker\":{\"line\":{\"color\":\"#E5ECF6\",\"width\":0.5},\"pattern\":{\"fillmode\":\"overlay\",\"size\":10,\"solidity\":0.2}},\"type\":\"barpolar\"}],\"pie\":[{\"automargin\":true,\"type\":\"pie\"}]},\"layout\":{\"autotypenumbers\":\"strict\",\"colorway\":[\"#636efa\",\"#EF553B\",\"#00cc96\",\"#ab63fa\",\"#FFA15A\",\"#19d3f3\",\"#FF6692\",\"#B6E880\",\"#FF97FF\",\"#FECB52\"],\"font\":{\"color\":\"#2a3f5f\"},\"hovermode\":\"closest\",\"hoverlabel\":{\"align\":\"left\"},\"paper_bgcolor\":\"white\",\"plot_bgcolor\":\"#E5ECF6\",\"polar\":{\"bgcolor\":\"#E5ECF6\",\"angularaxis\":{\"gridcolor\":\"white\",\"linecolor\":\"white\",\"ticks\":\"\"},\"radialaxis\":{\"gridcolor\":\"white\",\"linecolor\":\"white\",\"ticks\":\"\"}},\"ternary\":{\"bgcolor\":\"#E5ECF6\",\"aaxis\":{\"gridcolor\":\"white\",\"linecolor\":\"white\",\"ticks\":\"\"},\"baxis\":{\"gridcolor\":\"white\",\"linecolor\":\"white\",\"ticks\":\"\"},\"caxis\":{\"gridcolor\":\"white\",\"linecolor\":\"white\",\"ticks\":\"\"}},\"coloraxis\":{\"colorbar\":{\"outlinewidth\":0,\"ticks\":\"\"}},\"colorscale\":{\"sequential\":[[0.0,\"#0d0887\"],[0.1111111111111111,\"#46039f\"],[0.2222222222222222,\"#7201a8\"],[0.3333333333333333,\"#9c179e\"],[0.4444444444444444,\"#bd3786\"],[0.5555555555555556,\"#d8576b\"],[0.6666666666666666,\"#ed7953\"],[0.7777777777777778,\"#fb9f3a\"],[0.8888888888888888,\"#fdca26\"],[1.0,\"#f0f921\"]],\"sequentialminus\":[[0.0,\"#0d0887\"],[0.1111111111111111,\"#46039f\"],[0.2222222222222222,\"#7201a8\"],[0.3333333333333333,\"#9c179e\"],[0.4444444444444444,\"#bd3786\"],[0.5555555555555556,\"#d8576b\"],[0.6666666666666666,\"#ed7953\"],[0.7777777777777778,\"#fb9f3a\"],[0.8888888888888888,\"#fdca26\"],[1.0,\"#f0f921\"]],\"diverging\":[[0,\"#8e0152\"],[0.1,\"#c51b7d\"],[0.2,\"#de77ae\"],[0.3,\"#f1b6da\"],[0.4,\"#fde0ef\"],[0.5,\"#f7f7f7\"],[0.6,\"#e6f5d0\"],[0.7,\"#b8e186\"],[0.8,\"#7fbc41\"],[0.9,\"#4d9221\"],[1,\"#276419\"]]},\"xaxis\":{\"gridcolor\":\"white\",\"linecolor\":\"white\",\"ticks\":\"\",\"title\":{\"standoff\":15},\"zerolinecolor\":\"white\",\"automargin\":true,\"zerolinewidth\":2},\"yaxis\":{\"gridcolor\":\"white\",\"linecolor\":\"white\",\"ticks\":\"\",\"title\":{\"standoff\":15},\"zerolinecolor\":\"white\",\"automargin\":true,\"zerolinewidth\":2},\"scene\":{\"xaxis\":{\"backgroundcolor\":\"#E5ECF6\",\"gridcolor\":\"white\",\"linecolor\":\"white\",\"showbackground\":true,\"ticks\":\"\",\"zerolinecolor\":\"white\",\"gridwidth\":2},\"yaxis\":{\"backgroundcolor\":\"#E5ECF6\",\"gridcolor\":\"white\",\"linecolor\":\"white\",\"showbackground\":true,\"ticks\":\"\",\"zerolinecolor\":\"white\",\"gridwidth\":2},\"zaxis\":{\"backgroundcolor\":\"#E5ECF6\",\"gridcolor\":\"white\",\"linecolor\":\"white\",\"showbackground\":true,\"ticks\":\"\",\"zerolinecolor\":\"white\",\"gridwidth\":2}},\"shapedefaults\":{\"line\":{\"color\":\"#2a3f5f\"}},\"annotationdefaults\":{\"arrowcolor\":\"#2a3f5f\",\"arrowhead\":0,\"arrowwidth\":1},\"geo\":{\"bgcolor\":\"white\",\"landcolor\":\"#E5ECF6\",\"subunitcolor\":\"white\",\"showland\":true,\"showlakes\":true,\"lakecolor\":\"white\"},\"title\":{\"x\":0.05},\"mapbox\":{\"style\":\"light\"}}},\"xaxis\":{\"anchor\":\"y\",\"domain\":[0.0,1.0],\"title\":{\"text\":\"x\"}},\"yaxis\":{\"anchor\":\"x\",\"domain\":[0.0,1.0],\"title\":{\"text\":\"y\"}},\"coloraxis\":{\"colorbar\":{\"title\":{\"text\":\"color\"}},\"colorscale\":[[0.0,\"#0d0887\"],[0.1111111111111111,\"#46039f\"],[0.2222222222222222,\"#7201a8\"],[0.3333333333333333,\"#9c179e\"],[0.4444444444444444,\"#bd3786\"],[0.5555555555555556,\"#d8576b\"],[0.6666666666666666,\"#ed7953\"],[0.7777777777777778,\"#fb9f3a\"],[0.8888888888888888,\"#fdca26\"],[1.0,\"#f0f921\"]]},\"legend\":{\"tracegroupgap\":0},\"margin\":{\"t\":60}},                        {\"responsive\": true}                    ).then(function(){\n",
              "                            \n",
              "var gd = document.getElementById('307e418d-0be8-40f8-887f-77df868b3f70');\n",
              "var x = new MutationObserver(function (mutations, observer) {{\n",
              "        var display = window.getComputedStyle(gd).display;\n",
              "        if (!display || display === 'none') {{\n",
              "            console.log([gd, 'removed!']);\n",
              "            Plotly.purge(gd);\n",
              "            observer.disconnect();\n",
              "        }}\n",
              "}});\n",
              "\n",
              "// Listen for the removal of the full notebook cells\n",
              "var notebookContainer = gd.closest('#notebook-container');\n",
              "if (notebookContainer) {{\n",
              "    x.observe(notebookContainer, {childList: true});\n",
              "}}\n",
              "\n",
              "// Listen for the clearing of the current output cell\n",
              "var outputEl = gd.closest('.output');\n",
              "if (outputEl) {{\n",
              "    x.observe(outputEl, {childList: true});\n",
              "}}\n",
              "\n",
              "                        })                };                            </script>        </div>\n",
              "</body>\n",
              "</html>"
            ]
          },
          "metadata": {}
        }
      ]
    },
    {
      "cell_type": "markdown",
      "source": [
        "##K-means x Hierarquico x DBSCAM"
      ],
      "metadata": {
        "id": "cJIPKEARs5Eg"
      }
    },
    {
      "cell_type": "code",
      "source": [
        "from sklearn import datasets"
      ],
      "metadata": {
        "id": "_XLUZxDQsQrd"
      },
      "execution_count": 72,
      "outputs": []
    },
    {
      "cell_type": "code",
      "source": [
        "x_random, y_random = datasets.make_moons(n_samples=1500, noise=0.09)"
      ],
      "metadata": {
        "id": "ddVBaMQhs-i9"
      },
      "execution_count": 73,
      "outputs": []
    },
    {
      "cell_type": "code",
      "source": [
        "x_random"
      ],
      "metadata": {
        "id": "iEyv9SRXtEXr",
        "outputId": "9cc85b1a-863d-48f0-f598-d18a83c4bf6b",
        "colab": {
          "base_uri": "https://localhost:8080/",
          "height": 0
        }
      },
      "execution_count": 74,
      "outputs": [
        {
          "output_type": "execute_result",
          "data": {
            "text/plain": [
              "array([[ 0.90986945,  0.41489467],\n",
              "       [-0.93265037,  0.36078149],\n",
              "       [ 1.95348895,  0.19857202],\n",
              "       ...,\n",
              "       [ 0.77339181, -0.473986  ],\n",
              "       [ 1.6429661 , -0.26589464],\n",
              "       [ 1.00209719, -0.4999978 ]])"
            ]
          },
          "metadata": {},
          "execution_count": 74
        }
      ]
    },
    {
      "cell_type": "code",
      "source": [
        "y_random"
      ],
      "metadata": {
        "id": "cBpwoLastE34",
        "outputId": "c1bd2bb2-a187-4df9-b02c-f8c711f9e302",
        "colab": {
          "base_uri": "https://localhost:8080/",
          "height": 0
        }
      },
      "execution_count": 75,
      "outputs": [
        {
          "output_type": "execute_result",
          "data": {
            "text/plain": [
              "array([0, 0, 1, ..., 1, 1, 1])"
            ]
          },
          "metadata": {},
          "execution_count": 75
        }
      ]
    },
    {
      "cell_type": "code",
      "source": [
        "np.unique(y_random)"
      ],
      "metadata": {
        "id": "k36CdLNatIrs",
        "outputId": "a08cf7f0-770c-4d40-a3ae-bd27ad3db159",
        "colab": {
          "base_uri": "https://localhost:8080/",
          "height": 0
        }
      },
      "execution_count": 76,
      "outputs": [
        {
          "output_type": "execute_result",
          "data": {
            "text/plain": [
              "array([0, 1])"
            ]
          },
          "metadata": {},
          "execution_count": 76
        }
      ]
    },
    {
      "cell_type": "code",
      "source": [
        "grafico = px.scatter(x= x_random[:,0], y = x_random[:,1])\n",
        "grafico.show()"
      ],
      "metadata": {
        "id": "dqdBDSLGtGcs",
        "outputId": "2a2542bb-4c4a-435f-c058-630bd29d6050",
        "colab": {
          "base_uri": "https://localhost:8080/",
          "height": 542
        }
      },
      "execution_count": 81,
      "outputs": [
        {
          "output_type": "display_data",
          "data": {
            "text/html": [
              "<html>\n",
              "<head><meta charset=\"utf-8\" /></head>\n",
              "<body>\n",
              "    <div>            <script src=\"https://cdnjs.cloudflare.com/ajax/libs/mathjax/2.7.5/MathJax.js?config=TeX-AMS-MML_SVG\"></script><script type=\"text/javascript\">if (window.MathJax && window.MathJax.Hub && window.MathJax.Hub.Config) {window.MathJax.Hub.Config({SVG: {font: \"STIX-Web\"}});}</script>                <script type=\"text/javascript\">window.PlotlyConfig = {MathJaxConfig: 'local'};</script>\n",
              "        <script charset=\"utf-8\" src=\"https://cdn.plot.ly/plotly-2.29.1.min.js\"></script>                <div id=\"2f5d5275-76f8-460b-89a5-396d9637433b\" class=\"plotly-graph-div\" style=\"height:525px; width:100%;\"></div>            <script type=\"text/javascript\">                                    window.PLOTLYENV=window.PLOTLYENV || {};                                    if (document.getElementById(\"2f5d5275-76f8-460b-89a5-396d9637433b\")) {                    Plotly.newPlot(                        \"2f5d5275-76f8-460b-89a5-396d9637433b\",                        [{\"hovertemplate\":\"x=%{x}\\u003cbr\\u003ey=%{y}\\u003cextra\\u003e\\u003c\\u002fextra\\u003e\",\"legendgroup\":\"\",\"marker\":{\"color\":\"#636efa\",\"symbol\":\"circle\"},\"mode\":\"markers\",\"name\":\"\",\"showlegend\":false,\"x\":[0.909869447855485,-0.9326503730218288,1.9534889470304617,0.38993734371266375,0.03471032288855869,0.658885805796111,1.9987335824545847,0.9780894250801918,1.1979177367918592,0.05240576668932899,-0.6958977359566239,0.837106101849709,0.6234898018587336,-0.8461658472851411,1.9989358215947166,-0.6868064092127586,1.8719061518010984,-0.9045768730971196,0.4987886977095622,-0.8799985589078699,1.5204406750972002,1.9630647472666807,-0.010485764624336527,-0.9735086188164599,-0.5417630526990613,-0.5452837865693664,0.9725410112949588,0.05577085948272431,0.4547162134306336,0.5168545332914941,0.6062037364460751,0.780522186673046,1.1025816083936035,1.8859054323708802,1.976308614221301,0.7206464083164894,0.07333580287750391,0.42346867375175057,-0.5696568702084723,0.18413584703837615,0.004649700102705379,1.5662045791023171,1.603618645111425,0.5275854277211028,0.22210669784467396,0.7368442615361046,0.13432433968906055,-0.9879818467824021,0.6036186451114249,0.49395819653987205,1.9509268190860123,-0.9898485567503186,0.8677677694694957,-0.902780811730186,-0.9509268190860124,1.8461658472851412,0.6490178995514249,-0.13589564513500627,0.3101509943780647,0.668731367824424,-0.3114094702888742,-0.5168545332914941,-0.6806850215490629,0.9063570204054348,-0.9663766784927852,0.11508992393676364,1.48417769834899,0.4657227828320636,1.6989037634679087,-0.303426965708699,0.0028486875785440624,0.0503793504560085,1.9584117335075018,-0.31937006068169665,1.999780097480486,1.006291532565181,-0.0440267828126479,1.759110541291736,0.8109847531882045,-0.350982100448575,0.36997361194357303,0.9009688679024191,0.057160325889039076,1.6069573944946018,1.502419670074398,-0.7282791575766909,0.9879818467824021,1.3233419629357548,0.5491890178356142,0.5935389167199637,0.5346930536452399,0.03255332141737688,0.9350328563964247,1.3074209221993482,0.016220544776863854,1.7960055286803387,1.8916720373012423,0.3930426055053978,-0.991005977167144,1.5696568702084723,1.2994276710818868,0.9456019952697461,1.5627423268605967,0.31937006068169677,0.7489545381492895,1.1524976278004648,0.9559839770301876,0.17931386041904507,-0.38993734371266364,1.4987886977095621,-0.9763086142213011,1.9892437200326238,-0.11925541070754227,0.6178010082530485,-0.023067058820787193,0.36273663894339064,-0.7645445329068321,0.4831454667085059,0.17731866058801812,0.7938664992948548,0.3074209221993483,-0.7672413768130659,-0.9953502998972946,-0.8759831772486388,0.09840846264303063,0.44072982560590634,0.9873248324497849,-0.8483936664993149,0.06435596696173906,0.0073886751710440235,-0.9772076155698657,1.837106101849709,0.947594233310671,1.9522162591431318,1.2833785197731478,1.0649671436035753,-0.12758001688622111,0.49514895024466654,1.1275800168862211,0.9998592605305062,0.9999648145136173,-0.823075496759396,-0.42820667676705726,0.6726918233073231,0.941433620495435,0.01075627996737627,-0.5627423268605967,0.018873601534994598,-0.7018974952906882,-0.37831969576193836,-0.9886214797276642,-0.8035587560807045,0.4166347887822315,0.33482706156096653,-0.5204406750972003,0.16289389815029098,0.6169093400771741,1.7396734365955129,1.3821989917469515,0.639747995266225,0.002251039297172741,0.9931115272956403,0.19791773679185937,0.9141210684826255,1.889765477869806,1.5765313262482494,1.7048788787567757,-0.2510454618507104,0.9216571389263767,-0.9852496182428682,0.7225049421328023,1.1855681574939492,1.1731891965349646,1.985249618242868,0.27935359168351065,1.9926113248289559,0.5024196700743978,-0.21842976777774642,0.9371161852145424,0.2672496033793312,1.106752949444346,0.39638135488857507,0.9995690062269984,0.8020822632081406,0.9744590995755086,1.9953502998972947,0.3470514794005812,0.9572062752479682,-0.6234898018587335,0.03046440011006557,0.9769329411792127,0.8350787995279959,0.21686266039601376,1.979801406834788,1.8085236305140835,0.9428396741109609,0.12000144109213007,1.9753924368504672,-0.25510330050257196,-0.6557248242816902,-0.052405766689328864,1.9167019748939844,-0.5382327876885793,0.9992875743301965,0.5012113022904379,0.843923141627045,0.793459718942254,-0.09840846264303074,-0.8439231416270448,0.6714132622152207,1.1607828139194682,0.48674070144327586,-0.8839520142124788,0.9081212223373192,0.7108043910332633,0.005492728764592725,-0.0649671436035752,-0.8935629097065211,0.9772076155698657,0.9311289178486017,0.8765812005607216,0.4768208329292217,-0.9968261715188322,0.9999912035897159,-0.9674466785826231,-0.4091619859914693,-0.9200215936708597,1.7137484155971885,0.47241457227889716,1.9063570204054348,1.0858789315173747,0.11215673504603041,0.3223936620129818,0.9964834936322354,1.189688045214908,0.695897735956624,0.6837517299416598,1.4768208329292216,0.49034496585679044,-0.7452926983439472,1.8571552989871805,0.9853201877906834,1.6557248242816902,1.9216571389263766,1.3744337440664003,1.987981846782402,-0.27128906254769525,1.767241376813066,-0.8528044890839854,-0.566204579102317,1.5833652112177685,1.090057050742471,0.9953502998972946,0.21426128505976927,0.999780097480486,0.9982763964192584,0.6885905297111259,0.006405741870579074,-0.7340021233078164,-0.9995690062269984,-0.9428396741109608,1.998513772773741,-0.9482977734962753,-0.8254503737183084,0.4512050726401443,0.2746015692430369,0.922481765959234,-0.8301565201098942,0.11092241240960429,-0.46572278283206353,1.416801927347935,-0.41298558946038827,1.6745157334182537,0.7126015375646664,-0.7591105412917359,0.4064610832800363,0.8528044890839854,-0.7857387149402308,0.6267636082274293,0.026491381183540108,1.9133178469074001,0.9619268579460558,-0.9806315489604704,-0.9957455513302232,0.005062462554862646,0.9763086142213011,-0.14004990964149305,1.9248795573028046,0.08498204022591627,0.2951211212432241,0.8849100760632364,-0.8060482836288057,0.9892437200326237,-0.997151312421456,-0.9830184059878607,1.3627366389433906,0.9308479184693794,-0.9641856935620117,0.8614457900381748,0.29810250470931177,0.759110541291736,1.9806315489604704,0.30712053435866316,0.4244125379473226,0.872419983113779,-0.7311470719118763,0.0858789315173745,0.5765313262482494,1.4951489502446664,-0.979801406834788,0.126047647831673,0.31931497845093726,0.806195404211877,-0.27532374897625994,1.2914133489479382,-0.9753924368504673,-0.6745157334182537,1.0984084626430308,0.24637686967058714,0.9442291405172757,1.6928794656413368,0.8641043548649936,1.4470630400884572,0.40149325150803084,-0.9232764696332231,0.8268108034650354,1.2632054425366477,0.777893302155326,-0.837106101849709,0.5452837865693664,-0.742489598712872,-0.5799533702407994,1.7424895987128721,0.04039966939862283,0.902780811730186,0.3509821004485751,1.8158641529616237,-0.17318919653496465,-0.7934597189422541,1.9961232847903359,1.202027395864365,-0.18556815749394914,-0.3588247492071358,0.997458910619961,0.17692450324060405,1.646172886899472,0.058566379504565,0.5121566136983575,-0.8324877067481781,0.17218927132309159,1.4545509932035947,-0.9607720456188192,1.9559839770301877,-0.35490654673145305,0.6069573944946022,1.8779985913140924,1.2954231086777839,-0.7508595131202045,0.36672191605577387,-0.9264663737322872,0.8182823442185173,0.08169930143964571,1.0607810627212295,0.5132592985567241,1.0356447007284324,-0.23884573225109101,0.8916720373012424,1.14835097399379,0.5833652112177685,1.823075496759396,0.018555560988731457,0.1364316785241788,0.8557982897249512,-0.8506065600759428,-0.8348042475796122,0.45081098216438575,0.07672353036677693,0.1483509739937902,0.16078281391946822,0.02844370596604917,1.573099139443525,1.6493683089188536,0.024607563149532607,0.5096550341432096,0.05170222650372469,-0.06915208153062075,1.255103300502572,1.7340021233078164,0.785665241196533,0.4470630400884573,0.4200466297592008,0.00790634047066019,-0.8677677694694957,1.2225209339563143,1.458283007408741,0.23816576149418556,1.7699247227794253,0.40533118420914716,-0.7725945235982854,0.5454490067964052,0.03145268218088976,0.10456193818013715,0.8254503737183086,-0.7985373344359863,-0.9183698626405264,0.630026388056427,-0.24291660622022077,-0.22252093395631434,0.11604798578752118,0.08329802510601547,0.12200140868590759,-0.3821989917469516,1.5382327876885793,0.7611542677489088,-0.8779985913140924,0.10270253934794693,0.9248795573028045,-0.9150179597740837,0.36025200473377506,0.5717933232329429,-0.26724960337933107,1.9572062752479682,0.23884573225109115,1.0146798122093168,0.5799533702407992,0.4688560871570513,0.9705544843573901,1.5557881827877633,1.9663766784927852,-0.9892437200326237,0.14004990964149316,1.8182823442185172,0.5240176608834927,1.9999648145136173,0.03581430643798833,0.6002692763737327,0.43577228769976434,0.2039944713196612,1.9940595088377004,1.9695355998899344,-0.889765477869806,1.9150179597740837,0.00387671520966415,-0.9991204866361802,-0.09005705074247083,1.941433620495435,0.7005723289181134,-0.9998592605305062,0.9522162591431317,0.8759831772486387,0.8278107286769084,-0.8739523521683269,1.8416655889805449,0.24698320660108414,0.6898490056219353,1.3976482554081813,0.32548426658174634,-0.014679812209316698,-0.9992875743301965,0.1890152468117955,0.7985373344359861,0.26599787669218355,1.9789540272387627,0.2862515844028112,1.3783196957619384,0.30410226404337604,-0.9845231970029772,-0.4768208329292216,1.8759831772486388,0.5627423268605967,0.02104597276123721,-0.5935389167199637,-0.9915585405039848,0.5566927670873179,0.9607720456188192,-0.6928794656413368,0.9341554202443905,-0.7883262669162499,0.153834152714859,0.8779985913140924,0.742489598712872,-0.900968867902419,-0.49514895024466643,1.9482977734962752,1.6651729384390335,0.7979726041356352,1.140049909641493,0.6461728868994722,0.9859587061630106,0.09013055214451504,1.2873984624353336,0.9183006985603543,0.5870144105396116,0.07196310899490577,-0.5487949273598557,1.9607720456188193,1.3312686321755758,1.206133500705145,0.9985137727737411,-0.9133178469074001,1.9045768730971195,1.9496206495439914,0.27532374897625983,-0.6429660968764352,1.7368442615361044,-0.9935942581294209,0.19380459578812306,1.531143912842949,0.991005977167144,0.676658037064245,0.023067058820787318,-1.0,-0.8656756603109396,-0.9780894250801917,1.5275854277211027,-0.992611324828956,1.9311289178486017,-0.177318660588018,-0.5901580442098969,0.0649671436035753,1.9641856935620117,0.07751823404076592,0.8416655889805449,1.954744860357833,1.9780894250801917,0.03983609218515127,0.010151443249681424,-0.27935359168351054,1.3899373437126636,1.5487949273598556,0.9968261715188322,0.6989037634679086,-0.9081212223373193,-0.9999912035897159,-0.9559839770301876,0.5311439128429487,1.9904359792399648,0.7774790660436856,1.238845732251091,0.9898485567503186,0.16984347989010573,0.32730817669267687,0.33917198971950413,-0.9987335824545847,-0.6651729384390335,-0.9994370817372216,0.847502372199535,-0.09423358561003224,1.7452926983439472,1.9280368910050942,0.5342772171679364,1.7883262669162499,0.15607685837295504,0.7327503966206688,1.0188736015349944,-0.3352232597088692,1.2469832066010842,1.4657227828320636,1.7857387149402308,0.19644124391929552,0.9715562940339508,-0.3705412050251882,1.7078478614152273,8.796410284062084e-06,0.28337851977314765,-0.9371161852145424,0.7693085499054214,-0.6267636082274295,-0.777893302155326,0.8516490260062098,-0.4545509932035947,0.04651105296953828,1.2793535916835106,-0.9744590995755086,0.6372633610566094,1.3666421471190429,0.9822400626861534,-0.3074209221993482,-0.1067529494443461,0.5084995082868655,0.9991204866361802,0.8226813394119818,0.6216803042380615,0.2510454618507105,0.7897640209237654,-0.9837794552231361,0.8158641529616238,0.7908999500097059,1.462006959123169,-0.2266081853640187,-0.7831373396039862,-0.060781062721229615,0.09187877766268082,0.473129784890119,-0.1442017102750489,0.47955932490279984,0.6255662559335997,0.3285867377847793,-0.8916720373012424,1.793459718942254,0.74808268617431,0.9496206495439915,-0.9534889470304617,0.9904359792399647,0.10832796269875755,-0.9652896771114413,0.43199328222356104,-0.8278107286769084,1.164921200472004,0.5417169925912588,-0.6169093400771739,-0.16492120047200398,1.2753237489762599,0.6620351956507757,0.27172084242330896,1.2266081853640187,0.9356440330382609,1.350982100448575,1.7725945235982854,1.764544532906832,0.045255139642166986,0.37979497345417246,0.01775993731384662,-0.954744860357833,0.8839520142124788,1.5522964132996595,-0.8109847531882045,-0.42061093251396114,1.8010550916675918,0.0014862272262589071,-0.573099139443525,-0.19380459578812292,0.4653069463547601,0.48784338630164253,0.08839833379628581,0.30342696570869915,-0.9949375374451374,-0.9999648145136173,-0.74808268617431,0.3474476932819064,1.3391719897195042,1.7195987426088348,-0.7108043910332632,0.5642277123002357,1.77525073230032,0.11023452213019402,-0.5522964132996595,0.2914133489479384,1.5799533702407995,1.777893302155326,1.2184297677777465,-0.8134316083530794,0.014041293836989377,1.97350861881646,-0.9814444390112685,0.2873984624353336,-0.9789540272387628,0.6493683089188536,0.02191057491980819,-0.9385718508739259,1.9992875743301965,1.998021457567256,0.12341879943927835,0.5522964132996594,0.29215213858477274,1.393796263553925,0.2688529280881238,0.10675294944434623,0.9977489607028273,1.658885805796111,-0.586766789155251,1.9442291405172756,0.7725945235982854,0.22474926769967996,0.8635683214758212,0.14501258514432824,1.8972974606520532,1.9081212223373192,0.9509268190860124,-0.39379626355392505,1.8878432649539696,-0.45081098216438587,1.9999208332359624,0.42820667676705715,0.45828300740874117,0.3634813613156752,0.9641856935620117,1.909869447855485,-0.3860715637736815,1.586766789155251,2.0,-0.9977489607028273,1.9996833454786032,0.9961232847903359,-0.39764825540818133,0.6429660968764354,0.10085892650897821,0.010485764624336648,0.7508595131202045,-0.909869447855485,1.9994370817372216,1.74808268617431,0.6608280102804959,1.7311470719118764,0.006291532565180921,0.40916198599146925,0.002541089380039052,0.3821989917469515,-0.7078478614152274,0.859308103339315,0.0003166545213968419,0.17454962628169135,1.052405766689329,-0.9980214575672559,0.2712890625476952,0.03922795438118076,-0.8614457900381747,0.11409456762911974,1.7618342385058146,0.06734962697817115,1.2712890625476954,0.009564020760035263,-0.9996833454786032,1.4014932515080307,1.1442017102750488,0.09903113209758085,0.38309065992282587,0.6568852472618177,1.267249603379331,0.926664197122496,0.7883262669162499,-0.9248795573028045,0.0017236035807416394,0.5969093472063687,0.33796480434922427,-0.12341879943927822,0.8932470505556538,0.8719061518010984,-0.18144500510569248,-0.9295910814913971,1.4805034923449676,-0.2833785197731477,0.12401682275136128,0.8991410734910218,0.0020971898202216755,0.7530167933989158,0.9989358215947167,0.9979028101797783,1.8839520142124788,-0.6461728868994722,1.8324877067481782,0.11925541070754217,-0.11092241240960417,1.9931115272956403,0.04158826649249825,-0.9985137727737411,1.420610932513961,-0.4244125379473225,1.9684996585566354,1.4053311842091474,0.6332780839442261,1.9715562940339508,-0.999780097480486,1.9866504482885476,-0.327308176692677,0.0004309937730015978,1.6620351956507755,-0.1607828139194683,0.6868064092127586,0.37831969576193847,0.3442751757183098,-0.8158641529616238,0.43379542089768286,0.9920936595293398,1.725398430756963,0.9806315489604704,-0.4694304131636055,-0.056593912528553426,0.9753924368504674,-0.8954380618198627,0.14069189666068505,-0.28739846243533373,0.426900860556475,1.9859587061630106,0.42061093251396103,1.5132592985567244,0.0427937247520318,0.5592701743940937,-0.8593081033393151,0.20910004999029408,0.3588247492071359,1.680685021549063,-0.027260110291953042,0.9935942581294209,0.027458988705041154,1.4915004917131345,0.889765477869806,-0.8206861395809549,0.3352232597088693,-0.6525523067180935,0.8506065600759429,0.14939343992405707,0.20146266556401393,0.023691385778698892,0.7570833937797794,1.073335802877504,0.0005629182627784335,0.8972974606520531,0.341114194203889,0.8185549948943074,0.19395171637119446,0.4545509932035948,0.7396734365955129,0.7672413768130659,-0.6714132622152208,0.4617672123114206,-0.869844612145389,0.07353362626771287,-0.14835097399379008,0.8144318425060509,0.6202050265458275,0.014750381757131836,-0.4168019273479351,0.7536231303294129,0.9167019748939845,1.6898490056219355,1.9998592605305063,1.8060482836288057,0.20613350070514525,0.06887108215139826,0.33126863217557595,0.47598233911650734,0.295423108677784,0.6100626562873362,1.0691520815306208,1.710804391033263,0.9099429492575293,0.3860715637736816,0.568006717776439,0.23007527722057497,0.9674466785826231,1.9886214797276642,1.4091619859914692,0.9482977734962753,0.8682610101591812,-0.6493683089188536,-0.006291532565180799,1.473129784890119,-0.9866504482885478,1.5417630526990613,-0.9063570204054348,-0.6620351956507755,0.2833201166866922,0.3131935907872414,0.9045768730971196,0.06584457975560953,0.9886214797276642,0.6450934532685471,1.843923141627045,1.6136028004331937,1.820686139580955,1.7805221866730458,1.2102359790762345,-0.7536231303294127,0.06915208153062063,0.022792384430134316,1.9705544843573901,-0.8719061518010984,1.7508595131202045,1.7563734891821134,0.008441459496015158,-0.6202050265458277,0.6846074601925338,0.9735086188164599,-0.630026388056427,0.4915004917131345,0.7448966994974281,-0.5311439128429488,1.2510454618507105,0.7563734891821132,-0.9356440330382609,0.9996833454786032,1.3431147527381824,0.9915585405039848,1.633278083944226,-0.1566415987437367,-0.4731297848901191,1.5240176608834926,-0.9982763964192584,0.12758001688622103,0.35703390312356464,1.193804595788123,0.23275862318693408,-0.8085236305140835,0.6745157334182537,0.27749505786719775,0.6365186386843248,-0.4357722876997642,-0.941433620495435,0.4975803299256022,1.1814450051056924,-0.4987886977095621,-0.9216571389263766,0.04401602296981244,0.003173828481167762,0.7287109374523049,0.2306914500945786,0.6294587949748118,1.3193700606816967,1.516854533291494,1.9949375374451375,1.99209365952934,0.2551033005025719,-0.9116016662037141,-0.53469305364524,1.9725410112949588,1.9772076155698657,0.6139284362263184,1.5346930536452401,0.9601639078148487,-0.9167019748939844,0.013349551711452134,0.01698159401213939,1.0230670588207873,0.45823694730093867,0.7815702322222536,0.08668215309259986,1.9991204866361802,0.03807314205394419,1.177318660588018,0.979801406834788,0.8974183916063966,0.6806850215490627,0.8324877067481783,1.9915585405039848,0.21167373308375015,-0.36273663894339053,0.43725767313940334,0.02554090042449142,0.9183698626405264,-0.6898490056219354,0.9852496182428682,0.8483936664993149,0.21947781332695404,-0.997458910619961,0.9845231970029772,0.9232764696332231,0.4477035867003406,0.28040125739116506,0.9949375374451374,0.7166798833133078,1.9873248324497848,0.13855420996182521,-0.636518638684325,0.7253984307569631,1.303426965708699,1.873952352168327,0.9695355998899344,0.954744860357833,0.01547680299702281,1.716679883313308,0.1516063335006851,0.7367945574633521,1.0482166988848542,-0.0858789315173746,0.053041785784015194,1.863568321475821,1.4357722876997643,1.3273081766926769,0.9789540272387628,-0.9456019952697461,0.6557248242816902,0.7652293436881495,1.5592701743940935,-0.048216698884854206,0.5793890674860389,-0.8972974606520532,-0.6002692763737328,1.044026782812648,-0.4014932515080307,1.2306914500945787,1.4395436267123016,-0.7396734365955129,0.1583344110194551,1.9814444390112684,0.704576891322216,0.012018153217597916,0.1675122932518217,-0.34311475273818237,0.20202739586436486,1.9837794552231363,-0.5557881827877633,-0.606957394494602,-0.8859054323708802,0.7137484155971888,1.9995690062269984,0.6023517445918187,1.8799985589078698,0.6102854657852455,0.8060482836288055,1.938571850873926,0.6928794656413368,-0.9964834936322354,-0.5060418034601278,1.2429166062202208,-0.8416655889805449,-0.7368442615361045,0.7085866510520615,-0.9940595088377006,1.5935389167199636,0.35382711310052783,1.929591081491397,0.8134316083530794,-0.44330723291268204,0.24291660622022065,-0.7195987426088348,1.5969093472063687,0.9434060874714467,1.8393932290623596,-0.8991410734910218,0.0599889955928532,-0.9822400626861534,1.6002692763737327,1.8254503737183083,-0.5592701743940934,-0.002097189820221775,1.9744590995755087,0.2631557384638954,0.152497627800465,-0.8635683214758211,0.5662045791023171,-0.9400110044071468,0.5194965076550324,0.8599500903585069,0.1914763694859165,1.4244125379473225,0.9015915373569694,0.823075496759396,-0.6776063379870182,0.20654028105774602,0.5755874620526774,0.10643709029347892,0.14420171027504883,0.8549874148556718,-0.45828300740874106,-0.24698320660108422,0.1690566855954522,0.3666421471190428,0.07834286107362332,-0.7752507323003199,1.671413262215221,-0.073335802877504,1.169056685595452,0.5379930408768311,0.8954380618198629,-0.5969093472063686,0.8206861395809549,0.9200215936708597,0.020198593165211998,0.23477065631185046,0.9957455513302232,0.7166214802268523,-0.9999208332359625,0.16519575242038775,1.6682989789591383,0.257510401287128,-0.2914133489479383,-0.4878433863016424,0.2603265634044871,0.9133178469074001,-0.26320544253664774,0.8890775875903957,0.34311475273818226,0.77525073230032,0.011378520272335768,0.3976482554081812,1.214334758803467,-0.21433475880346706,0.8085236305140835,0.027260110291952945,0.8878432649539696,0.9685473178191102,1.9935942581294208,0.3317010210408615,0.2491404868797955,0.3765101981412664,0.9895142353756633,0.43954362671230157,1.859308103339315,-0.19791773679185926,-0.9572062752479682,1.902780811730186,0.4694304131636054,0.21842976777774634,0.3705412050251881,1.9652896771114414,0.005940491162299444,0.2354554670931679,0.9937084674348191,0.7078478614152273,0.9596003306013772,-0.13173898984081886,0.1817176557814827,0.3162482700583402,0.0010641784052832781,0.06078106272122952,-0.6102854657852456,0.2547073016560526,7.91667640374083e-05,0.21023597907623462,0.8301565201098943,0.37323639177257073,0.4442118172122367,0.13173898984081875,-0.780522186673046,-0.03145268218088986,0.9584117335075018,-0.8549874148556716,0.13015538785461112,0.9559732171873522,0.728279157576691,1.9830184059878606,0.0068884727043596605,-0.7225049421328024,-0.49150049171313454,1.997151312421456,1.8134316083530795,1.1234187994392781,1.8656756603109397,1.347051479400581,0.9684996585566354,0.38971453421475455,-0.5096550341432096,0.9295910814913972,1.3153925398074662,0.14284470101281954,0.9940595088377006,-0.8878432649539697,0.6806299393183033,1.899141073491022,1.9982763964192585,0.8433584012562634,-0.20202739586436494,0.9517833011151456,0.03362332150721481,0.7340021233078164,-0.2954231086777839,0.35063169108114645,0.9866504482885479,1.450810982164386,1.039836092185151,0.09721918826981402,1.8348042475796122,-0.32334196293575485,1.7908999500097056,-0.9311289178486019,-0.7960055286803387,-0.2061335007051451,0.7857387149402307,0.9630647472666809,1.9326503730218287,-0.34705147940058106,-0.8010550916675918,-0.9630647472666808,1.506041803460128,1.6102854657852457,0.6333578528809571,0.26320544253664785,0.972739889708047,-0.9715562940339508,1.946958214215985,-0.9931115272956403,1.5096550341432096,0.1649212004720041,0.586766789155251,0.6647767402911307,0.09364297959456525,0.5529369599115427,-0.9442291405172757,-0.6837517299416598,0.1358956451350064,0.32334196293575496,0.7408433488321586,1.6525523067180936,0.7452926983439474,0.019368451039529555,0.51582230165101,1.8614457900381747,1.0775182340407659,-0.6332780839442261,0.8819830448449004,0.07512044269719553,0.5557881827877633,1.991005977167144,0.00014073946949377802,-0.9705544843573901,0.5382327876885794,1.9999912035897158,-0.5833652112177685,0.3863971995668062,1.9968261715188322,0.22252093395631445,-0.36664214711904286,-0.4470630400884572,0.6529485205994188,0.14719551091601457,1.0942335856100323,0.08163013735947355,0.3010962365320914,0.17318919653496456,-0.5024196700743979,0.2274054764017146,-0.9584117335075018,-0.7166798833133079,0.9830184059878606,-0.31539253980746623,-0.5765313262482493,0.526870215109881,0.004254448669776756,-0.9684996585566354,1.900968867902419,-0.6036186451114249,1.6267636082274295,0.18968804521490776,-0.2994276710818868,0.8935629097065211,1.7225049421328023,0.03564470072843258,0.04821669888485433,0.04778374085686832,0.012675167550215138,0.0146798122093166,0.7195987426088349,0.8309433144045478,0.18656839164692063,0.7018974952906882,0.846165847285141,1.8677677694694959,0.8656756603109395,1.9964834936322355,0.7311470719118762,1.1109224124096042,1.9428396741109608,1.9400110044071468,1.0,1.9977489607028271,0.8392171860805318,-0.7048788787567758,-0.9280368910050942,1.9674466785826232,1.0104857646243366,0.9999208332359626,-0.4805034923449677,0.9652896771114413,0.9326503730218288,0.4620069591231689,0.0369352527333191,0.00021990251951398143,1.4282066767670574,0.4805034923449676,0.1814450051056926,-0.11508992393676373,0.8348042475796122,1.3705412050251882,0.9534889470304617,0.18556815749394906,1.6397479952662248,0.583198072652065,0.9811263984650054,1.4129855894603882,1.6365186386843251,0.39379626355392494,1.6837517299416598,0.6925790778006518,0.41323321084474895,0.24088945870826395,1.9845231970029773,-0.9989358215947167,0.8035587560807045,0.05659391252855332,-0.725398430756963,0.5985067484919692,0.0035165063677645714,-0.5132592985567243,1.7536231303294127,0.6411752507928641,1.9341554202443905,-0.48417769834899016,-0.8571552989871803,-0.018873601534994476,0.9980214575672559,1.630026388056427,1.8278107286769085,0.2891956089667367,1.923276469633223,-0.658885805796111,0.4098419557901032,0.506041803460128,0.9994370817372216,1.850606560075943,0.8807445892924578,0.29942767108188667,1.9898485567503186,0.1989449083324083,1.6234898018587334,1.8109847531882046,-0.9695355998899344,1.2591566511678414,0.5901580442098968,0.39973072362626727,1.3114094702888743,-0.9904359792399647,0.7048788787567759,1.3588247492071357,-0.10258160839360356,-0.2102359790762345,0.5487949273598557,0.9971513124214559,1.848393666499315,-0.3744337440664002,1.0314526821808898,0.8103119547850922,1.4878433863016425,0.43034312979152745,-0.035644700728432455,0.12809384819890157,-0.6136028004331938,0.008994022832855997,0.48417769834899005,1.7831373396039862,0.992611324828956,1.7018974952906882,1.9619268579460558,0.4129855894603884,-0.5275854277211027,0.8859054323708803,0.6776063379870182,1.4319932822235613,0.1566415987437366,0.16060677093764053,0.5946688157908528,-0.8819830448449005,-0.9945072712354073,0.6965730342913008,1.5901580442098968,-0.9596003306013772,0.8393932290623595,0.44330723291268215,0.769924722779425,-0.9961232847903359,0.9264663737322871,0.873952352168327,0.6136028004331938,0.7246762510237401,-0.15249762780046486,0.9987335824545847,1.3352232597088691,-0.7699247227794251,1.0565939125285535,0.35490654673145294,-0.1690566855954521,0.5305695868363947,-0.40533118420914727,1.1317389898408188,1.945601995269746,0.7645445329068321,0.7960055286803388,0.10258160839360346,1.6202050265458277,0.6651729384390335,0.3153925398074661,1.6776063379870183,-0.08169930143964559,1.8035587560807045,0.2266081853640186,1.9264663737322874,-0.8393932290623596,0.9400110044071468,1.9371161852145424,1.997458910619961,0.0490731809139876,1.869844612145389,1.9596003306013772,1.4694304131636056,0.25191731382569005,-0.07751823404076581,0.09423358561003237,-0.33126863217557584,0.9837794552231361,-0.7908999500097057,1.893562909706521,0.05439800473025391,-0.2591566511678415,0.9280368910050942,1.6958977359566239,0.24362651081788678,0.8010550916675917,0.07040891850860276,0.8698446121453889,0.9057664143899676,1.0816993014396457,0.4030906527936313,0.5908380140085308,1.6868064092127586,0.573099139443525,-0.2306914500945787,0.13223223053050426,1.8819830448449006,0.11801695515509958,0.8571552989871805,1.9945072712354073,-0.9725410112949588,0.06142814912607397,0.07997840632914033,-0.6989037634679087,0.8799985589078699,-0.9496206495439914,-0.43199328222356115,1.3549065467314532,1.911601666203714,1.1566415987437366,0.938571850873926,-0.462006959123169,0.21433475880346695,1.728279157576691,1.1358956451350062,1.8528044890839854,0.6525523067180936,1.9822400626861534,0.5417630526990613,0.9150179597740837,0.9392189372787705,0.5204406750972002,0.5048510497553335,0.7618342385058144,-0.18968804521490784,-0.9859587061630106,0.7831373396039862,0.9945072712354073,-0.9619268579460558,-0.9873248324497849,-0.639747995266225,-0.5240176608834927,-0.039836092185151155,-0.8182823442185172,-0.7137484155971886,1.9200215936708598,1.1192554107075423,1.7985373344359863,0.0019785424327440904,0.9663766784927852,-0.3391719897195042,-0.6682989789591384,-0.23477065631185035,-0.7618342385058146,0.0008795133638197505,3.518548638270502e-05,1.1150899239367638,1.443307232912682,0.9643552992715674,-0.9469582142159849,0.9469582142159848,0.0007124256698034515,1.9183698626405263,1.8954380618198627,0.9116016662037142,1.3860715637736816,1.2347706563118503,0.029445515642609887,0.5231791670707783,0.09005705074247074,0.5696568702084726,1.8549874148556715,1.9957455513302231,0.3114094702888741,-0.9522162591431317,0.0440267828126478,0.6682989789591385,1.616909340077174,0.0012664175454153437,1.027260110291953,-0.9341554202443904,-0.7563734891821133,1.5452837865693665,0.031500341443364555,0.0,-0.9920936595293399,0.5604563732876984,1.935644033038261,0.416801927347935,1.8301565201098942,0.25915665116784137,0.09542312690288035,0.3744337440664003,-0.4395436267123016,0.9814444390112685,0.06288381478545757,0.7733918146359814,1.6429660968764352,1.0020971898202218],\"xaxis\":\"x\",\"y\":[0.41489467080110215,0.3607814874716323,0.1985720187329295,0.9208413913255159,0.23881837878194911,0.7522429759860901,0.44968865657298207,0.2081851977117968,-0.48021863350131655,0.9986258736973039,0.7181408922282905,0.5470405599642357,0.7818314824680298,0.5329196551903667,0.45387815772447526,0.7268403925651606,0.01032698415023936,0.4263105448588359,0.8667236209064565,0.474976353432539,-0.3538978297808061,0.23073007488365105,0.9999450228588784,0.22865032055535922,0.8405312574379338,0.8382515088591095,0.23273156500436024,0.17071087142450803,-0.3382515088591095,0.856073239516358,-0.4191977495680501,0.6251280797653604,-0.4947245918440849,0.03613410893258828,0.2836172608610322,-0.46018829966497843,0.9973073047041778,-0.31707504542387943,0.8218826255763579,-0.07824361986295358,0.403678764052958,-0.32426474788357174,-0.29727318484560084,0.8495019814316744,-0.12839638005154252,0.676062522435102,-0.0006052847755593227,0.15456995318765607,0.7972731848456008,-0.36250895250473847,0.19058412331789087,0.14212612250853615,0.4969699168661379,0.43010092533239963,0.3094158766821092,-0.03291965519036666,-0.4363821683290997,0.9907231569077914,-0.22395327849414914,-0.4435364822499037,0.9502758240713076,0.8560732395163582,0.7325762086218415,0.42251266438035007,0.257130541292263,0.9933550772046368,-0.37496968885869086,0.8849306693471294,-0.2152157222897113,0.952854698514318,0.42457281566856775,0.18659830574860048,0.21461088129512462,0.947630077794162,0.47902962370604973,-0.49998020811313126,0.9990303510880778,-0.15096173935168233,0.5850672868108991,0.9363821683290997,-0.276573724994976,0.4338837391175581,0.16675332121334352,-0.2947343715156179,-0.36462389229209546,0.6852805765811442,0.154569953187656,-0.44628218571674116,-0.3926194364677379,0.8048052897060829,0.8450463528017435,0.24692506228500066,-0.49788740359420935,-0.45157363172489307,0.32061777267279357,-0.10528935089784497,0.047318016820801834,-0.29473437151561765,0.1338176117668902,-0.32188262557635794,-0.4541190019020046,0.3253257852397733,-0.3266323690489753,0.9476300777941619,-0.4679752972489347,-0.48830383663893107,0.293418874071771,-0.07137926134898298,0.9208413913255159,-0.3667236209064566,0.21638273913896777,0.35372333618783935,0.9928636094736152,-0.42408004561705237,0.9997339199993958,0.9318916947628905,0.6445709093670563,-0.35607323951635805,0.9841534903699073,-0.4785238780362193,0.951573631724893,0.6413584564859117,0.09632123594704209,0.482341656066921,0.9951461071019849,-0.3289854474194346,0.15871255535717477,0.5293658344130732,0.14705490024665624,0.3786626280929699,0.21228583577869142,-0.04704055996423584,-0.49862587369730393,0.1945753843851803,-0.45900814101402687,-0.49788740359420935,0.9918282811511837,0.8688081014076726,-0.4918282811511837,0.01677674376597653,0.00838866704231825,0.5679319735974314,0.9036808297026738,-0.4449176458666202,0.33719836624879623,0.35372333618783935,0.8266323690489753,0.9998218777187756,0.7122779696892628,0.9256750011740591,0.1504246316966858,0.5952254409264031,-0.3122099669056323,-0.24668933430736895,0.8538978297808061,-0.04704055996423573,0.7870342216991237,-0.17296597773957612,-0.42408004561705237,0.7685847399947817,0.43294023996144915,0.11717292499771687,0.9802186335013165,-0.49630558019185766,0.043581995982722166,-0.31707504542387943,-0.20932768611029884,0.9679752972489347,0.38800530700757907,0.1711233173833492,0.6913657560175194,-0.4826313952466107,-0.4848885734962983,0.3288766826166508,0.9601882996649784,0.3786626280929699,0.8646238922920956,0.9758526715383627,0.3490175574508299,0.9636273395320362,-0.4942855765749259,-0.29727318484560084,0.029356460794360786,-0.48021863350131655,0.22456505350229608,0.4036787640529579,0.9378460804662287,0.28940654212700667,0.7818314824680299,0.25504955491760173,-0.49973391999939576,-0.4863067462178655,-0.12184878171303892,0.30002699391025245,-0.08846371077605619,0.3332466787866565,0.025023646567461144,0.27952416428345916,0.9669138048826764,0.7549999700799639,0.9986258736973039,0.100428367841924,0.8427962187011643,0.037740479452068494,-0.3667236209064565,0.5364641004077894,0.6086227685652906,0.9951461071019849,0.5364641004077895,0.7410831473738392,-0.48698981086338355,-0.358233588509014,0.4675776262501251,0.4187073507123719,0.703389733851605,0.3953324909061837,0.9978874035942094,0.4489379983882135,0.21228583577869134,0.36469019502324407,-0.49235467447126346,0.879000508125384,0.07960894280862929,0.004194370416562193,0.25307493771499917,0.9124617631547728,0.3918676653914324,-0.20040216963720414,-0.34950198143167444,0.07748733561964982,-0.49630558019185766,0.03985400482469115,-0.23542480969832857,0.08378930073997938,-0.48184441002765155,0.7181408922282904,0.7297147194635638,-0.379000508125384,-0.3603788387521417,0.6667374249246836,-0.015058048590833595,-0.49989224575126057,-0.2549999700799639,0.11199469299242071,-0.4272536714968658,0.3454300468123439,0.9624979192403444,-0.14135845648591172,0.5222303164296406,0.8242647478835717,-0.3122099669056323,-0.4959366082294435,0.09632123594704205,-0.11855854358668005,0.02097037629395004,0.0586876166851221,-0.4502758240713076,0.38699358331384137,0.6791471732839776,0.029356460794360696,0.3332466787866567,0.4455000405399262,0.31738199820091706,0.5644746943205735,-0.33595701307189874,-0.18832922112557116,-0.4969909344578821,0.557530404658823,0.9938290690180247,0.8849306693471295,-0.4089973340769745,0.9107375598371111,-0.23826047257809713,-0.4578111107049271,0.6509617393516823,-0.3048052897060829,0.5222303164296407,0.6185585435866799,0.7792094579775926,0.2713496794446406,0.09275251931972528,0.27330700679277975,0.19586159701020608,0.09214552081392627,0.3995047434820629,0.21638273913896788,0.9901444454267315,0.11973982001349603,0.09658689499363904,-0.20932768611029862,-0.4933550772046368,0.5918497820047385,0.1462766638121607,0.07542718433143224,0.18350698485094658,-0.4318916947628906,-0.49760612950201066,0.2652281062224413,0.5078495356161163,-0.21227796968926282,0.6509617393516822,0.3041384029897939,-0.22105342804300954,0.9054689379725361,-0.4918282811511837,0.6822198760184941,0.9963055801918577,0.8170750454238794,-0.36880810140767273,0.19997300608974755,0.013988388884124903,-0.23257620862184158,-0.48104015139616085,0.9613515658954623,-0.4565972297968185,0.22047583571654086,0.7382604725780971,-0.4951461071019849,-0.15730676052547699,0.329289128575492,-0.22105342804300954,-0.49072315690779145,-0.3945024528679989,0.9158619814106868,0.38413612251598,-0.4848885734962983,-0.46473980690084904,0.6283963800515425,0.5470405599642358,0.8382515088591095,0.6698575936743557,0.8146496721575098,-0.1698575936743557,0.21863332551681325,0.4301009253323998,0.9363821683290997,-0.0782436198629537,0.9848885734962983,0.6086227685652905,0.41203181541880385,-0.47937987079593547,0.9826313952466107,0.9334049492885904,0.07124409887731561,-0.06793197359743142,-0.2631910640435997,0.1628016337512037,-0.3729311716520074,0.5540435164435727,-0.06100748434170278,-0.3907207163738955,0.2773392802280802,0.20658112592822908,0.9349017825885,0.7947343715156177,0.021336784732240544,-0.45536651964528996,0.6604619531486197,-0.2739243298901577,0.37637754760791187,0.5748164969277134,0.9966570243289684,-0.49815112203236933,0.858233588509014,-0.4993645257412235,0.9710575246531177,0.4526819831791979,-0.4889347746515408,0.8122099669056323,-0.06793197359743142,0.3082532578272672,-0.004231845626030184,-0.48954831451210656,0.52580270059764,0.5505468810401504,0.8926194364677379,0.11586387748401994,0.9889347746515408,0.9869898108633836,0.2631912849513025,-0.319486044035584,-0.2604740622610796,0.2795241642834594,0.8603788387521417,0.18261800179908283,0.9976061295020107,-0.4669138048826764,-0.17914717328397756,-0.4767602628939507,0.8945024528679988,-0.31464967215750994,0.3745003158502688,0.496969916866138,-0.4749279121818236,-0.38880632599031373,-0.14777202242784915,-0.13813472030052187,0.91416991369636,0.6348997575254999,-0.3907207163738955,0.9995052419990742,0.054813884488422615,0.5644746943205733,0.601945284483457,0.3957231297177619,0.776573724994976,0.9700471753592452,0.9749279121818236,0.03242237374987489,0.10042836784192422,0.021336784732240544,0.9240800456170524,-0.3427962187011643,-0.47105752465311757,0.4786632152677594,0.05857359944450846,0.3802601799865039,0.40341310500636096,-0.2685847399947817,-0.4036808297026738,0.9636273395320363,0.2105934578729931,0.9710575246531176,-0.49989224575126057,0.8146496721575099,-0.347281620153466,0.24088169895980185,-0.33132394159766376,0.24286945870773702,0.14627666381216062,0.9901444454267314,-0.07481649692771353,0.8517073975739514,0.4916113329576819,0.23477189377755892,0.7997979718914991,0.9000569500164497,-0.10528935089784486,0.39116207972701134,0.2550495549176016,0.4564180040172778,0.09658689499363904,0.41203181541880374,0.04193152971073556,0.9959366082294435,0.1628016337512037,-0.4541190019020046,0.016776743765976463,0.30542461561481965,0.48234165606692114,0.5610074843417028,0.4860116111158752,-0.039999107708552195,0.969019760199474,0.7239532784941491,-0.4175379365295093,-0.23826047257809724,0.9998922457512606,0.03774047945206853,-0.08506728681089915,0.6019452844834571,-0.17914717328397756,0.29591910291992607,-0.20040216963720403,-0.4256750011740591,-0.21814089222829036,0.17525431396412772,0.879000508125384,0.01765834393307908,0.8266323690489754,0.29591910291992596,0.8048052897060829,0.12965978849900783,-0.3963697324471086,0.27733928022808,0.7210534280430095,0.3568664327560471,0.6152574232708531,-0.03291965519036688,0.4786632152677594,0.6698575936743557,0.43388373911755823,0.8688081014076727,0.18261800179908294,-0.24668933430736895,-0.47937987079593547,-0.4901444454267315,0.7631910640435997,0.16698931026075342,0.0851053291988979,-0.4578111107049271,-0.4966570243289684,-0.41073755983711113,0.12751170631334086,0.8359570130718988,0.2226607197719198,-0.44353648224990383,-0.47852387803621943,0.0544999594600739,0.4072474806802747,0.0736894551411641,0.18659830574860026,0.9613515658954623,0.7658946391426712,-0.176062522435102,0.11300641668615853,0.9810401513961609,-0.34728162015346586,0.13381761176689022,-0.44628218571674105,0.9997339199993958,1.2246467991473532e-16,0.5006052847755593,0.20818519771179703,-0.34950198143167455,0.12133737190703012,0.13530980497675604,0.9841534903699073,0.8072877323819243,0.9978874035942094,0.2347718937775587,0.9969909344578821,0.5399991077085522,0.2025739560490677,0.291814802288203,0.9992062278425892,0.35787387749146393,0.9601882996649784,-0.4208413913255159,-0.33595701307189885,0.07960894280862907,0.7152157222897114,0.41870735071237175,0.004194370416562157,0.293418874071771,0.847281620153466,0.3620269191944602,-0.4749279121818236,-0.4710575246531177,0.14212612250853604,-0.057530404658822865,0.9449176458666202,0.940724381202971,0.05031134342701794,0.746689334307369,0.03354876523191834,-0.48830383663893107,0.9955501149329835,-0.16673742492468357,0.12751170631334086,-0.3849306693471294,-0.11525742327085309,-0.03646410040778936,-0.46362733953203616,-0.4998218777187756,0.9421387191651557,-0.469019760199474,-0.3849306693471295,-0.11855854358667994,-0.09522544092640295,0.23680871504869747,0.9288160288122086,-0.20636492345662882,0.49580562958343777,0.959008141014027,0.34901755745082996,-0.47302695484414026,0.7792094579775923,0.6283963800515424,-0.4889347746515408,0.8907207163738955,0.19857201873292962,-0.46018829966497843,0.2245650535022961,-0.43189169476289047,-0.43036204563381564,0.1876285139692296,0.9515736317248931,0.9942855765749259,-0.37087729712385265,0.04193152971073569,-0.4841534903699073,-0.4256750011740591,0.9679752972489347,-0.4776506702814953,0.17938222732720638,0.5782436198629536,0.6119454788415752,-0.38687629899651865,0.9739860010934585,0.621848781713039,0.9981511220323693,0.08129264928762803,0.8809927392719135,0.9895483145121065,-0.3538978297808061,-0.4272536714968658,-0.24108314737383918,0.4526819831791981,-0.10862276856529052,0.6636055263831284,0.3134016942513996,0.3014279812670705,0.13797308080554008,0.047318016820802056,0.26118162121805083,0.9018768231381239,0.5610074843417028,-0.4863067462178655,-0.3888063259903136,0.787034221699124,0.9863067462178655,-0.46135156589546233,0.7494727478165161,-0.18528057658114405,-0.47398600109345845,0.35294509975334376,-0.4363821683290997,-0.13489975752549987,-0.1445709093670563,0.20257395604906758,-0.28443975233748153,0.31237148603077036,0.2974260439509323,0.4675776262501251,-0.3336478104429542,0.5850672868108993,0.9072411164898425,-0.09859062815368747,0.4455000405399261,0.819486044035584,0.9810401513961609,-0.34504635280174345,0.8729311716520074,0.08892530827766576,0.952854698514318,0.10049525651793699,0.008388667042318058,0.6636055263831283,-0.2577436815948352,-0.44072438120297086,-0.19439012783577492,0.7033897338516051,-0.4000569500164497,-0.13165362507296485,0.04358199598272228,0.8336478104429542,0.9565972297968185,-0.31464967215750983,-0.1283963800515424,-0.47585267153836275,0.5816605698619448,0.33301068973924663,0.27134967944464083,0.1917467421727327,0.9578111107049271,0.20408089708007393,0.7604740622610796,0.2918148022882032,0.3450838749450529,0.4622595205479315,0.4371257585705396,0.9923546744712635,0.8336478104429543,-0.20636492345662882,-0.41919774956805,-0.1822198760184942,0.9942855765749259,0.06705976003855087,-0.25224297598609013,0.8097559725895433,0.17071087142450814,0.6348997575254999,-0.13165362507296474,0.5042318456260302,-0.018648744757389313,0.058573599444508684,0.08129264928762825,0.3094158766821093,0.91919774956805,0.03985400482469137,0.8926194364677378,0.48741718391223965,0.9036808297026738,0.8888063259903136,-0.2712613192734703,0.2652281062224411,0.0851053291988979,0.9224688328856125,-0.30975597258954335,0.4999999999999999,0.06705976003855069,0.47483636010614383,0.08796818458119625,0.9175379365295093,0.7658946391426711,0.062341080336053345,0.9999450228588784,0.6604619531486197,0.41489467080110215,0.4664512347680817,-0.1636055263831283,-0.44072438120297097,-0.1822198760184941,0.9999802081131313,0.9124617631547728,0.42875590112268436,0.9240800456170524,0.7063649234566288,0.5114582911004466,0.47483636010614383,-0.06447469432057329,-0.49862587369730393,0.06287424142946038,0.9624979192403446,0.22266071977191992,0.5078495356161163,0.036134108932588394,-0.14777202242784893,0.1392185125283677,-0.46249791924034445,0.36202691919445995,0.025163639893856223,-0.41586198141068675,-0.48954831451210645,0.06611626088244194,-0.28703422169912374,-0.43929349324554356,-0.4636273395320363,-0.49730730470417783,0.6152574232708531,0.380260179986504,0.4413123833148779,0.8023086882351872,-0.24947274781651607,0.9923546744712635,-0.4942855765749259,0.48967301584976064,0.9834010932077487,0.3685924866456919,-0.3769928128806357,0.9590081410140269,0.017658343933078857,0.43765891966394666,0.999997800895011,-0.469019760199474,0.04612184227552452,-0.499997800895011,0.03242237374987489,0.7631910640435997,-0.05404351644357275,0.9928636094736152,0.9938290690180247,0.38282707500228297,0.21461088129512462,0.05449995946007375,-0.4072411164898425,0.9054689379725361,0.25098511816423374,-0.41416991369636,0.7739243298901577,0.2631912849513025,0.02097037629395026,0.33714763467481457,0.9449176458666202,0.47064353920563917,-0.24947274781651618,0.9869898108633836,0.7268403925651605,0.9256750011740591,-0.254999970079964,0.5782436198629537,-0.3242647478835716,0.12549968414973123,-0.18832922112557127,0.19586159701020628,0.882969471271259,0.9983972801769396,0.22047583571654064,0.44518611551157744,-0.011458291100446605,0.9578111107049271,-0.319486044035584,0.33301068973924663,0.9072411164898426,-0.3582335885090139,0.21059345787299333,0.8289854474194346,0.5114582911004465,-0.11194547884157524,0.9334049492885904,-0.23257620862184147,0.9996283741405456,0.11300641668615867,0.2672684349956398,-0.37087729712385253,0.4564180040172777,0.5713792613489829,0.9421387191651556,0.7577436815948354,0.5258027005976399,-0.025802700597639894,-0.10194528448345708,0.2836172608610321,-0.47004717535924523,-0.49730730470417783,0.4664512347680818,0.44142640055549154,-0.25224297598609013,-0.4834010932077487,-0.09184978200473859,0.8907207163738955,0.6729659777395762,0.6413584564859116,0.741083147373839,-0.34279621870116417,0.49332580585414115,0.12362245239208791,0.9889347746515408,-0.4826313952466107,0.7844397523374815,0.3288766826166507,0.9089973340769745,0.657306760525477,0.3995716321580758,-0.22395327849414914,0.4832232562340235,-0.09184978200473848,0.9785238780362193,0.13530980497675593,0.9435364822499037,-0.3517073975739514,0.95536651964529,-0.4208413913255159,-0.49760612950201066,-0.20338973385160508,-0.4959366082294435,0.9224688328856125,-0.4018768231381239,-0.13813472030052198,0.25307493771499934,0.34957536830331426,-0.4124617631547728,0.3173819982009171,-0.4912844387741193,0.7604740622610796,0.9999802081131313,-0.38099273927191346,0.1628523653251854,-0.3405312574379338,0.4225126643803502,0.7494727478165162,-0.19740228337310706,-0.22684039256516053,0.42631054485883596,0.14313356724395288,0.1504246316966856,-0.4349017825885001,-0.03646410040778947,-0.28961484490892275,-0.07137926134898287,-0.12512807976536044,-0.4776506702814953,0.6573067605254772,0.9976061295020107,0.2877141642213087,0.2591183010401983,0.48967301584976064,-0.16046195314861966,-0.15414000402243822,0.3703402115009923,0.7844397523374814,-0.4489612983856591,0.22865032055535936,0.776573724994976,0.8708772971238526,-0.4669138048826764,0.8472816201534659,-0.4679752972489347,0.6541400040224383,0.3529450997533436,0.02516363989385616,-0.43929349324554356,0.1296597884990077,-0.2739243298901578,0.9876555115742565,0.8809927392719135,-0.3517073975739513,0.05868761668512224,0.9918282811511837,-0.2658946391426711,-0.48104015139616085,-0.1413584564859116,0.5884637107760562,0.7382604725780972,-0.19136575601751937,0.7712613192734703,0.9000569500164497,0.3371983662487963,-0.3646238922920956,-0.4834010932077487,0.8667236209064566,0.3880053070075793,0.20658112592822908,0.42039105719137093,-0.46249791924034456,0.9730269548441403,-0.4288160288122086,-0.447630077794162,-0.35607323951635816,0.399504743482063,0.3745003158502689,0.9669138048826764,0.4110746917223344,0.8450463528017433,0.26726843499563957,0.2877141642213086,-0.42246883288561254,-0.34504635280174334,-0.49920622784258917,0.39957163215807595,0.3371476346748148,0.31649301514905326,-0.49973391999939576,-0.3405312574379338,-0.47585267153836286,0.09275251931972517,0.45806847028926445,0.22669299320722025,-0.4841534903699073,0.19997300608974744,-0.4947245918440849,0.7325762086218416,0.5540435164435725,0.37034021150099217,-0.11525742327085309,0.9318916947628906,-0.3266323690489754,0.27543494649770395,0.39572312971776197,0.7239532784941491,0.17112331738334935,0.5293658344130732,-0.12512807976536044,0.07124409887731573,0.17525431396412755,0.38413612251598006,-0.33364781044295433,-0.1943901278357748,0.1004952565179371,0.6974022833731071,0.34128744464282534,-0.007849535616116343,0.7712613192734702,0.6883292211255712,-0.45285469851431803,0.013988388884124792,0.2449504450823983,0.2974260439509325,0.3247456860358724,-0.19740228337310695,-0.029365834413073166,-0.46473980690084893,-0.49883689857185753,0.9963055801918577,0.17864328149411124,-0.004231845626030406,-0.4000569500164497,-0.4449176458666202,0.204080897080074,0.32532578523977335,0.754999970079964,-0.47205079030619745,-0.3289854474194347,0.9988368985718575,-0.4072411164898426,0.44142640055549137,0.799797971891499,-0.4990303510880778,0.9158619814106868,-0.47302695484414026,-0.39822124235435274,0.6729659777395761,-0.039999107708552195,0.3082532578272673,-0.45536651964528996,0.345430046812344,-0.054043516443572526,0.9392934932455436,0.9793798707959355,0.3206177726727937,0.8313239415976638,0.7947343715156179,0.4638658910674117,0.700402169637204,0.4706435392056393,-0.4175379365295093,0.025023646567460922,0.7921815765664372,0.5918497820047386,0.15491612505494712,0.7210534280430095,0.08378930073997945,0.8625089525047386,-0.47004717535924523,0.5399991077085522,0.676062522435102,-0.4565972297968185,0.10883792027298868,-0.3048052897060829,-0.2631910640435997,0.13140751335430811,0.5816605698619449,0.8963697324471086,0.9700471753592452,0.6943901278357749,-0.3023086882351873,-0.4983972801769396,-0.043524614901905956,0.43765891966394666,0.1588558785594174,0.18762851396922972,-0.29979797189149904,-0.06447469432057351,0.8289854474194347,0.999997800895011,0.27543494649770395,-0.176062522435102,0.9883038366389311,0.5042318456260304,0.8242647478835716,0.3411441214405826,-0.3769928128806357,-0.4901444454267314,-0.08846371077605619,-0.40546893797253614,-0.4951461071019849,0.5679319735974314,0.7354248096983287,-0.10862276856529063,-0.40546893797253614,0.05106200161178642,0.9895483145121066,0.5186487447573893,0.8888063259903137,0.969019760199474,0.9856063296547362,0.9303620456338157,0.11199469299242093,0.6316536250729649,-0.24108314737383896,0.9973073047041778,-0.48560632965473616,-0.38687629899651876,0.4451861155115774,0.8023086882351873,0.571379261348983,0.39186766539143236,0.30002699391025256,0.9720507903061975,0.09214552081392606,-0.459008141014027,0.01258281608776032,-0.05054688104015037,-0.24389278442674334,-0.1698575936743557,0.9565972297968185,0.8729311716520074,-0.17296597773957623,0.4072474806802748,0.964739806900849,-0.4938290690180247,0.9392934932455436,0.6316536250729647,0.34957536830331437,0.9175379365295093,-0.4767602628939507,0.9767602628939507,0.5884637107760562,0.9996283741405456,0.4601459951753088,-0.4995052419990742,0.3869935833138415,-0.24389278442674323,-0.16046195314861966,-0.2818314824680298,-0.49994502285887843,0.8982212423543527,-0.011458291100446494,0.9802186335013165,0.28940654212700684,0.06989907466760037,0.882969471271259,0.9758526715383629,0.9288160288122086,0.23881837878194911,0.39116207972701134,-0.1445709093670563,-0.49998020811313126,0.7063649234566288,0.28136667448318675,0.9912844387741193,-0.07481649692771342,-0.2297147194635638,0.4538781577244755,0.9981511220323694,0.7921815765664372,-0.16673742492468346,0.48741718391223976,0.9776506702814953,0.5575304046588229,-0.27920945797759256,-0.33132394159766376,0.9912844387741193,0.6251280797653604,0.9995052419990742,0.28538911870487543,0.5186487447573893,0.006674194145858681,-0.4990303510880778,0.685280576581144,0.3164930151490535,0.3828270750022831,0.6913657560175192,0.8708772971238525,0.42457281566856775,-0.08166056986194481,-0.49235467447126346,-0.0006052847755593227,-0.43784608046622875,0.2490148818357663,-0.2921815765664372,0.8603788387521417,0.3685924866456918,-0.448961298385659,-0.015058048590833373,0.10883792027298868,0.4601459951753087,-0.44763007779416186,0.062341080336053345,0.44131238331487777,-0.48765551157425646,0.9793798707959355,-0.49883689857185753,0.24286945870773713,0.6791471732839776,0.95536651964529,-0.2604740622610796,0.1628523653251852,-0.3926194364677378,-0.49920622784258917,0.06989907466760026,-0.05054688104015037,0.9462821857167412,-0.11194547884157535,0.3646901950232439,0.605289350897845,0.9785238780362194,0.61855854358668,0.2692699251163489,0.1392185125283677,0.9378460804662287,0.5985906281536875,0.26926992511634895,-0.3625089525047386,-0.2921815765664372,-0.43036204563381575,0.9647398069008489,-0.4996283741405456,0.23680871504869747,0.17864328149411146,0.11717292499771702,-0.3603788387521417,0.9863067462178655,0.8097559725895432,-0.44213871916515557,0.07748733561964993,-0.3945024528679988,0.32928912857549186,0.7297147194635638,0.9907231569077914,0.946282185716741,-0.46583530177534394,-0.2577436815948354,0.6667374249246835,0.3041384029897938,-0.37496968885869086,-0.007849535616116343,-0.4969909344578821,0.7739243298901578,0.4712811354235584,0.11973982001349603,0.8313239415976638,0.3661823882331098,0.4832232562340235,0.2408816989598017,0.8427962187011642,0.4958056295834379,0.8122099669056323,-0.28961484490892275,0.4203910571913707,0.9749279121818236,0.9303620456338156,0.8945024528679989,-0.43784608046622875,-0.022230316429640684,-0.4955501149329835,0.10427687028223809,-0.21521572228971142,0.9848885734962983,0.8646238922920955,-0.13489975752549987,0.2853891187048753,0.697402283373107,0.18350698485094674,0.948961298385659,0.8170750454238794,-0.38099273927191346,0.407854479186074,0.24901488183576626,0.06611626088244171,0.7972731848456008,-0.27920945797759233,0.9818444100276515,0.9541190019020046,0.44893799838821363,-0.19136575601751915,0.9993645257412235,0.9988368985718575,0.1945753843851803,0.34128744464282523,0.9998922457512606,0.6943901278357748,-0.48560632965473616,-0.08166056986194492,0.7122779696892628,0.5329196551903669,0.003030083133861994,0.5006052847755593,0.4162106992600205,0.6822198760184942,-0.4938290690180247,0.1667533212133433,0.1588558785594174,0.0,0.43294023996144926,-0.48698981086338355,0.7093276861102988,0.37248829368665914,0.24692506228500077,-0.49994502285887843,0.012582816087760226,0.8769928128806357,0.2611816212180509,0.3607814874716323,0.8868762989965188,0.23073007488365116,0.47902962370604996,-0.4036808297026738,0.8769928128806357,0.9834010932077487,0.9933550772046368,0.5505468810401504,-0.4288160288122086,0.3014279812670704,0.9826313952466107,-0.2685847399947817,-0.4089973340769745,-0.4998218777187756,-0.41073755983711113,-0.2712613192734702,0.9191977495680501,-0.2297147194635638,-0.45157363172489295,-0.30975597258954324,-0.15096173935168222,0.3247456860358723,0.04612184227552469,0.595225440926403,0.9983972801769396,0.6883292211255713,-0.41586198141068675,0.41621069926002063,0.8582335885090139,-0.1573067605254772,-0.4334049492885904,0.14313356724395265,0.8749696888586909,0.5150580485908336,0.9998218777187756,0.06287424142946041,-0.276573724994976,-0.06100748434170278,-0.20338973385160497,0.11586387748401994,0.7522429759860901,-0.3072877323819243,0.8625089525047385,0.033548765231918146,-0.025802700597640005,-0.4928636094736152,0.9541190019020046,0.3578738774914638,-0.09859062815368747,-0.2818314824680299,-0.08506728681089926,0.2449504450823984,-0.46583530177534394,0.8072877323819243,-0.29979797189149915,-0.4502758240713076,0.13797308080553985,0.7093276861102986,-0.4334049492885904,0.9947245918440849,0.9776506702814953,0.8359570130718987,0.0754271843314323,-0.029365834413073166,0.9272536714968658,-0.4995052419990742,-0.48184441002765155,-0.3729311716520074,-0.3218826255763577,0.9993645257412235,0.01032698415023936,0.7896148449089228,0.3661823882331098,0.8749696888586909,-0.12184878171303903,0.12133737190703014,-0.21227796968926282,0.22669299320722036,0.9107375598371111,0.8495019814316745,0.46386589106741155,0.7354248096983286,-0.4018768231381238,0.9876555115742565,-0.04352461490190618,-0.41416991369636,0.4712811354235582,0.10466750909381646,-0.45285469851431803,-0.3072877323819243,0.2813666744831868,0.5435246149019062,0.8963697324471086,0.638134720300522,0.08796818458119615,0.37637754760791203,0.4860116111158751,0.7896148449089228,-0.46135156589546233,0.9883038366389311,0.05031134342701794,-0.4421387191651557,0.6381347203005219,-0.4983972801769396,0.9349017825885001,0.9856063296547362,-0.382969471271259,0.91416991369636,-0.4912844387741193,0.1746742147602267,0.6445709093670563,0.6052893508978449,0.9947245918440849,-0.2844397523374814,0.746689334307369,0.9489612983856591,-0.23542480969832869,0.9966570243289684,-0.09522544092640306,0.9739860010934586,0.12362245239208813,0.543524614901906,0.34114412144058265,0.15098244254917004,0.42875590112268425,0.19058412331789065,0.006674194145858792,0.21863332551681314,-0.382969471271259,-0.16360552638312842,0.9969909344578821,0.9955501149329835,0.9435364822499038,0.1793822273272064,0.6119454788415754,0.05106200161178642,0.1746742147602267,0.9658353017753439,0.3724882936866592,-0.21814089222829047,-0.15414000402243833,0.5985906281536875,0.13140751335430823,0.4933258058541413,-0.4955501149329835,-0.4966570243289684,-0.3023086882351872,-0.4124617631547728,-0.22684039256516064,0.819486044035584,0.9730269548441403,0.003030083133862105,0.028718864576441794,0.028718864576441572,0.5150580485908334,0.3953324909061835,0.2327315650043604,0.15491612505494734,0.10813233460856764,0.7152157222897113,0.4749763534325389,0.3134016942513997,0.9018768231381238,-0.4349017825885,0.08892530827766554,-0.48765551157425646,0.3450838749450527,0.8868762989965187,0.9767602628939507,-0.18528057658114416,-0.49072315690779145,-0.022230316429640573,0.7577436815948352,0.31237148603077025,0.8405312574379338,0.4034131050063609,-0.49815112203236944,0.8538978297808061,-0.3688081014076726,0.6477720224278491,0.9818444100276515,0.16698931026075342,0.6218487817130389,0.10466750909381628,0.27330700679277964,0.15871255535717466,0.7685847399947817,0.8517073975739513,0.9992062278425892,0.5748164969277135,0.7004021696372041,0.10813233460856764,-0.4928636094736152,-0.10194528448345697,0.4371257585705396,0.25713054129226287,0.9407243812029709,0.7438927844267433,0.9720507903061975,0.6477720224278489,0.45806847028926434,0.4916113329576818,-0.4933550772046368,-0.3963697324471086,-0.4993645257412235,0.32135671850588854,0.3213567185058887,0.4622595205479315,0.10427687028223809,0.054813884488422504,0.41107469172233424,-0.42246883288561254,-0.47205079030619745,0.2591183010401982,-0.379000508125384,0.9959366082294435,0.8218826255763577,-0.018648744757389313,0.40785447918607376,0.9502758240713076,0.30542461561481965,0.9990303510880778,0.7438927844267432,-0.28703422169912396,0.44968865657298207,-0.4996283741405456,0.3568664327560473,0.6541400040224382,-0.3382515088591095,0.25098511816423374,0.5,0.12549968414973106,-0.39822124235435274,0.14705490024665635,0.9089973340769745,-0.057530404658822976,0.9658353017753439,0.07368945514116398,0.9272536714968658,0.8982212423543527,0.19174674217273274,0.15098244254917015,-0.47398600109345856,-0.2658946391426712,-0.499997800895011],\"yaxis\":\"y\",\"type\":\"scattergl\"}],                        {\"template\":{\"data\":{\"histogram2dcontour\":[{\"type\":\"histogram2dcontour\",\"colorbar\":{\"outlinewidth\":0,\"ticks\":\"\"},\"colorscale\":[[0.0,\"#0d0887\"],[0.1111111111111111,\"#46039f\"],[0.2222222222222222,\"#7201a8\"],[0.3333333333333333,\"#9c179e\"],[0.4444444444444444,\"#bd3786\"],[0.5555555555555556,\"#d8576b\"],[0.6666666666666666,\"#ed7953\"],[0.7777777777777778,\"#fb9f3a\"],[0.8888888888888888,\"#fdca26\"],[1.0,\"#f0f921\"]]}],\"choropleth\":[{\"type\":\"choropleth\",\"colorbar\":{\"outlinewidth\":0,\"ticks\":\"\"}}],\"histogram2d\":[{\"type\":\"histogram2d\",\"colorbar\":{\"outlinewidth\":0,\"ticks\":\"\"},\"colorscale\":[[0.0,\"#0d0887\"],[0.1111111111111111,\"#46039f\"],[0.2222222222222222,\"#7201a8\"],[0.3333333333333333,\"#9c179e\"],[0.4444444444444444,\"#bd3786\"],[0.5555555555555556,\"#d8576b\"],[0.6666666666666666,\"#ed7953\"],[0.7777777777777778,\"#fb9f3a\"],[0.8888888888888888,\"#fdca26\"],[1.0,\"#f0f921\"]]}],\"heatmap\":[{\"type\":\"heatmap\",\"colorbar\":{\"outlinewidth\":0,\"ticks\":\"\"},\"colorscale\":[[0.0,\"#0d0887\"],[0.1111111111111111,\"#46039f\"],[0.2222222222222222,\"#7201a8\"],[0.3333333333333333,\"#9c179e\"],[0.4444444444444444,\"#bd3786\"],[0.5555555555555556,\"#d8576b\"],[0.6666666666666666,\"#ed7953\"],[0.7777777777777778,\"#fb9f3a\"],[0.8888888888888888,\"#fdca26\"],[1.0,\"#f0f921\"]]}],\"heatmapgl\":[{\"type\":\"heatmapgl\",\"colorbar\":{\"outlinewidth\":0,\"ticks\":\"\"},\"colorscale\":[[0.0,\"#0d0887\"],[0.1111111111111111,\"#46039f\"],[0.2222222222222222,\"#7201a8\"],[0.3333333333333333,\"#9c179e\"],[0.4444444444444444,\"#bd3786\"],[0.5555555555555556,\"#d8576b\"],[0.6666666666666666,\"#ed7953\"],[0.7777777777777778,\"#fb9f3a\"],[0.8888888888888888,\"#fdca26\"],[1.0,\"#f0f921\"]]}],\"contourcarpet\":[{\"type\":\"contourcarpet\",\"colorbar\":{\"outlinewidth\":0,\"ticks\":\"\"}}],\"contour\":[{\"type\":\"contour\",\"colorbar\":{\"outlinewidth\":0,\"ticks\":\"\"},\"colorscale\":[[0.0,\"#0d0887\"],[0.1111111111111111,\"#46039f\"],[0.2222222222222222,\"#7201a8\"],[0.3333333333333333,\"#9c179e\"],[0.4444444444444444,\"#bd3786\"],[0.5555555555555556,\"#d8576b\"],[0.6666666666666666,\"#ed7953\"],[0.7777777777777778,\"#fb9f3a\"],[0.8888888888888888,\"#fdca26\"],[1.0,\"#f0f921\"]]}],\"surface\":[{\"type\":\"surface\",\"colorbar\":{\"outlinewidth\":0,\"ticks\":\"\"},\"colorscale\":[[0.0,\"#0d0887\"],[0.1111111111111111,\"#46039f\"],[0.2222222222222222,\"#7201a8\"],[0.3333333333333333,\"#9c179e\"],[0.4444444444444444,\"#bd3786\"],[0.5555555555555556,\"#d8576b\"],[0.6666666666666666,\"#ed7953\"],[0.7777777777777778,\"#fb9f3a\"],[0.8888888888888888,\"#fdca26\"],[1.0,\"#f0f921\"]]}],\"mesh3d\":[{\"type\":\"mesh3d\",\"colorbar\":{\"outlinewidth\":0,\"ticks\":\"\"}}],\"scatter\":[{\"fillpattern\":{\"fillmode\":\"overlay\",\"size\":10,\"solidity\":0.2},\"type\":\"scatter\"}],\"parcoords\":[{\"type\":\"parcoords\",\"line\":{\"colorbar\":{\"outlinewidth\":0,\"ticks\":\"\"}}}],\"scatterpolargl\":[{\"type\":\"scatterpolargl\",\"marker\":{\"colorbar\":{\"outlinewidth\":0,\"ticks\":\"\"}}}],\"bar\":[{\"error_x\":{\"color\":\"#2a3f5f\"},\"error_y\":{\"color\":\"#2a3f5f\"},\"marker\":{\"line\":{\"color\":\"#E5ECF6\",\"width\":0.5},\"pattern\":{\"fillmode\":\"overlay\",\"size\":10,\"solidity\":0.2}},\"type\":\"bar\"}],\"scattergeo\":[{\"type\":\"scattergeo\",\"marker\":{\"colorbar\":{\"outlinewidth\":0,\"ticks\":\"\"}}}],\"scatterpolar\":[{\"type\":\"scatterpolar\",\"marker\":{\"colorbar\":{\"outlinewidth\":0,\"ticks\":\"\"}}}],\"histogram\":[{\"marker\":{\"pattern\":{\"fillmode\":\"overlay\",\"size\":10,\"solidity\":0.2}},\"type\":\"histogram\"}],\"scattergl\":[{\"type\":\"scattergl\",\"marker\":{\"colorbar\":{\"outlinewidth\":0,\"ticks\":\"\"}}}],\"scatter3d\":[{\"type\":\"scatter3d\",\"line\":{\"colorbar\":{\"outlinewidth\":0,\"ticks\":\"\"}},\"marker\":{\"colorbar\":{\"outlinewidth\":0,\"ticks\":\"\"}}}],\"scattermapbox\":[{\"type\":\"scattermapbox\",\"marker\":{\"colorbar\":{\"outlinewidth\":0,\"ticks\":\"\"}}}],\"scatterternary\":[{\"type\":\"scatterternary\",\"marker\":{\"colorbar\":{\"outlinewidth\":0,\"ticks\":\"\"}}}],\"scattercarpet\":[{\"type\":\"scattercarpet\",\"marker\":{\"colorbar\":{\"outlinewidth\":0,\"ticks\":\"\"}}}],\"carpet\":[{\"aaxis\":{\"endlinecolor\":\"#2a3f5f\",\"gridcolor\":\"white\",\"linecolor\":\"white\",\"minorgridcolor\":\"white\",\"startlinecolor\":\"#2a3f5f\"},\"baxis\":{\"endlinecolor\":\"#2a3f5f\",\"gridcolor\":\"white\",\"linecolor\":\"white\",\"minorgridcolor\":\"white\",\"startlinecolor\":\"#2a3f5f\"},\"type\":\"carpet\"}],\"table\":[{\"cells\":{\"fill\":{\"color\":\"#EBF0F8\"},\"line\":{\"color\":\"white\"}},\"header\":{\"fill\":{\"color\":\"#C8D4E3\"},\"line\":{\"color\":\"white\"}},\"type\":\"table\"}],\"barpolar\":[{\"marker\":{\"line\":{\"color\":\"#E5ECF6\",\"width\":0.5},\"pattern\":{\"fillmode\":\"overlay\",\"size\":10,\"solidity\":0.2}},\"type\":\"barpolar\"}],\"pie\":[{\"automargin\":true,\"type\":\"pie\"}]},\"layout\":{\"autotypenumbers\":\"strict\",\"colorway\":[\"#636efa\",\"#EF553B\",\"#00cc96\",\"#ab63fa\",\"#FFA15A\",\"#19d3f3\",\"#FF6692\",\"#B6E880\",\"#FF97FF\",\"#FECB52\"],\"font\":{\"color\":\"#2a3f5f\"},\"hovermode\":\"closest\",\"hoverlabel\":{\"align\":\"left\"},\"paper_bgcolor\":\"white\",\"plot_bgcolor\":\"#E5ECF6\",\"polar\":{\"bgcolor\":\"#E5ECF6\",\"angularaxis\":{\"gridcolor\":\"white\",\"linecolor\":\"white\",\"ticks\":\"\"},\"radialaxis\":{\"gridcolor\":\"white\",\"linecolor\":\"white\",\"ticks\":\"\"}},\"ternary\":{\"bgcolor\":\"#E5ECF6\",\"aaxis\":{\"gridcolor\":\"white\",\"linecolor\":\"white\",\"ticks\":\"\"},\"baxis\":{\"gridcolor\":\"white\",\"linecolor\":\"white\",\"ticks\":\"\"},\"caxis\":{\"gridcolor\":\"white\",\"linecolor\":\"white\",\"ticks\":\"\"}},\"coloraxis\":{\"colorbar\":{\"outlinewidth\":0,\"ticks\":\"\"}},\"colorscale\":{\"sequential\":[[0.0,\"#0d0887\"],[0.1111111111111111,\"#46039f\"],[0.2222222222222222,\"#7201a8\"],[0.3333333333333333,\"#9c179e\"],[0.4444444444444444,\"#bd3786\"],[0.5555555555555556,\"#d8576b\"],[0.6666666666666666,\"#ed7953\"],[0.7777777777777778,\"#fb9f3a\"],[0.8888888888888888,\"#fdca26\"],[1.0,\"#f0f921\"]],\"sequentialminus\":[[0.0,\"#0d0887\"],[0.1111111111111111,\"#46039f\"],[0.2222222222222222,\"#7201a8\"],[0.3333333333333333,\"#9c179e\"],[0.4444444444444444,\"#bd3786\"],[0.5555555555555556,\"#d8576b\"],[0.6666666666666666,\"#ed7953\"],[0.7777777777777778,\"#fb9f3a\"],[0.8888888888888888,\"#fdca26\"],[1.0,\"#f0f921\"]],\"diverging\":[[0,\"#8e0152\"],[0.1,\"#c51b7d\"],[0.2,\"#de77ae\"],[0.3,\"#f1b6da\"],[0.4,\"#fde0ef\"],[0.5,\"#f7f7f7\"],[0.6,\"#e6f5d0\"],[0.7,\"#b8e186\"],[0.8,\"#7fbc41\"],[0.9,\"#4d9221\"],[1,\"#276419\"]]},\"xaxis\":{\"gridcolor\":\"white\",\"linecolor\":\"white\",\"ticks\":\"\",\"title\":{\"standoff\":15},\"zerolinecolor\":\"white\",\"automargin\":true,\"zerolinewidth\":2},\"yaxis\":{\"gridcolor\":\"white\",\"linecolor\":\"white\",\"ticks\":\"\",\"title\":{\"standoff\":15},\"zerolinecolor\":\"white\",\"automargin\":true,\"zerolinewidth\":2},\"scene\":{\"xaxis\":{\"backgroundcolor\":\"#E5ECF6\",\"gridcolor\":\"white\",\"linecolor\":\"white\",\"showbackground\":true,\"ticks\":\"\",\"zerolinecolor\":\"white\",\"gridwidth\":2},\"yaxis\":{\"backgroundcolor\":\"#E5ECF6\",\"gridcolor\":\"white\",\"linecolor\":\"white\",\"showbackground\":true,\"ticks\":\"\",\"zerolinecolor\":\"white\",\"gridwidth\":2},\"zaxis\":{\"backgroundcolor\":\"#E5ECF6\",\"gridcolor\":\"white\",\"linecolor\":\"white\",\"showbackground\":true,\"ticks\":\"\",\"zerolinecolor\":\"white\",\"gridwidth\":2}},\"shapedefaults\":{\"line\":{\"color\":\"#2a3f5f\"}},\"annotationdefaults\":{\"arrowcolor\":\"#2a3f5f\",\"arrowhead\":0,\"arrowwidth\":1},\"geo\":{\"bgcolor\":\"white\",\"landcolor\":\"#E5ECF6\",\"subunitcolor\":\"white\",\"showland\":true,\"showlakes\":true,\"lakecolor\":\"white\"},\"title\":{\"x\":0.05},\"mapbox\":{\"style\":\"light\"}}},\"xaxis\":{\"anchor\":\"y\",\"domain\":[0.0,1.0],\"title\":{\"text\":\"x\"}},\"yaxis\":{\"anchor\":\"x\",\"domain\":[0.0,1.0],\"title\":{\"text\":\"y\"}},\"legend\":{\"tracegroupgap\":0},\"margin\":{\"t\":60}},                        {\"responsive\": true}                    ).then(function(){\n",
              "                            \n",
              "var gd = document.getElementById('2f5d5275-76f8-460b-89a5-396d9637433b');\n",
              "var x = new MutationObserver(function (mutations, observer) {{\n",
              "        var display = window.getComputedStyle(gd).display;\n",
              "        if (!display || display === 'none') {{\n",
              "            console.log([gd, 'removed!']);\n",
              "            Plotly.purge(gd);\n",
              "            observer.disconnect();\n",
              "        }}\n",
              "}});\n",
              "\n",
              "// Listen for the removal of the full notebook cells\n",
              "var notebookContainer = gd.closest('#notebook-container');\n",
              "if (notebookContainer) {{\n",
              "    x.observe(notebookContainer, {childList: true});\n",
              "}}\n",
              "\n",
              "// Listen for the clearing of the current output cell\n",
              "var outputEl = gd.closest('.output');\n",
              "if (outputEl) {{\n",
              "    x.observe(outputEl, {childList: true});\n",
              "}}\n",
              "\n",
              "                        })                };                            </script>        </div>\n",
              "</body>\n",
              "</html>"
            ]
          },
          "metadata": {}
        }
      ]
    },
    {
      "cell_type": "code",
      "source": [
        "kmeans = KMeans(n_clusters=2)\n",
        "rotulos = kmeans.fit_predict(x_random)\n",
        "grafico = px.scatter(x = x_random[:,0], y = x_random[:,1], color= rotulos)\n",
        "grafico.show()"
      ],
      "metadata": {
        "id": "nu_LfHJgtULc",
        "outputId": "88a5f72d-2c64-4bb6-b736-f187f8306d29",
        "colab": {
          "base_uri": "https://localhost:8080/",
          "height": 611
        }
      },
      "execution_count": 82,
      "outputs": [
        {
          "output_type": "stream",
          "name": "stderr",
          "text": [
            "/usr/local/lib/python3.10/dist-packages/sklearn/cluster/_kmeans.py:870: FutureWarning:\n",
            "\n",
            "The default value of `n_init` will change from 10 to 'auto' in 1.4. Set the value of `n_init` explicitly to suppress the warning\n",
            "\n"
          ]
        },
        {
          "output_type": "display_data",
          "data": {
            "text/html": [
              "<html>\n",
              "<head><meta charset=\"utf-8\" /></head>\n",
              "<body>\n",
              "    <div>            <script src=\"https://cdnjs.cloudflare.com/ajax/libs/mathjax/2.7.5/MathJax.js?config=TeX-AMS-MML_SVG\"></script><script type=\"text/javascript\">if (window.MathJax && window.MathJax.Hub && window.MathJax.Hub.Config) {window.MathJax.Hub.Config({SVG: {font: \"STIX-Web\"}});}</script>                <script type=\"text/javascript\">window.PlotlyConfig = {MathJaxConfig: 'local'};</script>\n",
              "        <script charset=\"utf-8\" src=\"https://cdn.plot.ly/plotly-2.29.1.min.js\"></script>                <div id=\"57898803-1f30-400d-94b8-0a7e9a65fdd4\" class=\"plotly-graph-div\" style=\"height:525px; width:100%;\"></div>            <script type=\"text/javascript\">                                    window.PLOTLYENV=window.PLOTLYENV || {};                                    if (document.getElementById(\"57898803-1f30-400d-94b8-0a7e9a65fdd4\")) {                    Plotly.newPlot(                        \"57898803-1f30-400d-94b8-0a7e9a65fdd4\",                        [{\"hovertemplate\":\"x=%{x}\\u003cbr\\u003ey=%{y}\\u003cbr\\u003ecolor=%{marker.color}\\u003cextra\\u003e\\u003c\\u002fextra\\u003e\",\"legendgroup\":\"\",\"marker\":{\"color\":[0,1,0,1,1,1,0,0,0,1,1,0,1,1,0,1,0,1,1,1,0,0,1,1,1,1,0,1,0,1,0,0,0,0,0,0,1,0,1,1,1,0,0,1,1,0,1,1,1,0,0,1,0,1,1,0,0,1,0,0,1,1,1,0,1,1,0,1,0,1,1,1,0,1,0,0,1,0,0,1,0,0,1,0,0,1,0,0,0,1,1,1,0,0,1,0,0,0,1,0,0,0,0,1,0,0,0,1,1,0,1,0,1,0,1,1,1,0,1,0,1,1,1,1,1,0,0,1,1,1,1,0,0,0,0,0,1,1,0,0,0,1,1,0,0,1,1,1,1,1,1,1,0,0,1,1,1,0,0,1,1,0,1,0,0,0,0,1,0,1,0,0,0,0,1,0,1,1,0,1,0,0,0,0,0,0,1,0,1,1,0,0,1,0,0,0,1,0,1,1,1,0,1,0,0,0,0,1,1,1,0,0,1,0,1,1,1,1,0,0,0,1,1,0,1,1,1,0,0,0,0,1,0,0,0,1,1,0,0,1,0,0,0,0,0,0,1,0,1,1,0,0,0,1,0,0,0,1,1,1,1,0,1,1,0,1,0,1,1,1,0,1,0,0,1,0,0,1,1,1,0,0,1,1,1,0,1,0,1,0,0,1,0,1,1,0,0,1,0,0,0,0,0,1,0,1,1,1,0,1,1,0,0,1,0,1,1,0,1,0,0,0,0,1,1,0,0,0,1,1,1,1,0,1,0,1,0,1,1,0,0,1,1,0,1,0,1,0,1,1,0,1,0,1,1,0,0,1,0,1,0,1,0,1,0,1,0,0,1,0,1,1,0,1,1,1,1,1,1,1,0,0,1,1,1,1,0,0,0,1,0,1,1,0,0,1,0,1,1,0,1,1,0,1,1,1,1,1,1,1,1,1,0,0,1,1,0,1,0,0,1,0,1,0,1,0,0,0,0,1,1,0,1,0,1,1,1,1,0,0,1,0,1,1,1,0,0,1,0,0,0,1,0,1,1,0,0,1,1,1,0,1,0,1,0,0,1,1,0,1,1,1,1,0,0,1,0,1,1,0,0,1,1,0,0,0,0,1,0,1,0,0,0,1,1,0,0,0,0,1,0,0,1,1,0,1,1,0,0,0,1,1,1,1,0,1,0,1,1,1,0,1,0,0,0,1,1,1,0,0,0,1,1,1,1,1,0,0,0,0,1,1,1,1,1,1,0,1,0,0,0,0,1,0,0,1,0,0,0,1,0,1,0,1,1,1,0,1,1,0,1,1,0,1,0,0,0,1,1,0,0,0,0,1,0,1,0,0,0,1,1,1,1,1,1,0,0,0,1,0,0,0,1,0,1,1,1,1,0,0,1,1,0,1,1,0,0,0,0,0,1,0,1,1,0,0,1,1,0,1,1,1,0,1,1,1,1,1,1,0,0,0,1,0,0,1,1,1,0,0,0,1,1,0,1,1,1,1,1,1,0,0,1,1,0,0,1,1,0,0,1,0,0,1,0,1,0,0,0,1,0,1,0,1,1,0,0,0,1,0,0,1,0,0,1,1,1,1,0,1,0,0,0,0,1,1,1,1,1,0,1,1,0,1,1,1,1,1,0,1,0,1,1,0,0,1,0,0,0,0,0,1,1,1,0,1,0,0,1,1,0,1,1,0,1,0,0,0,0,1,0,1,1,0,1,1,0,1,0,0,1,0,1,0,1,1,0,1,1,1,0,1,0,0,0,0,1,1,0,1,1,1,0,0,1,0,1,1,1,1,1,0,1,0,1,0,0,1,1,1,0,1,1,1,0,0,1,0,0,0,1,1,0,0,1,0,1,1,1,0,1,1,1,0,0,0,0,0,1,1,1,0,1,0,0,0,0,1,0,1,0,0,0,0,0,1,1,0,1,0,1,1,1,0,0,1,0,0,0,0,0,0,0,1,1,1,0,1,0,0,1,1,0,0,1,1,0,1,0,0,1,0,0,0,0,1,1,0,1,1,0,0,1,1,1,1,1,1,1,0,0,1,1,1,1,0,1,0,0,0,0,0,1,1,1,0,0,0,0,0,1,1,1,0,0,0,1,0,1,0,0,0,1,0,0,1,1,0,1,0,1,0,0,1,1,0,0,0,1,0,0,0,1,1,0,0,0,0,0,1,0,1,0,0,1,1,0,0,0,0,1,1,0,0,1,0,1,1,0,1,0,0,1,1,0,0,1,1,1,1,0,1,1,1,0,0,0,0,1,0,0,1,1,1,0,1,1,0,1,0,0,0,0,1,1,1,0,0,0,1,1,1,0,0,1,1,0,1,1,1,1,1,0,0,1,0,0,0,1,1,0,1,1,0,1,1,1,1,1,1,0,1,0,0,0,1,0,0,1,1,0,0,1,1,0,1,1,1,1,0,1,0,1,0,1,1,0,1,0,1,0,0,0,0,1,0,0,1,0,1,1,0,1,1,1,0,1,1,0,1,0,1,1,0,1,1,1,1,1,1,0,0,0,1,1,1,0,1,1,0,0,0,1,1,1,0,0,0,0,0,0,0,1,0,0,1,0,1,0,0,0,0,1,0,1,0,1,0,0,0,0,1,0,1,0,1,1,1,0,0,0,1,1,1,0,0,0,1,0,1,0,1,0,1,1,0,1,0,1,1,1,1,0,0,0,1,0,0,0,1,0,1,1,0,1,1,1,0,1,0,0,1,1,1,0,1,0,1,0,1,1,1,1,1,0,1,1,0,1,1,0,1,0,1,1,0,0,1,1,1,1,1,0,0,1,1,0,0,0,0,0,0,0,0,0,0,0,1,1,0,0,0,1,0,0,1,1,1,0,1,1,1,0,0,0,1,0,0,0,0,0,1,0,0,0,1,0,1,0,1,1,0,1,1,0,0,0,1,1,1,0,0,0,0,0,1,0,1,0,0,0,1,0,1,0,0,1,0,1,0,0,1,1,0,1,1,1,0,0,1,0,0,0,0,1,1,1,1,1,0,0,0,0,1,1,0,1,0,1,1,0,1,1,0,0,1,0,1,0,1,0,0,1,0,1,0,0,1,0,1,1,0,1,0,0,0,0,1,0,1,1,0,1,0,1,0,1,0,0,0,1,0,0,0,1,1,1,1,0,1,0,1,1,0,0,1,0,1,0,0,0,0,0,0,1,1,1,0,1,0,0,1,1,1,1,0,1,1,0,0,0,0,1,1,0,0,0,1,0,1,0,0,1,0,0,1,1,0,0,1,1,1,1,1,1,1,0,0,0,1,0,1,1,1,1,1,1,0,0,0,1,0,1,0,0,0,0,0,1,0,1,1,0,0,1,1,1,1,0,1,0,1,1,0,1,1,1,0,0,1,0,1,1,1,1,0,1,0,0,0],\"coloraxis\":\"coloraxis\",\"symbol\":\"circle\"},\"mode\":\"markers\",\"name\":\"\",\"showlegend\":false,\"x\":[0.909869447855485,-0.9326503730218288,1.9534889470304617,0.38993734371266375,0.03471032288855869,0.658885805796111,1.9987335824545847,0.9780894250801918,1.1979177367918592,0.05240576668932899,-0.6958977359566239,0.837106101849709,0.6234898018587336,-0.8461658472851411,1.9989358215947166,-0.6868064092127586,1.8719061518010984,-0.9045768730971196,0.4987886977095622,-0.8799985589078699,1.5204406750972002,1.9630647472666807,-0.010485764624336527,-0.9735086188164599,-0.5417630526990613,-0.5452837865693664,0.9725410112949588,0.05577085948272431,0.4547162134306336,0.5168545332914941,0.6062037364460751,0.780522186673046,1.1025816083936035,1.8859054323708802,1.976308614221301,0.7206464083164894,0.07333580287750391,0.42346867375175057,-0.5696568702084723,0.18413584703837615,0.004649700102705379,1.5662045791023171,1.603618645111425,0.5275854277211028,0.22210669784467396,0.7368442615361046,0.13432433968906055,-0.9879818467824021,0.6036186451114249,0.49395819653987205,1.9509268190860123,-0.9898485567503186,0.8677677694694957,-0.902780811730186,-0.9509268190860124,1.8461658472851412,0.6490178995514249,-0.13589564513500627,0.3101509943780647,0.668731367824424,-0.3114094702888742,-0.5168545332914941,-0.6806850215490629,0.9063570204054348,-0.9663766784927852,0.11508992393676364,1.48417769834899,0.4657227828320636,1.6989037634679087,-0.303426965708699,0.0028486875785440624,0.0503793504560085,1.9584117335075018,-0.31937006068169665,1.999780097480486,1.006291532565181,-0.0440267828126479,1.759110541291736,0.8109847531882045,-0.350982100448575,0.36997361194357303,0.9009688679024191,0.057160325889039076,1.6069573944946018,1.502419670074398,-0.7282791575766909,0.9879818467824021,1.3233419629357548,0.5491890178356142,0.5935389167199637,0.5346930536452399,0.03255332141737688,0.9350328563964247,1.3074209221993482,0.016220544776863854,1.7960055286803387,1.8916720373012423,0.3930426055053978,-0.991005977167144,1.5696568702084723,1.2994276710818868,0.9456019952697461,1.5627423268605967,0.31937006068169677,0.7489545381492895,1.1524976278004648,0.9559839770301876,0.17931386041904507,-0.38993734371266364,1.4987886977095621,-0.9763086142213011,1.9892437200326238,-0.11925541070754227,0.6178010082530485,-0.023067058820787193,0.36273663894339064,-0.7645445329068321,0.4831454667085059,0.17731866058801812,0.7938664992948548,0.3074209221993483,-0.7672413768130659,-0.9953502998972946,-0.8759831772486388,0.09840846264303063,0.44072982560590634,0.9873248324497849,-0.8483936664993149,0.06435596696173906,0.0073886751710440235,-0.9772076155698657,1.837106101849709,0.947594233310671,1.9522162591431318,1.2833785197731478,1.0649671436035753,-0.12758001688622111,0.49514895024466654,1.1275800168862211,0.9998592605305062,0.9999648145136173,-0.823075496759396,-0.42820667676705726,0.6726918233073231,0.941433620495435,0.01075627996737627,-0.5627423268605967,0.018873601534994598,-0.7018974952906882,-0.37831969576193836,-0.9886214797276642,-0.8035587560807045,0.4166347887822315,0.33482706156096653,-0.5204406750972003,0.16289389815029098,0.6169093400771741,1.7396734365955129,1.3821989917469515,0.639747995266225,0.002251039297172741,0.9931115272956403,0.19791773679185937,0.9141210684826255,1.889765477869806,1.5765313262482494,1.7048788787567757,-0.2510454618507104,0.9216571389263767,-0.9852496182428682,0.7225049421328023,1.1855681574939492,1.1731891965349646,1.985249618242868,0.27935359168351065,1.9926113248289559,0.5024196700743978,-0.21842976777774642,0.9371161852145424,0.2672496033793312,1.106752949444346,0.39638135488857507,0.9995690062269984,0.8020822632081406,0.9744590995755086,1.9953502998972947,0.3470514794005812,0.9572062752479682,-0.6234898018587335,0.03046440011006557,0.9769329411792127,0.8350787995279959,0.21686266039601376,1.979801406834788,1.8085236305140835,0.9428396741109609,0.12000144109213007,1.9753924368504672,-0.25510330050257196,-0.6557248242816902,-0.052405766689328864,1.9167019748939844,-0.5382327876885793,0.9992875743301965,0.5012113022904379,0.843923141627045,0.793459718942254,-0.09840846264303074,-0.8439231416270448,0.6714132622152207,1.1607828139194682,0.48674070144327586,-0.8839520142124788,0.9081212223373192,0.7108043910332633,0.005492728764592725,-0.0649671436035752,-0.8935629097065211,0.9772076155698657,0.9311289178486017,0.8765812005607216,0.4768208329292217,-0.9968261715188322,0.9999912035897159,-0.9674466785826231,-0.4091619859914693,-0.9200215936708597,1.7137484155971885,0.47241457227889716,1.9063570204054348,1.0858789315173747,0.11215673504603041,0.3223936620129818,0.9964834936322354,1.189688045214908,0.695897735956624,0.6837517299416598,1.4768208329292216,0.49034496585679044,-0.7452926983439472,1.8571552989871805,0.9853201877906834,1.6557248242816902,1.9216571389263766,1.3744337440664003,1.987981846782402,-0.27128906254769525,1.767241376813066,-0.8528044890839854,-0.566204579102317,1.5833652112177685,1.090057050742471,0.9953502998972946,0.21426128505976927,0.999780097480486,0.9982763964192584,0.6885905297111259,0.006405741870579074,-0.7340021233078164,-0.9995690062269984,-0.9428396741109608,1.998513772773741,-0.9482977734962753,-0.8254503737183084,0.4512050726401443,0.2746015692430369,0.922481765959234,-0.8301565201098942,0.11092241240960429,-0.46572278283206353,1.416801927347935,-0.41298558946038827,1.6745157334182537,0.7126015375646664,-0.7591105412917359,0.4064610832800363,0.8528044890839854,-0.7857387149402308,0.6267636082274293,0.026491381183540108,1.9133178469074001,0.9619268579460558,-0.9806315489604704,-0.9957455513302232,0.005062462554862646,0.9763086142213011,-0.14004990964149305,1.9248795573028046,0.08498204022591627,0.2951211212432241,0.8849100760632364,-0.8060482836288057,0.9892437200326237,-0.997151312421456,-0.9830184059878607,1.3627366389433906,0.9308479184693794,-0.9641856935620117,0.8614457900381748,0.29810250470931177,0.759110541291736,1.9806315489604704,0.30712053435866316,0.4244125379473226,0.872419983113779,-0.7311470719118763,0.0858789315173745,0.5765313262482494,1.4951489502446664,-0.979801406834788,0.126047647831673,0.31931497845093726,0.806195404211877,-0.27532374897625994,1.2914133489479382,-0.9753924368504673,-0.6745157334182537,1.0984084626430308,0.24637686967058714,0.9442291405172757,1.6928794656413368,0.8641043548649936,1.4470630400884572,0.40149325150803084,-0.9232764696332231,0.8268108034650354,1.2632054425366477,0.777893302155326,-0.837106101849709,0.5452837865693664,-0.742489598712872,-0.5799533702407994,1.7424895987128721,0.04039966939862283,0.902780811730186,0.3509821004485751,1.8158641529616237,-0.17318919653496465,-0.7934597189422541,1.9961232847903359,1.202027395864365,-0.18556815749394914,-0.3588247492071358,0.997458910619961,0.17692450324060405,1.646172886899472,0.058566379504565,0.5121566136983575,-0.8324877067481781,0.17218927132309159,1.4545509932035947,-0.9607720456188192,1.9559839770301877,-0.35490654673145305,0.6069573944946022,1.8779985913140924,1.2954231086777839,-0.7508595131202045,0.36672191605577387,-0.9264663737322872,0.8182823442185173,0.08169930143964571,1.0607810627212295,0.5132592985567241,1.0356447007284324,-0.23884573225109101,0.8916720373012424,1.14835097399379,0.5833652112177685,1.823075496759396,0.018555560988731457,0.1364316785241788,0.8557982897249512,-0.8506065600759428,-0.8348042475796122,0.45081098216438575,0.07672353036677693,0.1483509739937902,0.16078281391946822,0.02844370596604917,1.573099139443525,1.6493683089188536,0.024607563149532607,0.5096550341432096,0.05170222650372469,-0.06915208153062075,1.255103300502572,1.7340021233078164,0.785665241196533,0.4470630400884573,0.4200466297592008,0.00790634047066019,-0.8677677694694957,1.2225209339563143,1.458283007408741,0.23816576149418556,1.7699247227794253,0.40533118420914716,-0.7725945235982854,0.5454490067964052,0.03145268218088976,0.10456193818013715,0.8254503737183086,-0.7985373344359863,-0.9183698626405264,0.630026388056427,-0.24291660622022077,-0.22252093395631434,0.11604798578752118,0.08329802510601547,0.12200140868590759,-0.3821989917469516,1.5382327876885793,0.7611542677489088,-0.8779985913140924,0.10270253934794693,0.9248795573028045,-0.9150179597740837,0.36025200473377506,0.5717933232329429,-0.26724960337933107,1.9572062752479682,0.23884573225109115,1.0146798122093168,0.5799533702407992,0.4688560871570513,0.9705544843573901,1.5557881827877633,1.9663766784927852,-0.9892437200326237,0.14004990964149316,1.8182823442185172,0.5240176608834927,1.9999648145136173,0.03581430643798833,0.6002692763737327,0.43577228769976434,0.2039944713196612,1.9940595088377004,1.9695355998899344,-0.889765477869806,1.9150179597740837,0.00387671520966415,-0.9991204866361802,-0.09005705074247083,1.941433620495435,0.7005723289181134,-0.9998592605305062,0.9522162591431317,0.8759831772486387,0.8278107286769084,-0.8739523521683269,1.8416655889805449,0.24698320660108414,0.6898490056219353,1.3976482554081813,0.32548426658174634,-0.014679812209316698,-0.9992875743301965,0.1890152468117955,0.7985373344359861,0.26599787669218355,1.9789540272387627,0.2862515844028112,1.3783196957619384,0.30410226404337604,-0.9845231970029772,-0.4768208329292216,1.8759831772486388,0.5627423268605967,0.02104597276123721,-0.5935389167199637,-0.9915585405039848,0.5566927670873179,0.9607720456188192,-0.6928794656413368,0.9341554202443905,-0.7883262669162499,0.153834152714859,0.8779985913140924,0.742489598712872,-0.900968867902419,-0.49514895024466643,1.9482977734962752,1.6651729384390335,0.7979726041356352,1.140049909641493,0.6461728868994722,0.9859587061630106,0.09013055214451504,1.2873984624353336,0.9183006985603543,0.5870144105396116,0.07196310899490577,-0.5487949273598557,1.9607720456188193,1.3312686321755758,1.206133500705145,0.9985137727737411,-0.9133178469074001,1.9045768730971195,1.9496206495439914,0.27532374897625983,-0.6429660968764352,1.7368442615361044,-0.9935942581294209,0.19380459578812306,1.531143912842949,0.991005977167144,0.676658037064245,0.023067058820787318,-1.0,-0.8656756603109396,-0.9780894250801917,1.5275854277211027,-0.992611324828956,1.9311289178486017,-0.177318660588018,-0.5901580442098969,0.0649671436035753,1.9641856935620117,0.07751823404076592,0.8416655889805449,1.954744860357833,1.9780894250801917,0.03983609218515127,0.010151443249681424,-0.27935359168351054,1.3899373437126636,1.5487949273598556,0.9968261715188322,0.6989037634679086,-0.9081212223373193,-0.9999912035897159,-0.9559839770301876,0.5311439128429487,1.9904359792399648,0.7774790660436856,1.238845732251091,0.9898485567503186,0.16984347989010573,0.32730817669267687,0.33917198971950413,-0.9987335824545847,-0.6651729384390335,-0.9994370817372216,0.847502372199535,-0.09423358561003224,1.7452926983439472,1.9280368910050942,0.5342772171679364,1.7883262669162499,0.15607685837295504,0.7327503966206688,1.0188736015349944,-0.3352232597088692,1.2469832066010842,1.4657227828320636,1.7857387149402308,0.19644124391929552,0.9715562940339508,-0.3705412050251882,1.7078478614152273,8.796410284062084e-06,0.28337851977314765,-0.9371161852145424,0.7693085499054214,-0.6267636082274295,-0.777893302155326,0.8516490260062098,-0.4545509932035947,0.04651105296953828,1.2793535916835106,-0.9744590995755086,0.6372633610566094,1.3666421471190429,0.9822400626861534,-0.3074209221993482,-0.1067529494443461,0.5084995082868655,0.9991204866361802,0.8226813394119818,0.6216803042380615,0.2510454618507105,0.7897640209237654,-0.9837794552231361,0.8158641529616238,0.7908999500097059,1.462006959123169,-0.2266081853640187,-0.7831373396039862,-0.060781062721229615,0.09187877766268082,0.473129784890119,-0.1442017102750489,0.47955932490279984,0.6255662559335997,0.3285867377847793,-0.8916720373012424,1.793459718942254,0.74808268617431,0.9496206495439915,-0.9534889470304617,0.9904359792399647,0.10832796269875755,-0.9652896771114413,0.43199328222356104,-0.8278107286769084,1.164921200472004,0.5417169925912588,-0.6169093400771739,-0.16492120047200398,1.2753237489762599,0.6620351956507757,0.27172084242330896,1.2266081853640187,0.9356440330382609,1.350982100448575,1.7725945235982854,1.764544532906832,0.045255139642166986,0.37979497345417246,0.01775993731384662,-0.954744860357833,0.8839520142124788,1.5522964132996595,-0.8109847531882045,-0.42061093251396114,1.8010550916675918,0.0014862272262589071,-0.573099139443525,-0.19380459578812292,0.4653069463547601,0.48784338630164253,0.08839833379628581,0.30342696570869915,-0.9949375374451374,-0.9999648145136173,-0.74808268617431,0.3474476932819064,1.3391719897195042,1.7195987426088348,-0.7108043910332632,0.5642277123002357,1.77525073230032,0.11023452213019402,-0.5522964132996595,0.2914133489479384,1.5799533702407995,1.777893302155326,1.2184297677777465,-0.8134316083530794,0.014041293836989377,1.97350861881646,-0.9814444390112685,0.2873984624353336,-0.9789540272387628,0.6493683089188536,0.02191057491980819,-0.9385718508739259,1.9992875743301965,1.998021457567256,0.12341879943927835,0.5522964132996594,0.29215213858477274,1.393796263553925,0.2688529280881238,0.10675294944434623,0.9977489607028273,1.658885805796111,-0.586766789155251,1.9442291405172756,0.7725945235982854,0.22474926769967996,0.8635683214758212,0.14501258514432824,1.8972974606520532,1.9081212223373192,0.9509268190860124,-0.39379626355392505,1.8878432649539696,-0.45081098216438587,1.9999208332359624,0.42820667676705715,0.45828300740874117,0.3634813613156752,0.9641856935620117,1.909869447855485,-0.3860715637736815,1.586766789155251,2.0,-0.9977489607028273,1.9996833454786032,0.9961232847903359,-0.39764825540818133,0.6429660968764354,0.10085892650897821,0.010485764624336648,0.7508595131202045,-0.909869447855485,1.9994370817372216,1.74808268617431,0.6608280102804959,1.7311470719118764,0.006291532565180921,0.40916198599146925,0.002541089380039052,0.3821989917469515,-0.7078478614152274,0.859308103339315,0.0003166545213968419,0.17454962628169135,1.052405766689329,-0.9980214575672559,0.2712890625476952,0.03922795438118076,-0.8614457900381747,0.11409456762911974,1.7618342385058146,0.06734962697817115,1.2712890625476954,0.009564020760035263,-0.9996833454786032,1.4014932515080307,1.1442017102750488,0.09903113209758085,0.38309065992282587,0.6568852472618177,1.267249603379331,0.926664197122496,0.7883262669162499,-0.9248795573028045,0.0017236035807416394,0.5969093472063687,0.33796480434922427,-0.12341879943927822,0.8932470505556538,0.8719061518010984,-0.18144500510569248,-0.9295910814913971,1.4805034923449676,-0.2833785197731477,0.12401682275136128,0.8991410734910218,0.0020971898202216755,0.7530167933989158,0.9989358215947167,0.9979028101797783,1.8839520142124788,-0.6461728868994722,1.8324877067481782,0.11925541070754217,-0.11092241240960417,1.9931115272956403,0.04158826649249825,-0.9985137727737411,1.420610932513961,-0.4244125379473225,1.9684996585566354,1.4053311842091474,0.6332780839442261,1.9715562940339508,-0.999780097480486,1.9866504482885476,-0.327308176692677,0.0004309937730015978,1.6620351956507755,-0.1607828139194683,0.6868064092127586,0.37831969576193847,0.3442751757183098,-0.8158641529616238,0.43379542089768286,0.9920936595293398,1.725398430756963,0.9806315489604704,-0.4694304131636055,-0.056593912528553426,0.9753924368504674,-0.8954380618198627,0.14069189666068505,-0.28739846243533373,0.426900860556475,1.9859587061630106,0.42061093251396103,1.5132592985567244,0.0427937247520318,0.5592701743940937,-0.8593081033393151,0.20910004999029408,0.3588247492071359,1.680685021549063,-0.027260110291953042,0.9935942581294209,0.027458988705041154,1.4915004917131345,0.889765477869806,-0.8206861395809549,0.3352232597088693,-0.6525523067180935,0.8506065600759429,0.14939343992405707,0.20146266556401393,0.023691385778698892,0.7570833937797794,1.073335802877504,0.0005629182627784335,0.8972974606520531,0.341114194203889,0.8185549948943074,0.19395171637119446,0.4545509932035948,0.7396734365955129,0.7672413768130659,-0.6714132622152208,0.4617672123114206,-0.869844612145389,0.07353362626771287,-0.14835097399379008,0.8144318425060509,0.6202050265458275,0.014750381757131836,-0.4168019273479351,0.7536231303294129,0.9167019748939845,1.6898490056219355,1.9998592605305063,1.8060482836288057,0.20613350070514525,0.06887108215139826,0.33126863217557595,0.47598233911650734,0.295423108677784,0.6100626562873362,1.0691520815306208,1.710804391033263,0.9099429492575293,0.3860715637736816,0.568006717776439,0.23007527722057497,0.9674466785826231,1.9886214797276642,1.4091619859914692,0.9482977734962753,0.8682610101591812,-0.6493683089188536,-0.006291532565180799,1.473129784890119,-0.9866504482885478,1.5417630526990613,-0.9063570204054348,-0.6620351956507755,0.2833201166866922,0.3131935907872414,0.9045768730971196,0.06584457975560953,0.9886214797276642,0.6450934532685471,1.843923141627045,1.6136028004331937,1.820686139580955,1.7805221866730458,1.2102359790762345,-0.7536231303294127,0.06915208153062063,0.022792384430134316,1.9705544843573901,-0.8719061518010984,1.7508595131202045,1.7563734891821134,0.008441459496015158,-0.6202050265458277,0.6846074601925338,0.9735086188164599,-0.630026388056427,0.4915004917131345,0.7448966994974281,-0.5311439128429488,1.2510454618507105,0.7563734891821132,-0.9356440330382609,0.9996833454786032,1.3431147527381824,0.9915585405039848,1.633278083944226,-0.1566415987437367,-0.4731297848901191,1.5240176608834926,-0.9982763964192584,0.12758001688622103,0.35703390312356464,1.193804595788123,0.23275862318693408,-0.8085236305140835,0.6745157334182537,0.27749505786719775,0.6365186386843248,-0.4357722876997642,-0.941433620495435,0.4975803299256022,1.1814450051056924,-0.4987886977095621,-0.9216571389263766,0.04401602296981244,0.003173828481167762,0.7287109374523049,0.2306914500945786,0.6294587949748118,1.3193700606816967,1.516854533291494,1.9949375374451375,1.99209365952934,0.2551033005025719,-0.9116016662037141,-0.53469305364524,1.9725410112949588,1.9772076155698657,0.6139284362263184,1.5346930536452401,0.9601639078148487,-0.9167019748939844,0.013349551711452134,0.01698159401213939,1.0230670588207873,0.45823694730093867,0.7815702322222536,0.08668215309259986,1.9991204866361802,0.03807314205394419,1.177318660588018,0.979801406834788,0.8974183916063966,0.6806850215490627,0.8324877067481783,1.9915585405039848,0.21167373308375015,-0.36273663894339053,0.43725767313940334,0.02554090042449142,0.9183698626405264,-0.6898490056219354,0.9852496182428682,0.8483936664993149,0.21947781332695404,-0.997458910619961,0.9845231970029772,0.9232764696332231,0.4477035867003406,0.28040125739116506,0.9949375374451374,0.7166798833133078,1.9873248324497848,0.13855420996182521,-0.636518638684325,0.7253984307569631,1.303426965708699,1.873952352168327,0.9695355998899344,0.954744860357833,0.01547680299702281,1.716679883313308,0.1516063335006851,0.7367945574633521,1.0482166988848542,-0.0858789315173746,0.053041785784015194,1.863568321475821,1.4357722876997643,1.3273081766926769,0.9789540272387628,-0.9456019952697461,0.6557248242816902,0.7652293436881495,1.5592701743940935,-0.048216698884854206,0.5793890674860389,-0.8972974606520532,-0.6002692763737328,1.044026782812648,-0.4014932515080307,1.2306914500945787,1.4395436267123016,-0.7396734365955129,0.1583344110194551,1.9814444390112684,0.704576891322216,0.012018153217597916,0.1675122932518217,-0.34311475273818237,0.20202739586436486,1.9837794552231363,-0.5557881827877633,-0.606957394494602,-0.8859054323708802,0.7137484155971888,1.9995690062269984,0.6023517445918187,1.8799985589078698,0.6102854657852455,0.8060482836288055,1.938571850873926,0.6928794656413368,-0.9964834936322354,-0.5060418034601278,1.2429166062202208,-0.8416655889805449,-0.7368442615361045,0.7085866510520615,-0.9940595088377006,1.5935389167199636,0.35382711310052783,1.929591081491397,0.8134316083530794,-0.44330723291268204,0.24291660622022065,-0.7195987426088348,1.5969093472063687,0.9434060874714467,1.8393932290623596,-0.8991410734910218,0.0599889955928532,-0.9822400626861534,1.6002692763737327,1.8254503737183083,-0.5592701743940934,-0.002097189820221775,1.9744590995755087,0.2631557384638954,0.152497627800465,-0.8635683214758211,0.5662045791023171,-0.9400110044071468,0.5194965076550324,0.8599500903585069,0.1914763694859165,1.4244125379473225,0.9015915373569694,0.823075496759396,-0.6776063379870182,0.20654028105774602,0.5755874620526774,0.10643709029347892,0.14420171027504883,0.8549874148556718,-0.45828300740874106,-0.24698320660108422,0.1690566855954522,0.3666421471190428,0.07834286107362332,-0.7752507323003199,1.671413262215221,-0.073335802877504,1.169056685595452,0.5379930408768311,0.8954380618198629,-0.5969093472063686,0.8206861395809549,0.9200215936708597,0.020198593165211998,0.23477065631185046,0.9957455513302232,0.7166214802268523,-0.9999208332359625,0.16519575242038775,1.6682989789591383,0.257510401287128,-0.2914133489479383,-0.4878433863016424,0.2603265634044871,0.9133178469074001,-0.26320544253664774,0.8890775875903957,0.34311475273818226,0.77525073230032,0.011378520272335768,0.3976482554081812,1.214334758803467,-0.21433475880346706,0.8085236305140835,0.027260110291952945,0.8878432649539696,0.9685473178191102,1.9935942581294208,0.3317010210408615,0.2491404868797955,0.3765101981412664,0.9895142353756633,0.43954362671230157,1.859308103339315,-0.19791773679185926,-0.9572062752479682,1.902780811730186,0.4694304131636054,0.21842976777774634,0.3705412050251881,1.9652896771114414,0.005940491162299444,0.2354554670931679,0.9937084674348191,0.7078478614152273,0.9596003306013772,-0.13173898984081886,0.1817176557814827,0.3162482700583402,0.0010641784052832781,0.06078106272122952,-0.6102854657852456,0.2547073016560526,7.91667640374083e-05,0.21023597907623462,0.8301565201098943,0.37323639177257073,0.4442118172122367,0.13173898984081875,-0.780522186673046,-0.03145268218088986,0.9584117335075018,-0.8549874148556716,0.13015538785461112,0.9559732171873522,0.728279157576691,1.9830184059878606,0.0068884727043596605,-0.7225049421328024,-0.49150049171313454,1.997151312421456,1.8134316083530795,1.1234187994392781,1.8656756603109397,1.347051479400581,0.9684996585566354,0.38971453421475455,-0.5096550341432096,0.9295910814913972,1.3153925398074662,0.14284470101281954,0.9940595088377006,-0.8878432649539697,0.6806299393183033,1.899141073491022,1.9982763964192585,0.8433584012562634,-0.20202739586436494,0.9517833011151456,0.03362332150721481,0.7340021233078164,-0.2954231086777839,0.35063169108114645,0.9866504482885479,1.450810982164386,1.039836092185151,0.09721918826981402,1.8348042475796122,-0.32334196293575485,1.7908999500097056,-0.9311289178486019,-0.7960055286803387,-0.2061335007051451,0.7857387149402307,0.9630647472666809,1.9326503730218287,-0.34705147940058106,-0.8010550916675918,-0.9630647472666808,1.506041803460128,1.6102854657852457,0.6333578528809571,0.26320544253664785,0.972739889708047,-0.9715562940339508,1.946958214215985,-0.9931115272956403,1.5096550341432096,0.1649212004720041,0.586766789155251,0.6647767402911307,0.09364297959456525,0.5529369599115427,-0.9442291405172757,-0.6837517299416598,0.1358956451350064,0.32334196293575496,0.7408433488321586,1.6525523067180936,0.7452926983439474,0.019368451039529555,0.51582230165101,1.8614457900381747,1.0775182340407659,-0.6332780839442261,0.8819830448449004,0.07512044269719553,0.5557881827877633,1.991005977167144,0.00014073946949377802,-0.9705544843573901,0.5382327876885794,1.9999912035897158,-0.5833652112177685,0.3863971995668062,1.9968261715188322,0.22252093395631445,-0.36664214711904286,-0.4470630400884572,0.6529485205994188,0.14719551091601457,1.0942335856100323,0.08163013735947355,0.3010962365320914,0.17318919653496456,-0.5024196700743979,0.2274054764017146,-0.9584117335075018,-0.7166798833133079,0.9830184059878606,-0.31539253980746623,-0.5765313262482493,0.526870215109881,0.004254448669776756,-0.9684996585566354,1.900968867902419,-0.6036186451114249,1.6267636082274295,0.18968804521490776,-0.2994276710818868,0.8935629097065211,1.7225049421328023,0.03564470072843258,0.04821669888485433,0.04778374085686832,0.012675167550215138,0.0146798122093166,0.7195987426088349,0.8309433144045478,0.18656839164692063,0.7018974952906882,0.846165847285141,1.8677677694694959,0.8656756603109395,1.9964834936322355,0.7311470719118762,1.1109224124096042,1.9428396741109608,1.9400110044071468,1.0,1.9977489607028271,0.8392171860805318,-0.7048788787567758,-0.9280368910050942,1.9674466785826232,1.0104857646243366,0.9999208332359626,-0.4805034923449677,0.9652896771114413,0.9326503730218288,0.4620069591231689,0.0369352527333191,0.00021990251951398143,1.4282066767670574,0.4805034923449676,0.1814450051056926,-0.11508992393676373,0.8348042475796122,1.3705412050251882,0.9534889470304617,0.18556815749394906,1.6397479952662248,0.583198072652065,0.9811263984650054,1.4129855894603882,1.6365186386843251,0.39379626355392494,1.6837517299416598,0.6925790778006518,0.41323321084474895,0.24088945870826395,1.9845231970029773,-0.9989358215947167,0.8035587560807045,0.05659391252855332,-0.725398430756963,0.5985067484919692,0.0035165063677645714,-0.5132592985567243,1.7536231303294127,0.6411752507928641,1.9341554202443905,-0.48417769834899016,-0.8571552989871803,-0.018873601534994476,0.9980214575672559,1.630026388056427,1.8278107286769085,0.2891956089667367,1.923276469633223,-0.658885805796111,0.4098419557901032,0.506041803460128,0.9994370817372216,1.850606560075943,0.8807445892924578,0.29942767108188667,1.9898485567503186,0.1989449083324083,1.6234898018587334,1.8109847531882046,-0.9695355998899344,1.2591566511678414,0.5901580442098968,0.39973072362626727,1.3114094702888743,-0.9904359792399647,0.7048788787567759,1.3588247492071357,-0.10258160839360356,-0.2102359790762345,0.5487949273598557,0.9971513124214559,1.848393666499315,-0.3744337440664002,1.0314526821808898,0.8103119547850922,1.4878433863016425,0.43034312979152745,-0.035644700728432455,0.12809384819890157,-0.6136028004331938,0.008994022832855997,0.48417769834899005,1.7831373396039862,0.992611324828956,1.7018974952906882,1.9619268579460558,0.4129855894603884,-0.5275854277211027,0.8859054323708803,0.6776063379870182,1.4319932822235613,0.1566415987437366,0.16060677093764053,0.5946688157908528,-0.8819830448449005,-0.9945072712354073,0.6965730342913008,1.5901580442098968,-0.9596003306013772,0.8393932290623595,0.44330723291268215,0.769924722779425,-0.9961232847903359,0.9264663737322871,0.873952352168327,0.6136028004331938,0.7246762510237401,-0.15249762780046486,0.9987335824545847,1.3352232597088691,-0.7699247227794251,1.0565939125285535,0.35490654673145294,-0.1690566855954521,0.5305695868363947,-0.40533118420914727,1.1317389898408188,1.945601995269746,0.7645445329068321,0.7960055286803388,0.10258160839360346,1.6202050265458277,0.6651729384390335,0.3153925398074661,1.6776063379870183,-0.08169930143964559,1.8035587560807045,0.2266081853640186,1.9264663737322874,-0.8393932290623596,0.9400110044071468,1.9371161852145424,1.997458910619961,0.0490731809139876,1.869844612145389,1.9596003306013772,1.4694304131636056,0.25191731382569005,-0.07751823404076581,0.09423358561003237,-0.33126863217557584,0.9837794552231361,-0.7908999500097057,1.893562909706521,0.05439800473025391,-0.2591566511678415,0.9280368910050942,1.6958977359566239,0.24362651081788678,0.8010550916675917,0.07040891850860276,0.8698446121453889,0.9057664143899676,1.0816993014396457,0.4030906527936313,0.5908380140085308,1.6868064092127586,0.573099139443525,-0.2306914500945787,0.13223223053050426,1.8819830448449006,0.11801695515509958,0.8571552989871805,1.9945072712354073,-0.9725410112949588,0.06142814912607397,0.07997840632914033,-0.6989037634679087,0.8799985589078699,-0.9496206495439914,-0.43199328222356115,1.3549065467314532,1.911601666203714,1.1566415987437366,0.938571850873926,-0.462006959123169,0.21433475880346695,1.728279157576691,1.1358956451350062,1.8528044890839854,0.6525523067180936,1.9822400626861534,0.5417630526990613,0.9150179597740837,0.9392189372787705,0.5204406750972002,0.5048510497553335,0.7618342385058144,-0.18968804521490784,-0.9859587061630106,0.7831373396039862,0.9945072712354073,-0.9619268579460558,-0.9873248324497849,-0.639747995266225,-0.5240176608834927,-0.039836092185151155,-0.8182823442185172,-0.7137484155971886,1.9200215936708598,1.1192554107075423,1.7985373344359863,0.0019785424327440904,0.9663766784927852,-0.3391719897195042,-0.6682989789591384,-0.23477065631185035,-0.7618342385058146,0.0008795133638197505,3.518548638270502e-05,1.1150899239367638,1.443307232912682,0.9643552992715674,-0.9469582142159849,0.9469582142159848,0.0007124256698034515,1.9183698626405263,1.8954380618198627,0.9116016662037142,1.3860715637736816,1.2347706563118503,0.029445515642609887,0.5231791670707783,0.09005705074247074,0.5696568702084726,1.8549874148556715,1.9957455513302231,0.3114094702888741,-0.9522162591431317,0.0440267828126478,0.6682989789591385,1.616909340077174,0.0012664175454153437,1.027260110291953,-0.9341554202443904,-0.7563734891821133,1.5452837865693665,0.031500341443364555,0.0,-0.9920936595293399,0.5604563732876984,1.935644033038261,0.416801927347935,1.8301565201098942,0.25915665116784137,0.09542312690288035,0.3744337440664003,-0.4395436267123016,0.9814444390112685,0.06288381478545757,0.7733918146359814,1.6429660968764352,1.0020971898202218],\"xaxis\":\"x\",\"y\":[0.41489467080110215,0.3607814874716323,0.1985720187329295,0.9208413913255159,0.23881837878194911,0.7522429759860901,0.44968865657298207,0.2081851977117968,-0.48021863350131655,0.9986258736973039,0.7181408922282905,0.5470405599642357,0.7818314824680298,0.5329196551903667,0.45387815772447526,0.7268403925651606,0.01032698415023936,0.4263105448588359,0.8667236209064565,0.474976353432539,-0.3538978297808061,0.23073007488365105,0.9999450228588784,0.22865032055535922,0.8405312574379338,0.8382515088591095,0.23273156500436024,0.17071087142450803,-0.3382515088591095,0.856073239516358,-0.4191977495680501,0.6251280797653604,-0.4947245918440849,0.03613410893258828,0.2836172608610322,-0.46018829966497843,0.9973073047041778,-0.31707504542387943,0.8218826255763579,-0.07824361986295358,0.403678764052958,-0.32426474788357174,-0.29727318484560084,0.8495019814316744,-0.12839638005154252,0.676062522435102,-0.0006052847755593227,0.15456995318765607,0.7972731848456008,-0.36250895250473847,0.19058412331789087,0.14212612250853615,0.4969699168661379,0.43010092533239963,0.3094158766821092,-0.03291965519036666,-0.4363821683290997,0.9907231569077914,-0.22395327849414914,-0.4435364822499037,0.9502758240713076,0.8560732395163582,0.7325762086218415,0.42251266438035007,0.257130541292263,0.9933550772046368,-0.37496968885869086,0.8849306693471294,-0.2152157222897113,0.952854698514318,0.42457281566856775,0.18659830574860048,0.21461088129512462,0.947630077794162,0.47902962370604973,-0.49998020811313126,0.9990303510880778,-0.15096173935168233,0.5850672868108991,0.9363821683290997,-0.276573724994976,0.4338837391175581,0.16675332121334352,-0.2947343715156179,-0.36462389229209546,0.6852805765811442,0.154569953187656,-0.44628218571674116,-0.3926194364677379,0.8048052897060829,0.8450463528017435,0.24692506228500066,-0.49788740359420935,-0.45157363172489307,0.32061777267279357,-0.10528935089784497,0.047318016820801834,-0.29473437151561765,0.1338176117668902,-0.32188262557635794,-0.4541190019020046,0.3253257852397733,-0.3266323690489753,0.9476300777941619,-0.4679752972489347,-0.48830383663893107,0.293418874071771,-0.07137926134898298,0.9208413913255159,-0.3667236209064566,0.21638273913896777,0.35372333618783935,0.9928636094736152,-0.42408004561705237,0.9997339199993958,0.9318916947628905,0.6445709093670563,-0.35607323951635805,0.9841534903699073,-0.4785238780362193,0.951573631724893,0.6413584564859117,0.09632123594704209,0.482341656066921,0.9951461071019849,-0.3289854474194346,0.15871255535717477,0.5293658344130732,0.14705490024665624,0.3786626280929699,0.21228583577869142,-0.04704055996423584,-0.49862587369730393,0.1945753843851803,-0.45900814101402687,-0.49788740359420935,0.9918282811511837,0.8688081014076726,-0.4918282811511837,0.01677674376597653,0.00838866704231825,0.5679319735974314,0.9036808297026738,-0.4449176458666202,0.33719836624879623,0.35372333618783935,0.8266323690489753,0.9998218777187756,0.7122779696892628,0.9256750011740591,0.1504246316966858,0.5952254409264031,-0.3122099669056323,-0.24668933430736895,0.8538978297808061,-0.04704055996423573,0.7870342216991237,-0.17296597773957612,-0.42408004561705237,0.7685847399947817,0.43294023996144915,0.11717292499771687,0.9802186335013165,-0.49630558019185766,0.043581995982722166,-0.31707504542387943,-0.20932768611029884,0.9679752972489347,0.38800530700757907,0.1711233173833492,0.6913657560175194,-0.4826313952466107,-0.4848885734962983,0.3288766826166508,0.9601882996649784,0.3786626280929699,0.8646238922920956,0.9758526715383627,0.3490175574508299,0.9636273395320362,-0.4942855765749259,-0.29727318484560084,0.029356460794360786,-0.48021863350131655,0.22456505350229608,0.4036787640529579,0.9378460804662287,0.28940654212700667,0.7818314824680299,0.25504955491760173,-0.49973391999939576,-0.4863067462178655,-0.12184878171303892,0.30002699391025245,-0.08846371077605619,0.3332466787866565,0.025023646567461144,0.27952416428345916,0.9669138048826764,0.7549999700799639,0.9986258736973039,0.100428367841924,0.8427962187011643,0.037740479452068494,-0.3667236209064565,0.5364641004077894,0.6086227685652906,0.9951461071019849,0.5364641004077895,0.7410831473738392,-0.48698981086338355,-0.358233588509014,0.4675776262501251,0.4187073507123719,0.703389733851605,0.3953324909061837,0.9978874035942094,0.4489379983882135,0.21228583577869134,0.36469019502324407,-0.49235467447126346,0.879000508125384,0.07960894280862929,0.004194370416562193,0.25307493771499917,0.9124617631547728,0.3918676653914324,-0.20040216963720414,-0.34950198143167444,0.07748733561964982,-0.49630558019185766,0.03985400482469115,-0.23542480969832857,0.08378930073997938,-0.48184441002765155,0.7181408922282904,0.7297147194635638,-0.379000508125384,-0.3603788387521417,0.6667374249246836,-0.015058048590833595,-0.49989224575126057,-0.2549999700799639,0.11199469299242071,-0.4272536714968658,0.3454300468123439,0.9624979192403444,-0.14135845648591172,0.5222303164296406,0.8242647478835717,-0.3122099669056323,-0.4959366082294435,0.09632123594704205,-0.11855854358668005,0.02097037629395004,0.0586876166851221,-0.4502758240713076,0.38699358331384137,0.6791471732839776,0.029356460794360696,0.3332466787866567,0.4455000405399262,0.31738199820091706,0.5644746943205735,-0.33595701307189874,-0.18832922112557116,-0.4969909344578821,0.557530404658823,0.9938290690180247,0.8849306693471295,-0.4089973340769745,0.9107375598371111,-0.23826047257809713,-0.4578111107049271,0.6509617393516823,-0.3048052897060829,0.5222303164296407,0.6185585435866799,0.7792094579775926,0.2713496794446406,0.09275251931972528,0.27330700679277975,0.19586159701020608,0.09214552081392627,0.3995047434820629,0.21638273913896788,0.9901444454267315,0.11973982001349603,0.09658689499363904,-0.20932768611029862,-0.4933550772046368,0.5918497820047385,0.1462766638121607,0.07542718433143224,0.18350698485094658,-0.4318916947628906,-0.49760612950201066,0.2652281062224413,0.5078495356161163,-0.21227796968926282,0.6509617393516822,0.3041384029897939,-0.22105342804300954,0.9054689379725361,-0.4918282811511837,0.6822198760184941,0.9963055801918577,0.8170750454238794,-0.36880810140767273,0.19997300608974755,0.013988388884124903,-0.23257620862184158,-0.48104015139616085,0.9613515658954623,-0.4565972297968185,0.22047583571654086,0.7382604725780971,-0.4951461071019849,-0.15730676052547699,0.329289128575492,-0.22105342804300954,-0.49072315690779145,-0.3945024528679989,0.9158619814106868,0.38413612251598,-0.4848885734962983,-0.46473980690084904,0.6283963800515425,0.5470405599642358,0.8382515088591095,0.6698575936743557,0.8146496721575098,-0.1698575936743557,0.21863332551681325,0.4301009253323998,0.9363821683290997,-0.0782436198629537,0.9848885734962983,0.6086227685652905,0.41203181541880385,-0.47937987079593547,0.9826313952466107,0.9334049492885904,0.07124409887731561,-0.06793197359743142,-0.2631910640435997,0.1628016337512037,-0.3729311716520074,0.5540435164435727,-0.06100748434170278,-0.3907207163738955,0.2773392802280802,0.20658112592822908,0.9349017825885,0.7947343715156177,0.021336784732240544,-0.45536651964528996,0.6604619531486197,-0.2739243298901577,0.37637754760791187,0.5748164969277134,0.9966570243289684,-0.49815112203236933,0.858233588509014,-0.4993645257412235,0.9710575246531177,0.4526819831791979,-0.4889347746515408,0.8122099669056323,-0.06793197359743142,0.3082532578272672,-0.004231845626030184,-0.48954831451210656,0.52580270059764,0.5505468810401504,0.8926194364677379,0.11586387748401994,0.9889347746515408,0.9869898108633836,0.2631912849513025,-0.319486044035584,-0.2604740622610796,0.2795241642834594,0.8603788387521417,0.18261800179908283,0.9976061295020107,-0.4669138048826764,-0.17914717328397756,-0.4767602628939507,0.8945024528679988,-0.31464967215750994,0.3745003158502688,0.496969916866138,-0.4749279121818236,-0.38880632599031373,-0.14777202242784915,-0.13813472030052187,0.91416991369636,0.6348997575254999,-0.3907207163738955,0.9995052419990742,0.054813884488422615,0.5644746943205733,0.601945284483457,0.3957231297177619,0.776573724994976,0.9700471753592452,0.9749279121818236,0.03242237374987489,0.10042836784192422,0.021336784732240544,0.9240800456170524,-0.3427962187011643,-0.47105752465311757,0.4786632152677594,0.05857359944450846,0.3802601799865039,0.40341310500636096,-0.2685847399947817,-0.4036808297026738,0.9636273395320363,0.2105934578729931,0.9710575246531176,-0.49989224575126057,0.8146496721575099,-0.347281620153466,0.24088169895980185,-0.33132394159766376,0.24286945870773702,0.14627666381216062,0.9901444454267314,-0.07481649692771353,0.8517073975739514,0.4916113329576819,0.23477189377755892,0.7997979718914991,0.9000569500164497,-0.10528935089784486,0.39116207972701134,0.2550495549176016,0.4564180040172778,0.09658689499363904,0.41203181541880374,0.04193152971073556,0.9959366082294435,0.1628016337512037,-0.4541190019020046,0.016776743765976463,0.30542461561481965,0.48234165606692114,0.5610074843417028,0.4860116111158752,-0.039999107708552195,0.969019760199474,0.7239532784941491,-0.4175379365295093,-0.23826047257809724,0.9998922457512606,0.03774047945206853,-0.08506728681089915,0.6019452844834571,-0.17914717328397756,0.29591910291992607,-0.20040216963720403,-0.4256750011740591,-0.21814089222829036,0.17525431396412772,0.879000508125384,0.01765834393307908,0.8266323690489754,0.29591910291992596,0.8048052897060829,0.12965978849900783,-0.3963697324471086,0.27733928022808,0.7210534280430095,0.3568664327560471,0.6152574232708531,-0.03291965519036688,0.4786632152677594,0.6698575936743557,0.43388373911755823,0.8688081014076727,0.18261800179908294,-0.24668933430736895,-0.47937987079593547,-0.4901444454267315,0.7631910640435997,0.16698931026075342,0.0851053291988979,-0.4578111107049271,-0.4966570243289684,-0.41073755983711113,0.12751170631334086,0.8359570130718988,0.2226607197719198,-0.44353648224990383,-0.47852387803621943,0.0544999594600739,0.4072474806802747,0.0736894551411641,0.18659830574860026,0.9613515658954623,0.7658946391426712,-0.176062522435102,0.11300641668615853,0.9810401513961609,-0.34728162015346586,0.13381761176689022,-0.44628218571674105,0.9997339199993958,1.2246467991473532e-16,0.5006052847755593,0.20818519771179703,-0.34950198143167455,0.12133737190703012,0.13530980497675604,0.9841534903699073,0.8072877323819243,0.9978874035942094,0.2347718937775587,0.9969909344578821,0.5399991077085522,0.2025739560490677,0.291814802288203,0.9992062278425892,0.35787387749146393,0.9601882996649784,-0.4208413913255159,-0.33595701307189885,0.07960894280862907,0.7152157222897114,0.41870735071237175,0.004194370416562157,0.293418874071771,0.847281620153466,0.3620269191944602,-0.4749279121818236,-0.4710575246531177,0.14212612250853604,-0.057530404658822865,0.9449176458666202,0.940724381202971,0.05031134342701794,0.746689334307369,0.03354876523191834,-0.48830383663893107,0.9955501149329835,-0.16673742492468357,0.12751170631334086,-0.3849306693471294,-0.11525742327085309,-0.03646410040778936,-0.46362733953203616,-0.4998218777187756,0.9421387191651557,-0.469019760199474,-0.3849306693471295,-0.11855854358667994,-0.09522544092640295,0.23680871504869747,0.9288160288122086,-0.20636492345662882,0.49580562958343777,0.959008141014027,0.34901755745082996,-0.47302695484414026,0.7792094579775923,0.6283963800515424,-0.4889347746515408,0.8907207163738955,0.19857201873292962,-0.46018829966497843,0.2245650535022961,-0.43189169476289047,-0.43036204563381564,0.1876285139692296,0.9515736317248931,0.9942855765749259,-0.37087729712385265,0.04193152971073569,-0.4841534903699073,-0.4256750011740591,0.9679752972489347,-0.4776506702814953,0.17938222732720638,0.5782436198629536,0.6119454788415752,-0.38687629899651865,0.9739860010934585,0.621848781713039,0.9981511220323693,0.08129264928762803,0.8809927392719135,0.9895483145121065,-0.3538978297808061,-0.4272536714968658,-0.24108314737383918,0.4526819831791981,-0.10862276856529052,0.6636055263831284,0.3134016942513996,0.3014279812670705,0.13797308080554008,0.047318016820802056,0.26118162121805083,0.9018768231381239,0.5610074843417028,-0.4863067462178655,-0.3888063259903136,0.787034221699124,0.9863067462178655,-0.46135156589546233,0.7494727478165161,-0.18528057658114405,-0.47398600109345845,0.35294509975334376,-0.4363821683290997,-0.13489975752549987,-0.1445709093670563,0.20257395604906758,-0.28443975233748153,0.31237148603077036,0.2974260439509323,0.4675776262501251,-0.3336478104429542,0.5850672868108993,0.9072411164898425,-0.09859062815368747,0.4455000405399261,0.819486044035584,0.9810401513961609,-0.34504635280174345,0.8729311716520074,0.08892530827766576,0.952854698514318,0.10049525651793699,0.008388667042318058,0.6636055263831283,-0.2577436815948352,-0.44072438120297086,-0.19439012783577492,0.7033897338516051,-0.4000569500164497,-0.13165362507296485,0.04358199598272228,0.8336478104429542,0.9565972297968185,-0.31464967215750983,-0.1283963800515424,-0.47585267153836275,0.5816605698619448,0.33301068973924663,0.27134967944464083,0.1917467421727327,0.9578111107049271,0.20408089708007393,0.7604740622610796,0.2918148022882032,0.3450838749450529,0.4622595205479315,0.4371257585705396,0.9923546744712635,0.8336478104429543,-0.20636492345662882,-0.41919774956805,-0.1822198760184942,0.9942855765749259,0.06705976003855087,-0.25224297598609013,0.8097559725895433,0.17071087142450814,0.6348997575254999,-0.13165362507296474,0.5042318456260302,-0.018648744757389313,0.058573599444508684,0.08129264928762825,0.3094158766821093,0.91919774956805,0.03985400482469137,0.8926194364677378,0.48741718391223965,0.9036808297026738,0.8888063259903136,-0.2712613192734703,0.2652281062224411,0.0851053291988979,0.9224688328856125,-0.30975597258954335,0.4999999999999999,0.06705976003855069,0.47483636010614383,0.08796818458119625,0.9175379365295093,0.7658946391426711,0.062341080336053345,0.9999450228588784,0.6604619531486197,0.41489467080110215,0.4664512347680817,-0.1636055263831283,-0.44072438120297097,-0.1822198760184941,0.9999802081131313,0.9124617631547728,0.42875590112268436,0.9240800456170524,0.7063649234566288,0.5114582911004466,0.47483636010614383,-0.06447469432057329,-0.49862587369730393,0.06287424142946038,0.9624979192403446,0.22266071977191992,0.5078495356161163,0.036134108932588394,-0.14777202242784893,0.1392185125283677,-0.46249791924034445,0.36202691919445995,0.025163639893856223,-0.41586198141068675,-0.48954831451210645,0.06611626088244194,-0.28703422169912374,-0.43929349324554356,-0.4636273395320363,-0.49730730470417783,0.6152574232708531,0.380260179986504,0.4413123833148779,0.8023086882351872,-0.24947274781651607,0.9923546744712635,-0.4942855765749259,0.48967301584976064,0.9834010932077487,0.3685924866456919,-0.3769928128806357,0.9590081410140269,0.017658343933078857,0.43765891966394666,0.999997800895011,-0.469019760199474,0.04612184227552452,-0.499997800895011,0.03242237374987489,0.7631910640435997,-0.05404351644357275,0.9928636094736152,0.9938290690180247,0.38282707500228297,0.21461088129512462,0.05449995946007375,-0.4072411164898425,0.9054689379725361,0.25098511816423374,-0.41416991369636,0.7739243298901577,0.2631912849513025,0.02097037629395026,0.33714763467481457,0.9449176458666202,0.47064353920563917,-0.24947274781651618,0.9869898108633836,0.7268403925651605,0.9256750011740591,-0.254999970079964,0.5782436198629537,-0.3242647478835716,0.12549968414973123,-0.18832922112557127,0.19586159701020628,0.882969471271259,0.9983972801769396,0.22047583571654064,0.44518611551157744,-0.011458291100446605,0.9578111107049271,-0.319486044035584,0.33301068973924663,0.9072411164898426,-0.3582335885090139,0.21059345787299333,0.8289854474194346,0.5114582911004465,-0.11194547884157524,0.9334049492885904,-0.23257620862184147,0.9996283741405456,0.11300641668615867,0.2672684349956398,-0.37087729712385253,0.4564180040172777,0.5713792613489829,0.9421387191651556,0.7577436815948354,0.5258027005976399,-0.025802700597639894,-0.10194528448345708,0.2836172608610321,-0.47004717535924523,-0.49730730470417783,0.4664512347680818,0.44142640055549154,-0.25224297598609013,-0.4834010932077487,-0.09184978200473859,0.8907207163738955,0.6729659777395762,0.6413584564859116,0.741083147373839,-0.34279621870116417,0.49332580585414115,0.12362245239208791,0.9889347746515408,-0.4826313952466107,0.7844397523374815,0.3288766826166507,0.9089973340769745,0.657306760525477,0.3995716321580758,-0.22395327849414914,0.4832232562340235,-0.09184978200473848,0.9785238780362193,0.13530980497675593,0.9435364822499037,-0.3517073975739514,0.95536651964529,-0.4208413913255159,-0.49760612950201066,-0.20338973385160508,-0.4959366082294435,0.9224688328856125,-0.4018768231381239,-0.13813472030052198,0.25307493771499934,0.34957536830331426,-0.4124617631547728,0.3173819982009171,-0.4912844387741193,0.7604740622610796,0.9999802081131313,-0.38099273927191346,0.1628523653251854,-0.3405312574379338,0.4225126643803502,0.7494727478165162,-0.19740228337310706,-0.22684039256516053,0.42631054485883596,0.14313356724395288,0.1504246316966856,-0.4349017825885001,-0.03646410040778947,-0.28961484490892275,-0.07137926134898287,-0.12512807976536044,-0.4776506702814953,0.6573067605254772,0.9976061295020107,0.2877141642213087,0.2591183010401983,0.48967301584976064,-0.16046195314861966,-0.15414000402243822,0.3703402115009923,0.7844397523374814,-0.4489612983856591,0.22865032055535936,0.776573724994976,0.8708772971238526,-0.4669138048826764,0.8472816201534659,-0.4679752972489347,0.6541400040224383,0.3529450997533436,0.02516363989385616,-0.43929349324554356,0.1296597884990077,-0.2739243298901578,0.9876555115742565,0.8809927392719135,-0.3517073975739513,0.05868761668512224,0.9918282811511837,-0.2658946391426711,-0.48104015139616085,-0.1413584564859116,0.5884637107760562,0.7382604725780972,-0.19136575601751937,0.7712613192734703,0.9000569500164497,0.3371983662487963,-0.3646238922920956,-0.4834010932077487,0.8667236209064566,0.3880053070075793,0.20658112592822908,0.42039105719137093,-0.46249791924034456,0.9730269548441403,-0.4288160288122086,-0.447630077794162,-0.35607323951635816,0.399504743482063,0.3745003158502689,0.9669138048826764,0.4110746917223344,0.8450463528017433,0.26726843499563957,0.2877141642213086,-0.42246883288561254,-0.34504635280174334,-0.49920622784258917,0.39957163215807595,0.3371476346748148,0.31649301514905326,-0.49973391999939576,-0.3405312574379338,-0.47585267153836286,0.09275251931972517,0.45806847028926445,0.22669299320722025,-0.4841534903699073,0.19997300608974744,-0.4947245918440849,0.7325762086218416,0.5540435164435725,0.37034021150099217,-0.11525742327085309,0.9318916947628906,-0.3266323690489754,0.27543494649770395,0.39572312971776197,0.7239532784941491,0.17112331738334935,0.5293658344130732,-0.12512807976536044,0.07124409887731573,0.17525431396412755,0.38413612251598006,-0.33364781044295433,-0.1943901278357748,0.1004952565179371,0.6974022833731071,0.34128744464282534,-0.007849535616116343,0.7712613192734702,0.6883292211255712,-0.45285469851431803,0.013988388884124792,0.2449504450823983,0.2974260439509325,0.3247456860358724,-0.19740228337310695,-0.029365834413073166,-0.46473980690084893,-0.49883689857185753,0.9963055801918577,0.17864328149411124,-0.004231845626030406,-0.4000569500164497,-0.4449176458666202,0.204080897080074,0.32532578523977335,0.754999970079964,-0.47205079030619745,-0.3289854474194347,0.9988368985718575,-0.4072411164898426,0.44142640055549137,0.799797971891499,-0.4990303510880778,0.9158619814106868,-0.47302695484414026,-0.39822124235435274,0.6729659777395761,-0.039999107708552195,0.3082532578272673,-0.45536651964528996,0.345430046812344,-0.054043516443572526,0.9392934932455436,0.9793798707959355,0.3206177726727937,0.8313239415976638,0.7947343715156179,0.4638658910674117,0.700402169637204,0.4706435392056393,-0.4175379365295093,0.025023646567460922,0.7921815765664372,0.5918497820047386,0.15491612505494712,0.7210534280430095,0.08378930073997945,0.8625089525047386,-0.47004717535924523,0.5399991077085522,0.676062522435102,-0.4565972297968185,0.10883792027298868,-0.3048052897060829,-0.2631910640435997,0.13140751335430811,0.5816605698619449,0.8963697324471086,0.9700471753592452,0.6943901278357749,-0.3023086882351873,-0.4983972801769396,-0.043524614901905956,0.43765891966394666,0.1588558785594174,0.18762851396922972,-0.29979797189149904,-0.06447469432057351,0.8289854474194347,0.999997800895011,0.27543494649770395,-0.176062522435102,0.9883038366389311,0.5042318456260304,0.8242647478835716,0.3411441214405826,-0.3769928128806357,-0.4901444454267314,-0.08846371077605619,-0.40546893797253614,-0.4951461071019849,0.5679319735974314,0.7354248096983287,-0.10862276856529063,-0.40546893797253614,0.05106200161178642,0.9895483145121066,0.5186487447573893,0.8888063259903137,0.969019760199474,0.9856063296547362,0.9303620456338157,0.11199469299242093,0.6316536250729649,-0.24108314737383896,0.9973073047041778,-0.48560632965473616,-0.38687629899651876,0.4451861155115774,0.8023086882351873,0.571379261348983,0.39186766539143236,0.30002699391025256,0.9720507903061975,0.09214552081392606,-0.459008141014027,0.01258281608776032,-0.05054688104015037,-0.24389278442674334,-0.1698575936743557,0.9565972297968185,0.8729311716520074,-0.17296597773957623,0.4072474806802748,0.964739806900849,-0.4938290690180247,0.9392934932455436,0.6316536250729647,0.34957536830331437,0.9175379365295093,-0.4767602628939507,0.9767602628939507,0.5884637107760562,0.9996283741405456,0.4601459951753088,-0.4995052419990742,0.3869935833138415,-0.24389278442674323,-0.16046195314861966,-0.2818314824680298,-0.49994502285887843,0.8982212423543527,-0.011458291100446494,0.9802186335013165,0.28940654212700684,0.06989907466760037,0.882969471271259,0.9758526715383629,0.9288160288122086,0.23881837878194911,0.39116207972701134,-0.1445709093670563,-0.49998020811313126,0.7063649234566288,0.28136667448318675,0.9912844387741193,-0.07481649692771342,-0.2297147194635638,0.4538781577244755,0.9981511220323694,0.7921815765664372,-0.16673742492468346,0.48741718391223976,0.9776506702814953,0.5575304046588229,-0.27920945797759256,-0.33132394159766376,0.9912844387741193,0.6251280797653604,0.9995052419990742,0.28538911870487543,0.5186487447573893,0.006674194145858681,-0.4990303510880778,0.685280576581144,0.3164930151490535,0.3828270750022831,0.6913657560175192,0.8708772971238525,0.42457281566856775,-0.08166056986194481,-0.49235467447126346,-0.0006052847755593227,-0.43784608046622875,0.2490148818357663,-0.2921815765664372,0.8603788387521417,0.3685924866456918,-0.448961298385659,-0.015058048590833373,0.10883792027298868,0.4601459951753087,-0.44763007779416186,0.062341080336053345,0.44131238331487777,-0.48765551157425646,0.9793798707959355,-0.49883689857185753,0.24286945870773713,0.6791471732839776,0.95536651964529,-0.2604740622610796,0.1628523653251852,-0.3926194364677378,-0.49920622784258917,0.06989907466760026,-0.05054688104015037,0.9462821857167412,-0.11194547884157535,0.3646901950232439,0.605289350897845,0.9785238780362194,0.61855854358668,0.2692699251163489,0.1392185125283677,0.9378460804662287,0.5985906281536875,0.26926992511634895,-0.3625089525047386,-0.2921815765664372,-0.43036204563381575,0.9647398069008489,-0.4996283741405456,0.23680871504869747,0.17864328149411146,0.11717292499771702,-0.3603788387521417,0.9863067462178655,0.8097559725895432,-0.44213871916515557,0.07748733561964993,-0.3945024528679988,0.32928912857549186,0.7297147194635638,0.9907231569077914,0.946282185716741,-0.46583530177534394,-0.2577436815948354,0.6667374249246835,0.3041384029897938,-0.37496968885869086,-0.007849535616116343,-0.4969909344578821,0.7739243298901578,0.4712811354235584,0.11973982001349603,0.8313239415976638,0.3661823882331098,0.4832232562340235,0.2408816989598017,0.8427962187011642,0.4958056295834379,0.8122099669056323,-0.28961484490892275,0.4203910571913707,0.9749279121818236,0.9303620456338156,0.8945024528679989,-0.43784608046622875,-0.022230316429640684,-0.4955501149329835,0.10427687028223809,-0.21521572228971142,0.9848885734962983,0.8646238922920955,-0.13489975752549987,0.2853891187048753,0.697402283373107,0.18350698485094674,0.948961298385659,0.8170750454238794,-0.38099273927191346,0.407854479186074,0.24901488183576626,0.06611626088244171,0.7972731848456008,-0.27920945797759233,0.9818444100276515,0.9541190019020046,0.44893799838821363,-0.19136575601751915,0.9993645257412235,0.9988368985718575,0.1945753843851803,0.34128744464282523,0.9998922457512606,0.6943901278357748,-0.48560632965473616,-0.08166056986194492,0.7122779696892628,0.5329196551903669,0.003030083133861994,0.5006052847755593,0.4162106992600205,0.6822198760184942,-0.4938290690180247,0.1667533212133433,0.1588558785594174,0.0,0.43294023996144926,-0.48698981086338355,0.7093276861102988,0.37248829368665914,0.24692506228500077,-0.49994502285887843,0.012582816087760226,0.8769928128806357,0.2611816212180509,0.3607814874716323,0.8868762989965188,0.23073007488365116,0.47902962370604996,-0.4036808297026738,0.8769928128806357,0.9834010932077487,0.9933550772046368,0.5505468810401504,-0.4288160288122086,0.3014279812670704,0.9826313952466107,-0.2685847399947817,-0.4089973340769745,-0.4998218777187756,-0.41073755983711113,-0.2712613192734702,0.9191977495680501,-0.2297147194635638,-0.45157363172489295,-0.30975597258954324,-0.15096173935168222,0.3247456860358723,0.04612184227552469,0.595225440926403,0.9983972801769396,0.6883292211255713,-0.41586198141068675,0.41621069926002063,0.8582335885090139,-0.1573067605254772,-0.4334049492885904,0.14313356724395265,0.8749696888586909,0.5150580485908336,0.9998218777187756,0.06287424142946041,-0.276573724994976,-0.06100748434170278,-0.20338973385160497,0.11586387748401994,0.7522429759860901,-0.3072877323819243,0.8625089525047385,0.033548765231918146,-0.025802700597640005,-0.4928636094736152,0.9541190019020046,0.3578738774914638,-0.09859062815368747,-0.2818314824680299,-0.08506728681089926,0.2449504450823984,-0.46583530177534394,0.8072877323819243,-0.29979797189149915,-0.4502758240713076,0.13797308080553985,0.7093276861102986,-0.4334049492885904,0.9947245918440849,0.9776506702814953,0.8359570130718987,0.0754271843314323,-0.029365834413073166,0.9272536714968658,-0.4995052419990742,-0.48184441002765155,-0.3729311716520074,-0.3218826255763577,0.9993645257412235,0.01032698415023936,0.7896148449089228,0.3661823882331098,0.8749696888586909,-0.12184878171303903,0.12133737190703014,-0.21227796968926282,0.22669299320722036,0.9107375598371111,0.8495019814316745,0.46386589106741155,0.7354248096983286,-0.4018768231381238,0.9876555115742565,-0.04352461490190618,-0.41416991369636,0.4712811354235582,0.10466750909381646,-0.45285469851431803,-0.3072877323819243,0.2813666744831868,0.5435246149019062,0.8963697324471086,0.638134720300522,0.08796818458119615,0.37637754760791203,0.4860116111158751,0.7896148449089228,-0.46135156589546233,0.9883038366389311,0.05031134342701794,-0.4421387191651557,0.6381347203005219,-0.4983972801769396,0.9349017825885001,0.9856063296547362,-0.382969471271259,0.91416991369636,-0.4912844387741193,0.1746742147602267,0.6445709093670563,0.6052893508978449,0.9947245918440849,-0.2844397523374814,0.746689334307369,0.9489612983856591,-0.23542480969832869,0.9966570243289684,-0.09522544092640306,0.9739860010934586,0.12362245239208813,0.543524614901906,0.34114412144058265,0.15098244254917004,0.42875590112268425,0.19058412331789065,0.006674194145858792,0.21863332551681314,-0.382969471271259,-0.16360552638312842,0.9969909344578821,0.9955501149329835,0.9435364822499038,0.1793822273272064,0.6119454788415754,0.05106200161178642,0.1746742147602267,0.9658353017753439,0.3724882936866592,-0.21814089222829047,-0.15414000402243833,0.5985906281536875,0.13140751335430823,0.4933258058541413,-0.4955501149329835,-0.4966570243289684,-0.3023086882351872,-0.4124617631547728,-0.22684039256516064,0.819486044035584,0.9730269548441403,0.003030083133862105,0.028718864576441794,0.028718864576441572,0.5150580485908334,0.3953324909061835,0.2327315650043604,0.15491612505494734,0.10813233460856764,0.7152157222897113,0.4749763534325389,0.3134016942513997,0.9018768231381238,-0.4349017825885,0.08892530827766554,-0.48765551157425646,0.3450838749450527,0.8868762989965187,0.9767602628939507,-0.18528057658114416,-0.49072315690779145,-0.022230316429640573,0.7577436815948352,0.31237148603077025,0.8405312574379338,0.4034131050063609,-0.49815112203236944,0.8538978297808061,-0.3688081014076726,0.6477720224278491,0.9818444100276515,0.16698931026075342,0.6218487817130389,0.10466750909381628,0.27330700679277964,0.15871255535717466,0.7685847399947817,0.8517073975739513,0.9992062278425892,0.5748164969277135,0.7004021696372041,0.10813233460856764,-0.4928636094736152,-0.10194528448345697,0.4371257585705396,0.25713054129226287,0.9407243812029709,0.7438927844267433,0.9720507903061975,0.6477720224278489,0.45806847028926434,0.4916113329576818,-0.4933550772046368,-0.3963697324471086,-0.4993645257412235,0.32135671850588854,0.3213567185058887,0.4622595205479315,0.10427687028223809,0.054813884488422504,0.41107469172233424,-0.42246883288561254,-0.47205079030619745,0.2591183010401982,-0.379000508125384,0.9959366082294435,0.8218826255763577,-0.018648744757389313,0.40785447918607376,0.9502758240713076,0.30542461561481965,0.9990303510880778,0.7438927844267432,-0.28703422169912396,0.44968865657298207,-0.4996283741405456,0.3568664327560473,0.6541400040224382,-0.3382515088591095,0.25098511816423374,0.5,0.12549968414973106,-0.39822124235435274,0.14705490024665635,0.9089973340769745,-0.057530404658822976,0.9658353017753439,0.07368945514116398,0.9272536714968658,0.8982212423543527,0.19174674217273274,0.15098244254917015,-0.47398600109345856,-0.2658946391426712,-0.499997800895011],\"yaxis\":\"y\",\"type\":\"scattergl\"}],                        {\"template\":{\"data\":{\"histogram2dcontour\":[{\"type\":\"histogram2dcontour\",\"colorbar\":{\"outlinewidth\":0,\"ticks\":\"\"},\"colorscale\":[[0.0,\"#0d0887\"],[0.1111111111111111,\"#46039f\"],[0.2222222222222222,\"#7201a8\"],[0.3333333333333333,\"#9c179e\"],[0.4444444444444444,\"#bd3786\"],[0.5555555555555556,\"#d8576b\"],[0.6666666666666666,\"#ed7953\"],[0.7777777777777778,\"#fb9f3a\"],[0.8888888888888888,\"#fdca26\"],[1.0,\"#f0f921\"]]}],\"choropleth\":[{\"type\":\"choropleth\",\"colorbar\":{\"outlinewidth\":0,\"ticks\":\"\"}}],\"histogram2d\":[{\"type\":\"histogram2d\",\"colorbar\":{\"outlinewidth\":0,\"ticks\":\"\"},\"colorscale\":[[0.0,\"#0d0887\"],[0.1111111111111111,\"#46039f\"],[0.2222222222222222,\"#7201a8\"],[0.3333333333333333,\"#9c179e\"],[0.4444444444444444,\"#bd3786\"],[0.5555555555555556,\"#d8576b\"],[0.6666666666666666,\"#ed7953\"],[0.7777777777777778,\"#fb9f3a\"],[0.8888888888888888,\"#fdca26\"],[1.0,\"#f0f921\"]]}],\"heatmap\":[{\"type\":\"heatmap\",\"colorbar\":{\"outlinewidth\":0,\"ticks\":\"\"},\"colorscale\":[[0.0,\"#0d0887\"],[0.1111111111111111,\"#46039f\"],[0.2222222222222222,\"#7201a8\"],[0.3333333333333333,\"#9c179e\"],[0.4444444444444444,\"#bd3786\"],[0.5555555555555556,\"#d8576b\"],[0.6666666666666666,\"#ed7953\"],[0.7777777777777778,\"#fb9f3a\"],[0.8888888888888888,\"#fdca26\"],[1.0,\"#f0f921\"]]}],\"heatmapgl\":[{\"type\":\"heatmapgl\",\"colorbar\":{\"outlinewidth\":0,\"ticks\":\"\"},\"colorscale\":[[0.0,\"#0d0887\"],[0.1111111111111111,\"#46039f\"],[0.2222222222222222,\"#7201a8\"],[0.3333333333333333,\"#9c179e\"],[0.4444444444444444,\"#bd3786\"],[0.5555555555555556,\"#d8576b\"],[0.6666666666666666,\"#ed7953\"],[0.7777777777777778,\"#fb9f3a\"],[0.8888888888888888,\"#fdca26\"],[1.0,\"#f0f921\"]]}],\"contourcarpet\":[{\"type\":\"contourcarpet\",\"colorbar\":{\"outlinewidth\":0,\"ticks\":\"\"}}],\"contour\":[{\"type\":\"contour\",\"colorbar\":{\"outlinewidth\":0,\"ticks\":\"\"},\"colorscale\":[[0.0,\"#0d0887\"],[0.1111111111111111,\"#46039f\"],[0.2222222222222222,\"#7201a8\"],[0.3333333333333333,\"#9c179e\"],[0.4444444444444444,\"#bd3786\"],[0.5555555555555556,\"#d8576b\"],[0.6666666666666666,\"#ed7953\"],[0.7777777777777778,\"#fb9f3a\"],[0.8888888888888888,\"#fdca26\"],[1.0,\"#f0f921\"]]}],\"surface\":[{\"type\":\"surface\",\"colorbar\":{\"outlinewidth\":0,\"ticks\":\"\"},\"colorscale\":[[0.0,\"#0d0887\"],[0.1111111111111111,\"#46039f\"],[0.2222222222222222,\"#7201a8\"],[0.3333333333333333,\"#9c179e\"],[0.4444444444444444,\"#bd3786\"],[0.5555555555555556,\"#d8576b\"],[0.6666666666666666,\"#ed7953\"],[0.7777777777777778,\"#fb9f3a\"],[0.8888888888888888,\"#fdca26\"],[1.0,\"#f0f921\"]]}],\"mesh3d\":[{\"type\":\"mesh3d\",\"colorbar\":{\"outlinewidth\":0,\"ticks\":\"\"}}],\"scatter\":[{\"fillpattern\":{\"fillmode\":\"overlay\",\"size\":10,\"solidity\":0.2},\"type\":\"scatter\"}],\"parcoords\":[{\"type\":\"parcoords\",\"line\":{\"colorbar\":{\"outlinewidth\":0,\"ticks\":\"\"}}}],\"scatterpolargl\":[{\"type\":\"scatterpolargl\",\"marker\":{\"colorbar\":{\"outlinewidth\":0,\"ticks\":\"\"}}}],\"bar\":[{\"error_x\":{\"color\":\"#2a3f5f\"},\"error_y\":{\"color\":\"#2a3f5f\"},\"marker\":{\"line\":{\"color\":\"#E5ECF6\",\"width\":0.5},\"pattern\":{\"fillmode\":\"overlay\",\"size\":10,\"solidity\":0.2}},\"type\":\"bar\"}],\"scattergeo\":[{\"type\":\"scattergeo\",\"marker\":{\"colorbar\":{\"outlinewidth\":0,\"ticks\":\"\"}}}],\"scatterpolar\":[{\"type\":\"scatterpolar\",\"marker\":{\"colorbar\":{\"outlinewidth\":0,\"ticks\":\"\"}}}],\"histogram\":[{\"marker\":{\"pattern\":{\"fillmode\":\"overlay\",\"size\":10,\"solidity\":0.2}},\"type\":\"histogram\"}],\"scattergl\":[{\"type\":\"scattergl\",\"marker\":{\"colorbar\":{\"outlinewidth\":0,\"ticks\":\"\"}}}],\"scatter3d\":[{\"type\":\"scatter3d\",\"line\":{\"colorbar\":{\"outlinewidth\":0,\"ticks\":\"\"}},\"marker\":{\"colorbar\":{\"outlinewidth\":0,\"ticks\":\"\"}}}],\"scattermapbox\":[{\"type\":\"scattermapbox\",\"marker\":{\"colorbar\":{\"outlinewidth\":0,\"ticks\":\"\"}}}],\"scatterternary\":[{\"type\":\"scatterternary\",\"marker\":{\"colorbar\":{\"outlinewidth\":0,\"ticks\":\"\"}}}],\"scattercarpet\":[{\"type\":\"scattercarpet\",\"marker\":{\"colorbar\":{\"outlinewidth\":0,\"ticks\":\"\"}}}],\"carpet\":[{\"aaxis\":{\"endlinecolor\":\"#2a3f5f\",\"gridcolor\":\"white\",\"linecolor\":\"white\",\"minorgridcolor\":\"white\",\"startlinecolor\":\"#2a3f5f\"},\"baxis\":{\"endlinecolor\":\"#2a3f5f\",\"gridcolor\":\"white\",\"linecolor\":\"white\",\"minorgridcolor\":\"white\",\"startlinecolor\":\"#2a3f5f\"},\"type\":\"carpet\"}],\"table\":[{\"cells\":{\"fill\":{\"color\":\"#EBF0F8\"},\"line\":{\"color\":\"white\"}},\"header\":{\"fill\":{\"color\":\"#C8D4E3\"},\"line\":{\"color\":\"white\"}},\"type\":\"table\"}],\"barpolar\":[{\"marker\":{\"line\":{\"color\":\"#E5ECF6\",\"width\":0.5},\"pattern\":{\"fillmode\":\"overlay\",\"size\":10,\"solidity\":0.2}},\"type\":\"barpolar\"}],\"pie\":[{\"automargin\":true,\"type\":\"pie\"}]},\"layout\":{\"autotypenumbers\":\"strict\",\"colorway\":[\"#636efa\",\"#EF553B\",\"#00cc96\",\"#ab63fa\",\"#FFA15A\",\"#19d3f3\",\"#FF6692\",\"#B6E880\",\"#FF97FF\",\"#FECB52\"],\"font\":{\"color\":\"#2a3f5f\"},\"hovermode\":\"closest\",\"hoverlabel\":{\"align\":\"left\"},\"paper_bgcolor\":\"white\",\"plot_bgcolor\":\"#E5ECF6\",\"polar\":{\"bgcolor\":\"#E5ECF6\",\"angularaxis\":{\"gridcolor\":\"white\",\"linecolor\":\"white\",\"ticks\":\"\"},\"radialaxis\":{\"gridcolor\":\"white\",\"linecolor\":\"white\",\"ticks\":\"\"}},\"ternary\":{\"bgcolor\":\"#E5ECF6\",\"aaxis\":{\"gridcolor\":\"white\",\"linecolor\":\"white\",\"ticks\":\"\"},\"baxis\":{\"gridcolor\":\"white\",\"linecolor\":\"white\",\"ticks\":\"\"},\"caxis\":{\"gridcolor\":\"white\",\"linecolor\":\"white\",\"ticks\":\"\"}},\"coloraxis\":{\"colorbar\":{\"outlinewidth\":0,\"ticks\":\"\"}},\"colorscale\":{\"sequential\":[[0.0,\"#0d0887\"],[0.1111111111111111,\"#46039f\"],[0.2222222222222222,\"#7201a8\"],[0.3333333333333333,\"#9c179e\"],[0.4444444444444444,\"#bd3786\"],[0.5555555555555556,\"#d8576b\"],[0.6666666666666666,\"#ed7953\"],[0.7777777777777778,\"#fb9f3a\"],[0.8888888888888888,\"#fdca26\"],[1.0,\"#f0f921\"]],\"sequentialminus\":[[0.0,\"#0d0887\"],[0.1111111111111111,\"#46039f\"],[0.2222222222222222,\"#7201a8\"],[0.3333333333333333,\"#9c179e\"],[0.4444444444444444,\"#bd3786\"],[0.5555555555555556,\"#d8576b\"],[0.6666666666666666,\"#ed7953\"],[0.7777777777777778,\"#fb9f3a\"],[0.8888888888888888,\"#fdca26\"],[1.0,\"#f0f921\"]],\"diverging\":[[0,\"#8e0152\"],[0.1,\"#c51b7d\"],[0.2,\"#de77ae\"],[0.3,\"#f1b6da\"],[0.4,\"#fde0ef\"],[0.5,\"#f7f7f7\"],[0.6,\"#e6f5d0\"],[0.7,\"#b8e186\"],[0.8,\"#7fbc41\"],[0.9,\"#4d9221\"],[1,\"#276419\"]]},\"xaxis\":{\"gridcolor\":\"white\",\"linecolor\":\"white\",\"ticks\":\"\",\"title\":{\"standoff\":15},\"zerolinecolor\":\"white\",\"automargin\":true,\"zerolinewidth\":2},\"yaxis\":{\"gridcolor\":\"white\",\"linecolor\":\"white\",\"ticks\":\"\",\"title\":{\"standoff\":15},\"zerolinecolor\":\"white\",\"automargin\":true,\"zerolinewidth\":2},\"scene\":{\"xaxis\":{\"backgroundcolor\":\"#E5ECF6\",\"gridcolor\":\"white\",\"linecolor\":\"white\",\"showbackground\":true,\"ticks\":\"\",\"zerolinecolor\":\"white\",\"gridwidth\":2},\"yaxis\":{\"backgroundcolor\":\"#E5ECF6\",\"gridcolor\":\"white\",\"linecolor\":\"white\",\"showbackground\":true,\"ticks\":\"\",\"zerolinecolor\":\"white\",\"gridwidth\":2},\"zaxis\":{\"backgroundcolor\":\"#E5ECF6\",\"gridcolor\":\"white\",\"linecolor\":\"white\",\"showbackground\":true,\"ticks\":\"\",\"zerolinecolor\":\"white\",\"gridwidth\":2}},\"shapedefaults\":{\"line\":{\"color\":\"#2a3f5f\"}},\"annotationdefaults\":{\"arrowcolor\":\"#2a3f5f\",\"arrowhead\":0,\"arrowwidth\":1},\"geo\":{\"bgcolor\":\"white\",\"landcolor\":\"#E5ECF6\",\"subunitcolor\":\"white\",\"showland\":true,\"showlakes\":true,\"lakecolor\":\"white\"},\"title\":{\"x\":0.05},\"mapbox\":{\"style\":\"light\"}}},\"xaxis\":{\"anchor\":\"y\",\"domain\":[0.0,1.0],\"title\":{\"text\":\"x\"}},\"yaxis\":{\"anchor\":\"x\",\"domain\":[0.0,1.0],\"title\":{\"text\":\"y\"}},\"coloraxis\":{\"colorbar\":{\"title\":{\"text\":\"color\"}},\"colorscale\":[[0.0,\"#0d0887\"],[0.1111111111111111,\"#46039f\"],[0.2222222222222222,\"#7201a8\"],[0.3333333333333333,\"#9c179e\"],[0.4444444444444444,\"#bd3786\"],[0.5555555555555556,\"#d8576b\"],[0.6666666666666666,\"#ed7953\"],[0.7777777777777778,\"#fb9f3a\"],[0.8888888888888888,\"#fdca26\"],[1.0,\"#f0f921\"]]},\"legend\":{\"tracegroupgap\":0},\"margin\":{\"t\":60}},                        {\"responsive\": true}                    ).then(function(){\n",
              "                            \n",
              "var gd = document.getElementById('57898803-1f30-400d-94b8-0a7e9a65fdd4');\n",
              "var x = new MutationObserver(function (mutations, observer) {{\n",
              "        var display = window.getComputedStyle(gd).display;\n",
              "        if (!display || display === 'none') {{\n",
              "            console.log([gd, 'removed!']);\n",
              "            Plotly.purge(gd);\n",
              "            observer.disconnect();\n",
              "        }}\n",
              "}});\n",
              "\n",
              "// Listen for the removal of the full notebook cells\n",
              "var notebookContainer = gd.closest('#notebook-container');\n",
              "if (notebookContainer) {{\n",
              "    x.observe(notebookContainer, {childList: true});\n",
              "}}\n",
              "\n",
              "// Listen for the clearing of the current output cell\n",
              "var outputEl = gd.closest('.output');\n",
              "if (outputEl) {{\n",
              "    x.observe(outputEl, {childList: true});\n",
              "}}\n",
              "\n",
              "                        })                };                            </script>        </div>\n",
              "</body>\n",
              "</html>"
            ]
          },
          "metadata": {}
        }
      ]
    },
    {
      "cell_type": "code",
      "source": [
        "hc = AgglomerativeClustering(n_clusters=2, affinity='euclidean', linkage='ward')\n",
        "rotulos = hc.fit_predict(x_random)\n",
        "grafico = px.scatter(x=x_random[:, 0], y=x_random[:, 1], color=rotulos)\n",
        "grafico.show()"
      ],
      "metadata": {
        "id": "hHTENYONt5o2",
        "outputId": "f85b2f3d-f37c-4558-913f-8e51d175091e",
        "colab": {
          "base_uri": "https://localhost:8080/",
          "height": 611
        }
      },
      "execution_count": 86,
      "outputs": [
        {
          "output_type": "stream",
          "name": "stderr",
          "text": [
            "/usr/local/lib/python3.10/dist-packages/sklearn/cluster/_agglomerative.py:983: FutureWarning:\n",
            "\n",
            "Attribute `affinity` was deprecated in version 1.2 and will be removed in 1.4. Use `metric` instead\n",
            "\n"
          ]
        },
        {
          "output_type": "display_data",
          "data": {
            "text/html": [
              "<html>\n",
              "<head><meta charset=\"utf-8\" /></head>\n",
              "<body>\n",
              "    <div>            <script src=\"https://cdnjs.cloudflare.com/ajax/libs/mathjax/2.7.5/MathJax.js?config=TeX-AMS-MML_SVG\"></script><script type=\"text/javascript\">if (window.MathJax && window.MathJax.Hub && window.MathJax.Hub.Config) {window.MathJax.Hub.Config({SVG: {font: \"STIX-Web\"}});}</script>                <script type=\"text/javascript\">window.PlotlyConfig = {MathJaxConfig: 'local'};</script>\n",
              "        <script charset=\"utf-8\" src=\"https://cdn.plot.ly/plotly-2.29.1.min.js\"></script>                <div id=\"0523812a-2828-41d5-b2e6-d1c9c48ec2ef\" class=\"plotly-graph-div\" style=\"height:525px; width:100%;\"></div>            <script type=\"text/javascript\">                                    window.PLOTLYENV=window.PLOTLYENV || {};                                    if (document.getElementById(\"0523812a-2828-41d5-b2e6-d1c9c48ec2ef\")) {                    Plotly.newPlot(                        \"0523812a-2828-41d5-b2e6-d1c9c48ec2ef\",                        [{\"hovertemplate\":\"x=%{x}\\u003cbr\\u003ey=%{y}\\u003cbr\\u003ecolor=%{marker.color}\\u003cextra\\u003e\\u003c\\u002fextra\\u003e\",\"legendgroup\":\"\",\"marker\":{\"color\":[0,1,0,1,0,0,0,0,0,1,1,0,0,1,0,1,0,1,0,1,0,0,1,1,1,1,0,0,0,0,0,0,0,0,0,0,1,0,1,0,0,0,0,0,0,0,0,1,0,0,0,1,0,1,1,0,0,1,0,0,1,1,1,0,1,1,0,1,0,1,0,0,0,1,0,0,1,0,0,1,0,0,0,0,0,1,0,0,0,0,0,0,0,0,0,0,0,0,1,0,0,0,0,1,0,0,0,0,1,0,1,0,1,0,1,1,1,0,1,0,1,1,1,1,1,0,0,1,0,0,1,0,0,0,0,0,1,0,0,0,0,1,1,0,0,0,1,1,1,1,1,1,0,0,1,0,0,0,0,0,0,0,1,0,0,0,0,1,0,1,0,0,0,0,1,0,0,1,0,1,0,0,0,0,0,0,1,0,1,0,0,0,0,0,0,0,0,0,1,1,1,0,1,0,0,0,0,1,1,0,0,0,1,0,0,0,1,1,0,0,0,0,1,0,1,1,1,0,0,0,0,0,0,0,0,0,0,0,0,1,0,0,0,0,0,0,1,0,1,1,0,0,0,0,0,0,0,0,1,1,1,0,1,1,0,0,0,1,1,1,0,1,0,0,1,0,0,1,0,0,0,0,1,1,0,0,1,0,0,0,0,1,0,1,1,0,0,1,0,0,0,0,0,1,0,1,1,0,0,1,0,0,0,1,0,1,1,0,0,0,0,0,0,1,1,0,0,0,1,0,1,1,0,0,0,1,0,1,1,0,0,1,1,0,0,0,0,0,1,0,0,1,0,1,0,0,0,1,0,1,0,1,0,0,0,1,0,0,0,0,0,0,0,1,1,1,0,1,1,0,0,0,0,0,0,1,0,0,0,1,0,0,1,0,0,0,0,1,1,0,1,0,0,1,1,0,1,1,0,0,0,1,0,0,1,0,0,1,0,0,1,0,1,0,0,0,0,0,0,1,1,0,0,0,0,0,1,0,0,0,1,0,0,1,1,0,0,1,0,0,0,1,0,1,0,0,0,1,1,0,0,0,0,0,0,0,1,1,0,0,0,1,1,0,0,1,0,1,0,0,0,1,1,0,0,0,0,0,0,0,0,0,0,0,1,0,0,0,0,1,0,0,1,1,0,1,1,0,0,0,1,1,1,1,0,1,0,1,1,1,0,1,0,0,0,1,0,1,0,0,0,0,1,1,1,0,0,0,0,0,0,1,1,1,1,1,0,1,0,0,0,0,0,0,0,1,0,0,0,0,0,1,0,0,1,1,0,1,1,0,1,0,0,1,0,0,0,1,1,0,0,0,0,1,0,1,0,0,0,1,1,1,0,0,1,0,0,0,1,0,0,0,1,0,0,1,1,1,0,0,1,1,0,0,0,0,0,0,0,0,0,0,0,1,0,0,1,1,0,0,1,1,0,0,0,1,1,1,1,0,0,0,1,0,0,0,1,1,0,0,0,1,0,0,1,1,1,0,0,1,0,0,1,0,0,0,0,1,0,0,1,0,0,0,0,0,0,0,0,1,0,1,0,1,1,0,0,0,1,0,0,1,0,0,1,0,0,1,0,1,0,0,0,0,1,1,0,1,1,0,0,0,0,1,1,0,1,0,0,0,0,0,1,0,0,0,0,0,0,0,0,1,0,0,0,1,0,0,1,1,0,1,0,0,1,0,0,0,0,1,0,1,1,0,0,1,0,1,0,0,0,0,1,0,1,0,0,1,0,1,0,1,0,0,0,0,1,1,0,1,0,1,0,0,1,0,0,0,1,0,1,0,1,0,0,0,0,1,1,1,0,0,0,0,0,0,0,0,0,0,0,1,0,0,1,0,1,0,1,0,0,0,1,0,0,0,0,0,1,0,1,0,1,0,0,0,0,1,0,0,0,0,0,0,0,1,1,0,1,0,1,1,0,0,0,0,0,0,0,0,0,0,0,1,1,0,0,1,0,0,0,1,0,0,1,0,0,1,0,0,1,0,0,0,0,1,1,0,1,1,0,0,0,1,0,0,0,1,1,0,0,1,1,0,0,0,1,0,0,0,0,0,1,1,1,0,0,0,0,0,1,0,0,0,0,0,0,0,0,0,0,0,0,0,0,0,1,0,0,0,1,0,0,0,1,0,0,0,0,0,0,0,0,1,0,0,0,0,0,0,0,0,0,0,1,0,0,0,0,0,1,0,0,0,1,0,1,1,0,1,0,0,1,0,0,0,0,0,1,1,0,1,1,1,0,0,0,0,0,0,0,0,1,1,0,1,1,0,1,0,0,0,0,1,1,1,0,0,0,1,0,1,0,0,1,1,0,0,1,1,0,1,0,0,0,0,0,0,1,0,0,0,1,0,1,1,1,1,0,1,0,1,0,0,0,1,0,0,0,1,0,0,1,0,0,0,1,1,0,0,1,0,1,0,0,1,0,1,0,1,0,0,0,0,0,0,0,1,0,1,1,0,0,1,1,0,0,0,0,0,0,1,0,0,0,1,1,0,0,1,0,0,0,1,1,1,0,1,0,0,0,0,0,1,1,0,0,0,0,0,0,0,1,0,0,0,0,1,0,0,0,0,1,0,0,0,1,0,0,0,0,0,0,1,0,1,1,1,0,0,0,1,1,1,0,0,0,1,0,1,0,1,0,1,0,0,0,0,1,1,1,1,0,0,0,0,0,0,0,1,0,0,0,0,0,1,0,0,1,0,0,1,1,1,0,0,0,0,0,1,1,0,1,1,0,1,1,0,0,1,0,1,0,1,1,0,0,1,1,0,0,1,0,0,0,0,0,0,0,0,0,0,0,0,0,0,0,1,1,0,0,0,1,0,0,1,0,0,0,0,1,1,0,0,0,1,0,0,0,0,0,1,0,0,0,0,0,1,0,1,1,0,0,1,0,0,0,1,1,1,0,0,0,0,0,1,0,0,0,0,0,1,0,0,0,0,1,0,0,0,0,1,0,0,1,1,0,0,0,1,0,0,0,0,1,0,1,0,0,0,0,0,0,1,1,0,0,0,1,0,0,1,1,0,0,1,0,1,0,1,0,0,0,0,1,0,0,1,0,1,1,0,1,0,0,0,0,1,0,0,1,0,1,0,1,0,1,0,0,0,0,0,0,0,0,1,1,1,0,1,0,0,1,0,0,0,0,0,0,0,0,0,0,0,0,1,0,0,0,0,0,1,0,0,1,0,1,1,0,0,0,0,1,1,0,0,0,0,0,0,0,0,0,0,0,1,1,0,0,1,1,1,1,1,1,1,0,0,0,0,0,1,1,1,1,0,0,0,0,0,1,0,0,0,0,0,0,0,0,0,1,0,0,0,1,1,1,0,0,0,0,1,1,0,0,0,1,0,0,1,0,1,0,1,1,0,0,0,0,0],\"coloraxis\":\"coloraxis\",\"symbol\":\"circle\"},\"mode\":\"markers\",\"name\":\"\",\"showlegend\":false,\"x\":[0.909869447855485,-0.9326503730218288,1.9534889470304617,0.38993734371266375,0.03471032288855869,0.658885805796111,1.9987335824545847,0.9780894250801918,1.1979177367918592,0.05240576668932899,-0.6958977359566239,0.837106101849709,0.6234898018587336,-0.8461658472851411,1.9989358215947166,-0.6868064092127586,1.8719061518010984,-0.9045768730971196,0.4987886977095622,-0.8799985589078699,1.5204406750972002,1.9630647472666807,-0.010485764624336527,-0.9735086188164599,-0.5417630526990613,-0.5452837865693664,0.9725410112949588,0.05577085948272431,0.4547162134306336,0.5168545332914941,0.6062037364460751,0.780522186673046,1.1025816083936035,1.8859054323708802,1.976308614221301,0.7206464083164894,0.07333580287750391,0.42346867375175057,-0.5696568702084723,0.18413584703837615,0.004649700102705379,1.5662045791023171,1.603618645111425,0.5275854277211028,0.22210669784467396,0.7368442615361046,0.13432433968906055,-0.9879818467824021,0.6036186451114249,0.49395819653987205,1.9509268190860123,-0.9898485567503186,0.8677677694694957,-0.902780811730186,-0.9509268190860124,1.8461658472851412,0.6490178995514249,-0.13589564513500627,0.3101509943780647,0.668731367824424,-0.3114094702888742,-0.5168545332914941,-0.6806850215490629,0.9063570204054348,-0.9663766784927852,0.11508992393676364,1.48417769834899,0.4657227828320636,1.6989037634679087,-0.303426965708699,0.0028486875785440624,0.0503793504560085,1.9584117335075018,-0.31937006068169665,1.999780097480486,1.006291532565181,-0.0440267828126479,1.759110541291736,0.8109847531882045,-0.350982100448575,0.36997361194357303,0.9009688679024191,0.057160325889039076,1.6069573944946018,1.502419670074398,-0.7282791575766909,0.9879818467824021,1.3233419629357548,0.5491890178356142,0.5935389167199637,0.5346930536452399,0.03255332141737688,0.9350328563964247,1.3074209221993482,0.016220544776863854,1.7960055286803387,1.8916720373012423,0.3930426055053978,-0.991005977167144,1.5696568702084723,1.2994276710818868,0.9456019952697461,1.5627423268605967,0.31937006068169677,0.7489545381492895,1.1524976278004648,0.9559839770301876,0.17931386041904507,-0.38993734371266364,1.4987886977095621,-0.9763086142213011,1.9892437200326238,-0.11925541070754227,0.6178010082530485,-0.023067058820787193,0.36273663894339064,-0.7645445329068321,0.4831454667085059,0.17731866058801812,0.7938664992948548,0.3074209221993483,-0.7672413768130659,-0.9953502998972946,-0.8759831772486388,0.09840846264303063,0.44072982560590634,0.9873248324497849,-0.8483936664993149,0.06435596696173906,0.0073886751710440235,-0.9772076155698657,1.837106101849709,0.947594233310671,1.9522162591431318,1.2833785197731478,1.0649671436035753,-0.12758001688622111,0.49514895024466654,1.1275800168862211,0.9998592605305062,0.9999648145136173,-0.823075496759396,-0.42820667676705726,0.6726918233073231,0.941433620495435,0.01075627996737627,-0.5627423268605967,0.018873601534994598,-0.7018974952906882,-0.37831969576193836,-0.9886214797276642,-0.8035587560807045,0.4166347887822315,0.33482706156096653,-0.5204406750972003,0.16289389815029098,0.6169093400771741,1.7396734365955129,1.3821989917469515,0.639747995266225,0.002251039297172741,0.9931115272956403,0.19791773679185937,0.9141210684826255,1.889765477869806,1.5765313262482494,1.7048788787567757,-0.2510454618507104,0.9216571389263767,-0.9852496182428682,0.7225049421328023,1.1855681574939492,1.1731891965349646,1.985249618242868,0.27935359168351065,1.9926113248289559,0.5024196700743978,-0.21842976777774642,0.9371161852145424,0.2672496033793312,1.106752949444346,0.39638135488857507,0.9995690062269984,0.8020822632081406,0.9744590995755086,1.9953502998972947,0.3470514794005812,0.9572062752479682,-0.6234898018587335,0.03046440011006557,0.9769329411792127,0.8350787995279959,0.21686266039601376,1.979801406834788,1.8085236305140835,0.9428396741109609,0.12000144109213007,1.9753924368504672,-0.25510330050257196,-0.6557248242816902,-0.052405766689328864,1.9167019748939844,-0.5382327876885793,0.9992875743301965,0.5012113022904379,0.843923141627045,0.793459718942254,-0.09840846264303074,-0.8439231416270448,0.6714132622152207,1.1607828139194682,0.48674070144327586,-0.8839520142124788,0.9081212223373192,0.7108043910332633,0.005492728764592725,-0.0649671436035752,-0.8935629097065211,0.9772076155698657,0.9311289178486017,0.8765812005607216,0.4768208329292217,-0.9968261715188322,0.9999912035897159,-0.9674466785826231,-0.4091619859914693,-0.9200215936708597,1.7137484155971885,0.47241457227889716,1.9063570204054348,1.0858789315173747,0.11215673504603041,0.3223936620129818,0.9964834936322354,1.189688045214908,0.695897735956624,0.6837517299416598,1.4768208329292216,0.49034496585679044,-0.7452926983439472,1.8571552989871805,0.9853201877906834,1.6557248242816902,1.9216571389263766,1.3744337440664003,1.987981846782402,-0.27128906254769525,1.767241376813066,-0.8528044890839854,-0.566204579102317,1.5833652112177685,1.090057050742471,0.9953502998972946,0.21426128505976927,0.999780097480486,0.9982763964192584,0.6885905297111259,0.006405741870579074,-0.7340021233078164,-0.9995690062269984,-0.9428396741109608,1.998513772773741,-0.9482977734962753,-0.8254503737183084,0.4512050726401443,0.2746015692430369,0.922481765959234,-0.8301565201098942,0.11092241240960429,-0.46572278283206353,1.416801927347935,-0.41298558946038827,1.6745157334182537,0.7126015375646664,-0.7591105412917359,0.4064610832800363,0.8528044890839854,-0.7857387149402308,0.6267636082274293,0.026491381183540108,1.9133178469074001,0.9619268579460558,-0.9806315489604704,-0.9957455513302232,0.005062462554862646,0.9763086142213011,-0.14004990964149305,1.9248795573028046,0.08498204022591627,0.2951211212432241,0.8849100760632364,-0.8060482836288057,0.9892437200326237,-0.997151312421456,-0.9830184059878607,1.3627366389433906,0.9308479184693794,-0.9641856935620117,0.8614457900381748,0.29810250470931177,0.759110541291736,1.9806315489604704,0.30712053435866316,0.4244125379473226,0.872419983113779,-0.7311470719118763,0.0858789315173745,0.5765313262482494,1.4951489502446664,-0.979801406834788,0.126047647831673,0.31931497845093726,0.806195404211877,-0.27532374897625994,1.2914133489479382,-0.9753924368504673,-0.6745157334182537,1.0984084626430308,0.24637686967058714,0.9442291405172757,1.6928794656413368,0.8641043548649936,1.4470630400884572,0.40149325150803084,-0.9232764696332231,0.8268108034650354,1.2632054425366477,0.777893302155326,-0.837106101849709,0.5452837865693664,-0.742489598712872,-0.5799533702407994,1.7424895987128721,0.04039966939862283,0.902780811730186,0.3509821004485751,1.8158641529616237,-0.17318919653496465,-0.7934597189422541,1.9961232847903359,1.202027395864365,-0.18556815749394914,-0.3588247492071358,0.997458910619961,0.17692450324060405,1.646172886899472,0.058566379504565,0.5121566136983575,-0.8324877067481781,0.17218927132309159,1.4545509932035947,-0.9607720456188192,1.9559839770301877,-0.35490654673145305,0.6069573944946022,1.8779985913140924,1.2954231086777839,-0.7508595131202045,0.36672191605577387,-0.9264663737322872,0.8182823442185173,0.08169930143964571,1.0607810627212295,0.5132592985567241,1.0356447007284324,-0.23884573225109101,0.8916720373012424,1.14835097399379,0.5833652112177685,1.823075496759396,0.018555560988731457,0.1364316785241788,0.8557982897249512,-0.8506065600759428,-0.8348042475796122,0.45081098216438575,0.07672353036677693,0.1483509739937902,0.16078281391946822,0.02844370596604917,1.573099139443525,1.6493683089188536,0.024607563149532607,0.5096550341432096,0.05170222650372469,-0.06915208153062075,1.255103300502572,1.7340021233078164,0.785665241196533,0.4470630400884573,0.4200466297592008,0.00790634047066019,-0.8677677694694957,1.2225209339563143,1.458283007408741,0.23816576149418556,1.7699247227794253,0.40533118420914716,-0.7725945235982854,0.5454490067964052,0.03145268218088976,0.10456193818013715,0.8254503737183086,-0.7985373344359863,-0.9183698626405264,0.630026388056427,-0.24291660622022077,-0.22252093395631434,0.11604798578752118,0.08329802510601547,0.12200140868590759,-0.3821989917469516,1.5382327876885793,0.7611542677489088,-0.8779985913140924,0.10270253934794693,0.9248795573028045,-0.9150179597740837,0.36025200473377506,0.5717933232329429,-0.26724960337933107,1.9572062752479682,0.23884573225109115,1.0146798122093168,0.5799533702407992,0.4688560871570513,0.9705544843573901,1.5557881827877633,1.9663766784927852,-0.9892437200326237,0.14004990964149316,1.8182823442185172,0.5240176608834927,1.9999648145136173,0.03581430643798833,0.6002692763737327,0.43577228769976434,0.2039944713196612,1.9940595088377004,1.9695355998899344,-0.889765477869806,1.9150179597740837,0.00387671520966415,-0.9991204866361802,-0.09005705074247083,1.941433620495435,0.7005723289181134,-0.9998592605305062,0.9522162591431317,0.8759831772486387,0.8278107286769084,-0.8739523521683269,1.8416655889805449,0.24698320660108414,0.6898490056219353,1.3976482554081813,0.32548426658174634,-0.014679812209316698,-0.9992875743301965,0.1890152468117955,0.7985373344359861,0.26599787669218355,1.9789540272387627,0.2862515844028112,1.3783196957619384,0.30410226404337604,-0.9845231970029772,-0.4768208329292216,1.8759831772486388,0.5627423268605967,0.02104597276123721,-0.5935389167199637,-0.9915585405039848,0.5566927670873179,0.9607720456188192,-0.6928794656413368,0.9341554202443905,-0.7883262669162499,0.153834152714859,0.8779985913140924,0.742489598712872,-0.900968867902419,-0.49514895024466643,1.9482977734962752,1.6651729384390335,0.7979726041356352,1.140049909641493,0.6461728868994722,0.9859587061630106,0.09013055214451504,1.2873984624353336,0.9183006985603543,0.5870144105396116,0.07196310899490577,-0.5487949273598557,1.9607720456188193,1.3312686321755758,1.206133500705145,0.9985137727737411,-0.9133178469074001,1.9045768730971195,1.9496206495439914,0.27532374897625983,-0.6429660968764352,1.7368442615361044,-0.9935942581294209,0.19380459578812306,1.531143912842949,0.991005977167144,0.676658037064245,0.023067058820787318,-1.0,-0.8656756603109396,-0.9780894250801917,1.5275854277211027,-0.992611324828956,1.9311289178486017,-0.177318660588018,-0.5901580442098969,0.0649671436035753,1.9641856935620117,0.07751823404076592,0.8416655889805449,1.954744860357833,1.9780894250801917,0.03983609218515127,0.010151443249681424,-0.27935359168351054,1.3899373437126636,1.5487949273598556,0.9968261715188322,0.6989037634679086,-0.9081212223373193,-0.9999912035897159,-0.9559839770301876,0.5311439128429487,1.9904359792399648,0.7774790660436856,1.238845732251091,0.9898485567503186,0.16984347989010573,0.32730817669267687,0.33917198971950413,-0.9987335824545847,-0.6651729384390335,-0.9994370817372216,0.847502372199535,-0.09423358561003224,1.7452926983439472,1.9280368910050942,0.5342772171679364,1.7883262669162499,0.15607685837295504,0.7327503966206688,1.0188736015349944,-0.3352232597088692,1.2469832066010842,1.4657227828320636,1.7857387149402308,0.19644124391929552,0.9715562940339508,-0.3705412050251882,1.7078478614152273,8.796410284062084e-06,0.28337851977314765,-0.9371161852145424,0.7693085499054214,-0.6267636082274295,-0.777893302155326,0.8516490260062098,-0.4545509932035947,0.04651105296953828,1.2793535916835106,-0.9744590995755086,0.6372633610566094,1.3666421471190429,0.9822400626861534,-0.3074209221993482,-0.1067529494443461,0.5084995082868655,0.9991204866361802,0.8226813394119818,0.6216803042380615,0.2510454618507105,0.7897640209237654,-0.9837794552231361,0.8158641529616238,0.7908999500097059,1.462006959123169,-0.2266081853640187,-0.7831373396039862,-0.060781062721229615,0.09187877766268082,0.473129784890119,-0.1442017102750489,0.47955932490279984,0.6255662559335997,0.3285867377847793,-0.8916720373012424,1.793459718942254,0.74808268617431,0.9496206495439915,-0.9534889470304617,0.9904359792399647,0.10832796269875755,-0.9652896771114413,0.43199328222356104,-0.8278107286769084,1.164921200472004,0.5417169925912588,-0.6169093400771739,-0.16492120047200398,1.2753237489762599,0.6620351956507757,0.27172084242330896,1.2266081853640187,0.9356440330382609,1.350982100448575,1.7725945235982854,1.764544532906832,0.045255139642166986,0.37979497345417246,0.01775993731384662,-0.954744860357833,0.8839520142124788,1.5522964132996595,-0.8109847531882045,-0.42061093251396114,1.8010550916675918,0.0014862272262589071,-0.573099139443525,-0.19380459578812292,0.4653069463547601,0.48784338630164253,0.08839833379628581,0.30342696570869915,-0.9949375374451374,-0.9999648145136173,-0.74808268617431,0.3474476932819064,1.3391719897195042,1.7195987426088348,-0.7108043910332632,0.5642277123002357,1.77525073230032,0.11023452213019402,-0.5522964132996595,0.2914133489479384,1.5799533702407995,1.777893302155326,1.2184297677777465,-0.8134316083530794,0.014041293836989377,1.97350861881646,-0.9814444390112685,0.2873984624353336,-0.9789540272387628,0.6493683089188536,0.02191057491980819,-0.9385718508739259,1.9992875743301965,1.998021457567256,0.12341879943927835,0.5522964132996594,0.29215213858477274,1.393796263553925,0.2688529280881238,0.10675294944434623,0.9977489607028273,1.658885805796111,-0.586766789155251,1.9442291405172756,0.7725945235982854,0.22474926769967996,0.8635683214758212,0.14501258514432824,1.8972974606520532,1.9081212223373192,0.9509268190860124,-0.39379626355392505,1.8878432649539696,-0.45081098216438587,1.9999208332359624,0.42820667676705715,0.45828300740874117,0.3634813613156752,0.9641856935620117,1.909869447855485,-0.3860715637736815,1.586766789155251,2.0,-0.9977489607028273,1.9996833454786032,0.9961232847903359,-0.39764825540818133,0.6429660968764354,0.10085892650897821,0.010485764624336648,0.7508595131202045,-0.909869447855485,1.9994370817372216,1.74808268617431,0.6608280102804959,1.7311470719118764,0.006291532565180921,0.40916198599146925,0.002541089380039052,0.3821989917469515,-0.7078478614152274,0.859308103339315,0.0003166545213968419,0.17454962628169135,1.052405766689329,-0.9980214575672559,0.2712890625476952,0.03922795438118076,-0.8614457900381747,0.11409456762911974,1.7618342385058146,0.06734962697817115,1.2712890625476954,0.009564020760035263,-0.9996833454786032,1.4014932515080307,1.1442017102750488,0.09903113209758085,0.38309065992282587,0.6568852472618177,1.267249603379331,0.926664197122496,0.7883262669162499,-0.9248795573028045,0.0017236035807416394,0.5969093472063687,0.33796480434922427,-0.12341879943927822,0.8932470505556538,0.8719061518010984,-0.18144500510569248,-0.9295910814913971,1.4805034923449676,-0.2833785197731477,0.12401682275136128,0.8991410734910218,0.0020971898202216755,0.7530167933989158,0.9989358215947167,0.9979028101797783,1.8839520142124788,-0.6461728868994722,1.8324877067481782,0.11925541070754217,-0.11092241240960417,1.9931115272956403,0.04158826649249825,-0.9985137727737411,1.420610932513961,-0.4244125379473225,1.9684996585566354,1.4053311842091474,0.6332780839442261,1.9715562940339508,-0.999780097480486,1.9866504482885476,-0.327308176692677,0.0004309937730015978,1.6620351956507755,-0.1607828139194683,0.6868064092127586,0.37831969576193847,0.3442751757183098,-0.8158641529616238,0.43379542089768286,0.9920936595293398,1.725398430756963,0.9806315489604704,-0.4694304131636055,-0.056593912528553426,0.9753924368504674,-0.8954380618198627,0.14069189666068505,-0.28739846243533373,0.426900860556475,1.9859587061630106,0.42061093251396103,1.5132592985567244,0.0427937247520318,0.5592701743940937,-0.8593081033393151,0.20910004999029408,0.3588247492071359,1.680685021549063,-0.027260110291953042,0.9935942581294209,0.027458988705041154,1.4915004917131345,0.889765477869806,-0.8206861395809549,0.3352232597088693,-0.6525523067180935,0.8506065600759429,0.14939343992405707,0.20146266556401393,0.023691385778698892,0.7570833937797794,1.073335802877504,0.0005629182627784335,0.8972974606520531,0.341114194203889,0.8185549948943074,0.19395171637119446,0.4545509932035948,0.7396734365955129,0.7672413768130659,-0.6714132622152208,0.4617672123114206,-0.869844612145389,0.07353362626771287,-0.14835097399379008,0.8144318425060509,0.6202050265458275,0.014750381757131836,-0.4168019273479351,0.7536231303294129,0.9167019748939845,1.6898490056219355,1.9998592605305063,1.8060482836288057,0.20613350070514525,0.06887108215139826,0.33126863217557595,0.47598233911650734,0.295423108677784,0.6100626562873362,1.0691520815306208,1.710804391033263,0.9099429492575293,0.3860715637736816,0.568006717776439,0.23007527722057497,0.9674466785826231,1.9886214797276642,1.4091619859914692,0.9482977734962753,0.8682610101591812,-0.6493683089188536,-0.006291532565180799,1.473129784890119,-0.9866504482885478,1.5417630526990613,-0.9063570204054348,-0.6620351956507755,0.2833201166866922,0.3131935907872414,0.9045768730971196,0.06584457975560953,0.9886214797276642,0.6450934532685471,1.843923141627045,1.6136028004331937,1.820686139580955,1.7805221866730458,1.2102359790762345,-0.7536231303294127,0.06915208153062063,0.022792384430134316,1.9705544843573901,-0.8719061518010984,1.7508595131202045,1.7563734891821134,0.008441459496015158,-0.6202050265458277,0.6846074601925338,0.9735086188164599,-0.630026388056427,0.4915004917131345,0.7448966994974281,-0.5311439128429488,1.2510454618507105,0.7563734891821132,-0.9356440330382609,0.9996833454786032,1.3431147527381824,0.9915585405039848,1.633278083944226,-0.1566415987437367,-0.4731297848901191,1.5240176608834926,-0.9982763964192584,0.12758001688622103,0.35703390312356464,1.193804595788123,0.23275862318693408,-0.8085236305140835,0.6745157334182537,0.27749505786719775,0.6365186386843248,-0.4357722876997642,-0.941433620495435,0.4975803299256022,1.1814450051056924,-0.4987886977095621,-0.9216571389263766,0.04401602296981244,0.003173828481167762,0.7287109374523049,0.2306914500945786,0.6294587949748118,1.3193700606816967,1.516854533291494,1.9949375374451375,1.99209365952934,0.2551033005025719,-0.9116016662037141,-0.53469305364524,1.9725410112949588,1.9772076155698657,0.6139284362263184,1.5346930536452401,0.9601639078148487,-0.9167019748939844,0.013349551711452134,0.01698159401213939,1.0230670588207873,0.45823694730093867,0.7815702322222536,0.08668215309259986,1.9991204866361802,0.03807314205394419,1.177318660588018,0.979801406834788,0.8974183916063966,0.6806850215490627,0.8324877067481783,1.9915585405039848,0.21167373308375015,-0.36273663894339053,0.43725767313940334,0.02554090042449142,0.9183698626405264,-0.6898490056219354,0.9852496182428682,0.8483936664993149,0.21947781332695404,-0.997458910619961,0.9845231970029772,0.9232764696332231,0.4477035867003406,0.28040125739116506,0.9949375374451374,0.7166798833133078,1.9873248324497848,0.13855420996182521,-0.636518638684325,0.7253984307569631,1.303426965708699,1.873952352168327,0.9695355998899344,0.954744860357833,0.01547680299702281,1.716679883313308,0.1516063335006851,0.7367945574633521,1.0482166988848542,-0.0858789315173746,0.053041785784015194,1.863568321475821,1.4357722876997643,1.3273081766926769,0.9789540272387628,-0.9456019952697461,0.6557248242816902,0.7652293436881495,1.5592701743940935,-0.048216698884854206,0.5793890674860389,-0.8972974606520532,-0.6002692763737328,1.044026782812648,-0.4014932515080307,1.2306914500945787,1.4395436267123016,-0.7396734365955129,0.1583344110194551,1.9814444390112684,0.704576891322216,0.012018153217597916,0.1675122932518217,-0.34311475273818237,0.20202739586436486,1.9837794552231363,-0.5557881827877633,-0.606957394494602,-0.8859054323708802,0.7137484155971888,1.9995690062269984,0.6023517445918187,1.8799985589078698,0.6102854657852455,0.8060482836288055,1.938571850873926,0.6928794656413368,-0.9964834936322354,-0.5060418034601278,1.2429166062202208,-0.8416655889805449,-0.7368442615361045,0.7085866510520615,-0.9940595088377006,1.5935389167199636,0.35382711310052783,1.929591081491397,0.8134316083530794,-0.44330723291268204,0.24291660622022065,-0.7195987426088348,1.5969093472063687,0.9434060874714467,1.8393932290623596,-0.8991410734910218,0.0599889955928532,-0.9822400626861534,1.6002692763737327,1.8254503737183083,-0.5592701743940934,-0.002097189820221775,1.9744590995755087,0.2631557384638954,0.152497627800465,-0.8635683214758211,0.5662045791023171,-0.9400110044071468,0.5194965076550324,0.8599500903585069,0.1914763694859165,1.4244125379473225,0.9015915373569694,0.823075496759396,-0.6776063379870182,0.20654028105774602,0.5755874620526774,0.10643709029347892,0.14420171027504883,0.8549874148556718,-0.45828300740874106,-0.24698320660108422,0.1690566855954522,0.3666421471190428,0.07834286107362332,-0.7752507323003199,1.671413262215221,-0.073335802877504,1.169056685595452,0.5379930408768311,0.8954380618198629,-0.5969093472063686,0.8206861395809549,0.9200215936708597,0.020198593165211998,0.23477065631185046,0.9957455513302232,0.7166214802268523,-0.9999208332359625,0.16519575242038775,1.6682989789591383,0.257510401287128,-0.2914133489479383,-0.4878433863016424,0.2603265634044871,0.9133178469074001,-0.26320544253664774,0.8890775875903957,0.34311475273818226,0.77525073230032,0.011378520272335768,0.3976482554081812,1.214334758803467,-0.21433475880346706,0.8085236305140835,0.027260110291952945,0.8878432649539696,0.9685473178191102,1.9935942581294208,0.3317010210408615,0.2491404868797955,0.3765101981412664,0.9895142353756633,0.43954362671230157,1.859308103339315,-0.19791773679185926,-0.9572062752479682,1.902780811730186,0.4694304131636054,0.21842976777774634,0.3705412050251881,1.9652896771114414,0.005940491162299444,0.2354554670931679,0.9937084674348191,0.7078478614152273,0.9596003306013772,-0.13173898984081886,0.1817176557814827,0.3162482700583402,0.0010641784052832781,0.06078106272122952,-0.6102854657852456,0.2547073016560526,7.91667640374083e-05,0.21023597907623462,0.8301565201098943,0.37323639177257073,0.4442118172122367,0.13173898984081875,-0.780522186673046,-0.03145268218088986,0.9584117335075018,-0.8549874148556716,0.13015538785461112,0.9559732171873522,0.728279157576691,1.9830184059878606,0.0068884727043596605,-0.7225049421328024,-0.49150049171313454,1.997151312421456,1.8134316083530795,1.1234187994392781,1.8656756603109397,1.347051479400581,0.9684996585566354,0.38971453421475455,-0.5096550341432096,0.9295910814913972,1.3153925398074662,0.14284470101281954,0.9940595088377006,-0.8878432649539697,0.6806299393183033,1.899141073491022,1.9982763964192585,0.8433584012562634,-0.20202739586436494,0.9517833011151456,0.03362332150721481,0.7340021233078164,-0.2954231086777839,0.35063169108114645,0.9866504482885479,1.450810982164386,1.039836092185151,0.09721918826981402,1.8348042475796122,-0.32334196293575485,1.7908999500097056,-0.9311289178486019,-0.7960055286803387,-0.2061335007051451,0.7857387149402307,0.9630647472666809,1.9326503730218287,-0.34705147940058106,-0.8010550916675918,-0.9630647472666808,1.506041803460128,1.6102854657852457,0.6333578528809571,0.26320544253664785,0.972739889708047,-0.9715562940339508,1.946958214215985,-0.9931115272956403,1.5096550341432096,0.1649212004720041,0.586766789155251,0.6647767402911307,0.09364297959456525,0.5529369599115427,-0.9442291405172757,-0.6837517299416598,0.1358956451350064,0.32334196293575496,0.7408433488321586,1.6525523067180936,0.7452926983439474,0.019368451039529555,0.51582230165101,1.8614457900381747,1.0775182340407659,-0.6332780839442261,0.8819830448449004,0.07512044269719553,0.5557881827877633,1.991005977167144,0.00014073946949377802,-0.9705544843573901,0.5382327876885794,1.9999912035897158,-0.5833652112177685,0.3863971995668062,1.9968261715188322,0.22252093395631445,-0.36664214711904286,-0.4470630400884572,0.6529485205994188,0.14719551091601457,1.0942335856100323,0.08163013735947355,0.3010962365320914,0.17318919653496456,-0.5024196700743979,0.2274054764017146,-0.9584117335075018,-0.7166798833133079,0.9830184059878606,-0.31539253980746623,-0.5765313262482493,0.526870215109881,0.004254448669776756,-0.9684996585566354,1.900968867902419,-0.6036186451114249,1.6267636082274295,0.18968804521490776,-0.2994276710818868,0.8935629097065211,1.7225049421328023,0.03564470072843258,0.04821669888485433,0.04778374085686832,0.012675167550215138,0.0146798122093166,0.7195987426088349,0.8309433144045478,0.18656839164692063,0.7018974952906882,0.846165847285141,1.8677677694694959,0.8656756603109395,1.9964834936322355,0.7311470719118762,1.1109224124096042,1.9428396741109608,1.9400110044071468,1.0,1.9977489607028271,0.8392171860805318,-0.7048788787567758,-0.9280368910050942,1.9674466785826232,1.0104857646243366,0.9999208332359626,-0.4805034923449677,0.9652896771114413,0.9326503730218288,0.4620069591231689,0.0369352527333191,0.00021990251951398143,1.4282066767670574,0.4805034923449676,0.1814450051056926,-0.11508992393676373,0.8348042475796122,1.3705412050251882,0.9534889470304617,0.18556815749394906,1.6397479952662248,0.583198072652065,0.9811263984650054,1.4129855894603882,1.6365186386843251,0.39379626355392494,1.6837517299416598,0.6925790778006518,0.41323321084474895,0.24088945870826395,1.9845231970029773,-0.9989358215947167,0.8035587560807045,0.05659391252855332,-0.725398430756963,0.5985067484919692,0.0035165063677645714,-0.5132592985567243,1.7536231303294127,0.6411752507928641,1.9341554202443905,-0.48417769834899016,-0.8571552989871803,-0.018873601534994476,0.9980214575672559,1.630026388056427,1.8278107286769085,0.2891956089667367,1.923276469633223,-0.658885805796111,0.4098419557901032,0.506041803460128,0.9994370817372216,1.850606560075943,0.8807445892924578,0.29942767108188667,1.9898485567503186,0.1989449083324083,1.6234898018587334,1.8109847531882046,-0.9695355998899344,1.2591566511678414,0.5901580442098968,0.39973072362626727,1.3114094702888743,-0.9904359792399647,0.7048788787567759,1.3588247492071357,-0.10258160839360356,-0.2102359790762345,0.5487949273598557,0.9971513124214559,1.848393666499315,-0.3744337440664002,1.0314526821808898,0.8103119547850922,1.4878433863016425,0.43034312979152745,-0.035644700728432455,0.12809384819890157,-0.6136028004331938,0.008994022832855997,0.48417769834899005,1.7831373396039862,0.992611324828956,1.7018974952906882,1.9619268579460558,0.4129855894603884,-0.5275854277211027,0.8859054323708803,0.6776063379870182,1.4319932822235613,0.1566415987437366,0.16060677093764053,0.5946688157908528,-0.8819830448449005,-0.9945072712354073,0.6965730342913008,1.5901580442098968,-0.9596003306013772,0.8393932290623595,0.44330723291268215,0.769924722779425,-0.9961232847903359,0.9264663737322871,0.873952352168327,0.6136028004331938,0.7246762510237401,-0.15249762780046486,0.9987335824545847,1.3352232597088691,-0.7699247227794251,1.0565939125285535,0.35490654673145294,-0.1690566855954521,0.5305695868363947,-0.40533118420914727,1.1317389898408188,1.945601995269746,0.7645445329068321,0.7960055286803388,0.10258160839360346,1.6202050265458277,0.6651729384390335,0.3153925398074661,1.6776063379870183,-0.08169930143964559,1.8035587560807045,0.2266081853640186,1.9264663737322874,-0.8393932290623596,0.9400110044071468,1.9371161852145424,1.997458910619961,0.0490731809139876,1.869844612145389,1.9596003306013772,1.4694304131636056,0.25191731382569005,-0.07751823404076581,0.09423358561003237,-0.33126863217557584,0.9837794552231361,-0.7908999500097057,1.893562909706521,0.05439800473025391,-0.2591566511678415,0.9280368910050942,1.6958977359566239,0.24362651081788678,0.8010550916675917,0.07040891850860276,0.8698446121453889,0.9057664143899676,1.0816993014396457,0.4030906527936313,0.5908380140085308,1.6868064092127586,0.573099139443525,-0.2306914500945787,0.13223223053050426,1.8819830448449006,0.11801695515509958,0.8571552989871805,1.9945072712354073,-0.9725410112949588,0.06142814912607397,0.07997840632914033,-0.6989037634679087,0.8799985589078699,-0.9496206495439914,-0.43199328222356115,1.3549065467314532,1.911601666203714,1.1566415987437366,0.938571850873926,-0.462006959123169,0.21433475880346695,1.728279157576691,1.1358956451350062,1.8528044890839854,0.6525523067180936,1.9822400626861534,0.5417630526990613,0.9150179597740837,0.9392189372787705,0.5204406750972002,0.5048510497553335,0.7618342385058144,-0.18968804521490784,-0.9859587061630106,0.7831373396039862,0.9945072712354073,-0.9619268579460558,-0.9873248324497849,-0.639747995266225,-0.5240176608834927,-0.039836092185151155,-0.8182823442185172,-0.7137484155971886,1.9200215936708598,1.1192554107075423,1.7985373344359863,0.0019785424327440904,0.9663766784927852,-0.3391719897195042,-0.6682989789591384,-0.23477065631185035,-0.7618342385058146,0.0008795133638197505,3.518548638270502e-05,1.1150899239367638,1.443307232912682,0.9643552992715674,-0.9469582142159849,0.9469582142159848,0.0007124256698034515,1.9183698626405263,1.8954380618198627,0.9116016662037142,1.3860715637736816,1.2347706563118503,0.029445515642609887,0.5231791670707783,0.09005705074247074,0.5696568702084726,1.8549874148556715,1.9957455513302231,0.3114094702888741,-0.9522162591431317,0.0440267828126478,0.6682989789591385,1.616909340077174,0.0012664175454153437,1.027260110291953,-0.9341554202443904,-0.7563734891821133,1.5452837865693665,0.031500341443364555,0.0,-0.9920936595293399,0.5604563732876984,1.935644033038261,0.416801927347935,1.8301565201098942,0.25915665116784137,0.09542312690288035,0.3744337440664003,-0.4395436267123016,0.9814444390112685,0.06288381478545757,0.7733918146359814,1.6429660968764352,1.0020971898202218],\"xaxis\":\"x\",\"y\":[0.41489467080110215,0.3607814874716323,0.1985720187329295,0.9208413913255159,0.23881837878194911,0.7522429759860901,0.44968865657298207,0.2081851977117968,-0.48021863350131655,0.9986258736973039,0.7181408922282905,0.5470405599642357,0.7818314824680298,0.5329196551903667,0.45387815772447526,0.7268403925651606,0.01032698415023936,0.4263105448588359,0.8667236209064565,0.474976353432539,-0.3538978297808061,0.23073007488365105,0.9999450228588784,0.22865032055535922,0.8405312574379338,0.8382515088591095,0.23273156500436024,0.17071087142450803,-0.3382515088591095,0.856073239516358,-0.4191977495680501,0.6251280797653604,-0.4947245918440849,0.03613410893258828,0.2836172608610322,-0.46018829966497843,0.9973073047041778,-0.31707504542387943,0.8218826255763579,-0.07824361986295358,0.403678764052958,-0.32426474788357174,-0.29727318484560084,0.8495019814316744,-0.12839638005154252,0.676062522435102,-0.0006052847755593227,0.15456995318765607,0.7972731848456008,-0.36250895250473847,0.19058412331789087,0.14212612250853615,0.4969699168661379,0.43010092533239963,0.3094158766821092,-0.03291965519036666,-0.4363821683290997,0.9907231569077914,-0.22395327849414914,-0.4435364822499037,0.9502758240713076,0.8560732395163582,0.7325762086218415,0.42251266438035007,0.257130541292263,0.9933550772046368,-0.37496968885869086,0.8849306693471294,-0.2152157222897113,0.952854698514318,0.42457281566856775,0.18659830574860048,0.21461088129512462,0.947630077794162,0.47902962370604973,-0.49998020811313126,0.9990303510880778,-0.15096173935168233,0.5850672868108991,0.9363821683290997,-0.276573724994976,0.4338837391175581,0.16675332121334352,-0.2947343715156179,-0.36462389229209546,0.6852805765811442,0.154569953187656,-0.44628218571674116,-0.3926194364677379,0.8048052897060829,0.8450463528017435,0.24692506228500066,-0.49788740359420935,-0.45157363172489307,0.32061777267279357,-0.10528935089784497,0.047318016820801834,-0.29473437151561765,0.1338176117668902,-0.32188262557635794,-0.4541190019020046,0.3253257852397733,-0.3266323690489753,0.9476300777941619,-0.4679752972489347,-0.48830383663893107,0.293418874071771,-0.07137926134898298,0.9208413913255159,-0.3667236209064566,0.21638273913896777,0.35372333618783935,0.9928636094736152,-0.42408004561705237,0.9997339199993958,0.9318916947628905,0.6445709093670563,-0.35607323951635805,0.9841534903699073,-0.4785238780362193,0.951573631724893,0.6413584564859117,0.09632123594704209,0.482341656066921,0.9951461071019849,-0.3289854474194346,0.15871255535717477,0.5293658344130732,0.14705490024665624,0.3786626280929699,0.21228583577869142,-0.04704055996423584,-0.49862587369730393,0.1945753843851803,-0.45900814101402687,-0.49788740359420935,0.9918282811511837,0.8688081014076726,-0.4918282811511837,0.01677674376597653,0.00838866704231825,0.5679319735974314,0.9036808297026738,-0.4449176458666202,0.33719836624879623,0.35372333618783935,0.8266323690489753,0.9998218777187756,0.7122779696892628,0.9256750011740591,0.1504246316966858,0.5952254409264031,-0.3122099669056323,-0.24668933430736895,0.8538978297808061,-0.04704055996423573,0.7870342216991237,-0.17296597773957612,-0.42408004561705237,0.7685847399947817,0.43294023996144915,0.11717292499771687,0.9802186335013165,-0.49630558019185766,0.043581995982722166,-0.31707504542387943,-0.20932768611029884,0.9679752972489347,0.38800530700757907,0.1711233173833492,0.6913657560175194,-0.4826313952466107,-0.4848885734962983,0.3288766826166508,0.9601882996649784,0.3786626280929699,0.8646238922920956,0.9758526715383627,0.3490175574508299,0.9636273395320362,-0.4942855765749259,-0.29727318484560084,0.029356460794360786,-0.48021863350131655,0.22456505350229608,0.4036787640529579,0.9378460804662287,0.28940654212700667,0.7818314824680299,0.25504955491760173,-0.49973391999939576,-0.4863067462178655,-0.12184878171303892,0.30002699391025245,-0.08846371077605619,0.3332466787866565,0.025023646567461144,0.27952416428345916,0.9669138048826764,0.7549999700799639,0.9986258736973039,0.100428367841924,0.8427962187011643,0.037740479452068494,-0.3667236209064565,0.5364641004077894,0.6086227685652906,0.9951461071019849,0.5364641004077895,0.7410831473738392,-0.48698981086338355,-0.358233588509014,0.4675776262501251,0.4187073507123719,0.703389733851605,0.3953324909061837,0.9978874035942094,0.4489379983882135,0.21228583577869134,0.36469019502324407,-0.49235467447126346,0.879000508125384,0.07960894280862929,0.004194370416562193,0.25307493771499917,0.9124617631547728,0.3918676653914324,-0.20040216963720414,-0.34950198143167444,0.07748733561964982,-0.49630558019185766,0.03985400482469115,-0.23542480969832857,0.08378930073997938,-0.48184441002765155,0.7181408922282904,0.7297147194635638,-0.379000508125384,-0.3603788387521417,0.6667374249246836,-0.015058048590833595,-0.49989224575126057,-0.2549999700799639,0.11199469299242071,-0.4272536714968658,0.3454300468123439,0.9624979192403444,-0.14135845648591172,0.5222303164296406,0.8242647478835717,-0.3122099669056323,-0.4959366082294435,0.09632123594704205,-0.11855854358668005,0.02097037629395004,0.0586876166851221,-0.4502758240713076,0.38699358331384137,0.6791471732839776,0.029356460794360696,0.3332466787866567,0.4455000405399262,0.31738199820091706,0.5644746943205735,-0.33595701307189874,-0.18832922112557116,-0.4969909344578821,0.557530404658823,0.9938290690180247,0.8849306693471295,-0.4089973340769745,0.9107375598371111,-0.23826047257809713,-0.4578111107049271,0.6509617393516823,-0.3048052897060829,0.5222303164296407,0.6185585435866799,0.7792094579775926,0.2713496794446406,0.09275251931972528,0.27330700679277975,0.19586159701020608,0.09214552081392627,0.3995047434820629,0.21638273913896788,0.9901444454267315,0.11973982001349603,0.09658689499363904,-0.20932768611029862,-0.4933550772046368,0.5918497820047385,0.1462766638121607,0.07542718433143224,0.18350698485094658,-0.4318916947628906,-0.49760612950201066,0.2652281062224413,0.5078495356161163,-0.21227796968926282,0.6509617393516822,0.3041384029897939,-0.22105342804300954,0.9054689379725361,-0.4918282811511837,0.6822198760184941,0.9963055801918577,0.8170750454238794,-0.36880810140767273,0.19997300608974755,0.013988388884124903,-0.23257620862184158,-0.48104015139616085,0.9613515658954623,-0.4565972297968185,0.22047583571654086,0.7382604725780971,-0.4951461071019849,-0.15730676052547699,0.329289128575492,-0.22105342804300954,-0.49072315690779145,-0.3945024528679989,0.9158619814106868,0.38413612251598,-0.4848885734962983,-0.46473980690084904,0.6283963800515425,0.5470405599642358,0.8382515088591095,0.6698575936743557,0.8146496721575098,-0.1698575936743557,0.21863332551681325,0.4301009253323998,0.9363821683290997,-0.0782436198629537,0.9848885734962983,0.6086227685652905,0.41203181541880385,-0.47937987079593547,0.9826313952466107,0.9334049492885904,0.07124409887731561,-0.06793197359743142,-0.2631910640435997,0.1628016337512037,-0.3729311716520074,0.5540435164435727,-0.06100748434170278,-0.3907207163738955,0.2773392802280802,0.20658112592822908,0.9349017825885,0.7947343715156177,0.021336784732240544,-0.45536651964528996,0.6604619531486197,-0.2739243298901577,0.37637754760791187,0.5748164969277134,0.9966570243289684,-0.49815112203236933,0.858233588509014,-0.4993645257412235,0.9710575246531177,0.4526819831791979,-0.4889347746515408,0.8122099669056323,-0.06793197359743142,0.3082532578272672,-0.004231845626030184,-0.48954831451210656,0.52580270059764,0.5505468810401504,0.8926194364677379,0.11586387748401994,0.9889347746515408,0.9869898108633836,0.2631912849513025,-0.319486044035584,-0.2604740622610796,0.2795241642834594,0.8603788387521417,0.18261800179908283,0.9976061295020107,-0.4669138048826764,-0.17914717328397756,-0.4767602628939507,0.8945024528679988,-0.31464967215750994,0.3745003158502688,0.496969916866138,-0.4749279121818236,-0.38880632599031373,-0.14777202242784915,-0.13813472030052187,0.91416991369636,0.6348997575254999,-0.3907207163738955,0.9995052419990742,0.054813884488422615,0.5644746943205733,0.601945284483457,0.3957231297177619,0.776573724994976,0.9700471753592452,0.9749279121818236,0.03242237374987489,0.10042836784192422,0.021336784732240544,0.9240800456170524,-0.3427962187011643,-0.47105752465311757,0.4786632152677594,0.05857359944450846,0.3802601799865039,0.40341310500636096,-0.2685847399947817,-0.4036808297026738,0.9636273395320363,0.2105934578729931,0.9710575246531176,-0.49989224575126057,0.8146496721575099,-0.347281620153466,0.24088169895980185,-0.33132394159766376,0.24286945870773702,0.14627666381216062,0.9901444454267314,-0.07481649692771353,0.8517073975739514,0.4916113329576819,0.23477189377755892,0.7997979718914991,0.9000569500164497,-0.10528935089784486,0.39116207972701134,0.2550495549176016,0.4564180040172778,0.09658689499363904,0.41203181541880374,0.04193152971073556,0.9959366082294435,0.1628016337512037,-0.4541190019020046,0.016776743765976463,0.30542461561481965,0.48234165606692114,0.5610074843417028,0.4860116111158752,-0.039999107708552195,0.969019760199474,0.7239532784941491,-0.4175379365295093,-0.23826047257809724,0.9998922457512606,0.03774047945206853,-0.08506728681089915,0.6019452844834571,-0.17914717328397756,0.29591910291992607,-0.20040216963720403,-0.4256750011740591,-0.21814089222829036,0.17525431396412772,0.879000508125384,0.01765834393307908,0.8266323690489754,0.29591910291992596,0.8048052897060829,0.12965978849900783,-0.3963697324471086,0.27733928022808,0.7210534280430095,0.3568664327560471,0.6152574232708531,-0.03291965519036688,0.4786632152677594,0.6698575936743557,0.43388373911755823,0.8688081014076727,0.18261800179908294,-0.24668933430736895,-0.47937987079593547,-0.4901444454267315,0.7631910640435997,0.16698931026075342,0.0851053291988979,-0.4578111107049271,-0.4966570243289684,-0.41073755983711113,0.12751170631334086,0.8359570130718988,0.2226607197719198,-0.44353648224990383,-0.47852387803621943,0.0544999594600739,0.4072474806802747,0.0736894551411641,0.18659830574860026,0.9613515658954623,0.7658946391426712,-0.176062522435102,0.11300641668615853,0.9810401513961609,-0.34728162015346586,0.13381761176689022,-0.44628218571674105,0.9997339199993958,1.2246467991473532e-16,0.5006052847755593,0.20818519771179703,-0.34950198143167455,0.12133737190703012,0.13530980497675604,0.9841534903699073,0.8072877323819243,0.9978874035942094,0.2347718937775587,0.9969909344578821,0.5399991077085522,0.2025739560490677,0.291814802288203,0.9992062278425892,0.35787387749146393,0.9601882996649784,-0.4208413913255159,-0.33595701307189885,0.07960894280862907,0.7152157222897114,0.41870735071237175,0.004194370416562157,0.293418874071771,0.847281620153466,0.3620269191944602,-0.4749279121818236,-0.4710575246531177,0.14212612250853604,-0.057530404658822865,0.9449176458666202,0.940724381202971,0.05031134342701794,0.746689334307369,0.03354876523191834,-0.48830383663893107,0.9955501149329835,-0.16673742492468357,0.12751170631334086,-0.3849306693471294,-0.11525742327085309,-0.03646410040778936,-0.46362733953203616,-0.4998218777187756,0.9421387191651557,-0.469019760199474,-0.3849306693471295,-0.11855854358667994,-0.09522544092640295,0.23680871504869747,0.9288160288122086,-0.20636492345662882,0.49580562958343777,0.959008141014027,0.34901755745082996,-0.47302695484414026,0.7792094579775923,0.6283963800515424,-0.4889347746515408,0.8907207163738955,0.19857201873292962,-0.46018829966497843,0.2245650535022961,-0.43189169476289047,-0.43036204563381564,0.1876285139692296,0.9515736317248931,0.9942855765749259,-0.37087729712385265,0.04193152971073569,-0.4841534903699073,-0.4256750011740591,0.9679752972489347,-0.4776506702814953,0.17938222732720638,0.5782436198629536,0.6119454788415752,-0.38687629899651865,0.9739860010934585,0.621848781713039,0.9981511220323693,0.08129264928762803,0.8809927392719135,0.9895483145121065,-0.3538978297808061,-0.4272536714968658,-0.24108314737383918,0.4526819831791981,-0.10862276856529052,0.6636055263831284,0.3134016942513996,0.3014279812670705,0.13797308080554008,0.047318016820802056,0.26118162121805083,0.9018768231381239,0.5610074843417028,-0.4863067462178655,-0.3888063259903136,0.787034221699124,0.9863067462178655,-0.46135156589546233,0.7494727478165161,-0.18528057658114405,-0.47398600109345845,0.35294509975334376,-0.4363821683290997,-0.13489975752549987,-0.1445709093670563,0.20257395604906758,-0.28443975233748153,0.31237148603077036,0.2974260439509323,0.4675776262501251,-0.3336478104429542,0.5850672868108993,0.9072411164898425,-0.09859062815368747,0.4455000405399261,0.819486044035584,0.9810401513961609,-0.34504635280174345,0.8729311716520074,0.08892530827766576,0.952854698514318,0.10049525651793699,0.008388667042318058,0.6636055263831283,-0.2577436815948352,-0.44072438120297086,-0.19439012783577492,0.7033897338516051,-0.4000569500164497,-0.13165362507296485,0.04358199598272228,0.8336478104429542,0.9565972297968185,-0.31464967215750983,-0.1283963800515424,-0.47585267153836275,0.5816605698619448,0.33301068973924663,0.27134967944464083,0.1917467421727327,0.9578111107049271,0.20408089708007393,0.7604740622610796,0.2918148022882032,0.3450838749450529,0.4622595205479315,0.4371257585705396,0.9923546744712635,0.8336478104429543,-0.20636492345662882,-0.41919774956805,-0.1822198760184942,0.9942855765749259,0.06705976003855087,-0.25224297598609013,0.8097559725895433,0.17071087142450814,0.6348997575254999,-0.13165362507296474,0.5042318456260302,-0.018648744757389313,0.058573599444508684,0.08129264928762825,0.3094158766821093,0.91919774956805,0.03985400482469137,0.8926194364677378,0.48741718391223965,0.9036808297026738,0.8888063259903136,-0.2712613192734703,0.2652281062224411,0.0851053291988979,0.9224688328856125,-0.30975597258954335,0.4999999999999999,0.06705976003855069,0.47483636010614383,0.08796818458119625,0.9175379365295093,0.7658946391426711,0.062341080336053345,0.9999450228588784,0.6604619531486197,0.41489467080110215,0.4664512347680817,-0.1636055263831283,-0.44072438120297097,-0.1822198760184941,0.9999802081131313,0.9124617631547728,0.42875590112268436,0.9240800456170524,0.7063649234566288,0.5114582911004466,0.47483636010614383,-0.06447469432057329,-0.49862587369730393,0.06287424142946038,0.9624979192403446,0.22266071977191992,0.5078495356161163,0.036134108932588394,-0.14777202242784893,0.1392185125283677,-0.46249791924034445,0.36202691919445995,0.025163639893856223,-0.41586198141068675,-0.48954831451210645,0.06611626088244194,-0.28703422169912374,-0.43929349324554356,-0.4636273395320363,-0.49730730470417783,0.6152574232708531,0.380260179986504,0.4413123833148779,0.8023086882351872,-0.24947274781651607,0.9923546744712635,-0.4942855765749259,0.48967301584976064,0.9834010932077487,0.3685924866456919,-0.3769928128806357,0.9590081410140269,0.017658343933078857,0.43765891966394666,0.999997800895011,-0.469019760199474,0.04612184227552452,-0.499997800895011,0.03242237374987489,0.7631910640435997,-0.05404351644357275,0.9928636094736152,0.9938290690180247,0.38282707500228297,0.21461088129512462,0.05449995946007375,-0.4072411164898425,0.9054689379725361,0.25098511816423374,-0.41416991369636,0.7739243298901577,0.2631912849513025,0.02097037629395026,0.33714763467481457,0.9449176458666202,0.47064353920563917,-0.24947274781651618,0.9869898108633836,0.7268403925651605,0.9256750011740591,-0.254999970079964,0.5782436198629537,-0.3242647478835716,0.12549968414973123,-0.18832922112557127,0.19586159701020628,0.882969471271259,0.9983972801769396,0.22047583571654064,0.44518611551157744,-0.011458291100446605,0.9578111107049271,-0.319486044035584,0.33301068973924663,0.9072411164898426,-0.3582335885090139,0.21059345787299333,0.8289854474194346,0.5114582911004465,-0.11194547884157524,0.9334049492885904,-0.23257620862184147,0.9996283741405456,0.11300641668615867,0.2672684349956398,-0.37087729712385253,0.4564180040172777,0.5713792613489829,0.9421387191651556,0.7577436815948354,0.5258027005976399,-0.025802700597639894,-0.10194528448345708,0.2836172608610321,-0.47004717535924523,-0.49730730470417783,0.4664512347680818,0.44142640055549154,-0.25224297598609013,-0.4834010932077487,-0.09184978200473859,0.8907207163738955,0.6729659777395762,0.6413584564859116,0.741083147373839,-0.34279621870116417,0.49332580585414115,0.12362245239208791,0.9889347746515408,-0.4826313952466107,0.7844397523374815,0.3288766826166507,0.9089973340769745,0.657306760525477,0.3995716321580758,-0.22395327849414914,0.4832232562340235,-0.09184978200473848,0.9785238780362193,0.13530980497675593,0.9435364822499037,-0.3517073975739514,0.95536651964529,-0.4208413913255159,-0.49760612950201066,-0.20338973385160508,-0.4959366082294435,0.9224688328856125,-0.4018768231381239,-0.13813472030052198,0.25307493771499934,0.34957536830331426,-0.4124617631547728,0.3173819982009171,-0.4912844387741193,0.7604740622610796,0.9999802081131313,-0.38099273927191346,0.1628523653251854,-0.3405312574379338,0.4225126643803502,0.7494727478165162,-0.19740228337310706,-0.22684039256516053,0.42631054485883596,0.14313356724395288,0.1504246316966856,-0.4349017825885001,-0.03646410040778947,-0.28961484490892275,-0.07137926134898287,-0.12512807976536044,-0.4776506702814953,0.6573067605254772,0.9976061295020107,0.2877141642213087,0.2591183010401983,0.48967301584976064,-0.16046195314861966,-0.15414000402243822,0.3703402115009923,0.7844397523374814,-0.4489612983856591,0.22865032055535936,0.776573724994976,0.8708772971238526,-0.4669138048826764,0.8472816201534659,-0.4679752972489347,0.6541400040224383,0.3529450997533436,0.02516363989385616,-0.43929349324554356,0.1296597884990077,-0.2739243298901578,0.9876555115742565,0.8809927392719135,-0.3517073975739513,0.05868761668512224,0.9918282811511837,-0.2658946391426711,-0.48104015139616085,-0.1413584564859116,0.5884637107760562,0.7382604725780972,-0.19136575601751937,0.7712613192734703,0.9000569500164497,0.3371983662487963,-0.3646238922920956,-0.4834010932077487,0.8667236209064566,0.3880053070075793,0.20658112592822908,0.42039105719137093,-0.46249791924034456,0.9730269548441403,-0.4288160288122086,-0.447630077794162,-0.35607323951635816,0.399504743482063,0.3745003158502689,0.9669138048826764,0.4110746917223344,0.8450463528017433,0.26726843499563957,0.2877141642213086,-0.42246883288561254,-0.34504635280174334,-0.49920622784258917,0.39957163215807595,0.3371476346748148,0.31649301514905326,-0.49973391999939576,-0.3405312574379338,-0.47585267153836286,0.09275251931972517,0.45806847028926445,0.22669299320722025,-0.4841534903699073,0.19997300608974744,-0.4947245918440849,0.7325762086218416,0.5540435164435725,0.37034021150099217,-0.11525742327085309,0.9318916947628906,-0.3266323690489754,0.27543494649770395,0.39572312971776197,0.7239532784941491,0.17112331738334935,0.5293658344130732,-0.12512807976536044,0.07124409887731573,0.17525431396412755,0.38413612251598006,-0.33364781044295433,-0.1943901278357748,0.1004952565179371,0.6974022833731071,0.34128744464282534,-0.007849535616116343,0.7712613192734702,0.6883292211255712,-0.45285469851431803,0.013988388884124792,0.2449504450823983,0.2974260439509325,0.3247456860358724,-0.19740228337310695,-0.029365834413073166,-0.46473980690084893,-0.49883689857185753,0.9963055801918577,0.17864328149411124,-0.004231845626030406,-0.4000569500164497,-0.4449176458666202,0.204080897080074,0.32532578523977335,0.754999970079964,-0.47205079030619745,-0.3289854474194347,0.9988368985718575,-0.4072411164898426,0.44142640055549137,0.799797971891499,-0.4990303510880778,0.9158619814106868,-0.47302695484414026,-0.39822124235435274,0.6729659777395761,-0.039999107708552195,0.3082532578272673,-0.45536651964528996,0.345430046812344,-0.054043516443572526,0.9392934932455436,0.9793798707959355,0.3206177726727937,0.8313239415976638,0.7947343715156179,0.4638658910674117,0.700402169637204,0.4706435392056393,-0.4175379365295093,0.025023646567460922,0.7921815765664372,0.5918497820047386,0.15491612505494712,0.7210534280430095,0.08378930073997945,0.8625089525047386,-0.47004717535924523,0.5399991077085522,0.676062522435102,-0.4565972297968185,0.10883792027298868,-0.3048052897060829,-0.2631910640435997,0.13140751335430811,0.5816605698619449,0.8963697324471086,0.9700471753592452,0.6943901278357749,-0.3023086882351873,-0.4983972801769396,-0.043524614901905956,0.43765891966394666,0.1588558785594174,0.18762851396922972,-0.29979797189149904,-0.06447469432057351,0.8289854474194347,0.999997800895011,0.27543494649770395,-0.176062522435102,0.9883038366389311,0.5042318456260304,0.8242647478835716,0.3411441214405826,-0.3769928128806357,-0.4901444454267314,-0.08846371077605619,-0.40546893797253614,-0.4951461071019849,0.5679319735974314,0.7354248096983287,-0.10862276856529063,-0.40546893797253614,0.05106200161178642,0.9895483145121066,0.5186487447573893,0.8888063259903137,0.969019760199474,0.9856063296547362,0.9303620456338157,0.11199469299242093,0.6316536250729649,-0.24108314737383896,0.9973073047041778,-0.48560632965473616,-0.38687629899651876,0.4451861155115774,0.8023086882351873,0.571379261348983,0.39186766539143236,0.30002699391025256,0.9720507903061975,0.09214552081392606,-0.459008141014027,0.01258281608776032,-0.05054688104015037,-0.24389278442674334,-0.1698575936743557,0.9565972297968185,0.8729311716520074,-0.17296597773957623,0.4072474806802748,0.964739806900849,-0.4938290690180247,0.9392934932455436,0.6316536250729647,0.34957536830331437,0.9175379365295093,-0.4767602628939507,0.9767602628939507,0.5884637107760562,0.9996283741405456,0.4601459951753088,-0.4995052419990742,0.3869935833138415,-0.24389278442674323,-0.16046195314861966,-0.2818314824680298,-0.49994502285887843,0.8982212423543527,-0.011458291100446494,0.9802186335013165,0.28940654212700684,0.06989907466760037,0.882969471271259,0.9758526715383629,0.9288160288122086,0.23881837878194911,0.39116207972701134,-0.1445709093670563,-0.49998020811313126,0.7063649234566288,0.28136667448318675,0.9912844387741193,-0.07481649692771342,-0.2297147194635638,0.4538781577244755,0.9981511220323694,0.7921815765664372,-0.16673742492468346,0.48741718391223976,0.9776506702814953,0.5575304046588229,-0.27920945797759256,-0.33132394159766376,0.9912844387741193,0.6251280797653604,0.9995052419990742,0.28538911870487543,0.5186487447573893,0.006674194145858681,-0.4990303510880778,0.685280576581144,0.3164930151490535,0.3828270750022831,0.6913657560175192,0.8708772971238525,0.42457281566856775,-0.08166056986194481,-0.49235467447126346,-0.0006052847755593227,-0.43784608046622875,0.2490148818357663,-0.2921815765664372,0.8603788387521417,0.3685924866456918,-0.448961298385659,-0.015058048590833373,0.10883792027298868,0.4601459951753087,-0.44763007779416186,0.062341080336053345,0.44131238331487777,-0.48765551157425646,0.9793798707959355,-0.49883689857185753,0.24286945870773713,0.6791471732839776,0.95536651964529,-0.2604740622610796,0.1628523653251852,-0.3926194364677378,-0.49920622784258917,0.06989907466760026,-0.05054688104015037,0.9462821857167412,-0.11194547884157535,0.3646901950232439,0.605289350897845,0.9785238780362194,0.61855854358668,0.2692699251163489,0.1392185125283677,0.9378460804662287,0.5985906281536875,0.26926992511634895,-0.3625089525047386,-0.2921815765664372,-0.43036204563381575,0.9647398069008489,-0.4996283741405456,0.23680871504869747,0.17864328149411146,0.11717292499771702,-0.3603788387521417,0.9863067462178655,0.8097559725895432,-0.44213871916515557,0.07748733561964993,-0.3945024528679988,0.32928912857549186,0.7297147194635638,0.9907231569077914,0.946282185716741,-0.46583530177534394,-0.2577436815948354,0.6667374249246835,0.3041384029897938,-0.37496968885869086,-0.007849535616116343,-0.4969909344578821,0.7739243298901578,0.4712811354235584,0.11973982001349603,0.8313239415976638,0.3661823882331098,0.4832232562340235,0.2408816989598017,0.8427962187011642,0.4958056295834379,0.8122099669056323,-0.28961484490892275,0.4203910571913707,0.9749279121818236,0.9303620456338156,0.8945024528679989,-0.43784608046622875,-0.022230316429640684,-0.4955501149329835,0.10427687028223809,-0.21521572228971142,0.9848885734962983,0.8646238922920955,-0.13489975752549987,0.2853891187048753,0.697402283373107,0.18350698485094674,0.948961298385659,0.8170750454238794,-0.38099273927191346,0.407854479186074,0.24901488183576626,0.06611626088244171,0.7972731848456008,-0.27920945797759233,0.9818444100276515,0.9541190019020046,0.44893799838821363,-0.19136575601751915,0.9993645257412235,0.9988368985718575,0.1945753843851803,0.34128744464282523,0.9998922457512606,0.6943901278357748,-0.48560632965473616,-0.08166056986194492,0.7122779696892628,0.5329196551903669,0.003030083133861994,0.5006052847755593,0.4162106992600205,0.6822198760184942,-0.4938290690180247,0.1667533212133433,0.1588558785594174,0.0,0.43294023996144926,-0.48698981086338355,0.7093276861102988,0.37248829368665914,0.24692506228500077,-0.49994502285887843,0.012582816087760226,0.8769928128806357,0.2611816212180509,0.3607814874716323,0.8868762989965188,0.23073007488365116,0.47902962370604996,-0.4036808297026738,0.8769928128806357,0.9834010932077487,0.9933550772046368,0.5505468810401504,-0.4288160288122086,0.3014279812670704,0.9826313952466107,-0.2685847399947817,-0.4089973340769745,-0.4998218777187756,-0.41073755983711113,-0.2712613192734702,0.9191977495680501,-0.2297147194635638,-0.45157363172489295,-0.30975597258954324,-0.15096173935168222,0.3247456860358723,0.04612184227552469,0.595225440926403,0.9983972801769396,0.6883292211255713,-0.41586198141068675,0.41621069926002063,0.8582335885090139,-0.1573067605254772,-0.4334049492885904,0.14313356724395265,0.8749696888586909,0.5150580485908336,0.9998218777187756,0.06287424142946041,-0.276573724994976,-0.06100748434170278,-0.20338973385160497,0.11586387748401994,0.7522429759860901,-0.3072877323819243,0.8625089525047385,0.033548765231918146,-0.025802700597640005,-0.4928636094736152,0.9541190019020046,0.3578738774914638,-0.09859062815368747,-0.2818314824680299,-0.08506728681089926,0.2449504450823984,-0.46583530177534394,0.8072877323819243,-0.29979797189149915,-0.4502758240713076,0.13797308080553985,0.7093276861102986,-0.4334049492885904,0.9947245918440849,0.9776506702814953,0.8359570130718987,0.0754271843314323,-0.029365834413073166,0.9272536714968658,-0.4995052419990742,-0.48184441002765155,-0.3729311716520074,-0.3218826255763577,0.9993645257412235,0.01032698415023936,0.7896148449089228,0.3661823882331098,0.8749696888586909,-0.12184878171303903,0.12133737190703014,-0.21227796968926282,0.22669299320722036,0.9107375598371111,0.8495019814316745,0.46386589106741155,0.7354248096983286,-0.4018768231381238,0.9876555115742565,-0.04352461490190618,-0.41416991369636,0.4712811354235582,0.10466750909381646,-0.45285469851431803,-0.3072877323819243,0.2813666744831868,0.5435246149019062,0.8963697324471086,0.638134720300522,0.08796818458119615,0.37637754760791203,0.4860116111158751,0.7896148449089228,-0.46135156589546233,0.9883038366389311,0.05031134342701794,-0.4421387191651557,0.6381347203005219,-0.4983972801769396,0.9349017825885001,0.9856063296547362,-0.382969471271259,0.91416991369636,-0.4912844387741193,0.1746742147602267,0.6445709093670563,0.6052893508978449,0.9947245918440849,-0.2844397523374814,0.746689334307369,0.9489612983856591,-0.23542480969832869,0.9966570243289684,-0.09522544092640306,0.9739860010934586,0.12362245239208813,0.543524614901906,0.34114412144058265,0.15098244254917004,0.42875590112268425,0.19058412331789065,0.006674194145858792,0.21863332551681314,-0.382969471271259,-0.16360552638312842,0.9969909344578821,0.9955501149329835,0.9435364822499038,0.1793822273272064,0.6119454788415754,0.05106200161178642,0.1746742147602267,0.9658353017753439,0.3724882936866592,-0.21814089222829047,-0.15414000402243833,0.5985906281536875,0.13140751335430823,0.4933258058541413,-0.4955501149329835,-0.4966570243289684,-0.3023086882351872,-0.4124617631547728,-0.22684039256516064,0.819486044035584,0.9730269548441403,0.003030083133862105,0.028718864576441794,0.028718864576441572,0.5150580485908334,0.3953324909061835,0.2327315650043604,0.15491612505494734,0.10813233460856764,0.7152157222897113,0.4749763534325389,0.3134016942513997,0.9018768231381238,-0.4349017825885,0.08892530827766554,-0.48765551157425646,0.3450838749450527,0.8868762989965187,0.9767602628939507,-0.18528057658114416,-0.49072315690779145,-0.022230316429640573,0.7577436815948352,0.31237148603077025,0.8405312574379338,0.4034131050063609,-0.49815112203236944,0.8538978297808061,-0.3688081014076726,0.6477720224278491,0.9818444100276515,0.16698931026075342,0.6218487817130389,0.10466750909381628,0.27330700679277964,0.15871255535717466,0.7685847399947817,0.8517073975739513,0.9992062278425892,0.5748164969277135,0.7004021696372041,0.10813233460856764,-0.4928636094736152,-0.10194528448345697,0.4371257585705396,0.25713054129226287,0.9407243812029709,0.7438927844267433,0.9720507903061975,0.6477720224278489,0.45806847028926434,0.4916113329576818,-0.4933550772046368,-0.3963697324471086,-0.4993645257412235,0.32135671850588854,0.3213567185058887,0.4622595205479315,0.10427687028223809,0.054813884488422504,0.41107469172233424,-0.42246883288561254,-0.47205079030619745,0.2591183010401982,-0.379000508125384,0.9959366082294435,0.8218826255763577,-0.018648744757389313,0.40785447918607376,0.9502758240713076,0.30542461561481965,0.9990303510880778,0.7438927844267432,-0.28703422169912396,0.44968865657298207,-0.4996283741405456,0.3568664327560473,0.6541400040224382,-0.3382515088591095,0.25098511816423374,0.5,0.12549968414973106,-0.39822124235435274,0.14705490024665635,0.9089973340769745,-0.057530404658822976,0.9658353017753439,0.07368945514116398,0.9272536714968658,0.8982212423543527,0.19174674217273274,0.15098244254917015,-0.47398600109345856,-0.2658946391426712,-0.499997800895011],\"yaxis\":\"y\",\"type\":\"scattergl\"}],                        {\"template\":{\"data\":{\"histogram2dcontour\":[{\"type\":\"histogram2dcontour\",\"colorbar\":{\"outlinewidth\":0,\"ticks\":\"\"},\"colorscale\":[[0.0,\"#0d0887\"],[0.1111111111111111,\"#46039f\"],[0.2222222222222222,\"#7201a8\"],[0.3333333333333333,\"#9c179e\"],[0.4444444444444444,\"#bd3786\"],[0.5555555555555556,\"#d8576b\"],[0.6666666666666666,\"#ed7953\"],[0.7777777777777778,\"#fb9f3a\"],[0.8888888888888888,\"#fdca26\"],[1.0,\"#f0f921\"]]}],\"choropleth\":[{\"type\":\"choropleth\",\"colorbar\":{\"outlinewidth\":0,\"ticks\":\"\"}}],\"histogram2d\":[{\"type\":\"histogram2d\",\"colorbar\":{\"outlinewidth\":0,\"ticks\":\"\"},\"colorscale\":[[0.0,\"#0d0887\"],[0.1111111111111111,\"#46039f\"],[0.2222222222222222,\"#7201a8\"],[0.3333333333333333,\"#9c179e\"],[0.4444444444444444,\"#bd3786\"],[0.5555555555555556,\"#d8576b\"],[0.6666666666666666,\"#ed7953\"],[0.7777777777777778,\"#fb9f3a\"],[0.8888888888888888,\"#fdca26\"],[1.0,\"#f0f921\"]]}],\"heatmap\":[{\"type\":\"heatmap\",\"colorbar\":{\"outlinewidth\":0,\"ticks\":\"\"},\"colorscale\":[[0.0,\"#0d0887\"],[0.1111111111111111,\"#46039f\"],[0.2222222222222222,\"#7201a8\"],[0.3333333333333333,\"#9c179e\"],[0.4444444444444444,\"#bd3786\"],[0.5555555555555556,\"#d8576b\"],[0.6666666666666666,\"#ed7953\"],[0.7777777777777778,\"#fb9f3a\"],[0.8888888888888888,\"#fdca26\"],[1.0,\"#f0f921\"]]}],\"heatmapgl\":[{\"type\":\"heatmapgl\",\"colorbar\":{\"outlinewidth\":0,\"ticks\":\"\"},\"colorscale\":[[0.0,\"#0d0887\"],[0.1111111111111111,\"#46039f\"],[0.2222222222222222,\"#7201a8\"],[0.3333333333333333,\"#9c179e\"],[0.4444444444444444,\"#bd3786\"],[0.5555555555555556,\"#d8576b\"],[0.6666666666666666,\"#ed7953\"],[0.7777777777777778,\"#fb9f3a\"],[0.8888888888888888,\"#fdca26\"],[1.0,\"#f0f921\"]]}],\"contourcarpet\":[{\"type\":\"contourcarpet\",\"colorbar\":{\"outlinewidth\":0,\"ticks\":\"\"}}],\"contour\":[{\"type\":\"contour\",\"colorbar\":{\"outlinewidth\":0,\"ticks\":\"\"},\"colorscale\":[[0.0,\"#0d0887\"],[0.1111111111111111,\"#46039f\"],[0.2222222222222222,\"#7201a8\"],[0.3333333333333333,\"#9c179e\"],[0.4444444444444444,\"#bd3786\"],[0.5555555555555556,\"#d8576b\"],[0.6666666666666666,\"#ed7953\"],[0.7777777777777778,\"#fb9f3a\"],[0.8888888888888888,\"#fdca26\"],[1.0,\"#f0f921\"]]}],\"surface\":[{\"type\":\"surface\",\"colorbar\":{\"outlinewidth\":0,\"ticks\":\"\"},\"colorscale\":[[0.0,\"#0d0887\"],[0.1111111111111111,\"#46039f\"],[0.2222222222222222,\"#7201a8\"],[0.3333333333333333,\"#9c179e\"],[0.4444444444444444,\"#bd3786\"],[0.5555555555555556,\"#d8576b\"],[0.6666666666666666,\"#ed7953\"],[0.7777777777777778,\"#fb9f3a\"],[0.8888888888888888,\"#fdca26\"],[1.0,\"#f0f921\"]]}],\"mesh3d\":[{\"type\":\"mesh3d\",\"colorbar\":{\"outlinewidth\":0,\"ticks\":\"\"}}],\"scatter\":[{\"fillpattern\":{\"fillmode\":\"overlay\",\"size\":10,\"solidity\":0.2},\"type\":\"scatter\"}],\"parcoords\":[{\"type\":\"parcoords\",\"line\":{\"colorbar\":{\"outlinewidth\":0,\"ticks\":\"\"}}}],\"scatterpolargl\":[{\"type\":\"scatterpolargl\",\"marker\":{\"colorbar\":{\"outlinewidth\":0,\"ticks\":\"\"}}}],\"bar\":[{\"error_x\":{\"color\":\"#2a3f5f\"},\"error_y\":{\"color\":\"#2a3f5f\"},\"marker\":{\"line\":{\"color\":\"#E5ECF6\",\"width\":0.5},\"pattern\":{\"fillmode\":\"overlay\",\"size\":10,\"solidity\":0.2}},\"type\":\"bar\"}],\"scattergeo\":[{\"type\":\"scattergeo\",\"marker\":{\"colorbar\":{\"outlinewidth\":0,\"ticks\":\"\"}}}],\"scatterpolar\":[{\"type\":\"scatterpolar\",\"marker\":{\"colorbar\":{\"outlinewidth\":0,\"ticks\":\"\"}}}],\"histogram\":[{\"marker\":{\"pattern\":{\"fillmode\":\"overlay\",\"size\":10,\"solidity\":0.2}},\"type\":\"histogram\"}],\"scattergl\":[{\"type\":\"scattergl\",\"marker\":{\"colorbar\":{\"outlinewidth\":0,\"ticks\":\"\"}}}],\"scatter3d\":[{\"type\":\"scatter3d\",\"line\":{\"colorbar\":{\"outlinewidth\":0,\"ticks\":\"\"}},\"marker\":{\"colorbar\":{\"outlinewidth\":0,\"ticks\":\"\"}}}],\"scattermapbox\":[{\"type\":\"scattermapbox\",\"marker\":{\"colorbar\":{\"outlinewidth\":0,\"ticks\":\"\"}}}],\"scatterternary\":[{\"type\":\"scatterternary\",\"marker\":{\"colorbar\":{\"outlinewidth\":0,\"ticks\":\"\"}}}],\"scattercarpet\":[{\"type\":\"scattercarpet\",\"marker\":{\"colorbar\":{\"outlinewidth\":0,\"ticks\":\"\"}}}],\"carpet\":[{\"aaxis\":{\"endlinecolor\":\"#2a3f5f\",\"gridcolor\":\"white\",\"linecolor\":\"white\",\"minorgridcolor\":\"white\",\"startlinecolor\":\"#2a3f5f\"},\"baxis\":{\"endlinecolor\":\"#2a3f5f\",\"gridcolor\":\"white\",\"linecolor\":\"white\",\"minorgridcolor\":\"white\",\"startlinecolor\":\"#2a3f5f\"},\"type\":\"carpet\"}],\"table\":[{\"cells\":{\"fill\":{\"color\":\"#EBF0F8\"},\"line\":{\"color\":\"white\"}},\"header\":{\"fill\":{\"color\":\"#C8D4E3\"},\"line\":{\"color\":\"white\"}},\"type\":\"table\"}],\"barpolar\":[{\"marker\":{\"line\":{\"color\":\"#E5ECF6\",\"width\":0.5},\"pattern\":{\"fillmode\":\"overlay\",\"size\":10,\"solidity\":0.2}},\"type\":\"barpolar\"}],\"pie\":[{\"automargin\":true,\"type\":\"pie\"}]},\"layout\":{\"autotypenumbers\":\"strict\",\"colorway\":[\"#636efa\",\"#EF553B\",\"#00cc96\",\"#ab63fa\",\"#FFA15A\",\"#19d3f3\",\"#FF6692\",\"#B6E880\",\"#FF97FF\",\"#FECB52\"],\"font\":{\"color\":\"#2a3f5f\"},\"hovermode\":\"closest\",\"hoverlabel\":{\"align\":\"left\"},\"paper_bgcolor\":\"white\",\"plot_bgcolor\":\"#E5ECF6\",\"polar\":{\"bgcolor\":\"#E5ECF6\",\"angularaxis\":{\"gridcolor\":\"white\",\"linecolor\":\"white\",\"ticks\":\"\"},\"radialaxis\":{\"gridcolor\":\"white\",\"linecolor\":\"white\",\"ticks\":\"\"}},\"ternary\":{\"bgcolor\":\"#E5ECF6\",\"aaxis\":{\"gridcolor\":\"white\",\"linecolor\":\"white\",\"ticks\":\"\"},\"baxis\":{\"gridcolor\":\"white\",\"linecolor\":\"white\",\"ticks\":\"\"},\"caxis\":{\"gridcolor\":\"white\",\"linecolor\":\"white\",\"ticks\":\"\"}},\"coloraxis\":{\"colorbar\":{\"outlinewidth\":0,\"ticks\":\"\"}},\"colorscale\":{\"sequential\":[[0.0,\"#0d0887\"],[0.1111111111111111,\"#46039f\"],[0.2222222222222222,\"#7201a8\"],[0.3333333333333333,\"#9c179e\"],[0.4444444444444444,\"#bd3786\"],[0.5555555555555556,\"#d8576b\"],[0.6666666666666666,\"#ed7953\"],[0.7777777777777778,\"#fb9f3a\"],[0.8888888888888888,\"#fdca26\"],[1.0,\"#f0f921\"]],\"sequentialminus\":[[0.0,\"#0d0887\"],[0.1111111111111111,\"#46039f\"],[0.2222222222222222,\"#7201a8\"],[0.3333333333333333,\"#9c179e\"],[0.4444444444444444,\"#bd3786\"],[0.5555555555555556,\"#d8576b\"],[0.6666666666666666,\"#ed7953\"],[0.7777777777777778,\"#fb9f3a\"],[0.8888888888888888,\"#fdca26\"],[1.0,\"#f0f921\"]],\"diverging\":[[0,\"#8e0152\"],[0.1,\"#c51b7d\"],[0.2,\"#de77ae\"],[0.3,\"#f1b6da\"],[0.4,\"#fde0ef\"],[0.5,\"#f7f7f7\"],[0.6,\"#e6f5d0\"],[0.7,\"#b8e186\"],[0.8,\"#7fbc41\"],[0.9,\"#4d9221\"],[1,\"#276419\"]]},\"xaxis\":{\"gridcolor\":\"white\",\"linecolor\":\"white\",\"ticks\":\"\",\"title\":{\"standoff\":15},\"zerolinecolor\":\"white\",\"automargin\":true,\"zerolinewidth\":2},\"yaxis\":{\"gridcolor\":\"white\",\"linecolor\":\"white\",\"ticks\":\"\",\"title\":{\"standoff\":15},\"zerolinecolor\":\"white\",\"automargin\":true,\"zerolinewidth\":2},\"scene\":{\"xaxis\":{\"backgroundcolor\":\"#E5ECF6\",\"gridcolor\":\"white\",\"linecolor\":\"white\",\"showbackground\":true,\"ticks\":\"\",\"zerolinecolor\":\"white\",\"gridwidth\":2},\"yaxis\":{\"backgroundcolor\":\"#E5ECF6\",\"gridcolor\":\"white\",\"linecolor\":\"white\",\"showbackground\":true,\"ticks\":\"\",\"zerolinecolor\":\"white\",\"gridwidth\":2},\"zaxis\":{\"backgroundcolor\":\"#E5ECF6\",\"gridcolor\":\"white\",\"linecolor\":\"white\",\"showbackground\":true,\"ticks\":\"\",\"zerolinecolor\":\"white\",\"gridwidth\":2}},\"shapedefaults\":{\"line\":{\"color\":\"#2a3f5f\"}},\"annotationdefaults\":{\"arrowcolor\":\"#2a3f5f\",\"arrowhead\":0,\"arrowwidth\":1},\"geo\":{\"bgcolor\":\"white\",\"landcolor\":\"#E5ECF6\",\"subunitcolor\":\"white\",\"showland\":true,\"showlakes\":true,\"lakecolor\":\"white\"},\"title\":{\"x\":0.05},\"mapbox\":{\"style\":\"light\"}}},\"xaxis\":{\"anchor\":\"y\",\"domain\":[0.0,1.0],\"title\":{\"text\":\"x\"}},\"yaxis\":{\"anchor\":\"x\",\"domain\":[0.0,1.0],\"title\":{\"text\":\"y\"}},\"coloraxis\":{\"colorbar\":{\"title\":{\"text\":\"color\"}},\"colorscale\":[[0.0,\"#0d0887\"],[0.1111111111111111,\"#46039f\"],[0.2222222222222222,\"#7201a8\"],[0.3333333333333333,\"#9c179e\"],[0.4444444444444444,\"#bd3786\"],[0.5555555555555556,\"#d8576b\"],[0.6666666666666666,\"#ed7953\"],[0.7777777777777778,\"#fb9f3a\"],[0.8888888888888888,\"#fdca26\"],[1.0,\"#f0f921\"]]},\"legend\":{\"tracegroupgap\":0},\"margin\":{\"t\":60}},                        {\"responsive\": true}                    ).then(function(){\n",
              "                            \n",
              "var gd = document.getElementById('0523812a-2828-41d5-b2e6-d1c9c48ec2ef');\n",
              "var x = new MutationObserver(function (mutations, observer) {{\n",
              "        var display = window.getComputedStyle(gd).display;\n",
              "        if (!display || display === 'none') {{\n",
              "            console.log([gd, 'removed!']);\n",
              "            Plotly.purge(gd);\n",
              "            observer.disconnect();\n",
              "        }}\n",
              "}});\n",
              "\n",
              "// Listen for the removal of the full notebook cells\n",
              "var notebookContainer = gd.closest('#notebook-container');\n",
              "if (notebookContainer) {{\n",
              "    x.observe(notebookContainer, {childList: true});\n",
              "}}\n",
              "\n",
              "// Listen for the clearing of the current output cell\n",
              "var outputEl = gd.closest('.output');\n",
              "if (outputEl) {{\n",
              "    x.observe(outputEl, {childList: true});\n",
              "}}\n",
              "\n",
              "                        })                };                            </script>        </div>\n",
              "</body>\n",
              "</html>"
            ]
          },
          "metadata": {}
        }
      ]
    },
    {
      "cell_type": "code",
      "source": [
        "dbscan = DBSCAN(eps=0.5)\n",
        "rotulos = dbscan.fit_predict(x_random)\n",
        "grafico = px.scatter(x = x_random[:,0], y = x_random[:,1], color=rotulos)\n",
        "grafico.show()\n"
      ],
      "metadata": {
        "id": "-Eh_4AUouKg8",
        "outputId": "5317a84f-b311-4245-a137-dcaab96812f9",
        "colab": {
          "base_uri": "https://localhost:8080/",
          "height": 542
        }
      },
      "execution_count": 87,
      "outputs": [
        {
          "output_type": "display_data",
          "data": {
            "text/html": [
              "<html>\n",
              "<head><meta charset=\"utf-8\" /></head>\n",
              "<body>\n",
              "    <div>            <script src=\"https://cdnjs.cloudflare.com/ajax/libs/mathjax/2.7.5/MathJax.js?config=TeX-AMS-MML_SVG\"></script><script type=\"text/javascript\">if (window.MathJax && window.MathJax.Hub && window.MathJax.Hub.Config) {window.MathJax.Hub.Config({SVG: {font: \"STIX-Web\"}});}</script>                <script type=\"text/javascript\">window.PlotlyConfig = {MathJaxConfig: 'local'};</script>\n",
              "        <script charset=\"utf-8\" src=\"https://cdn.plot.ly/plotly-2.29.1.min.js\"></script>                <div id=\"0e9610e5-5e6f-4722-b7b7-2dbf435444ad\" class=\"plotly-graph-div\" style=\"height:525px; width:100%;\"></div>            <script type=\"text/javascript\">                                    window.PLOTLYENV=window.PLOTLYENV || {};                                    if (document.getElementById(\"0e9610e5-5e6f-4722-b7b7-2dbf435444ad\")) {                    Plotly.newPlot(                        \"0e9610e5-5e6f-4722-b7b7-2dbf435444ad\",                        [{\"hovertemplate\":\"x=%{x}\\u003cbr\\u003ey=%{y}\\u003cbr\\u003ecolor=%{marker.color}\\u003cextra\\u003e\\u003c\\u002fextra\\u003e\",\"legendgroup\":\"\",\"marker\":{\"color\":[0,0,1,0,1,0,1,0,1,0,0,0,0,0,1,0,1,0,0,0,1,1,0,0,0,0,0,1,1,0,1,0,1,1,1,1,0,1,0,1,1,1,1,0,1,0,1,0,0,1,1,0,0,0,0,1,1,0,1,1,0,0,0,0,0,0,1,0,1,0,1,1,1,0,1,1,0,1,0,0,1,0,1,1,1,0,0,1,1,0,0,1,1,1,1,1,1,1,0,1,1,0,1,0,1,1,0,1,0,1,0,1,0,1,0,0,0,1,0,1,0,0,0,0,0,1,0,0,1,1,0,1,1,1,1,1,0,0,1,0,0,0,0,1,0,1,0,0,0,0,0,0,1,1,0,1,0,1,1,0,1,0,0,1,1,1,1,0,0,0,0,1,1,1,0,1,0,0,0,0,1,1,0,1,0,1,0,0,0,1,1,1,1,1,1,0,1,1,0,0,0,1,0,0,1,0,0,0,0,0,1,1,0,0,0,1,0,0,0,0,1,0,0,0,0,0,0,1,1,1,1,1,1,0,1,0,0,1,1,0,1,1,1,1,1,1,0,1,0,0,1,1,0,1,0,0,1,1,0,0,0,1,0,0,1,1,1,0,0,0,1,0,1,1,0,1,0,0,0,1,1,0,0,0,1,0,0,1,1,1,1,0,0,0,0,1,1,0,0,1,0,1,1,0,1,0,0,0,1,0,1,1,1,0,1,0,0,1,1,0,1,1,1,0,0,1,1,0,0,0,0,0,1,1,0,0,1,0,0,1,1,0,0,0,1,1,1,1,0,1,1,0,1,0,0,1,1,0,1,0,0,0,1,0,1,0,0,1,0,1,1,1,1,0,0,0,1,0,0,1,1,1,1,0,1,0,1,1,1,0,1,1,0,1,1,1,1,0,0,1,0,1,0,0,0,0,0,0,1,1,1,0,1,1,0,1,0,0,1,1,0,1,0,1,0,1,0,1,1,0,0,1,0,1,1,0,0,1,1,1,0,1,1,0,0,1,1,0,0,0,0,0,1,0,0,1,1,0,0,1,0,1,1,1,1,1,0,0,1,0,1,0,0,1,0,0,0,0,1,0,0,0,0,1,1,1,1,0,0,1,1,1,1,1,0,1,1,1,0,0,1,1,0,0,1,0,0,1,0,1,0,0,0,0,1,0,1,0,0,0,1,0,0,1,1,0,1,0,1,1,0,0,0,0,0,0,1,1,1,0,1,0,0,0,0,0,1,0,1,1,1,1,1,1,1,0,1,1,1,1,0,0,1,1,0,0,1,0,0,1,0,1,1,0,1,1,0,0,0,1,0,1,1,0,1,0,0,0,1,0,0,0,1,0,0,1,1,1,0,1,0,0,0,0,1,0,0,0,1,1,0,0,1,0,1,1,0,1,1,1,1,1,1,0,0,1,0,0,1,1,0,0,1,0,1,0,0,0,0,1,1,1,0,1,1,1,0,0,1,1,1,0,1,1,0,0,0,0,1,0,1,1,0,0,1,1,1,0,0,1,0,1,0,1,0,1,1,1,0,0,1,0,1,0,0,1,0,1,0,1,1,0,1,0,0,0,1,0,0,0,1,1,1,1,0,0,1,0,0,0,1,1,1,0,0,1,0,1,1,1,1,1,0,1,1,1,1,1,1,1,0,0,1,0,1,0,1,0,0,0,1,0,1,0,0,1,0,1,1,0,1,0,0,1,1,0,1,0,1,1,0,1,0,1,0,1,1,0,0,0,1,0,1,0,1,0,0,0,0,0,1,0,1,1,0,1,1,0,0,1,0,1,0,0,1,1,0,0,0,0,0,1,1,1,1,1,1,0,1,1,1,0,0,0,0,1,0,1,0,1,0,1,0,0,0,1,1,1,0,1,0,1,0,1,1,1,1,0,1,1,0,1,1,0,1,0,0,1,0,1,0,0,1,1,0,1,0,1,1,1,1,1,1,0,0,1,1,0,1,1,1,0,1,0,0,0,1,0,1,0,0,0,1,0,1,0,0,1,0,0,1,1,1,0,0,1,0,0,0,1,1,0,0,1,1,1,0,1,1,1,1,1,0,0,0,1,1,1,1,1,0,1,1,1,1,1,1,1,1,1,0,1,0,0,1,1,0,1,1,0,0,0,0,1,0,0,0,1,1,0,0,1,1,0,0,1,1,0,0,1,1,1,1,1,0,1,1,1,1,0,0,0,1,1,0,1,0,0,1,0,1,1,0,1,1,1,1,1,0,0,1,0,0,0,0,1,1,1,0,0,1,0,0,0,1,0,0,1,0,1,1,1,0,0,0,0,1,1,1,0,1,0,1,1,0,0,1,1,0,0,0,0,1,1,1,1,1,0,0,1,1,1,0,0,0,0,0,0,1,0,1,0,1,1,0,0,0,0,1,0,0,1,0,1,1,1,0,0,1,0,0,1,0,0,1,0,1,0,0,0,0,1,1,1,1,1,1,0,1,0,0,1,0,0,0,1,1,1,1,0,0,0,1,1,1,0,0,1,1,0,0,1,1,0,0,0,0,0,1,1,0,1,1,0,0,1,1,1,1,1,0,1,0,0,1,1,0,0,1,1,1,1,0,1,1,0,0,1,0,1,1,1,1,0,1,0,0,0,0,0,1,0,0,0,1,1,1,0,1,0,1,0,1,0,0,1,1,1,0,0,0,0,1,1,0,1,1,1,1,0,0,1,0,1,1,0,0,1,0,1,1,0,0,0,1,1,1,1,1,0,0,1,0,0,0,0,0,1,1,0,1,0,1,0,0,0,1,0,0,1,1,0,0,1,1,0,0,1,0,1,0,1,1,1,0,1,1,0,0,1,1,0,0,0,0,0,1,1,1,0,0,0,0,1,0,0,1,1,1,1,1,0,1,1,1,1,1,0,0,0,0,1,1,0,1,1,1,0,0,0,0,1,1,1,1,0,1,0,0,1,1,0,1,1,1,1,0,1,0,1,1,0,0,1,0,0,0,0,1,0,1,1,1,1,0,1,0,1,0,1,0,1,1,0,0,0,0,1,0,1,1,0,0,1,1,0,0,0,0,0,0,0,0,1,0,0,1,0,1,0,0,1,0,1,1,0,0,0,1,0,0,1,0,1,0,1,0,0,1,1,1,1,1,1,1,0,0,0,0,0,1,1,0,0,1,1,0,1,0,1,1,1,1,1,0,0,1,1,1,0,1,0,1,1,0,0,0,0,1,1,1,0,0,0,1,1,1,0,1,0,0,1,0,1,0,0,0,0,0,0,0,0,0,0,0,0,1,1,1,1,0,0,0,0,0,1,1,1,1,1,0,0,1,1,1,0,1,1,1,1,0,0,1,1,0,0,0,0,1,1,1,0,0,1,1,1,0,1,1,0,1,0,1,0,0,0,1,1,1,1],\"coloraxis\":\"coloraxis\",\"symbol\":\"circle\"},\"mode\":\"markers\",\"name\":\"\",\"showlegend\":false,\"x\":[0.909869447855485,-0.9326503730218288,1.9534889470304617,0.38993734371266375,0.03471032288855869,0.658885805796111,1.9987335824545847,0.9780894250801918,1.1979177367918592,0.05240576668932899,-0.6958977359566239,0.837106101849709,0.6234898018587336,-0.8461658472851411,1.9989358215947166,-0.6868064092127586,1.8719061518010984,-0.9045768730971196,0.4987886977095622,-0.8799985589078699,1.5204406750972002,1.9630647472666807,-0.010485764624336527,-0.9735086188164599,-0.5417630526990613,-0.5452837865693664,0.9725410112949588,0.05577085948272431,0.4547162134306336,0.5168545332914941,0.6062037364460751,0.780522186673046,1.1025816083936035,1.8859054323708802,1.976308614221301,0.7206464083164894,0.07333580287750391,0.42346867375175057,-0.5696568702084723,0.18413584703837615,0.004649700102705379,1.5662045791023171,1.603618645111425,0.5275854277211028,0.22210669784467396,0.7368442615361046,0.13432433968906055,-0.9879818467824021,0.6036186451114249,0.49395819653987205,1.9509268190860123,-0.9898485567503186,0.8677677694694957,-0.902780811730186,-0.9509268190860124,1.8461658472851412,0.6490178995514249,-0.13589564513500627,0.3101509943780647,0.668731367824424,-0.3114094702888742,-0.5168545332914941,-0.6806850215490629,0.9063570204054348,-0.9663766784927852,0.11508992393676364,1.48417769834899,0.4657227828320636,1.6989037634679087,-0.303426965708699,0.0028486875785440624,0.0503793504560085,1.9584117335075018,-0.31937006068169665,1.999780097480486,1.006291532565181,-0.0440267828126479,1.759110541291736,0.8109847531882045,-0.350982100448575,0.36997361194357303,0.9009688679024191,0.057160325889039076,1.6069573944946018,1.502419670074398,-0.7282791575766909,0.9879818467824021,1.3233419629357548,0.5491890178356142,0.5935389167199637,0.5346930536452399,0.03255332141737688,0.9350328563964247,1.3074209221993482,0.016220544776863854,1.7960055286803387,1.8916720373012423,0.3930426055053978,-0.991005977167144,1.5696568702084723,1.2994276710818868,0.9456019952697461,1.5627423268605967,0.31937006068169677,0.7489545381492895,1.1524976278004648,0.9559839770301876,0.17931386041904507,-0.38993734371266364,1.4987886977095621,-0.9763086142213011,1.9892437200326238,-0.11925541070754227,0.6178010082530485,-0.023067058820787193,0.36273663894339064,-0.7645445329068321,0.4831454667085059,0.17731866058801812,0.7938664992948548,0.3074209221993483,-0.7672413768130659,-0.9953502998972946,-0.8759831772486388,0.09840846264303063,0.44072982560590634,0.9873248324497849,-0.8483936664993149,0.06435596696173906,0.0073886751710440235,-0.9772076155698657,1.837106101849709,0.947594233310671,1.9522162591431318,1.2833785197731478,1.0649671436035753,-0.12758001688622111,0.49514895024466654,1.1275800168862211,0.9998592605305062,0.9999648145136173,-0.823075496759396,-0.42820667676705726,0.6726918233073231,0.941433620495435,0.01075627996737627,-0.5627423268605967,0.018873601534994598,-0.7018974952906882,-0.37831969576193836,-0.9886214797276642,-0.8035587560807045,0.4166347887822315,0.33482706156096653,-0.5204406750972003,0.16289389815029098,0.6169093400771741,1.7396734365955129,1.3821989917469515,0.639747995266225,0.002251039297172741,0.9931115272956403,0.19791773679185937,0.9141210684826255,1.889765477869806,1.5765313262482494,1.7048788787567757,-0.2510454618507104,0.9216571389263767,-0.9852496182428682,0.7225049421328023,1.1855681574939492,1.1731891965349646,1.985249618242868,0.27935359168351065,1.9926113248289559,0.5024196700743978,-0.21842976777774642,0.9371161852145424,0.2672496033793312,1.106752949444346,0.39638135488857507,0.9995690062269984,0.8020822632081406,0.9744590995755086,1.9953502998972947,0.3470514794005812,0.9572062752479682,-0.6234898018587335,0.03046440011006557,0.9769329411792127,0.8350787995279959,0.21686266039601376,1.979801406834788,1.8085236305140835,0.9428396741109609,0.12000144109213007,1.9753924368504672,-0.25510330050257196,-0.6557248242816902,-0.052405766689328864,1.9167019748939844,-0.5382327876885793,0.9992875743301965,0.5012113022904379,0.843923141627045,0.793459718942254,-0.09840846264303074,-0.8439231416270448,0.6714132622152207,1.1607828139194682,0.48674070144327586,-0.8839520142124788,0.9081212223373192,0.7108043910332633,0.005492728764592725,-0.0649671436035752,-0.8935629097065211,0.9772076155698657,0.9311289178486017,0.8765812005607216,0.4768208329292217,-0.9968261715188322,0.9999912035897159,-0.9674466785826231,-0.4091619859914693,-0.9200215936708597,1.7137484155971885,0.47241457227889716,1.9063570204054348,1.0858789315173747,0.11215673504603041,0.3223936620129818,0.9964834936322354,1.189688045214908,0.695897735956624,0.6837517299416598,1.4768208329292216,0.49034496585679044,-0.7452926983439472,1.8571552989871805,0.9853201877906834,1.6557248242816902,1.9216571389263766,1.3744337440664003,1.987981846782402,-0.27128906254769525,1.767241376813066,-0.8528044890839854,-0.566204579102317,1.5833652112177685,1.090057050742471,0.9953502998972946,0.21426128505976927,0.999780097480486,0.9982763964192584,0.6885905297111259,0.006405741870579074,-0.7340021233078164,-0.9995690062269984,-0.9428396741109608,1.998513772773741,-0.9482977734962753,-0.8254503737183084,0.4512050726401443,0.2746015692430369,0.922481765959234,-0.8301565201098942,0.11092241240960429,-0.46572278283206353,1.416801927347935,-0.41298558946038827,1.6745157334182537,0.7126015375646664,-0.7591105412917359,0.4064610832800363,0.8528044890839854,-0.7857387149402308,0.6267636082274293,0.026491381183540108,1.9133178469074001,0.9619268579460558,-0.9806315489604704,-0.9957455513302232,0.005062462554862646,0.9763086142213011,-0.14004990964149305,1.9248795573028046,0.08498204022591627,0.2951211212432241,0.8849100760632364,-0.8060482836288057,0.9892437200326237,-0.997151312421456,-0.9830184059878607,1.3627366389433906,0.9308479184693794,-0.9641856935620117,0.8614457900381748,0.29810250470931177,0.759110541291736,1.9806315489604704,0.30712053435866316,0.4244125379473226,0.872419983113779,-0.7311470719118763,0.0858789315173745,0.5765313262482494,1.4951489502446664,-0.979801406834788,0.126047647831673,0.31931497845093726,0.806195404211877,-0.27532374897625994,1.2914133489479382,-0.9753924368504673,-0.6745157334182537,1.0984084626430308,0.24637686967058714,0.9442291405172757,1.6928794656413368,0.8641043548649936,1.4470630400884572,0.40149325150803084,-0.9232764696332231,0.8268108034650354,1.2632054425366477,0.777893302155326,-0.837106101849709,0.5452837865693664,-0.742489598712872,-0.5799533702407994,1.7424895987128721,0.04039966939862283,0.902780811730186,0.3509821004485751,1.8158641529616237,-0.17318919653496465,-0.7934597189422541,1.9961232847903359,1.202027395864365,-0.18556815749394914,-0.3588247492071358,0.997458910619961,0.17692450324060405,1.646172886899472,0.058566379504565,0.5121566136983575,-0.8324877067481781,0.17218927132309159,1.4545509932035947,-0.9607720456188192,1.9559839770301877,-0.35490654673145305,0.6069573944946022,1.8779985913140924,1.2954231086777839,-0.7508595131202045,0.36672191605577387,-0.9264663737322872,0.8182823442185173,0.08169930143964571,1.0607810627212295,0.5132592985567241,1.0356447007284324,-0.23884573225109101,0.8916720373012424,1.14835097399379,0.5833652112177685,1.823075496759396,0.018555560988731457,0.1364316785241788,0.8557982897249512,-0.8506065600759428,-0.8348042475796122,0.45081098216438575,0.07672353036677693,0.1483509739937902,0.16078281391946822,0.02844370596604917,1.573099139443525,1.6493683089188536,0.024607563149532607,0.5096550341432096,0.05170222650372469,-0.06915208153062075,1.255103300502572,1.7340021233078164,0.785665241196533,0.4470630400884573,0.4200466297592008,0.00790634047066019,-0.8677677694694957,1.2225209339563143,1.458283007408741,0.23816576149418556,1.7699247227794253,0.40533118420914716,-0.7725945235982854,0.5454490067964052,0.03145268218088976,0.10456193818013715,0.8254503737183086,-0.7985373344359863,-0.9183698626405264,0.630026388056427,-0.24291660622022077,-0.22252093395631434,0.11604798578752118,0.08329802510601547,0.12200140868590759,-0.3821989917469516,1.5382327876885793,0.7611542677489088,-0.8779985913140924,0.10270253934794693,0.9248795573028045,-0.9150179597740837,0.36025200473377506,0.5717933232329429,-0.26724960337933107,1.9572062752479682,0.23884573225109115,1.0146798122093168,0.5799533702407992,0.4688560871570513,0.9705544843573901,1.5557881827877633,1.9663766784927852,-0.9892437200326237,0.14004990964149316,1.8182823442185172,0.5240176608834927,1.9999648145136173,0.03581430643798833,0.6002692763737327,0.43577228769976434,0.2039944713196612,1.9940595088377004,1.9695355998899344,-0.889765477869806,1.9150179597740837,0.00387671520966415,-0.9991204866361802,-0.09005705074247083,1.941433620495435,0.7005723289181134,-0.9998592605305062,0.9522162591431317,0.8759831772486387,0.8278107286769084,-0.8739523521683269,1.8416655889805449,0.24698320660108414,0.6898490056219353,1.3976482554081813,0.32548426658174634,-0.014679812209316698,-0.9992875743301965,0.1890152468117955,0.7985373344359861,0.26599787669218355,1.9789540272387627,0.2862515844028112,1.3783196957619384,0.30410226404337604,-0.9845231970029772,-0.4768208329292216,1.8759831772486388,0.5627423268605967,0.02104597276123721,-0.5935389167199637,-0.9915585405039848,0.5566927670873179,0.9607720456188192,-0.6928794656413368,0.9341554202443905,-0.7883262669162499,0.153834152714859,0.8779985913140924,0.742489598712872,-0.900968867902419,-0.49514895024466643,1.9482977734962752,1.6651729384390335,0.7979726041356352,1.140049909641493,0.6461728868994722,0.9859587061630106,0.09013055214451504,1.2873984624353336,0.9183006985603543,0.5870144105396116,0.07196310899490577,-0.5487949273598557,1.9607720456188193,1.3312686321755758,1.206133500705145,0.9985137727737411,-0.9133178469074001,1.9045768730971195,1.9496206495439914,0.27532374897625983,-0.6429660968764352,1.7368442615361044,-0.9935942581294209,0.19380459578812306,1.531143912842949,0.991005977167144,0.676658037064245,0.023067058820787318,-1.0,-0.8656756603109396,-0.9780894250801917,1.5275854277211027,-0.992611324828956,1.9311289178486017,-0.177318660588018,-0.5901580442098969,0.0649671436035753,1.9641856935620117,0.07751823404076592,0.8416655889805449,1.954744860357833,1.9780894250801917,0.03983609218515127,0.010151443249681424,-0.27935359168351054,1.3899373437126636,1.5487949273598556,0.9968261715188322,0.6989037634679086,-0.9081212223373193,-0.9999912035897159,-0.9559839770301876,0.5311439128429487,1.9904359792399648,0.7774790660436856,1.238845732251091,0.9898485567503186,0.16984347989010573,0.32730817669267687,0.33917198971950413,-0.9987335824545847,-0.6651729384390335,-0.9994370817372216,0.847502372199535,-0.09423358561003224,1.7452926983439472,1.9280368910050942,0.5342772171679364,1.7883262669162499,0.15607685837295504,0.7327503966206688,1.0188736015349944,-0.3352232597088692,1.2469832066010842,1.4657227828320636,1.7857387149402308,0.19644124391929552,0.9715562940339508,-0.3705412050251882,1.7078478614152273,8.796410284062084e-06,0.28337851977314765,-0.9371161852145424,0.7693085499054214,-0.6267636082274295,-0.777893302155326,0.8516490260062098,-0.4545509932035947,0.04651105296953828,1.2793535916835106,-0.9744590995755086,0.6372633610566094,1.3666421471190429,0.9822400626861534,-0.3074209221993482,-0.1067529494443461,0.5084995082868655,0.9991204866361802,0.8226813394119818,0.6216803042380615,0.2510454618507105,0.7897640209237654,-0.9837794552231361,0.8158641529616238,0.7908999500097059,1.462006959123169,-0.2266081853640187,-0.7831373396039862,-0.060781062721229615,0.09187877766268082,0.473129784890119,-0.1442017102750489,0.47955932490279984,0.6255662559335997,0.3285867377847793,-0.8916720373012424,1.793459718942254,0.74808268617431,0.9496206495439915,-0.9534889470304617,0.9904359792399647,0.10832796269875755,-0.9652896771114413,0.43199328222356104,-0.8278107286769084,1.164921200472004,0.5417169925912588,-0.6169093400771739,-0.16492120047200398,1.2753237489762599,0.6620351956507757,0.27172084242330896,1.2266081853640187,0.9356440330382609,1.350982100448575,1.7725945235982854,1.764544532906832,0.045255139642166986,0.37979497345417246,0.01775993731384662,-0.954744860357833,0.8839520142124788,1.5522964132996595,-0.8109847531882045,-0.42061093251396114,1.8010550916675918,0.0014862272262589071,-0.573099139443525,-0.19380459578812292,0.4653069463547601,0.48784338630164253,0.08839833379628581,0.30342696570869915,-0.9949375374451374,-0.9999648145136173,-0.74808268617431,0.3474476932819064,1.3391719897195042,1.7195987426088348,-0.7108043910332632,0.5642277123002357,1.77525073230032,0.11023452213019402,-0.5522964132996595,0.2914133489479384,1.5799533702407995,1.777893302155326,1.2184297677777465,-0.8134316083530794,0.014041293836989377,1.97350861881646,-0.9814444390112685,0.2873984624353336,-0.9789540272387628,0.6493683089188536,0.02191057491980819,-0.9385718508739259,1.9992875743301965,1.998021457567256,0.12341879943927835,0.5522964132996594,0.29215213858477274,1.393796263553925,0.2688529280881238,0.10675294944434623,0.9977489607028273,1.658885805796111,-0.586766789155251,1.9442291405172756,0.7725945235982854,0.22474926769967996,0.8635683214758212,0.14501258514432824,1.8972974606520532,1.9081212223373192,0.9509268190860124,-0.39379626355392505,1.8878432649539696,-0.45081098216438587,1.9999208332359624,0.42820667676705715,0.45828300740874117,0.3634813613156752,0.9641856935620117,1.909869447855485,-0.3860715637736815,1.586766789155251,2.0,-0.9977489607028273,1.9996833454786032,0.9961232847903359,-0.39764825540818133,0.6429660968764354,0.10085892650897821,0.010485764624336648,0.7508595131202045,-0.909869447855485,1.9994370817372216,1.74808268617431,0.6608280102804959,1.7311470719118764,0.006291532565180921,0.40916198599146925,0.002541089380039052,0.3821989917469515,-0.7078478614152274,0.859308103339315,0.0003166545213968419,0.17454962628169135,1.052405766689329,-0.9980214575672559,0.2712890625476952,0.03922795438118076,-0.8614457900381747,0.11409456762911974,1.7618342385058146,0.06734962697817115,1.2712890625476954,0.009564020760035263,-0.9996833454786032,1.4014932515080307,1.1442017102750488,0.09903113209758085,0.38309065992282587,0.6568852472618177,1.267249603379331,0.926664197122496,0.7883262669162499,-0.9248795573028045,0.0017236035807416394,0.5969093472063687,0.33796480434922427,-0.12341879943927822,0.8932470505556538,0.8719061518010984,-0.18144500510569248,-0.9295910814913971,1.4805034923449676,-0.2833785197731477,0.12401682275136128,0.8991410734910218,0.0020971898202216755,0.7530167933989158,0.9989358215947167,0.9979028101797783,1.8839520142124788,-0.6461728868994722,1.8324877067481782,0.11925541070754217,-0.11092241240960417,1.9931115272956403,0.04158826649249825,-0.9985137727737411,1.420610932513961,-0.4244125379473225,1.9684996585566354,1.4053311842091474,0.6332780839442261,1.9715562940339508,-0.999780097480486,1.9866504482885476,-0.327308176692677,0.0004309937730015978,1.6620351956507755,-0.1607828139194683,0.6868064092127586,0.37831969576193847,0.3442751757183098,-0.8158641529616238,0.43379542089768286,0.9920936595293398,1.725398430756963,0.9806315489604704,-0.4694304131636055,-0.056593912528553426,0.9753924368504674,-0.8954380618198627,0.14069189666068505,-0.28739846243533373,0.426900860556475,1.9859587061630106,0.42061093251396103,1.5132592985567244,0.0427937247520318,0.5592701743940937,-0.8593081033393151,0.20910004999029408,0.3588247492071359,1.680685021549063,-0.027260110291953042,0.9935942581294209,0.027458988705041154,1.4915004917131345,0.889765477869806,-0.8206861395809549,0.3352232597088693,-0.6525523067180935,0.8506065600759429,0.14939343992405707,0.20146266556401393,0.023691385778698892,0.7570833937797794,1.073335802877504,0.0005629182627784335,0.8972974606520531,0.341114194203889,0.8185549948943074,0.19395171637119446,0.4545509932035948,0.7396734365955129,0.7672413768130659,-0.6714132622152208,0.4617672123114206,-0.869844612145389,0.07353362626771287,-0.14835097399379008,0.8144318425060509,0.6202050265458275,0.014750381757131836,-0.4168019273479351,0.7536231303294129,0.9167019748939845,1.6898490056219355,1.9998592605305063,1.8060482836288057,0.20613350070514525,0.06887108215139826,0.33126863217557595,0.47598233911650734,0.295423108677784,0.6100626562873362,1.0691520815306208,1.710804391033263,0.9099429492575293,0.3860715637736816,0.568006717776439,0.23007527722057497,0.9674466785826231,1.9886214797276642,1.4091619859914692,0.9482977734962753,0.8682610101591812,-0.6493683089188536,-0.006291532565180799,1.473129784890119,-0.9866504482885478,1.5417630526990613,-0.9063570204054348,-0.6620351956507755,0.2833201166866922,0.3131935907872414,0.9045768730971196,0.06584457975560953,0.9886214797276642,0.6450934532685471,1.843923141627045,1.6136028004331937,1.820686139580955,1.7805221866730458,1.2102359790762345,-0.7536231303294127,0.06915208153062063,0.022792384430134316,1.9705544843573901,-0.8719061518010984,1.7508595131202045,1.7563734891821134,0.008441459496015158,-0.6202050265458277,0.6846074601925338,0.9735086188164599,-0.630026388056427,0.4915004917131345,0.7448966994974281,-0.5311439128429488,1.2510454618507105,0.7563734891821132,-0.9356440330382609,0.9996833454786032,1.3431147527381824,0.9915585405039848,1.633278083944226,-0.1566415987437367,-0.4731297848901191,1.5240176608834926,-0.9982763964192584,0.12758001688622103,0.35703390312356464,1.193804595788123,0.23275862318693408,-0.8085236305140835,0.6745157334182537,0.27749505786719775,0.6365186386843248,-0.4357722876997642,-0.941433620495435,0.4975803299256022,1.1814450051056924,-0.4987886977095621,-0.9216571389263766,0.04401602296981244,0.003173828481167762,0.7287109374523049,0.2306914500945786,0.6294587949748118,1.3193700606816967,1.516854533291494,1.9949375374451375,1.99209365952934,0.2551033005025719,-0.9116016662037141,-0.53469305364524,1.9725410112949588,1.9772076155698657,0.6139284362263184,1.5346930536452401,0.9601639078148487,-0.9167019748939844,0.013349551711452134,0.01698159401213939,1.0230670588207873,0.45823694730093867,0.7815702322222536,0.08668215309259986,1.9991204866361802,0.03807314205394419,1.177318660588018,0.979801406834788,0.8974183916063966,0.6806850215490627,0.8324877067481783,1.9915585405039848,0.21167373308375015,-0.36273663894339053,0.43725767313940334,0.02554090042449142,0.9183698626405264,-0.6898490056219354,0.9852496182428682,0.8483936664993149,0.21947781332695404,-0.997458910619961,0.9845231970029772,0.9232764696332231,0.4477035867003406,0.28040125739116506,0.9949375374451374,0.7166798833133078,1.9873248324497848,0.13855420996182521,-0.636518638684325,0.7253984307569631,1.303426965708699,1.873952352168327,0.9695355998899344,0.954744860357833,0.01547680299702281,1.716679883313308,0.1516063335006851,0.7367945574633521,1.0482166988848542,-0.0858789315173746,0.053041785784015194,1.863568321475821,1.4357722876997643,1.3273081766926769,0.9789540272387628,-0.9456019952697461,0.6557248242816902,0.7652293436881495,1.5592701743940935,-0.048216698884854206,0.5793890674860389,-0.8972974606520532,-0.6002692763737328,1.044026782812648,-0.4014932515080307,1.2306914500945787,1.4395436267123016,-0.7396734365955129,0.1583344110194551,1.9814444390112684,0.704576891322216,0.012018153217597916,0.1675122932518217,-0.34311475273818237,0.20202739586436486,1.9837794552231363,-0.5557881827877633,-0.606957394494602,-0.8859054323708802,0.7137484155971888,1.9995690062269984,0.6023517445918187,1.8799985589078698,0.6102854657852455,0.8060482836288055,1.938571850873926,0.6928794656413368,-0.9964834936322354,-0.5060418034601278,1.2429166062202208,-0.8416655889805449,-0.7368442615361045,0.7085866510520615,-0.9940595088377006,1.5935389167199636,0.35382711310052783,1.929591081491397,0.8134316083530794,-0.44330723291268204,0.24291660622022065,-0.7195987426088348,1.5969093472063687,0.9434060874714467,1.8393932290623596,-0.8991410734910218,0.0599889955928532,-0.9822400626861534,1.6002692763737327,1.8254503737183083,-0.5592701743940934,-0.002097189820221775,1.9744590995755087,0.2631557384638954,0.152497627800465,-0.8635683214758211,0.5662045791023171,-0.9400110044071468,0.5194965076550324,0.8599500903585069,0.1914763694859165,1.4244125379473225,0.9015915373569694,0.823075496759396,-0.6776063379870182,0.20654028105774602,0.5755874620526774,0.10643709029347892,0.14420171027504883,0.8549874148556718,-0.45828300740874106,-0.24698320660108422,0.1690566855954522,0.3666421471190428,0.07834286107362332,-0.7752507323003199,1.671413262215221,-0.073335802877504,1.169056685595452,0.5379930408768311,0.8954380618198629,-0.5969093472063686,0.8206861395809549,0.9200215936708597,0.020198593165211998,0.23477065631185046,0.9957455513302232,0.7166214802268523,-0.9999208332359625,0.16519575242038775,1.6682989789591383,0.257510401287128,-0.2914133489479383,-0.4878433863016424,0.2603265634044871,0.9133178469074001,-0.26320544253664774,0.8890775875903957,0.34311475273818226,0.77525073230032,0.011378520272335768,0.3976482554081812,1.214334758803467,-0.21433475880346706,0.8085236305140835,0.027260110291952945,0.8878432649539696,0.9685473178191102,1.9935942581294208,0.3317010210408615,0.2491404868797955,0.3765101981412664,0.9895142353756633,0.43954362671230157,1.859308103339315,-0.19791773679185926,-0.9572062752479682,1.902780811730186,0.4694304131636054,0.21842976777774634,0.3705412050251881,1.9652896771114414,0.005940491162299444,0.2354554670931679,0.9937084674348191,0.7078478614152273,0.9596003306013772,-0.13173898984081886,0.1817176557814827,0.3162482700583402,0.0010641784052832781,0.06078106272122952,-0.6102854657852456,0.2547073016560526,7.91667640374083e-05,0.21023597907623462,0.8301565201098943,0.37323639177257073,0.4442118172122367,0.13173898984081875,-0.780522186673046,-0.03145268218088986,0.9584117335075018,-0.8549874148556716,0.13015538785461112,0.9559732171873522,0.728279157576691,1.9830184059878606,0.0068884727043596605,-0.7225049421328024,-0.49150049171313454,1.997151312421456,1.8134316083530795,1.1234187994392781,1.8656756603109397,1.347051479400581,0.9684996585566354,0.38971453421475455,-0.5096550341432096,0.9295910814913972,1.3153925398074662,0.14284470101281954,0.9940595088377006,-0.8878432649539697,0.6806299393183033,1.899141073491022,1.9982763964192585,0.8433584012562634,-0.20202739586436494,0.9517833011151456,0.03362332150721481,0.7340021233078164,-0.2954231086777839,0.35063169108114645,0.9866504482885479,1.450810982164386,1.039836092185151,0.09721918826981402,1.8348042475796122,-0.32334196293575485,1.7908999500097056,-0.9311289178486019,-0.7960055286803387,-0.2061335007051451,0.7857387149402307,0.9630647472666809,1.9326503730218287,-0.34705147940058106,-0.8010550916675918,-0.9630647472666808,1.506041803460128,1.6102854657852457,0.6333578528809571,0.26320544253664785,0.972739889708047,-0.9715562940339508,1.946958214215985,-0.9931115272956403,1.5096550341432096,0.1649212004720041,0.586766789155251,0.6647767402911307,0.09364297959456525,0.5529369599115427,-0.9442291405172757,-0.6837517299416598,0.1358956451350064,0.32334196293575496,0.7408433488321586,1.6525523067180936,0.7452926983439474,0.019368451039529555,0.51582230165101,1.8614457900381747,1.0775182340407659,-0.6332780839442261,0.8819830448449004,0.07512044269719553,0.5557881827877633,1.991005977167144,0.00014073946949377802,-0.9705544843573901,0.5382327876885794,1.9999912035897158,-0.5833652112177685,0.3863971995668062,1.9968261715188322,0.22252093395631445,-0.36664214711904286,-0.4470630400884572,0.6529485205994188,0.14719551091601457,1.0942335856100323,0.08163013735947355,0.3010962365320914,0.17318919653496456,-0.5024196700743979,0.2274054764017146,-0.9584117335075018,-0.7166798833133079,0.9830184059878606,-0.31539253980746623,-0.5765313262482493,0.526870215109881,0.004254448669776756,-0.9684996585566354,1.900968867902419,-0.6036186451114249,1.6267636082274295,0.18968804521490776,-0.2994276710818868,0.8935629097065211,1.7225049421328023,0.03564470072843258,0.04821669888485433,0.04778374085686832,0.012675167550215138,0.0146798122093166,0.7195987426088349,0.8309433144045478,0.18656839164692063,0.7018974952906882,0.846165847285141,1.8677677694694959,0.8656756603109395,1.9964834936322355,0.7311470719118762,1.1109224124096042,1.9428396741109608,1.9400110044071468,1.0,1.9977489607028271,0.8392171860805318,-0.7048788787567758,-0.9280368910050942,1.9674466785826232,1.0104857646243366,0.9999208332359626,-0.4805034923449677,0.9652896771114413,0.9326503730218288,0.4620069591231689,0.0369352527333191,0.00021990251951398143,1.4282066767670574,0.4805034923449676,0.1814450051056926,-0.11508992393676373,0.8348042475796122,1.3705412050251882,0.9534889470304617,0.18556815749394906,1.6397479952662248,0.583198072652065,0.9811263984650054,1.4129855894603882,1.6365186386843251,0.39379626355392494,1.6837517299416598,0.6925790778006518,0.41323321084474895,0.24088945870826395,1.9845231970029773,-0.9989358215947167,0.8035587560807045,0.05659391252855332,-0.725398430756963,0.5985067484919692,0.0035165063677645714,-0.5132592985567243,1.7536231303294127,0.6411752507928641,1.9341554202443905,-0.48417769834899016,-0.8571552989871803,-0.018873601534994476,0.9980214575672559,1.630026388056427,1.8278107286769085,0.2891956089667367,1.923276469633223,-0.658885805796111,0.4098419557901032,0.506041803460128,0.9994370817372216,1.850606560075943,0.8807445892924578,0.29942767108188667,1.9898485567503186,0.1989449083324083,1.6234898018587334,1.8109847531882046,-0.9695355998899344,1.2591566511678414,0.5901580442098968,0.39973072362626727,1.3114094702888743,-0.9904359792399647,0.7048788787567759,1.3588247492071357,-0.10258160839360356,-0.2102359790762345,0.5487949273598557,0.9971513124214559,1.848393666499315,-0.3744337440664002,1.0314526821808898,0.8103119547850922,1.4878433863016425,0.43034312979152745,-0.035644700728432455,0.12809384819890157,-0.6136028004331938,0.008994022832855997,0.48417769834899005,1.7831373396039862,0.992611324828956,1.7018974952906882,1.9619268579460558,0.4129855894603884,-0.5275854277211027,0.8859054323708803,0.6776063379870182,1.4319932822235613,0.1566415987437366,0.16060677093764053,0.5946688157908528,-0.8819830448449005,-0.9945072712354073,0.6965730342913008,1.5901580442098968,-0.9596003306013772,0.8393932290623595,0.44330723291268215,0.769924722779425,-0.9961232847903359,0.9264663737322871,0.873952352168327,0.6136028004331938,0.7246762510237401,-0.15249762780046486,0.9987335824545847,1.3352232597088691,-0.7699247227794251,1.0565939125285535,0.35490654673145294,-0.1690566855954521,0.5305695868363947,-0.40533118420914727,1.1317389898408188,1.945601995269746,0.7645445329068321,0.7960055286803388,0.10258160839360346,1.6202050265458277,0.6651729384390335,0.3153925398074661,1.6776063379870183,-0.08169930143964559,1.8035587560807045,0.2266081853640186,1.9264663737322874,-0.8393932290623596,0.9400110044071468,1.9371161852145424,1.997458910619961,0.0490731809139876,1.869844612145389,1.9596003306013772,1.4694304131636056,0.25191731382569005,-0.07751823404076581,0.09423358561003237,-0.33126863217557584,0.9837794552231361,-0.7908999500097057,1.893562909706521,0.05439800473025391,-0.2591566511678415,0.9280368910050942,1.6958977359566239,0.24362651081788678,0.8010550916675917,0.07040891850860276,0.8698446121453889,0.9057664143899676,1.0816993014396457,0.4030906527936313,0.5908380140085308,1.6868064092127586,0.573099139443525,-0.2306914500945787,0.13223223053050426,1.8819830448449006,0.11801695515509958,0.8571552989871805,1.9945072712354073,-0.9725410112949588,0.06142814912607397,0.07997840632914033,-0.6989037634679087,0.8799985589078699,-0.9496206495439914,-0.43199328222356115,1.3549065467314532,1.911601666203714,1.1566415987437366,0.938571850873926,-0.462006959123169,0.21433475880346695,1.728279157576691,1.1358956451350062,1.8528044890839854,0.6525523067180936,1.9822400626861534,0.5417630526990613,0.9150179597740837,0.9392189372787705,0.5204406750972002,0.5048510497553335,0.7618342385058144,-0.18968804521490784,-0.9859587061630106,0.7831373396039862,0.9945072712354073,-0.9619268579460558,-0.9873248324497849,-0.639747995266225,-0.5240176608834927,-0.039836092185151155,-0.8182823442185172,-0.7137484155971886,1.9200215936708598,1.1192554107075423,1.7985373344359863,0.0019785424327440904,0.9663766784927852,-0.3391719897195042,-0.6682989789591384,-0.23477065631185035,-0.7618342385058146,0.0008795133638197505,3.518548638270502e-05,1.1150899239367638,1.443307232912682,0.9643552992715674,-0.9469582142159849,0.9469582142159848,0.0007124256698034515,1.9183698626405263,1.8954380618198627,0.9116016662037142,1.3860715637736816,1.2347706563118503,0.029445515642609887,0.5231791670707783,0.09005705074247074,0.5696568702084726,1.8549874148556715,1.9957455513302231,0.3114094702888741,-0.9522162591431317,0.0440267828126478,0.6682989789591385,1.616909340077174,0.0012664175454153437,1.027260110291953,-0.9341554202443904,-0.7563734891821133,1.5452837865693665,0.031500341443364555,0.0,-0.9920936595293399,0.5604563732876984,1.935644033038261,0.416801927347935,1.8301565201098942,0.25915665116784137,0.09542312690288035,0.3744337440664003,-0.4395436267123016,0.9814444390112685,0.06288381478545757,0.7733918146359814,1.6429660968764352,1.0020971898202218],\"xaxis\":\"x\",\"y\":[0.41489467080110215,0.3607814874716323,0.1985720187329295,0.9208413913255159,0.23881837878194911,0.7522429759860901,0.44968865657298207,0.2081851977117968,-0.48021863350131655,0.9986258736973039,0.7181408922282905,0.5470405599642357,0.7818314824680298,0.5329196551903667,0.45387815772447526,0.7268403925651606,0.01032698415023936,0.4263105448588359,0.8667236209064565,0.474976353432539,-0.3538978297808061,0.23073007488365105,0.9999450228588784,0.22865032055535922,0.8405312574379338,0.8382515088591095,0.23273156500436024,0.17071087142450803,-0.3382515088591095,0.856073239516358,-0.4191977495680501,0.6251280797653604,-0.4947245918440849,0.03613410893258828,0.2836172608610322,-0.46018829966497843,0.9973073047041778,-0.31707504542387943,0.8218826255763579,-0.07824361986295358,0.403678764052958,-0.32426474788357174,-0.29727318484560084,0.8495019814316744,-0.12839638005154252,0.676062522435102,-0.0006052847755593227,0.15456995318765607,0.7972731848456008,-0.36250895250473847,0.19058412331789087,0.14212612250853615,0.4969699168661379,0.43010092533239963,0.3094158766821092,-0.03291965519036666,-0.4363821683290997,0.9907231569077914,-0.22395327849414914,-0.4435364822499037,0.9502758240713076,0.8560732395163582,0.7325762086218415,0.42251266438035007,0.257130541292263,0.9933550772046368,-0.37496968885869086,0.8849306693471294,-0.2152157222897113,0.952854698514318,0.42457281566856775,0.18659830574860048,0.21461088129512462,0.947630077794162,0.47902962370604973,-0.49998020811313126,0.9990303510880778,-0.15096173935168233,0.5850672868108991,0.9363821683290997,-0.276573724994976,0.4338837391175581,0.16675332121334352,-0.2947343715156179,-0.36462389229209546,0.6852805765811442,0.154569953187656,-0.44628218571674116,-0.3926194364677379,0.8048052897060829,0.8450463528017435,0.24692506228500066,-0.49788740359420935,-0.45157363172489307,0.32061777267279357,-0.10528935089784497,0.047318016820801834,-0.29473437151561765,0.1338176117668902,-0.32188262557635794,-0.4541190019020046,0.3253257852397733,-0.3266323690489753,0.9476300777941619,-0.4679752972489347,-0.48830383663893107,0.293418874071771,-0.07137926134898298,0.9208413913255159,-0.3667236209064566,0.21638273913896777,0.35372333618783935,0.9928636094736152,-0.42408004561705237,0.9997339199993958,0.9318916947628905,0.6445709093670563,-0.35607323951635805,0.9841534903699073,-0.4785238780362193,0.951573631724893,0.6413584564859117,0.09632123594704209,0.482341656066921,0.9951461071019849,-0.3289854474194346,0.15871255535717477,0.5293658344130732,0.14705490024665624,0.3786626280929699,0.21228583577869142,-0.04704055996423584,-0.49862587369730393,0.1945753843851803,-0.45900814101402687,-0.49788740359420935,0.9918282811511837,0.8688081014076726,-0.4918282811511837,0.01677674376597653,0.00838866704231825,0.5679319735974314,0.9036808297026738,-0.4449176458666202,0.33719836624879623,0.35372333618783935,0.8266323690489753,0.9998218777187756,0.7122779696892628,0.9256750011740591,0.1504246316966858,0.5952254409264031,-0.3122099669056323,-0.24668933430736895,0.8538978297808061,-0.04704055996423573,0.7870342216991237,-0.17296597773957612,-0.42408004561705237,0.7685847399947817,0.43294023996144915,0.11717292499771687,0.9802186335013165,-0.49630558019185766,0.043581995982722166,-0.31707504542387943,-0.20932768611029884,0.9679752972489347,0.38800530700757907,0.1711233173833492,0.6913657560175194,-0.4826313952466107,-0.4848885734962983,0.3288766826166508,0.9601882996649784,0.3786626280929699,0.8646238922920956,0.9758526715383627,0.3490175574508299,0.9636273395320362,-0.4942855765749259,-0.29727318484560084,0.029356460794360786,-0.48021863350131655,0.22456505350229608,0.4036787640529579,0.9378460804662287,0.28940654212700667,0.7818314824680299,0.25504955491760173,-0.49973391999939576,-0.4863067462178655,-0.12184878171303892,0.30002699391025245,-0.08846371077605619,0.3332466787866565,0.025023646567461144,0.27952416428345916,0.9669138048826764,0.7549999700799639,0.9986258736973039,0.100428367841924,0.8427962187011643,0.037740479452068494,-0.3667236209064565,0.5364641004077894,0.6086227685652906,0.9951461071019849,0.5364641004077895,0.7410831473738392,-0.48698981086338355,-0.358233588509014,0.4675776262501251,0.4187073507123719,0.703389733851605,0.3953324909061837,0.9978874035942094,0.4489379983882135,0.21228583577869134,0.36469019502324407,-0.49235467447126346,0.879000508125384,0.07960894280862929,0.004194370416562193,0.25307493771499917,0.9124617631547728,0.3918676653914324,-0.20040216963720414,-0.34950198143167444,0.07748733561964982,-0.49630558019185766,0.03985400482469115,-0.23542480969832857,0.08378930073997938,-0.48184441002765155,0.7181408922282904,0.7297147194635638,-0.379000508125384,-0.3603788387521417,0.6667374249246836,-0.015058048590833595,-0.49989224575126057,-0.2549999700799639,0.11199469299242071,-0.4272536714968658,0.3454300468123439,0.9624979192403444,-0.14135845648591172,0.5222303164296406,0.8242647478835717,-0.3122099669056323,-0.4959366082294435,0.09632123594704205,-0.11855854358668005,0.02097037629395004,0.0586876166851221,-0.4502758240713076,0.38699358331384137,0.6791471732839776,0.029356460794360696,0.3332466787866567,0.4455000405399262,0.31738199820091706,0.5644746943205735,-0.33595701307189874,-0.18832922112557116,-0.4969909344578821,0.557530404658823,0.9938290690180247,0.8849306693471295,-0.4089973340769745,0.9107375598371111,-0.23826047257809713,-0.4578111107049271,0.6509617393516823,-0.3048052897060829,0.5222303164296407,0.6185585435866799,0.7792094579775926,0.2713496794446406,0.09275251931972528,0.27330700679277975,0.19586159701020608,0.09214552081392627,0.3995047434820629,0.21638273913896788,0.9901444454267315,0.11973982001349603,0.09658689499363904,-0.20932768611029862,-0.4933550772046368,0.5918497820047385,0.1462766638121607,0.07542718433143224,0.18350698485094658,-0.4318916947628906,-0.49760612950201066,0.2652281062224413,0.5078495356161163,-0.21227796968926282,0.6509617393516822,0.3041384029897939,-0.22105342804300954,0.9054689379725361,-0.4918282811511837,0.6822198760184941,0.9963055801918577,0.8170750454238794,-0.36880810140767273,0.19997300608974755,0.013988388884124903,-0.23257620862184158,-0.48104015139616085,0.9613515658954623,-0.4565972297968185,0.22047583571654086,0.7382604725780971,-0.4951461071019849,-0.15730676052547699,0.329289128575492,-0.22105342804300954,-0.49072315690779145,-0.3945024528679989,0.9158619814106868,0.38413612251598,-0.4848885734962983,-0.46473980690084904,0.6283963800515425,0.5470405599642358,0.8382515088591095,0.6698575936743557,0.8146496721575098,-0.1698575936743557,0.21863332551681325,0.4301009253323998,0.9363821683290997,-0.0782436198629537,0.9848885734962983,0.6086227685652905,0.41203181541880385,-0.47937987079593547,0.9826313952466107,0.9334049492885904,0.07124409887731561,-0.06793197359743142,-0.2631910640435997,0.1628016337512037,-0.3729311716520074,0.5540435164435727,-0.06100748434170278,-0.3907207163738955,0.2773392802280802,0.20658112592822908,0.9349017825885,0.7947343715156177,0.021336784732240544,-0.45536651964528996,0.6604619531486197,-0.2739243298901577,0.37637754760791187,0.5748164969277134,0.9966570243289684,-0.49815112203236933,0.858233588509014,-0.4993645257412235,0.9710575246531177,0.4526819831791979,-0.4889347746515408,0.8122099669056323,-0.06793197359743142,0.3082532578272672,-0.004231845626030184,-0.48954831451210656,0.52580270059764,0.5505468810401504,0.8926194364677379,0.11586387748401994,0.9889347746515408,0.9869898108633836,0.2631912849513025,-0.319486044035584,-0.2604740622610796,0.2795241642834594,0.8603788387521417,0.18261800179908283,0.9976061295020107,-0.4669138048826764,-0.17914717328397756,-0.4767602628939507,0.8945024528679988,-0.31464967215750994,0.3745003158502688,0.496969916866138,-0.4749279121818236,-0.38880632599031373,-0.14777202242784915,-0.13813472030052187,0.91416991369636,0.6348997575254999,-0.3907207163738955,0.9995052419990742,0.054813884488422615,0.5644746943205733,0.601945284483457,0.3957231297177619,0.776573724994976,0.9700471753592452,0.9749279121818236,0.03242237374987489,0.10042836784192422,0.021336784732240544,0.9240800456170524,-0.3427962187011643,-0.47105752465311757,0.4786632152677594,0.05857359944450846,0.3802601799865039,0.40341310500636096,-0.2685847399947817,-0.4036808297026738,0.9636273395320363,0.2105934578729931,0.9710575246531176,-0.49989224575126057,0.8146496721575099,-0.347281620153466,0.24088169895980185,-0.33132394159766376,0.24286945870773702,0.14627666381216062,0.9901444454267314,-0.07481649692771353,0.8517073975739514,0.4916113329576819,0.23477189377755892,0.7997979718914991,0.9000569500164497,-0.10528935089784486,0.39116207972701134,0.2550495549176016,0.4564180040172778,0.09658689499363904,0.41203181541880374,0.04193152971073556,0.9959366082294435,0.1628016337512037,-0.4541190019020046,0.016776743765976463,0.30542461561481965,0.48234165606692114,0.5610074843417028,0.4860116111158752,-0.039999107708552195,0.969019760199474,0.7239532784941491,-0.4175379365295093,-0.23826047257809724,0.9998922457512606,0.03774047945206853,-0.08506728681089915,0.6019452844834571,-0.17914717328397756,0.29591910291992607,-0.20040216963720403,-0.4256750011740591,-0.21814089222829036,0.17525431396412772,0.879000508125384,0.01765834393307908,0.8266323690489754,0.29591910291992596,0.8048052897060829,0.12965978849900783,-0.3963697324471086,0.27733928022808,0.7210534280430095,0.3568664327560471,0.6152574232708531,-0.03291965519036688,0.4786632152677594,0.6698575936743557,0.43388373911755823,0.8688081014076727,0.18261800179908294,-0.24668933430736895,-0.47937987079593547,-0.4901444454267315,0.7631910640435997,0.16698931026075342,0.0851053291988979,-0.4578111107049271,-0.4966570243289684,-0.41073755983711113,0.12751170631334086,0.8359570130718988,0.2226607197719198,-0.44353648224990383,-0.47852387803621943,0.0544999594600739,0.4072474806802747,0.0736894551411641,0.18659830574860026,0.9613515658954623,0.7658946391426712,-0.176062522435102,0.11300641668615853,0.9810401513961609,-0.34728162015346586,0.13381761176689022,-0.44628218571674105,0.9997339199993958,1.2246467991473532e-16,0.5006052847755593,0.20818519771179703,-0.34950198143167455,0.12133737190703012,0.13530980497675604,0.9841534903699073,0.8072877323819243,0.9978874035942094,0.2347718937775587,0.9969909344578821,0.5399991077085522,0.2025739560490677,0.291814802288203,0.9992062278425892,0.35787387749146393,0.9601882996649784,-0.4208413913255159,-0.33595701307189885,0.07960894280862907,0.7152157222897114,0.41870735071237175,0.004194370416562157,0.293418874071771,0.847281620153466,0.3620269191944602,-0.4749279121818236,-0.4710575246531177,0.14212612250853604,-0.057530404658822865,0.9449176458666202,0.940724381202971,0.05031134342701794,0.746689334307369,0.03354876523191834,-0.48830383663893107,0.9955501149329835,-0.16673742492468357,0.12751170631334086,-0.3849306693471294,-0.11525742327085309,-0.03646410040778936,-0.46362733953203616,-0.4998218777187756,0.9421387191651557,-0.469019760199474,-0.3849306693471295,-0.11855854358667994,-0.09522544092640295,0.23680871504869747,0.9288160288122086,-0.20636492345662882,0.49580562958343777,0.959008141014027,0.34901755745082996,-0.47302695484414026,0.7792094579775923,0.6283963800515424,-0.4889347746515408,0.8907207163738955,0.19857201873292962,-0.46018829966497843,0.2245650535022961,-0.43189169476289047,-0.43036204563381564,0.1876285139692296,0.9515736317248931,0.9942855765749259,-0.37087729712385265,0.04193152971073569,-0.4841534903699073,-0.4256750011740591,0.9679752972489347,-0.4776506702814953,0.17938222732720638,0.5782436198629536,0.6119454788415752,-0.38687629899651865,0.9739860010934585,0.621848781713039,0.9981511220323693,0.08129264928762803,0.8809927392719135,0.9895483145121065,-0.3538978297808061,-0.4272536714968658,-0.24108314737383918,0.4526819831791981,-0.10862276856529052,0.6636055263831284,0.3134016942513996,0.3014279812670705,0.13797308080554008,0.047318016820802056,0.26118162121805083,0.9018768231381239,0.5610074843417028,-0.4863067462178655,-0.3888063259903136,0.787034221699124,0.9863067462178655,-0.46135156589546233,0.7494727478165161,-0.18528057658114405,-0.47398600109345845,0.35294509975334376,-0.4363821683290997,-0.13489975752549987,-0.1445709093670563,0.20257395604906758,-0.28443975233748153,0.31237148603077036,0.2974260439509323,0.4675776262501251,-0.3336478104429542,0.5850672868108993,0.9072411164898425,-0.09859062815368747,0.4455000405399261,0.819486044035584,0.9810401513961609,-0.34504635280174345,0.8729311716520074,0.08892530827766576,0.952854698514318,0.10049525651793699,0.008388667042318058,0.6636055263831283,-0.2577436815948352,-0.44072438120297086,-0.19439012783577492,0.7033897338516051,-0.4000569500164497,-0.13165362507296485,0.04358199598272228,0.8336478104429542,0.9565972297968185,-0.31464967215750983,-0.1283963800515424,-0.47585267153836275,0.5816605698619448,0.33301068973924663,0.27134967944464083,0.1917467421727327,0.9578111107049271,0.20408089708007393,0.7604740622610796,0.2918148022882032,0.3450838749450529,0.4622595205479315,0.4371257585705396,0.9923546744712635,0.8336478104429543,-0.20636492345662882,-0.41919774956805,-0.1822198760184942,0.9942855765749259,0.06705976003855087,-0.25224297598609013,0.8097559725895433,0.17071087142450814,0.6348997575254999,-0.13165362507296474,0.5042318456260302,-0.018648744757389313,0.058573599444508684,0.08129264928762825,0.3094158766821093,0.91919774956805,0.03985400482469137,0.8926194364677378,0.48741718391223965,0.9036808297026738,0.8888063259903136,-0.2712613192734703,0.2652281062224411,0.0851053291988979,0.9224688328856125,-0.30975597258954335,0.4999999999999999,0.06705976003855069,0.47483636010614383,0.08796818458119625,0.9175379365295093,0.7658946391426711,0.062341080336053345,0.9999450228588784,0.6604619531486197,0.41489467080110215,0.4664512347680817,-0.1636055263831283,-0.44072438120297097,-0.1822198760184941,0.9999802081131313,0.9124617631547728,0.42875590112268436,0.9240800456170524,0.7063649234566288,0.5114582911004466,0.47483636010614383,-0.06447469432057329,-0.49862587369730393,0.06287424142946038,0.9624979192403446,0.22266071977191992,0.5078495356161163,0.036134108932588394,-0.14777202242784893,0.1392185125283677,-0.46249791924034445,0.36202691919445995,0.025163639893856223,-0.41586198141068675,-0.48954831451210645,0.06611626088244194,-0.28703422169912374,-0.43929349324554356,-0.4636273395320363,-0.49730730470417783,0.6152574232708531,0.380260179986504,0.4413123833148779,0.8023086882351872,-0.24947274781651607,0.9923546744712635,-0.4942855765749259,0.48967301584976064,0.9834010932077487,0.3685924866456919,-0.3769928128806357,0.9590081410140269,0.017658343933078857,0.43765891966394666,0.999997800895011,-0.469019760199474,0.04612184227552452,-0.499997800895011,0.03242237374987489,0.7631910640435997,-0.05404351644357275,0.9928636094736152,0.9938290690180247,0.38282707500228297,0.21461088129512462,0.05449995946007375,-0.4072411164898425,0.9054689379725361,0.25098511816423374,-0.41416991369636,0.7739243298901577,0.2631912849513025,0.02097037629395026,0.33714763467481457,0.9449176458666202,0.47064353920563917,-0.24947274781651618,0.9869898108633836,0.7268403925651605,0.9256750011740591,-0.254999970079964,0.5782436198629537,-0.3242647478835716,0.12549968414973123,-0.18832922112557127,0.19586159701020628,0.882969471271259,0.9983972801769396,0.22047583571654064,0.44518611551157744,-0.011458291100446605,0.9578111107049271,-0.319486044035584,0.33301068973924663,0.9072411164898426,-0.3582335885090139,0.21059345787299333,0.8289854474194346,0.5114582911004465,-0.11194547884157524,0.9334049492885904,-0.23257620862184147,0.9996283741405456,0.11300641668615867,0.2672684349956398,-0.37087729712385253,0.4564180040172777,0.5713792613489829,0.9421387191651556,0.7577436815948354,0.5258027005976399,-0.025802700597639894,-0.10194528448345708,0.2836172608610321,-0.47004717535924523,-0.49730730470417783,0.4664512347680818,0.44142640055549154,-0.25224297598609013,-0.4834010932077487,-0.09184978200473859,0.8907207163738955,0.6729659777395762,0.6413584564859116,0.741083147373839,-0.34279621870116417,0.49332580585414115,0.12362245239208791,0.9889347746515408,-0.4826313952466107,0.7844397523374815,0.3288766826166507,0.9089973340769745,0.657306760525477,0.3995716321580758,-0.22395327849414914,0.4832232562340235,-0.09184978200473848,0.9785238780362193,0.13530980497675593,0.9435364822499037,-0.3517073975739514,0.95536651964529,-0.4208413913255159,-0.49760612950201066,-0.20338973385160508,-0.4959366082294435,0.9224688328856125,-0.4018768231381239,-0.13813472030052198,0.25307493771499934,0.34957536830331426,-0.4124617631547728,0.3173819982009171,-0.4912844387741193,0.7604740622610796,0.9999802081131313,-0.38099273927191346,0.1628523653251854,-0.3405312574379338,0.4225126643803502,0.7494727478165162,-0.19740228337310706,-0.22684039256516053,0.42631054485883596,0.14313356724395288,0.1504246316966856,-0.4349017825885001,-0.03646410040778947,-0.28961484490892275,-0.07137926134898287,-0.12512807976536044,-0.4776506702814953,0.6573067605254772,0.9976061295020107,0.2877141642213087,0.2591183010401983,0.48967301584976064,-0.16046195314861966,-0.15414000402243822,0.3703402115009923,0.7844397523374814,-0.4489612983856591,0.22865032055535936,0.776573724994976,0.8708772971238526,-0.4669138048826764,0.8472816201534659,-0.4679752972489347,0.6541400040224383,0.3529450997533436,0.02516363989385616,-0.43929349324554356,0.1296597884990077,-0.2739243298901578,0.9876555115742565,0.8809927392719135,-0.3517073975739513,0.05868761668512224,0.9918282811511837,-0.2658946391426711,-0.48104015139616085,-0.1413584564859116,0.5884637107760562,0.7382604725780972,-0.19136575601751937,0.7712613192734703,0.9000569500164497,0.3371983662487963,-0.3646238922920956,-0.4834010932077487,0.8667236209064566,0.3880053070075793,0.20658112592822908,0.42039105719137093,-0.46249791924034456,0.9730269548441403,-0.4288160288122086,-0.447630077794162,-0.35607323951635816,0.399504743482063,0.3745003158502689,0.9669138048826764,0.4110746917223344,0.8450463528017433,0.26726843499563957,0.2877141642213086,-0.42246883288561254,-0.34504635280174334,-0.49920622784258917,0.39957163215807595,0.3371476346748148,0.31649301514905326,-0.49973391999939576,-0.3405312574379338,-0.47585267153836286,0.09275251931972517,0.45806847028926445,0.22669299320722025,-0.4841534903699073,0.19997300608974744,-0.4947245918440849,0.7325762086218416,0.5540435164435725,0.37034021150099217,-0.11525742327085309,0.9318916947628906,-0.3266323690489754,0.27543494649770395,0.39572312971776197,0.7239532784941491,0.17112331738334935,0.5293658344130732,-0.12512807976536044,0.07124409887731573,0.17525431396412755,0.38413612251598006,-0.33364781044295433,-0.1943901278357748,0.1004952565179371,0.6974022833731071,0.34128744464282534,-0.007849535616116343,0.7712613192734702,0.6883292211255712,-0.45285469851431803,0.013988388884124792,0.2449504450823983,0.2974260439509325,0.3247456860358724,-0.19740228337310695,-0.029365834413073166,-0.46473980690084893,-0.49883689857185753,0.9963055801918577,0.17864328149411124,-0.004231845626030406,-0.4000569500164497,-0.4449176458666202,0.204080897080074,0.32532578523977335,0.754999970079964,-0.47205079030619745,-0.3289854474194347,0.9988368985718575,-0.4072411164898426,0.44142640055549137,0.799797971891499,-0.4990303510880778,0.9158619814106868,-0.47302695484414026,-0.39822124235435274,0.6729659777395761,-0.039999107708552195,0.3082532578272673,-0.45536651964528996,0.345430046812344,-0.054043516443572526,0.9392934932455436,0.9793798707959355,0.3206177726727937,0.8313239415976638,0.7947343715156179,0.4638658910674117,0.700402169637204,0.4706435392056393,-0.4175379365295093,0.025023646567460922,0.7921815765664372,0.5918497820047386,0.15491612505494712,0.7210534280430095,0.08378930073997945,0.8625089525047386,-0.47004717535924523,0.5399991077085522,0.676062522435102,-0.4565972297968185,0.10883792027298868,-0.3048052897060829,-0.2631910640435997,0.13140751335430811,0.5816605698619449,0.8963697324471086,0.9700471753592452,0.6943901278357749,-0.3023086882351873,-0.4983972801769396,-0.043524614901905956,0.43765891966394666,0.1588558785594174,0.18762851396922972,-0.29979797189149904,-0.06447469432057351,0.8289854474194347,0.999997800895011,0.27543494649770395,-0.176062522435102,0.9883038366389311,0.5042318456260304,0.8242647478835716,0.3411441214405826,-0.3769928128806357,-0.4901444454267314,-0.08846371077605619,-0.40546893797253614,-0.4951461071019849,0.5679319735974314,0.7354248096983287,-0.10862276856529063,-0.40546893797253614,0.05106200161178642,0.9895483145121066,0.5186487447573893,0.8888063259903137,0.969019760199474,0.9856063296547362,0.9303620456338157,0.11199469299242093,0.6316536250729649,-0.24108314737383896,0.9973073047041778,-0.48560632965473616,-0.38687629899651876,0.4451861155115774,0.8023086882351873,0.571379261348983,0.39186766539143236,0.30002699391025256,0.9720507903061975,0.09214552081392606,-0.459008141014027,0.01258281608776032,-0.05054688104015037,-0.24389278442674334,-0.1698575936743557,0.9565972297968185,0.8729311716520074,-0.17296597773957623,0.4072474806802748,0.964739806900849,-0.4938290690180247,0.9392934932455436,0.6316536250729647,0.34957536830331437,0.9175379365295093,-0.4767602628939507,0.9767602628939507,0.5884637107760562,0.9996283741405456,0.4601459951753088,-0.4995052419990742,0.3869935833138415,-0.24389278442674323,-0.16046195314861966,-0.2818314824680298,-0.49994502285887843,0.8982212423543527,-0.011458291100446494,0.9802186335013165,0.28940654212700684,0.06989907466760037,0.882969471271259,0.9758526715383629,0.9288160288122086,0.23881837878194911,0.39116207972701134,-0.1445709093670563,-0.49998020811313126,0.7063649234566288,0.28136667448318675,0.9912844387741193,-0.07481649692771342,-0.2297147194635638,0.4538781577244755,0.9981511220323694,0.7921815765664372,-0.16673742492468346,0.48741718391223976,0.9776506702814953,0.5575304046588229,-0.27920945797759256,-0.33132394159766376,0.9912844387741193,0.6251280797653604,0.9995052419990742,0.28538911870487543,0.5186487447573893,0.006674194145858681,-0.4990303510880778,0.685280576581144,0.3164930151490535,0.3828270750022831,0.6913657560175192,0.8708772971238525,0.42457281566856775,-0.08166056986194481,-0.49235467447126346,-0.0006052847755593227,-0.43784608046622875,0.2490148818357663,-0.2921815765664372,0.8603788387521417,0.3685924866456918,-0.448961298385659,-0.015058048590833373,0.10883792027298868,0.4601459951753087,-0.44763007779416186,0.062341080336053345,0.44131238331487777,-0.48765551157425646,0.9793798707959355,-0.49883689857185753,0.24286945870773713,0.6791471732839776,0.95536651964529,-0.2604740622610796,0.1628523653251852,-0.3926194364677378,-0.49920622784258917,0.06989907466760026,-0.05054688104015037,0.9462821857167412,-0.11194547884157535,0.3646901950232439,0.605289350897845,0.9785238780362194,0.61855854358668,0.2692699251163489,0.1392185125283677,0.9378460804662287,0.5985906281536875,0.26926992511634895,-0.3625089525047386,-0.2921815765664372,-0.43036204563381575,0.9647398069008489,-0.4996283741405456,0.23680871504869747,0.17864328149411146,0.11717292499771702,-0.3603788387521417,0.9863067462178655,0.8097559725895432,-0.44213871916515557,0.07748733561964993,-0.3945024528679988,0.32928912857549186,0.7297147194635638,0.9907231569077914,0.946282185716741,-0.46583530177534394,-0.2577436815948354,0.6667374249246835,0.3041384029897938,-0.37496968885869086,-0.007849535616116343,-0.4969909344578821,0.7739243298901578,0.4712811354235584,0.11973982001349603,0.8313239415976638,0.3661823882331098,0.4832232562340235,0.2408816989598017,0.8427962187011642,0.4958056295834379,0.8122099669056323,-0.28961484490892275,0.4203910571913707,0.9749279121818236,0.9303620456338156,0.8945024528679989,-0.43784608046622875,-0.022230316429640684,-0.4955501149329835,0.10427687028223809,-0.21521572228971142,0.9848885734962983,0.8646238922920955,-0.13489975752549987,0.2853891187048753,0.697402283373107,0.18350698485094674,0.948961298385659,0.8170750454238794,-0.38099273927191346,0.407854479186074,0.24901488183576626,0.06611626088244171,0.7972731848456008,-0.27920945797759233,0.9818444100276515,0.9541190019020046,0.44893799838821363,-0.19136575601751915,0.9993645257412235,0.9988368985718575,0.1945753843851803,0.34128744464282523,0.9998922457512606,0.6943901278357748,-0.48560632965473616,-0.08166056986194492,0.7122779696892628,0.5329196551903669,0.003030083133861994,0.5006052847755593,0.4162106992600205,0.6822198760184942,-0.4938290690180247,0.1667533212133433,0.1588558785594174,0.0,0.43294023996144926,-0.48698981086338355,0.7093276861102988,0.37248829368665914,0.24692506228500077,-0.49994502285887843,0.012582816087760226,0.8769928128806357,0.2611816212180509,0.3607814874716323,0.8868762989965188,0.23073007488365116,0.47902962370604996,-0.4036808297026738,0.8769928128806357,0.9834010932077487,0.9933550772046368,0.5505468810401504,-0.4288160288122086,0.3014279812670704,0.9826313952466107,-0.2685847399947817,-0.4089973340769745,-0.4998218777187756,-0.41073755983711113,-0.2712613192734702,0.9191977495680501,-0.2297147194635638,-0.45157363172489295,-0.30975597258954324,-0.15096173935168222,0.3247456860358723,0.04612184227552469,0.595225440926403,0.9983972801769396,0.6883292211255713,-0.41586198141068675,0.41621069926002063,0.8582335885090139,-0.1573067605254772,-0.4334049492885904,0.14313356724395265,0.8749696888586909,0.5150580485908336,0.9998218777187756,0.06287424142946041,-0.276573724994976,-0.06100748434170278,-0.20338973385160497,0.11586387748401994,0.7522429759860901,-0.3072877323819243,0.8625089525047385,0.033548765231918146,-0.025802700597640005,-0.4928636094736152,0.9541190019020046,0.3578738774914638,-0.09859062815368747,-0.2818314824680299,-0.08506728681089926,0.2449504450823984,-0.46583530177534394,0.8072877323819243,-0.29979797189149915,-0.4502758240713076,0.13797308080553985,0.7093276861102986,-0.4334049492885904,0.9947245918440849,0.9776506702814953,0.8359570130718987,0.0754271843314323,-0.029365834413073166,0.9272536714968658,-0.4995052419990742,-0.48184441002765155,-0.3729311716520074,-0.3218826255763577,0.9993645257412235,0.01032698415023936,0.7896148449089228,0.3661823882331098,0.8749696888586909,-0.12184878171303903,0.12133737190703014,-0.21227796968926282,0.22669299320722036,0.9107375598371111,0.8495019814316745,0.46386589106741155,0.7354248096983286,-0.4018768231381238,0.9876555115742565,-0.04352461490190618,-0.41416991369636,0.4712811354235582,0.10466750909381646,-0.45285469851431803,-0.3072877323819243,0.2813666744831868,0.5435246149019062,0.8963697324471086,0.638134720300522,0.08796818458119615,0.37637754760791203,0.4860116111158751,0.7896148449089228,-0.46135156589546233,0.9883038366389311,0.05031134342701794,-0.4421387191651557,0.6381347203005219,-0.4983972801769396,0.9349017825885001,0.9856063296547362,-0.382969471271259,0.91416991369636,-0.4912844387741193,0.1746742147602267,0.6445709093670563,0.6052893508978449,0.9947245918440849,-0.2844397523374814,0.746689334307369,0.9489612983856591,-0.23542480969832869,0.9966570243289684,-0.09522544092640306,0.9739860010934586,0.12362245239208813,0.543524614901906,0.34114412144058265,0.15098244254917004,0.42875590112268425,0.19058412331789065,0.006674194145858792,0.21863332551681314,-0.382969471271259,-0.16360552638312842,0.9969909344578821,0.9955501149329835,0.9435364822499038,0.1793822273272064,0.6119454788415754,0.05106200161178642,0.1746742147602267,0.9658353017753439,0.3724882936866592,-0.21814089222829047,-0.15414000402243833,0.5985906281536875,0.13140751335430823,0.4933258058541413,-0.4955501149329835,-0.4966570243289684,-0.3023086882351872,-0.4124617631547728,-0.22684039256516064,0.819486044035584,0.9730269548441403,0.003030083133862105,0.028718864576441794,0.028718864576441572,0.5150580485908334,0.3953324909061835,0.2327315650043604,0.15491612505494734,0.10813233460856764,0.7152157222897113,0.4749763534325389,0.3134016942513997,0.9018768231381238,-0.4349017825885,0.08892530827766554,-0.48765551157425646,0.3450838749450527,0.8868762989965187,0.9767602628939507,-0.18528057658114416,-0.49072315690779145,-0.022230316429640573,0.7577436815948352,0.31237148603077025,0.8405312574379338,0.4034131050063609,-0.49815112203236944,0.8538978297808061,-0.3688081014076726,0.6477720224278491,0.9818444100276515,0.16698931026075342,0.6218487817130389,0.10466750909381628,0.27330700679277964,0.15871255535717466,0.7685847399947817,0.8517073975739513,0.9992062278425892,0.5748164969277135,0.7004021696372041,0.10813233460856764,-0.4928636094736152,-0.10194528448345697,0.4371257585705396,0.25713054129226287,0.9407243812029709,0.7438927844267433,0.9720507903061975,0.6477720224278489,0.45806847028926434,0.4916113329576818,-0.4933550772046368,-0.3963697324471086,-0.4993645257412235,0.32135671850588854,0.3213567185058887,0.4622595205479315,0.10427687028223809,0.054813884488422504,0.41107469172233424,-0.42246883288561254,-0.47205079030619745,0.2591183010401982,-0.379000508125384,0.9959366082294435,0.8218826255763577,-0.018648744757389313,0.40785447918607376,0.9502758240713076,0.30542461561481965,0.9990303510880778,0.7438927844267432,-0.28703422169912396,0.44968865657298207,-0.4996283741405456,0.3568664327560473,0.6541400040224382,-0.3382515088591095,0.25098511816423374,0.5,0.12549968414973106,-0.39822124235435274,0.14705490024665635,0.9089973340769745,-0.057530404658822976,0.9658353017753439,0.07368945514116398,0.9272536714968658,0.8982212423543527,0.19174674217273274,0.15098244254917015,-0.47398600109345856,-0.2658946391426712,-0.499997800895011],\"yaxis\":\"y\",\"type\":\"scattergl\"}],                        {\"template\":{\"data\":{\"histogram2dcontour\":[{\"type\":\"histogram2dcontour\",\"colorbar\":{\"outlinewidth\":0,\"ticks\":\"\"},\"colorscale\":[[0.0,\"#0d0887\"],[0.1111111111111111,\"#46039f\"],[0.2222222222222222,\"#7201a8\"],[0.3333333333333333,\"#9c179e\"],[0.4444444444444444,\"#bd3786\"],[0.5555555555555556,\"#d8576b\"],[0.6666666666666666,\"#ed7953\"],[0.7777777777777778,\"#fb9f3a\"],[0.8888888888888888,\"#fdca26\"],[1.0,\"#f0f921\"]]}],\"choropleth\":[{\"type\":\"choropleth\",\"colorbar\":{\"outlinewidth\":0,\"ticks\":\"\"}}],\"histogram2d\":[{\"type\":\"histogram2d\",\"colorbar\":{\"outlinewidth\":0,\"ticks\":\"\"},\"colorscale\":[[0.0,\"#0d0887\"],[0.1111111111111111,\"#46039f\"],[0.2222222222222222,\"#7201a8\"],[0.3333333333333333,\"#9c179e\"],[0.4444444444444444,\"#bd3786\"],[0.5555555555555556,\"#d8576b\"],[0.6666666666666666,\"#ed7953\"],[0.7777777777777778,\"#fb9f3a\"],[0.8888888888888888,\"#fdca26\"],[1.0,\"#f0f921\"]]}],\"heatmap\":[{\"type\":\"heatmap\",\"colorbar\":{\"outlinewidth\":0,\"ticks\":\"\"},\"colorscale\":[[0.0,\"#0d0887\"],[0.1111111111111111,\"#46039f\"],[0.2222222222222222,\"#7201a8\"],[0.3333333333333333,\"#9c179e\"],[0.4444444444444444,\"#bd3786\"],[0.5555555555555556,\"#d8576b\"],[0.6666666666666666,\"#ed7953\"],[0.7777777777777778,\"#fb9f3a\"],[0.8888888888888888,\"#fdca26\"],[1.0,\"#f0f921\"]]}],\"heatmapgl\":[{\"type\":\"heatmapgl\",\"colorbar\":{\"outlinewidth\":0,\"ticks\":\"\"},\"colorscale\":[[0.0,\"#0d0887\"],[0.1111111111111111,\"#46039f\"],[0.2222222222222222,\"#7201a8\"],[0.3333333333333333,\"#9c179e\"],[0.4444444444444444,\"#bd3786\"],[0.5555555555555556,\"#d8576b\"],[0.6666666666666666,\"#ed7953\"],[0.7777777777777778,\"#fb9f3a\"],[0.8888888888888888,\"#fdca26\"],[1.0,\"#f0f921\"]]}],\"contourcarpet\":[{\"type\":\"contourcarpet\",\"colorbar\":{\"outlinewidth\":0,\"ticks\":\"\"}}],\"contour\":[{\"type\":\"contour\",\"colorbar\":{\"outlinewidth\":0,\"ticks\":\"\"},\"colorscale\":[[0.0,\"#0d0887\"],[0.1111111111111111,\"#46039f\"],[0.2222222222222222,\"#7201a8\"],[0.3333333333333333,\"#9c179e\"],[0.4444444444444444,\"#bd3786\"],[0.5555555555555556,\"#d8576b\"],[0.6666666666666666,\"#ed7953\"],[0.7777777777777778,\"#fb9f3a\"],[0.8888888888888888,\"#fdca26\"],[1.0,\"#f0f921\"]]}],\"surface\":[{\"type\":\"surface\",\"colorbar\":{\"outlinewidth\":0,\"ticks\":\"\"},\"colorscale\":[[0.0,\"#0d0887\"],[0.1111111111111111,\"#46039f\"],[0.2222222222222222,\"#7201a8\"],[0.3333333333333333,\"#9c179e\"],[0.4444444444444444,\"#bd3786\"],[0.5555555555555556,\"#d8576b\"],[0.6666666666666666,\"#ed7953\"],[0.7777777777777778,\"#fb9f3a\"],[0.8888888888888888,\"#fdca26\"],[1.0,\"#f0f921\"]]}],\"mesh3d\":[{\"type\":\"mesh3d\",\"colorbar\":{\"outlinewidth\":0,\"ticks\":\"\"}}],\"scatter\":[{\"fillpattern\":{\"fillmode\":\"overlay\",\"size\":10,\"solidity\":0.2},\"type\":\"scatter\"}],\"parcoords\":[{\"type\":\"parcoords\",\"line\":{\"colorbar\":{\"outlinewidth\":0,\"ticks\":\"\"}}}],\"scatterpolargl\":[{\"type\":\"scatterpolargl\",\"marker\":{\"colorbar\":{\"outlinewidth\":0,\"ticks\":\"\"}}}],\"bar\":[{\"error_x\":{\"color\":\"#2a3f5f\"},\"error_y\":{\"color\":\"#2a3f5f\"},\"marker\":{\"line\":{\"color\":\"#E5ECF6\",\"width\":0.5},\"pattern\":{\"fillmode\":\"overlay\",\"size\":10,\"solidity\":0.2}},\"type\":\"bar\"}],\"scattergeo\":[{\"type\":\"scattergeo\",\"marker\":{\"colorbar\":{\"outlinewidth\":0,\"ticks\":\"\"}}}],\"scatterpolar\":[{\"type\":\"scatterpolar\",\"marker\":{\"colorbar\":{\"outlinewidth\":0,\"ticks\":\"\"}}}],\"histogram\":[{\"marker\":{\"pattern\":{\"fillmode\":\"overlay\",\"size\":10,\"solidity\":0.2}},\"type\":\"histogram\"}],\"scattergl\":[{\"type\":\"scattergl\",\"marker\":{\"colorbar\":{\"outlinewidth\":0,\"ticks\":\"\"}}}],\"scatter3d\":[{\"type\":\"scatter3d\",\"line\":{\"colorbar\":{\"outlinewidth\":0,\"ticks\":\"\"}},\"marker\":{\"colorbar\":{\"outlinewidth\":0,\"ticks\":\"\"}}}],\"scattermapbox\":[{\"type\":\"scattermapbox\",\"marker\":{\"colorbar\":{\"outlinewidth\":0,\"ticks\":\"\"}}}],\"scatterternary\":[{\"type\":\"scatterternary\",\"marker\":{\"colorbar\":{\"outlinewidth\":0,\"ticks\":\"\"}}}],\"scattercarpet\":[{\"type\":\"scattercarpet\",\"marker\":{\"colorbar\":{\"outlinewidth\":0,\"ticks\":\"\"}}}],\"carpet\":[{\"aaxis\":{\"endlinecolor\":\"#2a3f5f\",\"gridcolor\":\"white\",\"linecolor\":\"white\",\"minorgridcolor\":\"white\",\"startlinecolor\":\"#2a3f5f\"},\"baxis\":{\"endlinecolor\":\"#2a3f5f\",\"gridcolor\":\"white\",\"linecolor\":\"white\",\"minorgridcolor\":\"white\",\"startlinecolor\":\"#2a3f5f\"},\"type\":\"carpet\"}],\"table\":[{\"cells\":{\"fill\":{\"color\":\"#EBF0F8\"},\"line\":{\"color\":\"white\"}},\"header\":{\"fill\":{\"color\":\"#C8D4E3\"},\"line\":{\"color\":\"white\"}},\"type\":\"table\"}],\"barpolar\":[{\"marker\":{\"line\":{\"color\":\"#E5ECF6\",\"width\":0.5},\"pattern\":{\"fillmode\":\"overlay\",\"size\":10,\"solidity\":0.2}},\"type\":\"barpolar\"}],\"pie\":[{\"automargin\":true,\"type\":\"pie\"}]},\"layout\":{\"autotypenumbers\":\"strict\",\"colorway\":[\"#636efa\",\"#EF553B\",\"#00cc96\",\"#ab63fa\",\"#FFA15A\",\"#19d3f3\",\"#FF6692\",\"#B6E880\",\"#FF97FF\",\"#FECB52\"],\"font\":{\"color\":\"#2a3f5f\"},\"hovermode\":\"closest\",\"hoverlabel\":{\"align\":\"left\"},\"paper_bgcolor\":\"white\",\"plot_bgcolor\":\"#E5ECF6\",\"polar\":{\"bgcolor\":\"#E5ECF6\",\"angularaxis\":{\"gridcolor\":\"white\",\"linecolor\":\"white\",\"ticks\":\"\"},\"radialaxis\":{\"gridcolor\":\"white\",\"linecolor\":\"white\",\"ticks\":\"\"}},\"ternary\":{\"bgcolor\":\"#E5ECF6\",\"aaxis\":{\"gridcolor\":\"white\",\"linecolor\":\"white\",\"ticks\":\"\"},\"baxis\":{\"gridcolor\":\"white\",\"linecolor\":\"white\",\"ticks\":\"\"},\"caxis\":{\"gridcolor\":\"white\",\"linecolor\":\"white\",\"ticks\":\"\"}},\"coloraxis\":{\"colorbar\":{\"outlinewidth\":0,\"ticks\":\"\"}},\"colorscale\":{\"sequential\":[[0.0,\"#0d0887\"],[0.1111111111111111,\"#46039f\"],[0.2222222222222222,\"#7201a8\"],[0.3333333333333333,\"#9c179e\"],[0.4444444444444444,\"#bd3786\"],[0.5555555555555556,\"#d8576b\"],[0.6666666666666666,\"#ed7953\"],[0.7777777777777778,\"#fb9f3a\"],[0.8888888888888888,\"#fdca26\"],[1.0,\"#f0f921\"]],\"sequentialminus\":[[0.0,\"#0d0887\"],[0.1111111111111111,\"#46039f\"],[0.2222222222222222,\"#7201a8\"],[0.3333333333333333,\"#9c179e\"],[0.4444444444444444,\"#bd3786\"],[0.5555555555555556,\"#d8576b\"],[0.6666666666666666,\"#ed7953\"],[0.7777777777777778,\"#fb9f3a\"],[0.8888888888888888,\"#fdca26\"],[1.0,\"#f0f921\"]],\"diverging\":[[0,\"#8e0152\"],[0.1,\"#c51b7d\"],[0.2,\"#de77ae\"],[0.3,\"#f1b6da\"],[0.4,\"#fde0ef\"],[0.5,\"#f7f7f7\"],[0.6,\"#e6f5d0\"],[0.7,\"#b8e186\"],[0.8,\"#7fbc41\"],[0.9,\"#4d9221\"],[1,\"#276419\"]]},\"xaxis\":{\"gridcolor\":\"white\",\"linecolor\":\"white\",\"ticks\":\"\",\"title\":{\"standoff\":15},\"zerolinecolor\":\"white\",\"automargin\":true,\"zerolinewidth\":2},\"yaxis\":{\"gridcolor\":\"white\",\"linecolor\":\"white\",\"ticks\":\"\",\"title\":{\"standoff\":15},\"zerolinecolor\":\"white\",\"automargin\":true,\"zerolinewidth\":2},\"scene\":{\"xaxis\":{\"backgroundcolor\":\"#E5ECF6\",\"gridcolor\":\"white\",\"linecolor\":\"white\",\"showbackground\":true,\"ticks\":\"\",\"zerolinecolor\":\"white\",\"gridwidth\":2},\"yaxis\":{\"backgroundcolor\":\"#E5ECF6\",\"gridcolor\":\"white\",\"linecolor\":\"white\",\"showbackground\":true,\"ticks\":\"\",\"zerolinecolor\":\"white\",\"gridwidth\":2},\"zaxis\":{\"backgroundcolor\":\"#E5ECF6\",\"gridcolor\":\"white\",\"linecolor\":\"white\",\"showbackground\":true,\"ticks\":\"\",\"zerolinecolor\":\"white\",\"gridwidth\":2}},\"shapedefaults\":{\"line\":{\"color\":\"#2a3f5f\"}},\"annotationdefaults\":{\"arrowcolor\":\"#2a3f5f\",\"arrowhead\":0,\"arrowwidth\":1},\"geo\":{\"bgcolor\":\"white\",\"landcolor\":\"#E5ECF6\",\"subunitcolor\":\"white\",\"showland\":true,\"showlakes\":true,\"lakecolor\":\"white\"},\"title\":{\"x\":0.05},\"mapbox\":{\"style\":\"light\"}}},\"xaxis\":{\"anchor\":\"y\",\"domain\":[0.0,1.0],\"title\":{\"text\":\"x\"}},\"yaxis\":{\"anchor\":\"x\",\"domain\":[0.0,1.0],\"title\":{\"text\":\"y\"}},\"coloraxis\":{\"colorbar\":{\"title\":{\"text\":\"color\"}},\"colorscale\":[[0.0,\"#0d0887\"],[0.1111111111111111,\"#46039f\"],[0.2222222222222222,\"#7201a8\"],[0.3333333333333333,\"#9c179e\"],[0.4444444444444444,\"#bd3786\"],[0.5555555555555556,\"#d8576b\"],[0.6666666666666666,\"#ed7953\"],[0.7777777777777778,\"#fb9f3a\"],[0.8888888888888888,\"#fdca26\"],[1.0,\"#f0f921\"]]},\"legend\":{\"tracegroupgap\":0},\"margin\":{\"t\":60}},                        {\"responsive\": true}                    ).then(function(){\n",
              "                            \n",
              "var gd = document.getElementById('0e9610e5-5e6f-4722-b7b7-2dbf435444ad');\n",
              "var x = new MutationObserver(function (mutations, observer) {{\n",
              "        var display = window.getComputedStyle(gd).display;\n",
              "        if (!display || display === 'none') {{\n",
              "            console.log([gd, 'removed!']);\n",
              "            Plotly.purge(gd);\n",
              "            observer.disconnect();\n",
              "        }}\n",
              "}});\n",
              "\n",
              "// Listen for the removal of the full notebook cells\n",
              "var notebookContainer = gd.closest('#notebook-container');\n",
              "if (notebookContainer) {{\n",
              "    x.observe(notebookContainer, {childList: true});\n",
              "}}\n",
              "\n",
              "// Listen for the clearing of the current output cell\n",
              "var outputEl = gd.closest('.output');\n",
              "if (outputEl) {{\n",
              "    x.observe(outputEl, {childList: true});\n",
              "}}\n",
              "\n",
              "                        })                };                            </script>        </div>\n",
              "</body>\n",
              "</html>"
            ]
          },
          "metadata": {}
        }
      ]
    },
    {
      "cell_type": "code",
      "source": [],
      "metadata": {
        "id": "94TvfPdCu9y5"
      },
      "execution_count": null,
      "outputs": []
    }
  ]
}