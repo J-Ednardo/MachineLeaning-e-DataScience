{
  "nbformat": 4,
  "nbformat_minor": 0,
  "metadata": {
    "colab": {
      "provenance": []
    },
    "kernelspec": {
      "name": "python3",
      "display_name": "Python 3"
    },
    "language_info": {
      "name": "python"
    }
  },
  "cells": [
    {
      "cell_type": "markdown",
      "source": [
        "#Classificação de textos com spaCy"
      ],
      "metadata": {
        "id": "tI8CLjjwAXsG"
      }
    },
    {
      "cell_type": "markdown",
      "source": [
        "##Etapa 1: Importação e instalação das bibliotecas"
      ],
      "metadata": {
        "id": "ADWs6I0jAaee"
      }
    },
    {
      "cell_type": "code",
      "execution_count": 7,
      "metadata": {
        "colab": {
          "base_uri": "https://localhost:8080/"
        },
        "id": "gjO4HGHqASX7",
        "outputId": "d62a2ef6-3fc7-4491-b940-57ff71496a7c"
      },
      "outputs": [
        {
          "output_type": "stream",
          "name": "stdout",
          "text": [
            "Requirement already satisfied: seaborn in /usr/local/lib/python3.10/dist-packages (0.13.1)\n",
            "Requirement already satisfied: numpy!=1.24.0,>=1.20 in /usr/local/lib/python3.10/dist-packages (from seaborn) (1.25.2)\n",
            "Requirement already satisfied: pandas>=1.2 in /usr/local/lib/python3.10/dist-packages (from seaborn) (1.5.3)\n",
            "Requirement already satisfied: matplotlib!=3.6.1,>=3.4 in /usr/local/lib/python3.10/dist-packages (from seaborn) (3.7.1)\n",
            "Requirement already satisfied: contourpy>=1.0.1 in /usr/local/lib/python3.10/dist-packages (from matplotlib!=3.6.1,>=3.4->seaborn) (1.2.0)\n",
            "Requirement already satisfied: cycler>=0.10 in /usr/local/lib/python3.10/dist-packages (from matplotlib!=3.6.1,>=3.4->seaborn) (0.12.1)\n",
            "Requirement already satisfied: fonttools>=4.22.0 in /usr/local/lib/python3.10/dist-packages (from matplotlib!=3.6.1,>=3.4->seaborn) (4.49.0)\n",
            "Requirement already satisfied: kiwisolver>=1.0.1 in /usr/local/lib/python3.10/dist-packages (from matplotlib!=3.6.1,>=3.4->seaborn) (1.4.5)\n",
            "Requirement already satisfied: packaging>=20.0 in /usr/local/lib/python3.10/dist-packages (from matplotlib!=3.6.1,>=3.4->seaborn) (23.2)\n",
            "Requirement already satisfied: pillow>=6.2.0 in /usr/local/lib/python3.10/dist-packages (from matplotlib!=3.6.1,>=3.4->seaborn) (9.4.0)\n",
            "Requirement already satisfied: pyparsing>=2.3.1 in /usr/local/lib/python3.10/dist-packages (from matplotlib!=3.6.1,>=3.4->seaborn) (3.1.1)\n",
            "Requirement already satisfied: python-dateutil>=2.7 in /usr/local/lib/python3.10/dist-packages (from matplotlib!=3.6.1,>=3.4->seaborn) (2.8.2)\n",
            "Requirement already satisfied: pytz>=2020.1 in /usr/local/lib/python3.10/dist-packages (from pandas>=1.2->seaborn) (2023.4)\n",
            "Requirement already satisfied: six>=1.5 in /usr/local/lib/python3.10/dist-packages (from python-dateutil>=2.7->matplotlib!=3.6.1,>=3.4->seaborn) (1.16.0)\n"
          ]
        }
      ],
      "source": [
        "!pip install seaborn"
      ]
    },
    {
      "cell_type": "code",
      "source": [
        "import spacy\n",
        "spacy.__version__"
      ],
      "metadata": {
        "colab": {
          "base_uri": "https://localhost:8080/",
          "height": 35
        },
        "id": "r-P1DBZSAiGH",
        "outputId": "e6f57c49-3fe2-41d4-966c-601603534d4d"
      },
      "execution_count": 8,
      "outputs": [
        {
          "output_type": "execute_result",
          "data": {
            "text/plain": [
              "'3.7.4'"
            ],
            "application/vnd.google.colaboratory.intrinsic+json": {
              "type": "string"
            }
          },
          "metadata": {},
          "execution_count": 8
        }
      ]
    },
    {
      "cell_type": "code",
      "source": [
        "# Temporário por problemas no Colab\n",
        "import locale\n",
        "def getpreferredencoding(do_setlocale = True):\n",
        "    return \"UTF-8\"\n",
        "locale.getpreferredencoding = getpreferredencoding"
      ],
      "metadata": {
        "id": "wJjaA_A8JobF"
      },
      "execution_count": 9,
      "outputs": []
    },
    {
      "cell_type": "code",
      "source": [
        "!python -m spacy download pt"
      ],
      "metadata": {
        "colab": {
          "base_uri": "https://localhost:8080/"
        },
        "id": "m5qqYm4aJqer",
        "outputId": "ead6d572-3b68-4b28-9afa-ca7288ef2167"
      },
      "execution_count": 10,
      "outputs": [
        {
          "output_type": "stream",
          "name": "stdout",
          "text": [
            "\u001b[38;5;3m⚠ As of spaCy v3.0, shortcuts like 'pt' are deprecated. Please use the\n",
            "full pipeline package name 'pt_core_news_sm' instead.\u001b[0m\n",
            "Collecting pt-core-news-sm==3.7.0\n",
            "  Using cached https://github.com/explosion/spacy-models/releases/download/pt_core_news_sm-3.7.0/pt_core_news_sm-3.7.0-py3-none-any.whl (13.0 MB)\n",
            "Requirement already satisfied: spacy<3.8.0,>=3.7.0 in /usr/local/lib/python3.10/dist-packages (from pt-core-news-sm==3.7.0) (3.7.4)\n",
            "Requirement already satisfied: spacy-legacy<3.1.0,>=3.0.11 in /usr/local/lib/python3.10/dist-packages (from spacy<3.8.0,>=3.7.0->pt-core-news-sm==3.7.0) (3.0.12)\n",
            "Requirement already satisfied: spacy-loggers<2.0.0,>=1.0.0 in /usr/local/lib/python3.10/dist-packages (from spacy<3.8.0,>=3.7.0->pt-core-news-sm==3.7.0) (1.0.5)\n",
            "Requirement already satisfied: murmurhash<1.1.0,>=0.28.0 in /usr/local/lib/python3.10/dist-packages (from spacy<3.8.0,>=3.7.0->pt-core-news-sm==3.7.0) (1.0.10)\n",
            "Requirement already satisfied: cymem<2.1.0,>=2.0.2 in /usr/local/lib/python3.10/dist-packages (from spacy<3.8.0,>=3.7.0->pt-core-news-sm==3.7.0) (2.0.8)\n",
            "Requirement already satisfied: preshed<3.1.0,>=3.0.2 in /usr/local/lib/python3.10/dist-packages (from spacy<3.8.0,>=3.7.0->pt-core-news-sm==3.7.0) (3.0.9)\n",
            "Requirement already satisfied: thinc<8.3.0,>=8.2.2 in /usr/local/lib/python3.10/dist-packages (from spacy<3.8.0,>=3.7.0->pt-core-news-sm==3.7.0) (8.2.3)\n",
            "Requirement already satisfied: wasabi<1.2.0,>=0.9.1 in /usr/local/lib/python3.10/dist-packages (from spacy<3.8.0,>=3.7.0->pt-core-news-sm==3.7.0) (1.1.2)\n",
            "Requirement already satisfied: srsly<3.0.0,>=2.4.3 in /usr/local/lib/python3.10/dist-packages (from spacy<3.8.0,>=3.7.0->pt-core-news-sm==3.7.0) (2.4.8)\n",
            "Requirement already satisfied: catalogue<2.1.0,>=2.0.6 in /usr/local/lib/python3.10/dist-packages (from spacy<3.8.0,>=3.7.0->pt-core-news-sm==3.7.0) (2.0.10)\n",
            "Requirement already satisfied: weasel<0.4.0,>=0.1.0 in /usr/local/lib/python3.10/dist-packages (from spacy<3.8.0,>=3.7.0->pt-core-news-sm==3.7.0) (0.3.4)\n",
            "Requirement already satisfied: typer<0.10.0,>=0.3.0 in /usr/local/lib/python3.10/dist-packages (from spacy<3.8.0,>=3.7.0->pt-core-news-sm==3.7.0) (0.9.0)\n",
            "Requirement already satisfied: smart-open<7.0.0,>=5.2.1 in /usr/local/lib/python3.10/dist-packages (from spacy<3.8.0,>=3.7.0->pt-core-news-sm==3.7.0) (6.4.0)\n",
            "Requirement already satisfied: tqdm<5.0.0,>=4.38.0 in /usr/local/lib/python3.10/dist-packages (from spacy<3.8.0,>=3.7.0->pt-core-news-sm==3.7.0) (4.66.2)\n",
            "Requirement already satisfied: requests<3.0.0,>=2.13.0 in /usr/local/lib/python3.10/dist-packages (from spacy<3.8.0,>=3.7.0->pt-core-news-sm==3.7.0) (2.31.0)\n",
            "Requirement already satisfied: pydantic!=1.8,!=1.8.1,<3.0.0,>=1.7.4 in /usr/local/lib/python3.10/dist-packages (from spacy<3.8.0,>=3.7.0->pt-core-news-sm==3.7.0) (2.6.3)\n",
            "Requirement already satisfied: jinja2 in /usr/local/lib/python3.10/dist-packages (from spacy<3.8.0,>=3.7.0->pt-core-news-sm==3.7.0) (3.1.3)\n",
            "Requirement already satisfied: setuptools in /usr/local/lib/python3.10/dist-packages (from spacy<3.8.0,>=3.7.0->pt-core-news-sm==3.7.0) (67.7.2)\n",
            "Requirement already satisfied: packaging>=20.0 in /usr/local/lib/python3.10/dist-packages (from spacy<3.8.0,>=3.7.0->pt-core-news-sm==3.7.0) (23.2)\n",
            "Requirement already satisfied: langcodes<4.0.0,>=3.2.0 in /usr/local/lib/python3.10/dist-packages (from spacy<3.8.0,>=3.7.0->pt-core-news-sm==3.7.0) (3.3.0)\n",
            "Requirement already satisfied: numpy>=1.19.0 in /usr/local/lib/python3.10/dist-packages (from spacy<3.8.0,>=3.7.0->pt-core-news-sm==3.7.0) (1.25.2)\n",
            "Requirement already satisfied: annotated-types>=0.4.0 in /usr/local/lib/python3.10/dist-packages (from pydantic!=1.8,!=1.8.1,<3.0.0,>=1.7.4->spacy<3.8.0,>=3.7.0->pt-core-news-sm==3.7.0) (0.6.0)\n",
            "Requirement already satisfied: pydantic-core==2.16.3 in /usr/local/lib/python3.10/dist-packages (from pydantic!=1.8,!=1.8.1,<3.0.0,>=1.7.4->spacy<3.8.0,>=3.7.0->pt-core-news-sm==3.7.0) (2.16.3)\n",
            "Requirement already satisfied: typing-extensions>=4.6.1 in /usr/local/lib/python3.10/dist-packages (from pydantic!=1.8,!=1.8.1,<3.0.0,>=1.7.4->spacy<3.8.0,>=3.7.0->pt-core-news-sm==3.7.0) (4.10.0)\n",
            "Requirement already satisfied: charset-normalizer<4,>=2 in /usr/local/lib/python3.10/dist-packages (from requests<3.0.0,>=2.13.0->spacy<3.8.0,>=3.7.0->pt-core-news-sm==3.7.0) (3.3.2)\n",
            "Requirement already satisfied: idna<4,>=2.5 in /usr/local/lib/python3.10/dist-packages (from requests<3.0.0,>=2.13.0->spacy<3.8.0,>=3.7.0->pt-core-news-sm==3.7.0) (3.6)\n",
            "Requirement already satisfied: urllib3<3,>=1.21.1 in /usr/local/lib/python3.10/dist-packages (from requests<3.0.0,>=2.13.0->spacy<3.8.0,>=3.7.0->pt-core-news-sm==3.7.0) (2.0.7)\n",
            "Requirement already satisfied: certifi>=2017.4.17 in /usr/local/lib/python3.10/dist-packages (from requests<3.0.0,>=2.13.0->spacy<3.8.0,>=3.7.0->pt-core-news-sm==3.7.0) (2024.2.2)\n",
            "Requirement already satisfied: blis<0.8.0,>=0.7.8 in /usr/local/lib/python3.10/dist-packages (from thinc<8.3.0,>=8.2.2->spacy<3.8.0,>=3.7.0->pt-core-news-sm==3.7.0) (0.7.11)\n",
            "Requirement already satisfied: confection<1.0.0,>=0.0.1 in /usr/local/lib/python3.10/dist-packages (from thinc<8.3.0,>=8.2.2->spacy<3.8.0,>=3.7.0->pt-core-news-sm==3.7.0) (0.1.4)\n",
            "Requirement already satisfied: click<9.0.0,>=7.1.1 in /usr/local/lib/python3.10/dist-packages (from typer<0.10.0,>=0.3.0->spacy<3.8.0,>=3.7.0->pt-core-news-sm==3.7.0) (8.1.7)\n",
            "Requirement already satisfied: cloudpathlib<0.17.0,>=0.7.0 in /usr/local/lib/python3.10/dist-packages (from weasel<0.4.0,>=0.1.0->spacy<3.8.0,>=3.7.0->pt-core-news-sm==3.7.0) (0.16.0)\n",
            "Requirement already satisfied: MarkupSafe>=2.0 in /usr/local/lib/python3.10/dist-packages (from jinja2->spacy<3.8.0,>=3.7.0->pt-core-news-sm==3.7.0) (2.1.5)\n",
            "\u001b[38;5;2m✔ Download and installation successful\u001b[0m\n",
            "You can now load the package via spacy.load('pt_core_news_sm')\n",
            "\u001b[38;5;3m⚠ Restart to reload dependencies\u001b[0m\n",
            "If you are in a Jupyter or Colab notebook, you may need to restart Python in\n",
            "order to load all the package's dependencies. You can do this by selecting the\n",
            "'Restart kernel' or 'Restart runtime' option.\n"
          ]
        }
      ]
    },
    {
      "cell_type": "code",
      "source": [
        "import pandas as pd\n",
        "import string\n",
        "import spacy\n",
        "import random\n",
        "import seaborn as sns\n",
        "import numpy as np"
      ],
      "metadata": {
        "id": "q5F1YlZSAkoW"
      },
      "execution_count": 11,
      "outputs": []
    },
    {
      "cell_type": "markdown",
      "source": [
        "##Etapa 2: Carregamento da base de dados"
      ],
      "metadata": {
        "id": "61H_00GVAwYD"
      }
    },
    {
      "cell_type": "code",
      "source": [
        "base_dados = pd.read_csv('base_treinamento.txt', encoding= 'utf-8')"
      ],
      "metadata": {
        "id": "GaMRWV82ApRt"
      },
      "execution_count": 12,
      "outputs": []
    },
    {
      "cell_type": "code",
      "source": [
        "base_dados.shape\n"
      ],
      "metadata": {
        "colab": {
          "base_uri": "https://localhost:8080/"
        },
        "id": "y4GqInc1Ce_G",
        "outputId": "ecad6f96-d04d-41cc-a017-30322d198e5a"
      },
      "execution_count": 13,
      "outputs": [
        {
          "output_type": "execute_result",
          "data": {
            "text/plain": [
              "(196, 2)"
            ]
          },
          "metadata": {},
          "execution_count": 13
        }
      ]
    },
    {
      "cell_type": "code",
      "source": [
        "base_dados.head()"
      ],
      "metadata": {
        "colab": {
          "base_uri": "https://localhost:8080/",
          "height": 206
        },
        "id": "rM2BR3t-CgYw",
        "outputId": "b789583b-63fd-4486-fdf3-6ef08d1d36d6"
      },
      "execution_count": 14,
      "outputs": [
        {
          "output_type": "execute_result",
          "data": {
            "text/plain": [
              "                             texto   emocao\n",
              "0        este trabalho é agradável  alegria\n",
              "1  gosto de ficar no seu aconchego  alegria\n",
              "2       fiz a adesão ao curso hoje  alegria\n",
              "3       eu sou admirada por muitos  alegria\n",
              "4                  adoro como você  alegria"
            ],
            "text/html": [
              "\n",
              "  <div id=\"df-42dca730-fb01-4c3f-8c15-9cb3fa1ee9d6\" class=\"colab-df-container\">\n",
              "    <div>\n",
              "<style scoped>\n",
              "    .dataframe tbody tr th:only-of-type {\n",
              "        vertical-align: middle;\n",
              "    }\n",
              "\n",
              "    .dataframe tbody tr th {\n",
              "        vertical-align: top;\n",
              "    }\n",
              "\n",
              "    .dataframe thead th {\n",
              "        text-align: right;\n",
              "    }\n",
              "</style>\n",
              "<table border=\"1\" class=\"dataframe\">\n",
              "  <thead>\n",
              "    <tr style=\"text-align: right;\">\n",
              "      <th></th>\n",
              "      <th>texto</th>\n",
              "      <th>emocao</th>\n",
              "    </tr>\n",
              "  </thead>\n",
              "  <tbody>\n",
              "    <tr>\n",
              "      <th>0</th>\n",
              "      <td>este trabalho é agradável</td>\n",
              "      <td>alegria</td>\n",
              "    </tr>\n",
              "    <tr>\n",
              "      <th>1</th>\n",
              "      <td>gosto de ficar no seu aconchego</td>\n",
              "      <td>alegria</td>\n",
              "    </tr>\n",
              "    <tr>\n",
              "      <th>2</th>\n",
              "      <td>fiz a adesão ao curso hoje</td>\n",
              "      <td>alegria</td>\n",
              "    </tr>\n",
              "    <tr>\n",
              "      <th>3</th>\n",
              "      <td>eu sou admirada por muitos</td>\n",
              "      <td>alegria</td>\n",
              "    </tr>\n",
              "    <tr>\n",
              "      <th>4</th>\n",
              "      <td>adoro como você</td>\n",
              "      <td>alegria</td>\n",
              "    </tr>\n",
              "  </tbody>\n",
              "</table>\n",
              "</div>\n",
              "    <div class=\"colab-df-buttons\">\n",
              "\n",
              "  <div class=\"colab-df-container\">\n",
              "    <button class=\"colab-df-convert\" onclick=\"convertToInteractive('df-42dca730-fb01-4c3f-8c15-9cb3fa1ee9d6')\"\n",
              "            title=\"Convert this dataframe to an interactive table.\"\n",
              "            style=\"display:none;\">\n",
              "\n",
              "  <svg xmlns=\"http://www.w3.org/2000/svg\" height=\"24px\" viewBox=\"0 -960 960 960\">\n",
              "    <path d=\"M120-120v-720h720v720H120Zm60-500h600v-160H180v160Zm220 220h160v-160H400v160Zm0 220h160v-160H400v160ZM180-400h160v-160H180v160Zm440 0h160v-160H620v160ZM180-180h160v-160H180v160Zm440 0h160v-160H620v160Z\"/>\n",
              "  </svg>\n",
              "    </button>\n",
              "\n",
              "  <style>\n",
              "    .colab-df-container {\n",
              "      display:flex;\n",
              "      gap: 12px;\n",
              "    }\n",
              "\n",
              "    .colab-df-convert {\n",
              "      background-color: #E8F0FE;\n",
              "      border: none;\n",
              "      border-radius: 50%;\n",
              "      cursor: pointer;\n",
              "      display: none;\n",
              "      fill: #1967D2;\n",
              "      height: 32px;\n",
              "      padding: 0 0 0 0;\n",
              "      width: 32px;\n",
              "    }\n",
              "\n",
              "    .colab-df-convert:hover {\n",
              "      background-color: #E2EBFA;\n",
              "      box-shadow: 0px 1px 2px rgba(60, 64, 67, 0.3), 0px 1px 3px 1px rgba(60, 64, 67, 0.15);\n",
              "      fill: #174EA6;\n",
              "    }\n",
              "\n",
              "    .colab-df-buttons div {\n",
              "      margin-bottom: 4px;\n",
              "    }\n",
              "\n",
              "    [theme=dark] .colab-df-convert {\n",
              "      background-color: #3B4455;\n",
              "      fill: #D2E3FC;\n",
              "    }\n",
              "\n",
              "    [theme=dark] .colab-df-convert:hover {\n",
              "      background-color: #434B5C;\n",
              "      box-shadow: 0px 1px 3px 1px rgba(0, 0, 0, 0.15);\n",
              "      filter: drop-shadow(0px 1px 2px rgba(0, 0, 0, 0.3));\n",
              "      fill: #FFFFFF;\n",
              "    }\n",
              "  </style>\n",
              "\n",
              "    <script>\n",
              "      const buttonEl =\n",
              "        document.querySelector('#df-42dca730-fb01-4c3f-8c15-9cb3fa1ee9d6 button.colab-df-convert');\n",
              "      buttonEl.style.display =\n",
              "        google.colab.kernel.accessAllowed ? 'block' : 'none';\n",
              "\n",
              "      async function convertToInteractive(key) {\n",
              "        const element = document.querySelector('#df-42dca730-fb01-4c3f-8c15-9cb3fa1ee9d6');\n",
              "        const dataTable =\n",
              "          await google.colab.kernel.invokeFunction('convertToInteractive',\n",
              "                                                    [key], {});\n",
              "        if (!dataTable) return;\n",
              "\n",
              "        const docLinkHtml = 'Like what you see? Visit the ' +\n",
              "          '<a target=\"_blank\" href=https://colab.research.google.com/notebooks/data_table.ipynb>data table notebook</a>'\n",
              "          + ' to learn more about interactive tables.';\n",
              "        element.innerHTML = '';\n",
              "        dataTable['output_type'] = 'display_data';\n",
              "        await google.colab.output.renderOutput(dataTable, element);\n",
              "        const docLink = document.createElement('div');\n",
              "        docLink.innerHTML = docLinkHtml;\n",
              "        element.appendChild(docLink);\n",
              "      }\n",
              "    </script>\n",
              "  </div>\n",
              "\n",
              "\n",
              "<div id=\"df-02891c19-ed81-4166-bcab-de2a3b946706\">\n",
              "  <button class=\"colab-df-quickchart\" onclick=\"quickchart('df-02891c19-ed81-4166-bcab-de2a3b946706')\"\n",
              "            title=\"Suggest charts\"\n",
              "            style=\"display:none;\">\n",
              "\n",
              "<svg xmlns=\"http://www.w3.org/2000/svg\" height=\"24px\"viewBox=\"0 0 24 24\"\n",
              "     width=\"24px\">\n",
              "    <g>\n",
              "        <path d=\"M19 3H5c-1.1 0-2 .9-2 2v14c0 1.1.9 2 2 2h14c1.1 0 2-.9 2-2V5c0-1.1-.9-2-2-2zM9 17H7v-7h2v7zm4 0h-2V7h2v10zm4 0h-2v-4h2v4z\"/>\n",
              "    </g>\n",
              "</svg>\n",
              "  </button>\n",
              "\n",
              "<style>\n",
              "  .colab-df-quickchart {\n",
              "      --bg-color: #E8F0FE;\n",
              "      --fill-color: #1967D2;\n",
              "      --hover-bg-color: #E2EBFA;\n",
              "      --hover-fill-color: #174EA6;\n",
              "      --disabled-fill-color: #AAA;\n",
              "      --disabled-bg-color: #DDD;\n",
              "  }\n",
              "\n",
              "  [theme=dark] .colab-df-quickchart {\n",
              "      --bg-color: #3B4455;\n",
              "      --fill-color: #D2E3FC;\n",
              "      --hover-bg-color: #434B5C;\n",
              "      --hover-fill-color: #FFFFFF;\n",
              "      --disabled-bg-color: #3B4455;\n",
              "      --disabled-fill-color: #666;\n",
              "  }\n",
              "\n",
              "  .colab-df-quickchart {\n",
              "    background-color: var(--bg-color);\n",
              "    border: none;\n",
              "    border-radius: 50%;\n",
              "    cursor: pointer;\n",
              "    display: none;\n",
              "    fill: var(--fill-color);\n",
              "    height: 32px;\n",
              "    padding: 0;\n",
              "    width: 32px;\n",
              "  }\n",
              "\n",
              "  .colab-df-quickchart:hover {\n",
              "    background-color: var(--hover-bg-color);\n",
              "    box-shadow: 0 1px 2px rgba(60, 64, 67, 0.3), 0 1px 3px 1px rgba(60, 64, 67, 0.15);\n",
              "    fill: var(--button-hover-fill-color);\n",
              "  }\n",
              "\n",
              "  .colab-df-quickchart-complete:disabled,\n",
              "  .colab-df-quickchart-complete:disabled:hover {\n",
              "    background-color: var(--disabled-bg-color);\n",
              "    fill: var(--disabled-fill-color);\n",
              "    box-shadow: none;\n",
              "  }\n",
              "\n",
              "  .colab-df-spinner {\n",
              "    border: 2px solid var(--fill-color);\n",
              "    border-color: transparent;\n",
              "    border-bottom-color: var(--fill-color);\n",
              "    animation:\n",
              "      spin 1s steps(1) infinite;\n",
              "  }\n",
              "\n",
              "  @keyframes spin {\n",
              "    0% {\n",
              "      border-color: transparent;\n",
              "      border-bottom-color: var(--fill-color);\n",
              "      border-left-color: var(--fill-color);\n",
              "    }\n",
              "    20% {\n",
              "      border-color: transparent;\n",
              "      border-left-color: var(--fill-color);\n",
              "      border-top-color: var(--fill-color);\n",
              "    }\n",
              "    30% {\n",
              "      border-color: transparent;\n",
              "      border-left-color: var(--fill-color);\n",
              "      border-top-color: var(--fill-color);\n",
              "      border-right-color: var(--fill-color);\n",
              "    }\n",
              "    40% {\n",
              "      border-color: transparent;\n",
              "      border-right-color: var(--fill-color);\n",
              "      border-top-color: var(--fill-color);\n",
              "    }\n",
              "    60% {\n",
              "      border-color: transparent;\n",
              "      border-right-color: var(--fill-color);\n",
              "    }\n",
              "    80% {\n",
              "      border-color: transparent;\n",
              "      border-right-color: var(--fill-color);\n",
              "      border-bottom-color: var(--fill-color);\n",
              "    }\n",
              "    90% {\n",
              "      border-color: transparent;\n",
              "      border-bottom-color: var(--fill-color);\n",
              "    }\n",
              "  }\n",
              "</style>\n",
              "\n",
              "  <script>\n",
              "    async function quickchart(key) {\n",
              "      const quickchartButtonEl =\n",
              "        document.querySelector('#' + key + ' button');\n",
              "      quickchartButtonEl.disabled = true;  // To prevent multiple clicks.\n",
              "      quickchartButtonEl.classList.add('colab-df-spinner');\n",
              "      try {\n",
              "        const charts = await google.colab.kernel.invokeFunction(\n",
              "            'suggestCharts', [key], {});\n",
              "      } catch (error) {\n",
              "        console.error('Error during call to suggestCharts:', error);\n",
              "      }\n",
              "      quickchartButtonEl.classList.remove('colab-df-spinner');\n",
              "      quickchartButtonEl.classList.add('colab-df-quickchart-complete');\n",
              "    }\n",
              "    (() => {\n",
              "      let quickchartButtonEl =\n",
              "        document.querySelector('#df-02891c19-ed81-4166-bcab-de2a3b946706 button');\n",
              "      quickchartButtonEl.style.display =\n",
              "        google.colab.kernel.accessAllowed ? 'block' : 'none';\n",
              "    })();\n",
              "  </script>\n",
              "</div>\n",
              "\n",
              "    </div>\n",
              "  </div>\n"
            ],
            "application/vnd.google.colaboratory.intrinsic+json": {
              "type": "dataframe",
              "variable_name": "base_dados",
              "summary": "{\n  \"name\": \"base_dados\",\n  \"rows\": 196,\n  \"fields\": [\n    {\n      \"column\": \"texto\",\n      \"properties\": {\n        \"dtype\": \"string\",\n        \"num_unique_values\": 196,\n        \"samples\": [\n          \"cuidado com as curvas na estrada\",\n          \"tem certeza que n\\u00e3o \\u00e9 perigoso?\",\n          \"estou me sentindo muito animada\"\n        ],\n        \"semantic_type\": \"\",\n        \"description\": \"\"\n      }\n    },\n    {\n      \"column\": \"emocao\",\n      \"properties\": {\n        \"dtype\": \"category\",\n        \"num_unique_values\": 2,\n        \"samples\": [\n          \"medo\",\n          \"alegria\"\n        ],\n        \"semantic_type\": \"\",\n        \"description\": \"\"\n      }\n    }\n  ]\n}"
            }
          },
          "metadata": {},
          "execution_count": 14
        }
      ]
    },
    {
      "cell_type": "code",
      "source": [
        "base_dados.tail()"
      ],
      "metadata": {
        "colab": {
          "base_uri": "https://localhost:8080/",
          "height": 206
        },
        "id": "dXFz1dFCCj2H",
        "outputId": "6552fd89-837b-4e54-82c0-47f1b573b2f5"
      },
      "execution_count": 15,
      "outputs": [
        {
          "output_type": "execute_result",
          "data": {
            "text/plain": [
              "                                                 texto emocao\n",
              "191  estou chocado e amedrontado com este assassina...   medo\n",
              "192  é preciso afugenta com ímpeto este medo do inf...   medo\n",
              "193  políticos usam suas forças para afugentar e am...   medo\n",
              "194       o objetivo disso e apenas me amedrontar mais   medo\n",
              "195                                    isso me apavora   medo"
            ],
            "text/html": [
              "\n",
              "  <div id=\"df-630d5812-1a1c-4dce-bfcb-88ca7c5e32b5\" class=\"colab-df-container\">\n",
              "    <div>\n",
              "<style scoped>\n",
              "    .dataframe tbody tr th:only-of-type {\n",
              "        vertical-align: middle;\n",
              "    }\n",
              "\n",
              "    .dataframe tbody tr th {\n",
              "        vertical-align: top;\n",
              "    }\n",
              "\n",
              "    .dataframe thead th {\n",
              "        text-align: right;\n",
              "    }\n",
              "</style>\n",
              "<table border=\"1\" class=\"dataframe\">\n",
              "  <thead>\n",
              "    <tr style=\"text-align: right;\">\n",
              "      <th></th>\n",
              "      <th>texto</th>\n",
              "      <th>emocao</th>\n",
              "    </tr>\n",
              "  </thead>\n",
              "  <tbody>\n",
              "    <tr>\n",
              "      <th>191</th>\n",
              "      <td>estou chocado e amedrontado com este assassina...</td>\n",
              "      <td>medo</td>\n",
              "    </tr>\n",
              "    <tr>\n",
              "      <th>192</th>\n",
              "      <td>é preciso afugenta com ímpeto este medo do inf...</td>\n",
              "      <td>medo</td>\n",
              "    </tr>\n",
              "    <tr>\n",
              "      <th>193</th>\n",
              "      <td>políticos usam suas forças para afugentar e am...</td>\n",
              "      <td>medo</td>\n",
              "    </tr>\n",
              "    <tr>\n",
              "      <th>194</th>\n",
              "      <td>o objetivo disso e apenas me amedrontar mais</td>\n",
              "      <td>medo</td>\n",
              "    </tr>\n",
              "    <tr>\n",
              "      <th>195</th>\n",
              "      <td>isso me apavora</td>\n",
              "      <td>medo</td>\n",
              "    </tr>\n",
              "  </tbody>\n",
              "</table>\n",
              "</div>\n",
              "    <div class=\"colab-df-buttons\">\n",
              "\n",
              "  <div class=\"colab-df-container\">\n",
              "    <button class=\"colab-df-convert\" onclick=\"convertToInteractive('df-630d5812-1a1c-4dce-bfcb-88ca7c5e32b5')\"\n",
              "            title=\"Convert this dataframe to an interactive table.\"\n",
              "            style=\"display:none;\">\n",
              "\n",
              "  <svg xmlns=\"http://www.w3.org/2000/svg\" height=\"24px\" viewBox=\"0 -960 960 960\">\n",
              "    <path d=\"M120-120v-720h720v720H120Zm60-500h600v-160H180v160Zm220 220h160v-160H400v160Zm0 220h160v-160H400v160ZM180-400h160v-160H180v160Zm440 0h160v-160H620v160ZM180-180h160v-160H180v160Zm440 0h160v-160H620v160Z\"/>\n",
              "  </svg>\n",
              "    </button>\n",
              "\n",
              "  <style>\n",
              "    .colab-df-container {\n",
              "      display:flex;\n",
              "      gap: 12px;\n",
              "    }\n",
              "\n",
              "    .colab-df-convert {\n",
              "      background-color: #E8F0FE;\n",
              "      border: none;\n",
              "      border-radius: 50%;\n",
              "      cursor: pointer;\n",
              "      display: none;\n",
              "      fill: #1967D2;\n",
              "      height: 32px;\n",
              "      padding: 0 0 0 0;\n",
              "      width: 32px;\n",
              "    }\n",
              "\n",
              "    .colab-df-convert:hover {\n",
              "      background-color: #E2EBFA;\n",
              "      box-shadow: 0px 1px 2px rgba(60, 64, 67, 0.3), 0px 1px 3px 1px rgba(60, 64, 67, 0.15);\n",
              "      fill: #174EA6;\n",
              "    }\n",
              "\n",
              "    .colab-df-buttons div {\n",
              "      margin-bottom: 4px;\n",
              "    }\n",
              "\n",
              "    [theme=dark] .colab-df-convert {\n",
              "      background-color: #3B4455;\n",
              "      fill: #D2E3FC;\n",
              "    }\n",
              "\n",
              "    [theme=dark] .colab-df-convert:hover {\n",
              "      background-color: #434B5C;\n",
              "      box-shadow: 0px 1px 3px 1px rgba(0, 0, 0, 0.15);\n",
              "      filter: drop-shadow(0px 1px 2px rgba(0, 0, 0, 0.3));\n",
              "      fill: #FFFFFF;\n",
              "    }\n",
              "  </style>\n",
              "\n",
              "    <script>\n",
              "      const buttonEl =\n",
              "        document.querySelector('#df-630d5812-1a1c-4dce-bfcb-88ca7c5e32b5 button.colab-df-convert');\n",
              "      buttonEl.style.display =\n",
              "        google.colab.kernel.accessAllowed ? 'block' : 'none';\n",
              "\n",
              "      async function convertToInteractive(key) {\n",
              "        const element = document.querySelector('#df-630d5812-1a1c-4dce-bfcb-88ca7c5e32b5');\n",
              "        const dataTable =\n",
              "          await google.colab.kernel.invokeFunction('convertToInteractive',\n",
              "                                                    [key], {});\n",
              "        if (!dataTable) return;\n",
              "\n",
              "        const docLinkHtml = 'Like what you see? Visit the ' +\n",
              "          '<a target=\"_blank\" href=https://colab.research.google.com/notebooks/data_table.ipynb>data table notebook</a>'\n",
              "          + ' to learn more about interactive tables.';\n",
              "        element.innerHTML = '';\n",
              "        dataTable['output_type'] = 'display_data';\n",
              "        await google.colab.output.renderOutput(dataTable, element);\n",
              "        const docLink = document.createElement('div');\n",
              "        docLink.innerHTML = docLinkHtml;\n",
              "        element.appendChild(docLink);\n",
              "      }\n",
              "    </script>\n",
              "  </div>\n",
              "\n",
              "\n",
              "<div id=\"df-32bff213-e0e6-4cc3-9e09-fef475f3aabf\">\n",
              "  <button class=\"colab-df-quickchart\" onclick=\"quickchart('df-32bff213-e0e6-4cc3-9e09-fef475f3aabf')\"\n",
              "            title=\"Suggest charts\"\n",
              "            style=\"display:none;\">\n",
              "\n",
              "<svg xmlns=\"http://www.w3.org/2000/svg\" height=\"24px\"viewBox=\"0 0 24 24\"\n",
              "     width=\"24px\">\n",
              "    <g>\n",
              "        <path d=\"M19 3H5c-1.1 0-2 .9-2 2v14c0 1.1.9 2 2 2h14c1.1 0 2-.9 2-2V5c0-1.1-.9-2-2-2zM9 17H7v-7h2v7zm4 0h-2V7h2v10zm4 0h-2v-4h2v4z\"/>\n",
              "    </g>\n",
              "</svg>\n",
              "  </button>\n",
              "\n",
              "<style>\n",
              "  .colab-df-quickchart {\n",
              "      --bg-color: #E8F0FE;\n",
              "      --fill-color: #1967D2;\n",
              "      --hover-bg-color: #E2EBFA;\n",
              "      --hover-fill-color: #174EA6;\n",
              "      --disabled-fill-color: #AAA;\n",
              "      --disabled-bg-color: #DDD;\n",
              "  }\n",
              "\n",
              "  [theme=dark] .colab-df-quickchart {\n",
              "      --bg-color: #3B4455;\n",
              "      --fill-color: #D2E3FC;\n",
              "      --hover-bg-color: #434B5C;\n",
              "      --hover-fill-color: #FFFFFF;\n",
              "      --disabled-bg-color: #3B4455;\n",
              "      --disabled-fill-color: #666;\n",
              "  }\n",
              "\n",
              "  .colab-df-quickchart {\n",
              "    background-color: var(--bg-color);\n",
              "    border: none;\n",
              "    border-radius: 50%;\n",
              "    cursor: pointer;\n",
              "    display: none;\n",
              "    fill: var(--fill-color);\n",
              "    height: 32px;\n",
              "    padding: 0;\n",
              "    width: 32px;\n",
              "  }\n",
              "\n",
              "  .colab-df-quickchart:hover {\n",
              "    background-color: var(--hover-bg-color);\n",
              "    box-shadow: 0 1px 2px rgba(60, 64, 67, 0.3), 0 1px 3px 1px rgba(60, 64, 67, 0.15);\n",
              "    fill: var(--button-hover-fill-color);\n",
              "  }\n",
              "\n",
              "  .colab-df-quickchart-complete:disabled,\n",
              "  .colab-df-quickchart-complete:disabled:hover {\n",
              "    background-color: var(--disabled-bg-color);\n",
              "    fill: var(--disabled-fill-color);\n",
              "    box-shadow: none;\n",
              "  }\n",
              "\n",
              "  .colab-df-spinner {\n",
              "    border: 2px solid var(--fill-color);\n",
              "    border-color: transparent;\n",
              "    border-bottom-color: var(--fill-color);\n",
              "    animation:\n",
              "      spin 1s steps(1) infinite;\n",
              "  }\n",
              "\n",
              "  @keyframes spin {\n",
              "    0% {\n",
              "      border-color: transparent;\n",
              "      border-bottom-color: var(--fill-color);\n",
              "      border-left-color: var(--fill-color);\n",
              "    }\n",
              "    20% {\n",
              "      border-color: transparent;\n",
              "      border-left-color: var(--fill-color);\n",
              "      border-top-color: var(--fill-color);\n",
              "    }\n",
              "    30% {\n",
              "      border-color: transparent;\n",
              "      border-left-color: var(--fill-color);\n",
              "      border-top-color: var(--fill-color);\n",
              "      border-right-color: var(--fill-color);\n",
              "    }\n",
              "    40% {\n",
              "      border-color: transparent;\n",
              "      border-right-color: var(--fill-color);\n",
              "      border-top-color: var(--fill-color);\n",
              "    }\n",
              "    60% {\n",
              "      border-color: transparent;\n",
              "      border-right-color: var(--fill-color);\n",
              "    }\n",
              "    80% {\n",
              "      border-color: transparent;\n",
              "      border-right-color: var(--fill-color);\n",
              "      border-bottom-color: var(--fill-color);\n",
              "    }\n",
              "    90% {\n",
              "      border-color: transparent;\n",
              "      border-bottom-color: var(--fill-color);\n",
              "    }\n",
              "  }\n",
              "</style>\n",
              "\n",
              "  <script>\n",
              "    async function quickchart(key) {\n",
              "      const quickchartButtonEl =\n",
              "        document.querySelector('#' + key + ' button');\n",
              "      quickchartButtonEl.disabled = true;  // To prevent multiple clicks.\n",
              "      quickchartButtonEl.classList.add('colab-df-spinner');\n",
              "      try {\n",
              "        const charts = await google.colab.kernel.invokeFunction(\n",
              "            'suggestCharts', [key], {});\n",
              "      } catch (error) {\n",
              "        console.error('Error during call to suggestCharts:', error);\n",
              "      }\n",
              "      quickchartButtonEl.classList.remove('colab-df-spinner');\n",
              "      quickchartButtonEl.classList.add('colab-df-quickchart-complete');\n",
              "    }\n",
              "    (() => {\n",
              "      let quickchartButtonEl =\n",
              "        document.querySelector('#df-32bff213-e0e6-4cc3-9e09-fef475f3aabf button');\n",
              "      quickchartButtonEl.style.display =\n",
              "        google.colab.kernel.accessAllowed ? 'block' : 'none';\n",
              "    })();\n",
              "  </script>\n",
              "</div>\n",
              "\n",
              "    </div>\n",
              "  </div>\n"
            ],
            "application/vnd.google.colaboratory.intrinsic+json": {
              "type": "dataframe",
              "summary": "{\n  \"name\": \"base_dados\",\n  \"rows\": 5,\n  \"fields\": [\n    {\n      \"column\": \"texto\",\n      \"properties\": {\n        \"dtype\": \"string\",\n        \"num_unique_values\": 5,\n        \"samples\": [\n          \"\\u00e9 preciso afugenta com \\u00edmpeto este medo do inferno\",\n          \"isso me apavora\",\n          \"pol\\u00edticos usam suas for\\u00e7as para afugentar e amedrontar o povo\"\n        ],\n        \"semantic_type\": \"\",\n        \"description\": \"\"\n      }\n    },\n    {\n      \"column\": \"emocao\",\n      \"properties\": {\n        \"dtype\": \"category\",\n        \"num_unique_values\": 1,\n        \"samples\": [\n          \"medo\"\n        ],\n        \"semantic_type\": \"\",\n        \"description\": \"\"\n      }\n    }\n  ]\n}"
            }
          },
          "metadata": {},
          "execution_count": 15
        }
      ]
    },
    {
      "cell_type": "code",
      "source": [
        "#sns.countplot(base_dados['emocao'], label = 'Contagem');"
      ],
      "metadata": {
        "id": "7U0OhK37Cm7w"
      },
      "execution_count": 16,
      "outputs": []
    },
    {
      "cell_type": "markdown",
      "source": [
        "##Etapa 3: Funçãod para pré-processamento dos textos"
      ],
      "metadata": {
        "id": "l352o5DcC7Tv"
      }
    },
    {
      "cell_type": "code",
      "source": [
        "pontuacoes = string.punctuation\n",
        "pontuacoes"
      ],
      "metadata": {
        "colab": {
          "base_uri": "https://localhost:8080/",
          "height": 35
        },
        "id": "Z_w5fAEQC11F",
        "outputId": "c3d88460-4c05-4187-9f30-e11fe268d4c7"
      },
      "execution_count": 17,
      "outputs": [
        {
          "output_type": "execute_result",
          "data": {
            "text/plain": [
              "'!\"#$%&\\'()*+,-./:;<=>?@[\\\\]^_`{|}~'"
            ],
            "application/vnd.google.colaboratory.intrinsic+json": {
              "type": "string"
            }
          },
          "metadata": {},
          "execution_count": 17
        }
      ]
    },
    {
      "cell_type": "code",
      "source": [
        "from spacy.lang.pt.stop_words import STOP_WORDS\n",
        "stop_words = STOP_WORDS"
      ],
      "metadata": {
        "id": "hTjQMx1fDES5"
      },
      "execution_count": 18,
      "outputs": []
    },
    {
      "cell_type": "code",
      "source": [
        "print(stop_words)"
      ],
      "metadata": {
        "colab": {
          "base_uri": "https://localhost:8080/"
        },
        "id": "HDZr-lh2DKFw",
        "outputId": "b682ff9c-4e0b-4832-ac32-f1350fdb57b9"
      },
      "execution_count": 19,
      "outputs": [
        {
          "output_type": "stream",
          "name": "stdout",
          "text": [
            "{'dá', 'este', 'ademais', 'dar', 'meses', 'pela', 'tente', 'tu', 'até', 'duas', 'querem', 'conselho', 'disso', 'devem', 'outros', 'pelos', 'é', 'talvez', 'aos', 'inicio', 'parte', 'porém', 'foram', 'cuja', 'era', 'irá', 'podia', 'certamente', 'todo', 'em', 'daquela', 'ontem', 'próxima', 'umas', 'poder', 'fazia', 'não', 'sempre', 'tivestes', 'vem', 'nunca', 'eles', 'nas', 'fazemos', 'novo', 'sob', 'ele', 'fará', 'nossa', 'nove', 'quinta', 'ambos', 'todos', 'desde', 'dez', 'relação', 'faço', 'estão', 'vossa', 'nosso', 'foi', 'já', 'mês', 'os', 'tivemos', 'sois', 'estar', 'essa', 'desta', 'só', 'somente', 'daquele', 'estivemos', 'nessa', 'numa', 'fazeis', 'poderá', 'na', 'num', 'inclusive', 'nenhuma', 'tua', 'tão', 'aquela', 'ao', 'estiveste', 'quer', 'pelas', 'falta', 'quatro', 'aquilo', 'sou', 'quarto', 'vai', 'vais', 'vossos', 'são', 'perto', 'vão', 'seria', 'têm', 'sim', 'tentaram', 'área', 'lhe', 'ora', 'povo', 'naquele', 'nesse', 'conhecida', 'apoio', 'estiveram', 'teu', 'faz', 'certeza', 'pode', 'grandes', 'além', 'tendes', 'no', 'novas', 'cima', 'zero', 'vós', 'por', 'fui', 'posso', 'sei', 'sobre', 'sexto', 'momento', 'local', 'direita', 'quando', 'lado', 'porque', 'toda', 'dezanove', 'sétimo', 'fazem', 'quem', 'muito', 'ou', 'essas', 'você', 'neste', 'mais', 'custa', 'menos', 'catorze', 'minha', 'debaixo', 'quarta', 'terceiro', 'vinda', 'aqui', 'isso', 'longe', 'quinze', 'tipo', 'vezes', 'três', 'és', 'as', 'exemplo', 'possível', 'como', 'alguns', 'próximo', 'doze', 'estou', 'da', 'tem', 'dessa', 'ambas', 'fazes', 'do', 'oitavo', 'lugar', 'tanto', 'através', 'todas', 'aquelas', 'posição', 'deverá', 'forma', 'aqueles', 'vários', 'sexta', 'for', 'maior', 'para', 'maiorias', 'nesta', 'enquanto', 'primeiro', 'pois', 'dezoito', 'tais', 'fez', 'se', 'contra', 'algumas', 'bom', 'estive', 'mal', 'ponto', 'outras', 'foste', 'porquê', 'final', 'oitava', 'maioria', 'dezassete', 'segundo', 'tuas', 'fazer', 'nós', 'ela', 'tal', 'grande', 'seu', 'terceira', 'veja', 'nuns', 'pouca', 'tarde', 'o', 'cedo', 'obrigada', 'nos', 'estas', 'outra', 'após', 'às', 'pontos', 'estás', 'segunda', 'ser', 'breve', 'ir', 'diz', 'quê', 'seus', 'máximo', 'quieto', 'suas', 'menor', 'desse', 'esteve', 'minhas', 'partir', 'cento', 'usar', 'esse', 'baixo', 'muitos', 'comprido', 'pôde', 'vens', 'demais', 'temos', 'põe', 'deve', 'meu', 'estado', 'nossas', 'conhecido', 'que', 'tive', 'bem', 'logo', 'contudo', 'com', 'iniciar', 'dão', 'nada', 'vocês', 'vossas', 'esta', 'tanta', 'fim', 'números', 'próprio', 'qualquer', 'seis', 'tens', 'dizem', 'corrente', 'apoia', 'obrigado', 'embora', 'quero', 'quinto', 'elas', 'favor', 'mesmo', 'nossos', 'fostes', 'nem', 'fomos', 'tiveste', 'antes', 'atrás', 'vinte', 'usa', 'dois', 'onde', 'dezasseis', 'põem', 'ver', 'então', 'cada', 'esses', 'onze', 'diante', 'geral', 'dentro', 'ter', 'estes', 'a', 'das', 'comprida', 'fora', 'tiveram', 'acerca', 'saber', 'caminho', 'sistema', 'tentei', 'eventual', 'vosso', 'também', 'quais', 'um', 'tentar', 'está', 'coisa', 'questão', 'bastante', 'estava', 'novos', 'e', 'boa', 'dizer', 'nível', 'quanto', 'sete', 'à', 'meus', 'cá', 'teus', 'porquanto', 'último', 'eu', 'possivelmente', 'apontar', 'tempo', 'entre', 'aí', 'adeus', 'assim', 'estará', 'pouco', 'uns', 'cujo', 'me', 'algo', 'nova', 'deste', 'portanto', 'sabe', 'somos', 'ligado', 'puderam', 'treze', 'uma', 'estivestes', 'te', 'aquele', 'teve', 'pelo', 'depois', 'sem', 'agora', 'pegar', 'des', 'quieta', 'oito', 'isto', 'de', 'mil', 'vos', 'valor', 'ali', 'naquela', 'apenas', 'sua', 'tudo', 'tenho', 'mas', 'meio', 'parece', 'qual', 'vez', 'vindo', 'grupo', 'dos', 'número', 'vêm', 'ainda', 'primeira', 'sétima', 'lá', 'cinco', 'podem'}\n"
          ]
        }
      ]
    },
    {
      "cell_type": "code",
      "source": [
        "len(stop_words)"
      ],
      "metadata": {
        "colab": {
          "base_uri": "https://localhost:8080/"
        },
        "id": "tjaydKgBDOnA",
        "outputId": "6011085a-90cf-4cc8-fb31-f10265c9cfc8"
      },
      "execution_count": 20,
      "outputs": [
        {
          "output_type": "execute_result",
          "data": {
            "text/plain": [
              "416"
            ]
          },
          "metadata": {},
          "execution_count": 20
        }
      ]
    },
    {
      "cell_type": "code",
      "source": [
        "pln = spacy.load('pt_core_news_sm')"
      ],
      "metadata": {
        "id": "vHF3ZE3dDQue"
      },
      "execution_count": 21,
      "outputs": []
    },
    {
      "cell_type": "code",
      "source": [
        "pln"
      ],
      "metadata": {
        "colab": {
          "base_uri": "https://localhost:8080/"
        },
        "id": "SRerc6WXDluP",
        "outputId": "27281832-8429-4d05-f00a-cd597754c9e4"
      },
      "execution_count": 22,
      "outputs": [
        {
          "output_type": "execute_result",
          "data": {
            "text/plain": [
              "<spacy.lang.pt.Portuguese at 0x78fb5defe5c0>"
            ]
          },
          "metadata": {},
          "execution_count": 22
        }
      ]
    },
    {
      "cell_type": "code",
      "source": [
        "def preprocessamento(texto):\n",
        "  texto = texto.lower()\n",
        "  documento = pln(texto)\n",
        "  lista = []\n",
        "  for token in documento:\n",
        "    #lista.append(token.text)\n",
        "    lista.append(token.lemma_)\n",
        "\n",
        "  lista = [palavra for palavra in lista if palavra not in stop_words and palavra not in pontuacoes]\n",
        "  lista = ' '.join([str(elemento) for elemento in lista if not elemento.isdigit()])\n",
        "\n",
        "  return lista\n"
      ],
      "metadata": {
        "id": "6FPQ7AsqDmNR"
      },
      "execution_count": 23,
      "outputs": []
    },
    {
      "cell_type": "code",
      "source": [
        "teste = preprocessamento('Estou aPrendendo 1 10 23 processamento de linguagem natural, curso em Curitiba')\n",
        "teste"
      ],
      "metadata": {
        "colab": {
          "base_uri": "https://localhost:8080/",
          "height": 35
        },
        "id": "uvP_pmZpDqdZ",
        "outputId": "b0b974ea-e93d-4444-f200-859a4785f55a"
      },
      "execution_count": 24,
      "outputs": [
        {
          "output_type": "execute_result",
          "data": {
            "text/plain": [
              "'aprender processamento linguagem natural curso curitiba'"
            ],
            "application/vnd.google.colaboratory.intrinsic+json": {
              "type": "string"
            }
          },
          "metadata": {},
          "execution_count": 24
        }
      ]
    },
    {
      "cell_type": "markdown",
      "source": [
        "##Etapa 4: Pré-processamento da base de dados"
      ],
      "metadata": {
        "id": "0ELvrUeAE8XP"
      }
    },
    {
      "cell_type": "markdown",
      "source": [
        "###Limpeza dos textos"
      ],
      "metadata": {
        "id": "K1D2trZvFCWZ"
      }
    },
    {
      "cell_type": "code",
      "source": [
        "base_dados.head(10)"
      ],
      "metadata": {
        "colab": {
          "base_uri": "https://localhost:8080/",
          "height": 363
        },
        "id": "zcykQjybFARl",
        "outputId": "06671867-3b6a-49ef-f1ac-b77d9d34b77e"
      },
      "execution_count": 25,
      "outputs": [
        {
          "output_type": "execute_result",
          "data": {
            "text/plain": [
              "                              texto   emocao\n",
              "0         este trabalho é agradável  alegria\n",
              "1   gosto de ficar no seu aconchego  alegria\n",
              "2        fiz a adesão ao curso hoje  alegria\n",
              "3        eu sou admirada por muitos  alegria\n",
              "4                   adoro como você  alegria\n",
              "5            adoro seu cabelo macio  alegria\n",
              "6        adoro a cor dos seus olhos  alegria\n",
              "7   somo tão amáveis um com o outro  alegria\n",
              "8  sinto uma grande afeição por ele  alegria\n",
              "9         quero agradar meus filhos  alegria"
            ],
            "text/html": [
              "\n",
              "  <div id=\"df-ab5ac37a-fb75-4dee-9398-b30bcc7cd290\" class=\"colab-df-container\">\n",
              "    <div>\n",
              "<style scoped>\n",
              "    .dataframe tbody tr th:only-of-type {\n",
              "        vertical-align: middle;\n",
              "    }\n",
              "\n",
              "    .dataframe tbody tr th {\n",
              "        vertical-align: top;\n",
              "    }\n",
              "\n",
              "    .dataframe thead th {\n",
              "        text-align: right;\n",
              "    }\n",
              "</style>\n",
              "<table border=\"1\" class=\"dataframe\">\n",
              "  <thead>\n",
              "    <tr style=\"text-align: right;\">\n",
              "      <th></th>\n",
              "      <th>texto</th>\n",
              "      <th>emocao</th>\n",
              "    </tr>\n",
              "  </thead>\n",
              "  <tbody>\n",
              "    <tr>\n",
              "      <th>0</th>\n",
              "      <td>este trabalho é agradável</td>\n",
              "      <td>alegria</td>\n",
              "    </tr>\n",
              "    <tr>\n",
              "      <th>1</th>\n",
              "      <td>gosto de ficar no seu aconchego</td>\n",
              "      <td>alegria</td>\n",
              "    </tr>\n",
              "    <tr>\n",
              "      <th>2</th>\n",
              "      <td>fiz a adesão ao curso hoje</td>\n",
              "      <td>alegria</td>\n",
              "    </tr>\n",
              "    <tr>\n",
              "      <th>3</th>\n",
              "      <td>eu sou admirada por muitos</td>\n",
              "      <td>alegria</td>\n",
              "    </tr>\n",
              "    <tr>\n",
              "      <th>4</th>\n",
              "      <td>adoro como você</td>\n",
              "      <td>alegria</td>\n",
              "    </tr>\n",
              "    <tr>\n",
              "      <th>5</th>\n",
              "      <td>adoro seu cabelo macio</td>\n",
              "      <td>alegria</td>\n",
              "    </tr>\n",
              "    <tr>\n",
              "      <th>6</th>\n",
              "      <td>adoro a cor dos seus olhos</td>\n",
              "      <td>alegria</td>\n",
              "    </tr>\n",
              "    <tr>\n",
              "      <th>7</th>\n",
              "      <td>somo tão amáveis um com o outro</td>\n",
              "      <td>alegria</td>\n",
              "    </tr>\n",
              "    <tr>\n",
              "      <th>8</th>\n",
              "      <td>sinto uma grande afeição por ele</td>\n",
              "      <td>alegria</td>\n",
              "    </tr>\n",
              "    <tr>\n",
              "      <th>9</th>\n",
              "      <td>quero agradar meus filhos</td>\n",
              "      <td>alegria</td>\n",
              "    </tr>\n",
              "  </tbody>\n",
              "</table>\n",
              "</div>\n",
              "    <div class=\"colab-df-buttons\">\n",
              "\n",
              "  <div class=\"colab-df-container\">\n",
              "    <button class=\"colab-df-convert\" onclick=\"convertToInteractive('df-ab5ac37a-fb75-4dee-9398-b30bcc7cd290')\"\n",
              "            title=\"Convert this dataframe to an interactive table.\"\n",
              "            style=\"display:none;\">\n",
              "\n",
              "  <svg xmlns=\"http://www.w3.org/2000/svg\" height=\"24px\" viewBox=\"0 -960 960 960\">\n",
              "    <path d=\"M120-120v-720h720v720H120Zm60-500h600v-160H180v160Zm220 220h160v-160H400v160Zm0 220h160v-160H400v160ZM180-400h160v-160H180v160Zm440 0h160v-160H620v160ZM180-180h160v-160H180v160Zm440 0h160v-160H620v160Z\"/>\n",
              "  </svg>\n",
              "    </button>\n",
              "\n",
              "  <style>\n",
              "    .colab-df-container {\n",
              "      display:flex;\n",
              "      gap: 12px;\n",
              "    }\n",
              "\n",
              "    .colab-df-convert {\n",
              "      background-color: #E8F0FE;\n",
              "      border: none;\n",
              "      border-radius: 50%;\n",
              "      cursor: pointer;\n",
              "      display: none;\n",
              "      fill: #1967D2;\n",
              "      height: 32px;\n",
              "      padding: 0 0 0 0;\n",
              "      width: 32px;\n",
              "    }\n",
              "\n",
              "    .colab-df-convert:hover {\n",
              "      background-color: #E2EBFA;\n",
              "      box-shadow: 0px 1px 2px rgba(60, 64, 67, 0.3), 0px 1px 3px 1px rgba(60, 64, 67, 0.15);\n",
              "      fill: #174EA6;\n",
              "    }\n",
              "\n",
              "    .colab-df-buttons div {\n",
              "      margin-bottom: 4px;\n",
              "    }\n",
              "\n",
              "    [theme=dark] .colab-df-convert {\n",
              "      background-color: #3B4455;\n",
              "      fill: #D2E3FC;\n",
              "    }\n",
              "\n",
              "    [theme=dark] .colab-df-convert:hover {\n",
              "      background-color: #434B5C;\n",
              "      box-shadow: 0px 1px 3px 1px rgba(0, 0, 0, 0.15);\n",
              "      filter: drop-shadow(0px 1px 2px rgba(0, 0, 0, 0.3));\n",
              "      fill: #FFFFFF;\n",
              "    }\n",
              "  </style>\n",
              "\n",
              "    <script>\n",
              "      const buttonEl =\n",
              "        document.querySelector('#df-ab5ac37a-fb75-4dee-9398-b30bcc7cd290 button.colab-df-convert');\n",
              "      buttonEl.style.display =\n",
              "        google.colab.kernel.accessAllowed ? 'block' : 'none';\n",
              "\n",
              "      async function convertToInteractive(key) {\n",
              "        const element = document.querySelector('#df-ab5ac37a-fb75-4dee-9398-b30bcc7cd290');\n",
              "        const dataTable =\n",
              "          await google.colab.kernel.invokeFunction('convertToInteractive',\n",
              "                                                    [key], {});\n",
              "        if (!dataTable) return;\n",
              "\n",
              "        const docLinkHtml = 'Like what you see? Visit the ' +\n",
              "          '<a target=\"_blank\" href=https://colab.research.google.com/notebooks/data_table.ipynb>data table notebook</a>'\n",
              "          + ' to learn more about interactive tables.';\n",
              "        element.innerHTML = '';\n",
              "        dataTable['output_type'] = 'display_data';\n",
              "        await google.colab.output.renderOutput(dataTable, element);\n",
              "        const docLink = document.createElement('div');\n",
              "        docLink.innerHTML = docLinkHtml;\n",
              "        element.appendChild(docLink);\n",
              "      }\n",
              "    </script>\n",
              "  </div>\n",
              "\n",
              "\n",
              "<div id=\"df-a63f5325-111d-4ec6-bdc0-7a1daa87d14c\">\n",
              "  <button class=\"colab-df-quickchart\" onclick=\"quickchart('df-a63f5325-111d-4ec6-bdc0-7a1daa87d14c')\"\n",
              "            title=\"Suggest charts\"\n",
              "            style=\"display:none;\">\n",
              "\n",
              "<svg xmlns=\"http://www.w3.org/2000/svg\" height=\"24px\"viewBox=\"0 0 24 24\"\n",
              "     width=\"24px\">\n",
              "    <g>\n",
              "        <path d=\"M19 3H5c-1.1 0-2 .9-2 2v14c0 1.1.9 2 2 2h14c1.1 0 2-.9 2-2V5c0-1.1-.9-2-2-2zM9 17H7v-7h2v7zm4 0h-2V7h2v10zm4 0h-2v-4h2v4z\"/>\n",
              "    </g>\n",
              "</svg>\n",
              "  </button>\n",
              "\n",
              "<style>\n",
              "  .colab-df-quickchart {\n",
              "      --bg-color: #E8F0FE;\n",
              "      --fill-color: #1967D2;\n",
              "      --hover-bg-color: #E2EBFA;\n",
              "      --hover-fill-color: #174EA6;\n",
              "      --disabled-fill-color: #AAA;\n",
              "      --disabled-bg-color: #DDD;\n",
              "  }\n",
              "\n",
              "  [theme=dark] .colab-df-quickchart {\n",
              "      --bg-color: #3B4455;\n",
              "      --fill-color: #D2E3FC;\n",
              "      --hover-bg-color: #434B5C;\n",
              "      --hover-fill-color: #FFFFFF;\n",
              "      --disabled-bg-color: #3B4455;\n",
              "      --disabled-fill-color: #666;\n",
              "  }\n",
              "\n",
              "  .colab-df-quickchart {\n",
              "    background-color: var(--bg-color);\n",
              "    border: none;\n",
              "    border-radius: 50%;\n",
              "    cursor: pointer;\n",
              "    display: none;\n",
              "    fill: var(--fill-color);\n",
              "    height: 32px;\n",
              "    padding: 0;\n",
              "    width: 32px;\n",
              "  }\n",
              "\n",
              "  .colab-df-quickchart:hover {\n",
              "    background-color: var(--hover-bg-color);\n",
              "    box-shadow: 0 1px 2px rgba(60, 64, 67, 0.3), 0 1px 3px 1px rgba(60, 64, 67, 0.15);\n",
              "    fill: var(--button-hover-fill-color);\n",
              "  }\n",
              "\n",
              "  .colab-df-quickchart-complete:disabled,\n",
              "  .colab-df-quickchart-complete:disabled:hover {\n",
              "    background-color: var(--disabled-bg-color);\n",
              "    fill: var(--disabled-fill-color);\n",
              "    box-shadow: none;\n",
              "  }\n",
              "\n",
              "  .colab-df-spinner {\n",
              "    border: 2px solid var(--fill-color);\n",
              "    border-color: transparent;\n",
              "    border-bottom-color: var(--fill-color);\n",
              "    animation:\n",
              "      spin 1s steps(1) infinite;\n",
              "  }\n",
              "\n",
              "  @keyframes spin {\n",
              "    0% {\n",
              "      border-color: transparent;\n",
              "      border-bottom-color: var(--fill-color);\n",
              "      border-left-color: var(--fill-color);\n",
              "    }\n",
              "    20% {\n",
              "      border-color: transparent;\n",
              "      border-left-color: var(--fill-color);\n",
              "      border-top-color: var(--fill-color);\n",
              "    }\n",
              "    30% {\n",
              "      border-color: transparent;\n",
              "      border-left-color: var(--fill-color);\n",
              "      border-top-color: var(--fill-color);\n",
              "      border-right-color: var(--fill-color);\n",
              "    }\n",
              "    40% {\n",
              "      border-color: transparent;\n",
              "      border-right-color: var(--fill-color);\n",
              "      border-top-color: var(--fill-color);\n",
              "    }\n",
              "    60% {\n",
              "      border-color: transparent;\n",
              "      border-right-color: var(--fill-color);\n",
              "    }\n",
              "    80% {\n",
              "      border-color: transparent;\n",
              "      border-right-color: var(--fill-color);\n",
              "      border-bottom-color: var(--fill-color);\n",
              "    }\n",
              "    90% {\n",
              "      border-color: transparent;\n",
              "      border-bottom-color: var(--fill-color);\n",
              "    }\n",
              "  }\n",
              "</style>\n",
              "\n",
              "  <script>\n",
              "    async function quickchart(key) {\n",
              "      const quickchartButtonEl =\n",
              "        document.querySelector('#' + key + ' button');\n",
              "      quickchartButtonEl.disabled = true;  // To prevent multiple clicks.\n",
              "      quickchartButtonEl.classList.add('colab-df-spinner');\n",
              "      try {\n",
              "        const charts = await google.colab.kernel.invokeFunction(\n",
              "            'suggestCharts', [key], {});\n",
              "      } catch (error) {\n",
              "        console.error('Error during call to suggestCharts:', error);\n",
              "      }\n",
              "      quickchartButtonEl.classList.remove('colab-df-spinner');\n",
              "      quickchartButtonEl.classList.add('colab-df-quickchart-complete');\n",
              "    }\n",
              "    (() => {\n",
              "      let quickchartButtonEl =\n",
              "        document.querySelector('#df-a63f5325-111d-4ec6-bdc0-7a1daa87d14c button');\n",
              "      quickchartButtonEl.style.display =\n",
              "        google.colab.kernel.accessAllowed ? 'block' : 'none';\n",
              "    })();\n",
              "  </script>\n",
              "</div>\n",
              "\n",
              "    </div>\n",
              "  </div>\n"
            ],
            "application/vnd.google.colaboratory.intrinsic+json": {
              "type": "dataframe",
              "variable_name": "base_dados",
              "summary": "{\n  \"name\": \"base_dados\",\n  \"rows\": 196,\n  \"fields\": [\n    {\n      \"column\": \"texto\",\n      \"properties\": {\n        \"dtype\": \"string\",\n        \"num_unique_values\": 196,\n        \"samples\": [\n          \"cuidado com as curvas na estrada\",\n          \"tem certeza que n\\u00e3o \\u00e9 perigoso?\",\n          \"estou me sentindo muito animada\"\n        ],\n        \"semantic_type\": \"\",\n        \"description\": \"\"\n      }\n    },\n    {\n      \"column\": \"emocao\",\n      \"properties\": {\n        \"dtype\": \"category\",\n        \"num_unique_values\": 2,\n        \"samples\": [\n          \"medo\",\n          \"alegria\"\n        ],\n        \"semantic_type\": \"\",\n        \"description\": \"\"\n      }\n    }\n  ]\n}"
            }
          },
          "metadata": {},
          "execution_count": 25
        }
      ]
    },
    {
      "cell_type": "code",
      "source": [
        "base_dados['texto'] = base_dados['texto'].apply(preprocessamento)"
      ],
      "metadata": {
        "id": "6cWkXoF7FFoM"
      },
      "execution_count": 26,
      "outputs": []
    },
    {
      "cell_type": "code",
      "source": [
        "base_dados.head(10)"
      ],
      "metadata": {
        "colab": {
          "base_uri": "https://localhost:8080/",
          "height": 363
        },
        "id": "WeZZJ7cMFZy9",
        "outputId": "729ae513-1c52-46a2-ac97-30cee8119c5d"
      },
      "execution_count": 27,
      "outputs": [
        {
          "output_type": "execute_result",
          "data": {
            "text/plain": [
              "                        texto   emocao\n",
              "0          trabalho agradável  alegria\n",
              "1  gosto ficar em o aconchego  alegria\n",
              "2   fiz adesão a o curso hoje  alegria\n",
              "3                     admirar  alegria\n",
              "4                      adorar  alegria\n",
              "5         adorar cabelo macio  alegria\n",
              "6        adorar cor de o olho  alegria\n",
              "7           somo amável outro  alegria\n",
              "8               sinto afeição  alegria\n",
              "9        querer agradar filho  alegria"
            ],
            "text/html": [
              "\n",
              "  <div id=\"df-8365c8ee-1014-4707-b911-afff7a4c1d80\" class=\"colab-df-container\">\n",
              "    <div>\n",
              "<style scoped>\n",
              "    .dataframe tbody tr th:only-of-type {\n",
              "        vertical-align: middle;\n",
              "    }\n",
              "\n",
              "    .dataframe tbody tr th {\n",
              "        vertical-align: top;\n",
              "    }\n",
              "\n",
              "    .dataframe thead th {\n",
              "        text-align: right;\n",
              "    }\n",
              "</style>\n",
              "<table border=\"1\" class=\"dataframe\">\n",
              "  <thead>\n",
              "    <tr style=\"text-align: right;\">\n",
              "      <th></th>\n",
              "      <th>texto</th>\n",
              "      <th>emocao</th>\n",
              "    </tr>\n",
              "  </thead>\n",
              "  <tbody>\n",
              "    <tr>\n",
              "      <th>0</th>\n",
              "      <td>trabalho agradável</td>\n",
              "      <td>alegria</td>\n",
              "    </tr>\n",
              "    <tr>\n",
              "      <th>1</th>\n",
              "      <td>gosto ficar em o aconchego</td>\n",
              "      <td>alegria</td>\n",
              "    </tr>\n",
              "    <tr>\n",
              "      <th>2</th>\n",
              "      <td>fiz adesão a o curso hoje</td>\n",
              "      <td>alegria</td>\n",
              "    </tr>\n",
              "    <tr>\n",
              "      <th>3</th>\n",
              "      <td>admirar</td>\n",
              "      <td>alegria</td>\n",
              "    </tr>\n",
              "    <tr>\n",
              "      <th>4</th>\n",
              "      <td>adorar</td>\n",
              "      <td>alegria</td>\n",
              "    </tr>\n",
              "    <tr>\n",
              "      <th>5</th>\n",
              "      <td>adorar cabelo macio</td>\n",
              "      <td>alegria</td>\n",
              "    </tr>\n",
              "    <tr>\n",
              "      <th>6</th>\n",
              "      <td>adorar cor de o olho</td>\n",
              "      <td>alegria</td>\n",
              "    </tr>\n",
              "    <tr>\n",
              "      <th>7</th>\n",
              "      <td>somo amável outro</td>\n",
              "      <td>alegria</td>\n",
              "    </tr>\n",
              "    <tr>\n",
              "      <th>8</th>\n",
              "      <td>sinto afeição</td>\n",
              "      <td>alegria</td>\n",
              "    </tr>\n",
              "    <tr>\n",
              "      <th>9</th>\n",
              "      <td>querer agradar filho</td>\n",
              "      <td>alegria</td>\n",
              "    </tr>\n",
              "  </tbody>\n",
              "</table>\n",
              "</div>\n",
              "    <div class=\"colab-df-buttons\">\n",
              "\n",
              "  <div class=\"colab-df-container\">\n",
              "    <button class=\"colab-df-convert\" onclick=\"convertToInteractive('df-8365c8ee-1014-4707-b911-afff7a4c1d80')\"\n",
              "            title=\"Convert this dataframe to an interactive table.\"\n",
              "            style=\"display:none;\">\n",
              "\n",
              "  <svg xmlns=\"http://www.w3.org/2000/svg\" height=\"24px\" viewBox=\"0 -960 960 960\">\n",
              "    <path d=\"M120-120v-720h720v720H120Zm60-500h600v-160H180v160Zm220 220h160v-160H400v160Zm0 220h160v-160H400v160ZM180-400h160v-160H180v160Zm440 0h160v-160H620v160ZM180-180h160v-160H180v160Zm440 0h160v-160H620v160Z\"/>\n",
              "  </svg>\n",
              "    </button>\n",
              "\n",
              "  <style>\n",
              "    .colab-df-container {\n",
              "      display:flex;\n",
              "      gap: 12px;\n",
              "    }\n",
              "\n",
              "    .colab-df-convert {\n",
              "      background-color: #E8F0FE;\n",
              "      border: none;\n",
              "      border-radius: 50%;\n",
              "      cursor: pointer;\n",
              "      display: none;\n",
              "      fill: #1967D2;\n",
              "      height: 32px;\n",
              "      padding: 0 0 0 0;\n",
              "      width: 32px;\n",
              "    }\n",
              "\n",
              "    .colab-df-convert:hover {\n",
              "      background-color: #E2EBFA;\n",
              "      box-shadow: 0px 1px 2px rgba(60, 64, 67, 0.3), 0px 1px 3px 1px rgba(60, 64, 67, 0.15);\n",
              "      fill: #174EA6;\n",
              "    }\n",
              "\n",
              "    .colab-df-buttons div {\n",
              "      margin-bottom: 4px;\n",
              "    }\n",
              "\n",
              "    [theme=dark] .colab-df-convert {\n",
              "      background-color: #3B4455;\n",
              "      fill: #D2E3FC;\n",
              "    }\n",
              "\n",
              "    [theme=dark] .colab-df-convert:hover {\n",
              "      background-color: #434B5C;\n",
              "      box-shadow: 0px 1px 3px 1px rgba(0, 0, 0, 0.15);\n",
              "      filter: drop-shadow(0px 1px 2px rgba(0, 0, 0, 0.3));\n",
              "      fill: #FFFFFF;\n",
              "    }\n",
              "  </style>\n",
              "\n",
              "    <script>\n",
              "      const buttonEl =\n",
              "        document.querySelector('#df-8365c8ee-1014-4707-b911-afff7a4c1d80 button.colab-df-convert');\n",
              "      buttonEl.style.display =\n",
              "        google.colab.kernel.accessAllowed ? 'block' : 'none';\n",
              "\n",
              "      async function convertToInteractive(key) {\n",
              "        const element = document.querySelector('#df-8365c8ee-1014-4707-b911-afff7a4c1d80');\n",
              "        const dataTable =\n",
              "          await google.colab.kernel.invokeFunction('convertToInteractive',\n",
              "                                                    [key], {});\n",
              "        if (!dataTable) return;\n",
              "\n",
              "        const docLinkHtml = 'Like what you see? Visit the ' +\n",
              "          '<a target=\"_blank\" href=https://colab.research.google.com/notebooks/data_table.ipynb>data table notebook</a>'\n",
              "          + ' to learn more about interactive tables.';\n",
              "        element.innerHTML = '';\n",
              "        dataTable['output_type'] = 'display_data';\n",
              "        await google.colab.output.renderOutput(dataTable, element);\n",
              "        const docLink = document.createElement('div');\n",
              "        docLink.innerHTML = docLinkHtml;\n",
              "        element.appendChild(docLink);\n",
              "      }\n",
              "    </script>\n",
              "  </div>\n",
              "\n",
              "\n",
              "<div id=\"df-e8f56091-3985-45c5-9b8e-76c5b762107c\">\n",
              "  <button class=\"colab-df-quickchart\" onclick=\"quickchart('df-e8f56091-3985-45c5-9b8e-76c5b762107c')\"\n",
              "            title=\"Suggest charts\"\n",
              "            style=\"display:none;\">\n",
              "\n",
              "<svg xmlns=\"http://www.w3.org/2000/svg\" height=\"24px\"viewBox=\"0 0 24 24\"\n",
              "     width=\"24px\">\n",
              "    <g>\n",
              "        <path d=\"M19 3H5c-1.1 0-2 .9-2 2v14c0 1.1.9 2 2 2h14c1.1 0 2-.9 2-2V5c0-1.1-.9-2-2-2zM9 17H7v-7h2v7zm4 0h-2V7h2v10zm4 0h-2v-4h2v4z\"/>\n",
              "    </g>\n",
              "</svg>\n",
              "  </button>\n",
              "\n",
              "<style>\n",
              "  .colab-df-quickchart {\n",
              "      --bg-color: #E8F0FE;\n",
              "      --fill-color: #1967D2;\n",
              "      --hover-bg-color: #E2EBFA;\n",
              "      --hover-fill-color: #174EA6;\n",
              "      --disabled-fill-color: #AAA;\n",
              "      --disabled-bg-color: #DDD;\n",
              "  }\n",
              "\n",
              "  [theme=dark] .colab-df-quickchart {\n",
              "      --bg-color: #3B4455;\n",
              "      --fill-color: #D2E3FC;\n",
              "      --hover-bg-color: #434B5C;\n",
              "      --hover-fill-color: #FFFFFF;\n",
              "      --disabled-bg-color: #3B4455;\n",
              "      --disabled-fill-color: #666;\n",
              "  }\n",
              "\n",
              "  .colab-df-quickchart {\n",
              "    background-color: var(--bg-color);\n",
              "    border: none;\n",
              "    border-radius: 50%;\n",
              "    cursor: pointer;\n",
              "    display: none;\n",
              "    fill: var(--fill-color);\n",
              "    height: 32px;\n",
              "    padding: 0;\n",
              "    width: 32px;\n",
              "  }\n",
              "\n",
              "  .colab-df-quickchart:hover {\n",
              "    background-color: var(--hover-bg-color);\n",
              "    box-shadow: 0 1px 2px rgba(60, 64, 67, 0.3), 0 1px 3px 1px rgba(60, 64, 67, 0.15);\n",
              "    fill: var(--button-hover-fill-color);\n",
              "  }\n",
              "\n",
              "  .colab-df-quickchart-complete:disabled,\n",
              "  .colab-df-quickchart-complete:disabled:hover {\n",
              "    background-color: var(--disabled-bg-color);\n",
              "    fill: var(--disabled-fill-color);\n",
              "    box-shadow: none;\n",
              "  }\n",
              "\n",
              "  .colab-df-spinner {\n",
              "    border: 2px solid var(--fill-color);\n",
              "    border-color: transparent;\n",
              "    border-bottom-color: var(--fill-color);\n",
              "    animation:\n",
              "      spin 1s steps(1) infinite;\n",
              "  }\n",
              "\n",
              "  @keyframes spin {\n",
              "    0% {\n",
              "      border-color: transparent;\n",
              "      border-bottom-color: var(--fill-color);\n",
              "      border-left-color: var(--fill-color);\n",
              "    }\n",
              "    20% {\n",
              "      border-color: transparent;\n",
              "      border-left-color: var(--fill-color);\n",
              "      border-top-color: var(--fill-color);\n",
              "    }\n",
              "    30% {\n",
              "      border-color: transparent;\n",
              "      border-left-color: var(--fill-color);\n",
              "      border-top-color: var(--fill-color);\n",
              "      border-right-color: var(--fill-color);\n",
              "    }\n",
              "    40% {\n",
              "      border-color: transparent;\n",
              "      border-right-color: var(--fill-color);\n",
              "      border-top-color: var(--fill-color);\n",
              "    }\n",
              "    60% {\n",
              "      border-color: transparent;\n",
              "      border-right-color: var(--fill-color);\n",
              "    }\n",
              "    80% {\n",
              "      border-color: transparent;\n",
              "      border-right-color: var(--fill-color);\n",
              "      border-bottom-color: var(--fill-color);\n",
              "    }\n",
              "    90% {\n",
              "      border-color: transparent;\n",
              "      border-bottom-color: var(--fill-color);\n",
              "    }\n",
              "  }\n",
              "</style>\n",
              "\n",
              "  <script>\n",
              "    async function quickchart(key) {\n",
              "      const quickchartButtonEl =\n",
              "        document.querySelector('#' + key + ' button');\n",
              "      quickchartButtonEl.disabled = true;  // To prevent multiple clicks.\n",
              "      quickchartButtonEl.classList.add('colab-df-spinner');\n",
              "      try {\n",
              "        const charts = await google.colab.kernel.invokeFunction(\n",
              "            'suggestCharts', [key], {});\n",
              "      } catch (error) {\n",
              "        console.error('Error during call to suggestCharts:', error);\n",
              "      }\n",
              "      quickchartButtonEl.classList.remove('colab-df-spinner');\n",
              "      quickchartButtonEl.classList.add('colab-df-quickchart-complete');\n",
              "    }\n",
              "    (() => {\n",
              "      let quickchartButtonEl =\n",
              "        document.querySelector('#df-e8f56091-3985-45c5-9b8e-76c5b762107c button');\n",
              "      quickchartButtonEl.style.display =\n",
              "        google.colab.kernel.accessAllowed ? 'block' : 'none';\n",
              "    })();\n",
              "  </script>\n",
              "</div>\n",
              "\n",
              "    </div>\n",
              "  </div>\n"
            ],
            "application/vnd.google.colaboratory.intrinsic+json": {
              "type": "dataframe",
              "variable_name": "base_dados",
              "summary": "{\n  \"name\": \"base_dados\",\n  \"rows\": 196,\n  \"fields\": [\n    {\n      \"column\": \"texto\",\n      \"properties\": {\n        \"dtype\": \"string\",\n        \"num_unique_values\": 196,\n        \"samples\": [\n          \"cuidado curva em o estrada\",\n          \"perigoso\",\n          \"sentir animar\"\n        ],\n        \"semantic_type\": \"\",\n        \"description\": \"\"\n      }\n    },\n    {\n      \"column\": \"emocao\",\n      \"properties\": {\n        \"dtype\": \"category\",\n        \"num_unique_values\": 2,\n        \"samples\": [\n          \"medo\",\n          \"alegria\"\n        ],\n        \"semantic_type\": \"\",\n        \"description\": \"\"\n      }\n    }\n  ]\n}"
            }
          },
          "metadata": {},
          "execution_count": 27
        }
      ]
    },
    {
      "cell_type": "markdown",
      "source": [
        "###Tratamento de classe"
      ],
      "metadata": {
        "id": "n387EyAhFlJr"
      }
    },
    {
      "cell_type": "code",
      "source": [
        "exemplo_base_dados = [[\"este trabalho é agradável\", {\"ALEGRIA\": True, \"MEDO\": False}],\n",
        "                      [\"este lugar continua assustador\", {\"ALEGRIA\": False, \"MEDO\": True}]]"
      ],
      "metadata": {
        "id": "SGYDqT3eFb1X"
      },
      "execution_count": 28,
      "outputs": []
    },
    {
      "cell_type": "code",
      "source": [
        "type(exemplo_base_dados)"
      ],
      "metadata": {
        "colab": {
          "base_uri": "https://localhost:8080/"
        },
        "id": "eURzus3gGAzW",
        "outputId": "0e897b6d-c20e-4cfe-fa5b-97f067cc21f4"
      },
      "execution_count": 29,
      "outputs": [
        {
          "output_type": "execute_result",
          "data": {
            "text/plain": [
              "list"
            ]
          },
          "metadata": {},
          "execution_count": 29
        }
      ]
    },
    {
      "cell_type": "code",
      "source": [
        "exemplo_base_dados[0]"
      ],
      "metadata": {
        "colab": {
          "base_uri": "https://localhost:8080/"
        },
        "id": "OKLfa7xuGPjO",
        "outputId": "e4da3a70-1dba-46bb-9a8a-41bfaced01b5"
      },
      "execution_count": 30,
      "outputs": [
        {
          "output_type": "execute_result",
          "data": {
            "text/plain": [
              "['este trabalho é agradável', {'ALEGRIA': True, 'MEDO': False}]"
            ]
          },
          "metadata": {},
          "execution_count": 30
        }
      ]
    },
    {
      "cell_type": "code",
      "source": [
        "exemplo_base_dados[0][0]"
      ],
      "metadata": {
        "colab": {
          "base_uri": "https://localhost:8080/",
          "height": 35
        },
        "id": "Br_TXR5UGQmm",
        "outputId": "30e74796-06f0-4abc-967e-b8dabf600bbd"
      },
      "execution_count": 31,
      "outputs": [
        {
          "output_type": "execute_result",
          "data": {
            "text/plain": [
              "'este trabalho é agradável'"
            ],
            "application/vnd.google.colaboratory.intrinsic+json": {
              "type": "string"
            }
          },
          "metadata": {},
          "execution_count": 31
        }
      ]
    },
    {
      "cell_type": "code",
      "source": [
        "exemplo_base_dados[0][1]"
      ],
      "metadata": {
        "id": "hQJ8uiavGTJ6",
        "outputId": "4b85585a-33f6-486e-c453-913ec850aa6b",
        "colab": {
          "base_uri": "https://localhost:8080/"
        }
      },
      "execution_count": 32,
      "outputs": [
        {
          "output_type": "execute_result",
          "data": {
            "text/plain": [
              "{'ALEGRIA': True, 'MEDO': False}"
            ]
          },
          "metadata": {},
          "execution_count": 32
        }
      ]
    },
    {
      "cell_type": "code",
      "source": [
        "type(exemplo_base_dados[0][1])\n"
      ],
      "metadata": {
        "colab": {
          "base_uri": "https://localhost:8080/"
        },
        "id": "hK9AoV6CGWzV",
        "outputId": "5a7d36e6-5034-4d5c-c5ce-baa54900c8d5"
      },
      "execution_count": 33,
      "outputs": [
        {
          "output_type": "execute_result",
          "data": {
            "text/plain": [
              "dict"
            ]
          },
          "metadata": {},
          "execution_count": 33
        }
      ]
    },
    {
      "cell_type": "code",
      "source": [
        "base_dados_final = []\n",
        "i = 0\n",
        "for texto, emocao in zip(base_dados['texto'], base_dados['emocao']):\n",
        "  if emocao == 'alegria':\n",
        "    dic = ({'ALEGRIA': True, 'MEDO': False})\n",
        "  elif emocao == 'medo':\n",
        "    dic = ({'ALEGRIA': False, 'MEDO': True})\n",
        "\n",
        "  base_dados_final.append([texto, dic.copy()])"
      ],
      "metadata": {
        "id": "M2W6Z7hDGaX5"
      },
      "execution_count": 34,
      "outputs": []
    },
    {
      "cell_type": "code",
      "source": [
        "len(base_dados_final)"
      ],
      "metadata": {
        "colab": {
          "base_uri": "https://localhost:8080/"
        },
        "id": "Q2oAEq5TGrxH",
        "outputId": "bedd4441-f959-4c96-e147-83592a3b219e"
      },
      "execution_count": 35,
      "outputs": [
        {
          "output_type": "execute_result",
          "data": {
            "text/plain": [
              "196"
            ]
          },
          "metadata": {},
          "execution_count": 35
        }
      ]
    },
    {
      "cell_type": "code",
      "source": [
        "base_dados_final[0]"
      ],
      "metadata": {
        "colab": {
          "base_uri": "https://localhost:8080/"
        },
        "id": "UGsnxKmIHGd4",
        "outputId": "256898d5-8383-46d1-a1cd-1df50d2480c6"
      },
      "execution_count": 36,
      "outputs": [
        {
          "output_type": "execute_result",
          "data": {
            "text/plain": [
              "['trabalho agradável', {'ALEGRIA': True, 'MEDO': False}]"
            ]
          },
          "metadata": {},
          "execution_count": 36
        }
      ]
    },
    {
      "cell_type": "code",
      "source": [
        "base_dados_final[0][0]"
      ],
      "metadata": {
        "colab": {
          "base_uri": "https://localhost:8080/",
          "height": 35
        },
        "id": "EbEiLktKHIQN",
        "outputId": "a3af1811-2fee-4c04-aaea-349c4cd8bf74"
      },
      "execution_count": 37,
      "outputs": [
        {
          "output_type": "execute_result",
          "data": {
            "text/plain": [
              "'trabalho agradável'"
            ],
            "application/vnd.google.colaboratory.intrinsic+json": {
              "type": "string"
            }
          },
          "metadata": {},
          "execution_count": 37
        }
      ]
    },
    {
      "cell_type": "code",
      "source": [
        "base_dados_final[0][1]"
      ],
      "metadata": {
        "colab": {
          "base_uri": "https://localhost:8080/"
        },
        "id": "6DxFCthgHLqk",
        "outputId": "0d796996-9fc2-4129-f957-9de519d834b6"
      },
      "execution_count": 38,
      "outputs": [
        {
          "output_type": "execute_result",
          "data": {
            "text/plain": [
              "{'ALEGRIA': True, 'MEDO': False}"
            ]
          },
          "metadata": {},
          "execution_count": 38
        }
      ]
    },
    {
      "cell_type": "code",
      "source": [
        "type(base_dados_final[0][1])"
      ],
      "metadata": {
        "colab": {
          "base_uri": "https://localhost:8080/"
        },
        "id": "xv-zllNSHNm4",
        "outputId": "2e29512d-4043-4f91-ea57-839ecc2332a8"
      },
      "execution_count": 39,
      "outputs": [
        {
          "output_type": "execute_result",
          "data": {
            "text/plain": [
              "dict"
            ]
          },
          "metadata": {},
          "execution_count": 39
        }
      ]
    },
    {
      "cell_type": "code",
      "source": [
        "base_dados_final"
      ],
      "metadata": {
        "colab": {
          "base_uri": "https://localhost:8080/"
        },
        "id": "shu-gK6GHQuc",
        "outputId": "3685039f-4772-4a3a-e5e2-306f45aec0d6"
      },
      "execution_count": 40,
      "outputs": [
        {
          "output_type": "execute_result",
          "data": {
            "text/plain": [
              "[['trabalho agradável', {'ALEGRIA': True, 'MEDO': False}],\n",
              " ['gosto ficar em o aconchego', {'ALEGRIA': True, 'MEDO': False}],\n",
              " ['fiz adesão a o curso hoje', {'ALEGRIA': True, 'MEDO': False}],\n",
              " ['admirar', {'ALEGRIA': True, 'MEDO': False}],\n",
              " ['adorar', {'ALEGRIA': True, 'MEDO': False}],\n",
              " ['adorar cabelo macio', {'ALEGRIA': True, 'MEDO': False}],\n",
              " ['adorar cor de o olho', {'ALEGRIA': True, 'MEDO': False}],\n",
              " ['somo amável outro', {'ALEGRIA': True, 'MEDO': False}],\n",
              " ['sinto afeição', {'ALEGRIA': True, 'MEDO': False}],\n",
              " ['querer agradar filho', {'ALEGRIA': True, 'MEDO': False}],\n",
              " ['sinto completamente amar', {'ALEGRIA': True, 'MEDO': False}],\n",
              " ['amo', {'ALEGRIA': True, 'MEDO': False}],\n",
              " ['alívio', {'ALEGRIA': True, 'MEDO': False}],\n",
              " ['dor amenizar finalmente', {'ALEGRIA': True, 'MEDO': False}],\n",
              " ['achar apaixoneir', {'ALEGRIA': True, 'MEDO': False}],\n",
              " ['amar maravilhoso', {'ALEGRIA': True, 'MEDO': False}],\n",
              " ['sentir animar', {'ALEGRIA': True, 'MEDO': False}],\n",
              " ['sintar hoje', {'ALEGRIA': True, 'MEDO': False}],\n",
              " ['luar belo', {'ALEGRIA': True, 'MEDO': False}],\n",
              " ['dia bonito', {'ALEGRIA': True, 'MEDO': False}],\n",
              " ['afortunar', {'ALEGRIA': True, 'MEDO': False}],\n",
              " ['maravilha de o mundo', {'ALEGRIA': True, 'MEDO': False}],\n",
              " ['recebir carinho hoje de o colega', {'ALEGRIA': True, 'MEDO': False}],\n",
              " ['sentir reconfortar hoje', {'ALEGRIA': True, 'MEDO': False}],\n",
              " ['amigo', {'ALEGRIA': True, 'MEDO': False}],\n",
              " ['contente resultado de o teste', {'ALEGRIA': True, 'MEDO': False}],\n",
              " ['pintura brilhante', {'ALEGRIA': True, 'MEDO': False}],\n",
              " ['água abundância', {'ALEGRIA': True, 'MEDO': False}],\n",
              " ['roupa delicado', {'ALEGRIA': True, 'MEDO': False}],\n",
              " ['comediante', {'ALEGRIA': True, 'MEDO': False}],\n",
              " ['bondade vir', {'ALEGRIA': True, 'MEDO': False}],\n",
              " ['amor lir', {'ALEGRIA': True, 'MEDO': False}],\n",
              " ['amizade durar', {'ALEGRIA': True, 'MEDO': False}],\n",
              " ['eufórico notícia', {'ALEGRIA': True, 'MEDO': False}],\n",
              " ['realmente fiel', {'ALEGRIA': True, 'MEDO': False}],\n",
              " ['festa comemorar aniversário', {'ALEGRIA': True, 'MEDO': False}],\n",
              " ['graças deus enxerguei certo', {'ALEGRIA': True, 'MEDO': False}],\n",
              " ['escolha', {'ALEGRIA': True, 'MEDO': False}],\n",
              " ['incrível belo', {'ALEGRIA': True, 'MEDO': False}],\n",
              " ['engraçado explicar', {'ALEGRIA': True, 'MEDO': False}],\n",
              " ['emocionante em este', {'ALEGRIA': True, 'MEDO': False}],\n",
              " ['cativar por o olhar', {'ALEGRIA': True, 'MEDO': False}],\n",
              " ['loucamente apaixonar', {'ALEGRIA': True, 'MEDO': False}],\n",
              " ['dúvida', {'ALEGRIA': True, 'MEDO': False}],\n",
              " ['rodear por o abraço', {'ALEGRIA': True, 'MEDO': False}],\n",
              " ['vejo estrela por o', {'ALEGRIA': True, 'MEDO': False}],\n",
              " ['sintar sol', {'ALEGRIA': True, 'MEDO': False}],\n",
              " ['sorrir orelha orelha', {'ALEGRIA': True, 'MEDO': False}],\n",
              " ['valer pena', {'ALEGRIA': True, 'MEDO': False}],\n",
              " ['finalmente colocar amor', {'ALEGRIA': True, 'MEDO': False}],\n",
              " ['dançar noite adentro', {'ALEGRIA': True, 'MEDO': False}],\n",
              " ['amor brilhante', {'ALEGRIA': True, 'MEDO': False}],\n",
              " ['toquei coração durante', {'ALEGRIA': True, 'MEDO': False}],\n",
              " ['amiga companheiro', {'ALEGRIA': True, 'MEDO': False}],\n",
              " ['trazer volta vida', {'ALEGRIA': True, 'MEDO': False}],\n",
              " ['sonho doce', {'ALEGRIA': True, 'MEDO': False}],\n",
              " ['adorar doce fruta', {'ALEGRIA': True, 'MEDO': False}],\n",
              " ['suco favorito', {'ALEGRIA': True, 'MEDO': False}],\n",
              " ['agradecido por o ajuda', {'ALEGRIA': True, 'MEDO': False}],\n",
              " ['enorme prazer equipe', {'ALEGRIA': True, 'MEDO': False}],\n",
              " ['trabalhar equipe', {'ALEGRIA': True, 'MEDO': False}],\n",
              " ['sinto flutuar em o ar', {'ALEGRIA': True, 'MEDO': False}],\n",
              " ['brisa agradável hoje', {'ALEGRIA': True, 'MEDO': False}],\n",
              " ['compatível', {'ALEGRIA': True, 'MEDO': False}],\n",
              " ['compatível outro', {'ALEGRIA': True, 'MEDO': False}],\n",
              " ['órgão compatível paciente', {'ALEGRIA': True, 'MEDO': False}],\n",
              " ['contente aceitar em o faculdade', {'ALEGRIA': True, 'MEDO': False}],\n",
              " ['aprovar em o exame', {'ALEGRIA': True, 'MEDO': False}],\n",
              " ['beneficiar por o empresa', {'ALEGRIA': True, 'MEDO': False}],\n",
              " ['cativante', {'ALEGRIA': True, 'MEDO': False}],\n",
              " ['contente', {'ALEGRIA': True, 'MEDO': False}],\n",
              " ['confortável', {'ALEGRIA': True, 'MEDO': False}],\n",
              " ['quente em este frio', {'ALEGRIA': True, 'MEDO': False}],\n",
              " ['elogio', {'ALEGRIA': True, 'MEDO': False}],\n",
              " ['chamar comemorar', {'ALEGRIA': True, 'MEDO': False}],\n",
              " ['desejável presença apresentação', {'ALEGRIA': True, 'MEDO': False}],\n",
              " ['gratar', {'ALEGRIA': True, 'MEDO': False}],\n",
              " ['dedico em aquilo', {'ALEGRIA': True, 'MEDO': False}],\n",
              " ['completamente apaixonar', {'ALEGRIA': True, 'MEDO': False}],\n",
              " ['agitar noite', {'ALEGRIA': True, 'MEDO': False}],\n",
              " ['significar', {'ALEGRIA': True, 'MEDO': False}],\n",
              " ['agir preconceito julgamento', {'ALEGRIA': True, 'MEDO': False}],\n",
              " ['finalmente completar coleção maravilhoso',\n",
              "  {'ALEGRIA': True, 'MEDO': False}],\n",
              " ['rainha', {'ALEGRIA': True, 'MEDO': False}],\n",
              " ['satisfatoriamente anunciar vencedor de o jogo',\n",
              "  {'ALEGRIA': True, 'MEDO': False}],\n",
              " ['atrair facilmente', {'ALEGRIA': True, 'MEDO': False}],\n",
              " ['rapaz extremamente atraente', {'ALEGRIA': True, 'MEDO': False}],\n",
              " ['sinto-me viver', {'ALEGRIA': True, 'MEDO': False}],\n",
              " ['sinto-me paz', {'ALEGRIA': True, 'MEDO': False}],\n",
              " ['lucro', {'ALEGRIA': True, 'MEDO': False}],\n",
              " ['ordem', {'ALEGRIA': True, 'MEDO': False}],\n",
              " ['arrumar emprego junto', {'ALEGRIA': True, 'MEDO': False}],\n",
              " ['arrumação terminada alívio', {'ALEGRIA': True, 'MEDO': False}],\n",
              " ['câncer benigno', {'ALEGRIA': True, 'MEDO': False}],\n",
              " ['amor abundante', {'ALEGRIA': True, 'MEDO': False}],\n",
              " ['caridoso natal', {'ALEGRIA': True, 'MEDO': False}],\n",
              " ['charme atrair', {'ALEGRIA': True, 'MEDO': False}],\n",
              " ['charmoso querer', {'ALEGRIA': True, 'MEDO': False}],\n",
              " ['querida por o amigo', {'ALEGRIA': True, 'MEDO': False}],\n",
              " ['cuidadoso sentimento', {'ALEGRIA': True, 'MEDO': False}],\n",
              " ['comovido tamanho caridade', {'ALEGRIA': True, 'MEDO': False}],\n",
              " ['chá quente reconfortante', {'ALEGRIA': True, 'MEDO': False}],\n",
              " ['alegr', {'ALEGRIA': True, 'MEDO': False}],\n",
              " ['aplaudir vencedor', {'ALEGRIA': True, 'MEDO': False}],\n",
              " ['palma aniversariante', {'ALEGRIA': True, 'MEDO': False}],\n",
              " ['desejo', {'ALEGRIA': True, 'MEDO': False}],\n",
              " ['hora apreciar vinho', {'ALEGRIA': True, 'MEDO': False}],\n",
              " ['apreciar presença escola', {'ALEGRIA': True, 'MEDO': False}],\n",
              " ['anseio trabalho', {'ALEGRIA': True, 'MEDO': False}],\n",
              " ['maravilhoso jogo amistoso', {'ALEGRIA': True, 'MEDO': False}],\n",
              " ['menimo apaziguar', {'ALEGRIA': True, 'MEDO': False}],\n",
              " ['concretizar finalmente sonho', {'ALEGRIA': True, 'MEDO': False}],\n",
              " ['imploror matem', {'ALEGRIA': False, 'MEDO': True}],\n",
              " ['perigoso', {'ALEGRIA': False, 'MEDO': True}],\n",
              " ['seguro', {'ALEGRIA': False, 'MEDO': True}],\n",
              " ['correr pra', {'ALEGRIA': False, 'MEDO': True}],\n",
              " ['socorro querer roubar doce', {'ALEGRIA': False, 'MEDO': True}],\n",
              " ['cara perseguir', {'ALEGRIA': False, 'MEDO': True}],\n",
              " ['entro perigoso', {'ALEGRIA': False, 'MEDO': True}],\n",
              " ['continuar assustador', {'ALEGRIA': False, 'MEDO': True}],\n",
              " ['em o selva animal perigoso', {'ALEGRIA': False, 'MEDO': True}],\n",
              " ['avancer cautela', {'ALEGRIA': False, 'MEDO': True}],\n",
              " ['silencioso cuidado', {'ALEGRIA': False, 'MEDO': True}],\n",
              " ['deixe-me viver', {'ALEGRIA': False, 'MEDO': True}],\n",
              " ['ficar mesada tirar nota', {'ALEGRIA': False, 'MEDO': True}],\n",
              " ['parecer olho em o vigiar', {'ALEGRIA': False, 'MEDO': True}],\n",
              " ['temo sentença de o juiz negativo', {'ALEGRIA': False, 'MEDO': True}],\n",
              " ['missão arriscar', {'ALEGRIA': False, 'MEDO': True}],\n",
              " ['salvem se puder', {'ALEGRIA': False, 'MEDO': True}],\n",
              " ['plano descobrir', {'ALEGRIA': False, 'MEDO': True}],\n",
              " ['culpa juro', {'ALEGRIA': False, 'MEDO': True}],\n",
              " ['tomar cuidado lobisomem', {'ALEGRIA': False, 'MEDO': True}],\n",
              " ['achar descobrir verdade', {'ALEGRIA': False, 'MEDO': True}],\n",
              " ['Deus desaparecer', {'ALEGRIA': False, 'MEDO': True}],\n",
              " ['tomaro vejam de aqui', {'ALEGRIA': False, 'MEDO': True}],\n",
              " ['manter segredo descobrir estaremo ferrado',\n",
              "  {'ALEGRIA': False, 'MEDO': True}],\n",
              " ['soltar inocente', {'ALEGRIA': False, 'MEDO': True}],\n",
              " ['ouvir passo', {'ALEGRIA': False, 'MEDO': True}],\n",
              " ['pedir socorro', {'ALEGRIA': False, 'MEDO': True}],\n",
              " ['cuidado curva em o estrada', {'ALEGRIA': False, 'MEDO': True}],\n",
              " ['parecer perigoso', {'ALEGRIA': False, 'MEDO': True}],\n",
              " ['tremer medo', {'ALEGRIA': False, 'MEDO': True}],\n",
              " ['socorro cair', {'ALEGRIA': False, 'MEDO': True}],\n",
              " ['floresta negro perigoso', {'ALEGRIA': False, 'MEDO': True}],\n",
              " ['ouço passo em o direção', {'ALEGRIA': False, 'MEDO': True}],\n",
              " ['achar arriscado', {'ALEGRIA': False, 'MEDO': True}],\n",
              " ['voltar perigoso', {'ALEGRIA': False, 'MEDO': True}],\n",
              " ['fuja acabaremo morto', {'ALEGRIA': False, 'MEDO': True}],\n",
              " ['receiar livrar de este situação', {'ALEGRIA': False, 'MEDO': True}],\n",
              " ['socorro armado', {'ALEGRIA': False, 'MEDO': True}],\n",
              " ['ei cuidado bater em o poste', {'ALEGRIA': False, 'MEDO': True}],\n",
              " ['socorro afundar', {'ALEGRIA': False, 'MEDO': True}],\n",
              " ['sério cuidado arma', {'ALEGRIA': False, 'MEDO': True}],\n",
              " ['tubarão atacar', {'ALEGRIA': False, 'MEDO': True}],\n",
              " ['sinto arrepio fico sozinho em o escuro', {'ALEGRIA': False, 'MEDO': True}],\n",
              " ['calmo dinheiro', {'ALEGRIA': False, 'MEDO': True}],\n",
              " ['achar enganar', {'ALEGRIA': False, 'MEDO': True}],\n",
              " ['ligeiro fugir depressa', {'ALEGRIA': False, 'MEDO': True}],\n",
              " ['crocodilo selvagem vir', {'ALEGRIA': False, 'MEDO': True}],\n",
              " ['ficarmos achar', {'ALEGRIA': False, 'MEDO': True}],\n",
              " ['fuja tigre parecer faminto', {'ALEGRIA': False, 'MEDO': True}],\n",
              " ['saída preciso milagre', {'ALEGRIA': False, 'MEDO': True}],\n",
              " ['tirar socorro', {'ALEGRIA': False, 'MEDO': True}],\n",
              " ['nadar afogar', {'ALEGRIA': False, 'MEDO': True}],\n",
              " ['certezar seguro', {'ALEGRIA': False, 'MEDO': True}],\n",
              " ['apanhar pai boletim', {'ALEGRIA': False, 'MEDO': True}],\n",
              " ['consigo sair de aqui', {'ALEGRIA': False, 'MEDO': True}],\n",
              " ['sair assaltar', {'ALEGRIA': False, 'MEDO': True}],\n",
              " ['deixar', {'ALEGRIA': False, 'MEDO': True}],\n",
              " ['esperar largar sozinho', {'ALEGRIA': False, 'MEDO': True}],\n",
              " ['temo por o segurança', {'ALEGRIA': False, 'MEDO': True}],\n",
              " ['entregar dinheiro mate', {'ALEGRIA': False, 'MEDO': True}],\n",
              " ['levar dinheiro', {'ALEGRIA': False, 'MEDO': True}],\n",
              " ['dirijar rápido', {'ALEGRIA': False, 'MEDO': True}],\n",
              " ['descobrir prender', {'ALEGRIA': False, 'MEDO': True}],\n",
              " ['esperar façam nenhum', {'ALEGRIA': False, 'MEDO': True}],\n",
              " ['afogar ajudar sair de o água', {'ALEGRIA': False, 'MEDO': True}],\n",
              " ['estarer salvo', {'ALEGRIA': False, 'MEDO': True}],\n",
              " ['querer pensar em o acontecer', {'ALEGRIA': False, 'MEDO': True}],\n",
              " ['em esse cidade desgraça de o outro', {'ALEGRIA': False, 'MEDO': True}],\n",
              " ['alguém ligar assustado', {'ALEGRIA': False, 'MEDO': True}],\n",
              " ['remediar matar', {'ALEGRIA': False, 'MEDO': True}],\n",
              " ['confior em ele cautela', {'ALEGRIA': False, 'MEDO': True}],\n",
              " ['cautela', {'ALEGRIA': False, 'MEDO': True}],\n",
              " ['descobrir Deus', {'ALEGRIA': False, 'MEDO': True}],\n",
              " ['receiar', {'ALEGRIA': False, 'MEDO': True}],\n",
              " ['noite perigoso', {'ALEGRIA': False, 'MEDO': True}],\n",
              " ['estremecer casa', {'ALEGRIA': False, 'MEDO': True}],\n",
              " ['olhar criatura mover monstruosamente', {'ALEGRIA': False, 'MEDO': True}],\n",
              " ['aguentar suspense', {'ALEGRIA': False, 'MEDO': True}],\n",
              " ['afugente cão', {'ALEGRIA': False, 'MEDO': True}],\n",
              " ['chocado amedrontar assassinato brutal', {'ALEGRIA': False, 'MEDO': True}],\n",
              " ['preciso afugentar ímpeto medo de o inferno',\n",
              "  {'ALEGRIA': False, 'MEDO': True}],\n",
              " ['político força afugentar amedrontar', {'ALEGRIA': False, 'MEDO': True}],\n",
              " ['objetivo de isso amedrontar', {'ALEGRIA': False, 'MEDO': True}],\n",
              " ['apavorar', {'ALEGRIA': False, 'MEDO': True}]]"
            ]
          },
          "metadata": {},
          "execution_count": 40
        }
      ]
    },
    {
      "cell_type": "markdown",
      "source": [
        "##Etapa 5: Criação do classificador"
      ],
      "metadata": {
        "id": "0jp40sM5HVpI"
      }
    },
    {
      "cell_type": "code",
      "source": [
        "from spacy.training import Example"
      ],
      "metadata": {
        "id": "9MQd6uUvJQwh"
      },
      "execution_count": 41,
      "outputs": []
    },
    {
      "cell_type": "code",
      "source": [
        "modelo = spacy.blank('pt')\n",
        "textcat = modelo.add_pipe(\"textcat\")\n",
        "textcat.add_label(\"ALEGRIA\")\n",
        "textcat.add_label(\"MEDO\")\n",
        "historico = []"
      ],
      "metadata": {
        "id": "wAqeipPIHSOh"
      },
      "execution_count": 42,
      "outputs": []
    },
    {
      "cell_type": "code",
      "source": [
        "modelo.begin_training()\n",
        "for epoca in range(1000):\n",
        "  random.shuffle(base_dados_final)\n",
        "  losses = {}\n",
        "  for batch in spacy.util.minibatch(base_dados_final, 30):\n",
        "    textos = [modelo(texto) for texto, entities in batch]\n",
        "    annotations = [{'cats': entities} for texto, entities in batch]\n",
        "    examples = [Example.from_dict(doc, annotation) for doc, annotation in zip(\n",
        "            textos, annotations\n",
        "        )]\n",
        "    modelo.update(examples, losses=losses)\n",
        "  if epoca % 100 == 0:\n",
        "    print(losses)\n",
        "    historico.append(losses)"
      ],
      "metadata": {
        "id": "Fy-DxE0sBp6A",
        "outputId": "91fe6145-ccbc-4ebf-a869-1fc9b5296cc8",
        "colab": {
          "base_uri": "https://localhost:8080/"
        }
      },
      "execution_count": 44,
      "outputs": [
        {
          "output_type": "stream",
          "name": "stdout",
          "text": [
            "{'textcat': 1.7413109242916107}\n",
            "{'textcat': 6.245599003251723e-11}\n",
            "{'textcat': 7.592868418422952e-12}\n",
            "{'textcat': 2.002892494326787e-12}\n",
            "{'textcat': 7.150354849096976e-13}\n",
            "{'textcat': 2.8349410340268054e-13}\n",
            "{'textcat': 1.3828856832033944e-13}\n",
            "{'textcat': 6.37730716352607e-14}\n",
            "{'textcat': 3.3963403958969546e-14}\n",
            "{'textcat': 1.8371821059359923e-14}\n"
          ]
        }
      ]
    },
    {
      "cell_type": "code",
      "source": [
        "historico_loss = []\n",
        "for i in historico:\n",
        "  historico_loss.append(i.get('textcat'))"
      ],
      "metadata": {
        "id": "7Im9u3bNC_OZ"
      },
      "execution_count": 50,
      "outputs": []
    },
    {
      "cell_type": "code",
      "source": [
        "historico_loss = np.array(historico_loss)\n",
        "historico_loss"
      ],
      "metadata": {
        "id": "mk1SN6fvDl1R",
        "outputId": "e20e466c-dc44-4769-dd46-390c6c0e6ef2",
        "colab": {
          "base_uri": "https://localhost:8080/"
        }
      },
      "execution_count": 51,
      "outputs": [
        {
          "output_type": "execute_result",
          "data": {
            "text/plain": [
              "array([1.74131092e+00, 6.24559900e-11, 7.59286842e-12, 2.00289249e-12,\n",
              "       7.15035485e-13, 2.83494103e-13, 1.38288568e-13, 6.37730716e-14,\n",
              "       3.39634040e-14, 1.83718211e-14])"
            ]
          },
          "metadata": {},
          "execution_count": 51
        }
      ]
    },
    {
      "cell_type": "code",
      "source": [
        "import matplotlib.pyplot as plt\n",
        "plt.plot(historico_loss)\n",
        "plt.xlabel('Epoca')\n",
        "plt.ylabel('Erro')\n"
      ],
      "metadata": {
        "id": "PiBy9qpXF42I",
        "outputId": "39de940b-39ac-4f4a-c777-d6004f887148",
        "colab": {
          "base_uri": "https://localhost:8080/",
          "height": 466
        }
      },
      "execution_count": 53,
      "outputs": [
        {
          "output_type": "execute_result",
          "data": {
            "text/plain": [
              "Text(0, 0.5, 'Erro')"
            ]
          },
          "metadata": {},
          "execution_count": 53
        },
        {
          "output_type": "display_data",
          "data": {
            "text/plain": [
              "<Figure size 640x480 with 1 Axes>"
            ],
            "image/png": "[encoded data removed]"
          },
          "metadata": {}
        }
      ]
    },
    {
      "cell_type": "code",
      "source": [
        "modelo.to_disk('modelo')"
      ],
      "metadata": {
        "id": "6qh-NmpDF-k_"
      },
      "execution_count": 54,
      "outputs": []
    },
    {
      "cell_type": "markdown",
      "source": [
        "##Etapa 6: Test com uma frase"
      ],
      "metadata": {
        "id": "LI8ujFhiGe7f"
      }
    },
    {
      "cell_type": "code",
      "source": [
        "modelo_carregado = spacy.load('modelo')\n",
        "modelo_carregado"
      ],
      "metadata": {
        "id": "uFzJQQUZGYDV",
        "outputId": "731d9320-bb28-4f28-bdeb-430a8d6a57e8",
        "colab": {
          "base_uri": "https://localhost:8080/"
        }
      },
      "execution_count": 56,
      "outputs": [
        {
          "output_type": "execute_result",
          "data": {
            "text/plain": [
              "<spacy.lang.pt.Portuguese at 0x78fb54dd8760>"
            ]
          },
          "metadata": {},
          "execution_count": 56
        }
      ]
    },
    {
      "cell_type": "code",
      "source": [
        "texto_positivo = 'eu adoro a cor dos seus olhos'\n"
      ],
      "metadata": {
        "id": "U769B4qBGoPD"
      },
      "execution_count": 57,
      "outputs": []
    },
    {
      "cell_type": "code",
      "source": [
        "texto_positivo = preprocessamento(texto_positivo)\n",
        "texto_positivo"
      ],
      "metadata": {
        "id": "O15fVun2GxIP",
        "outputId": "5521ba91-c1f3-494a-a7c9-3ae300292b1d",
        "colab": {
          "base_uri": "https://localhost:8080/",
          "height": 35
        }
      },
      "execution_count": 58,
      "outputs": [
        {
          "output_type": "execute_result",
          "data": {
            "text/plain": [
              "'adorar cor de o olho'"
            ],
            "application/vnd.google.colaboratory.intrinsic+json": {
              "type": "string"
            }
          },
          "metadata": {},
          "execution_count": 58
        }
      ]
    },
    {
      "cell_type": "code",
      "source": [
        "previsao = modelo_carregado(texto_positivo)\n",
        "previsao"
      ],
      "metadata": {
        "id": "zDp-NLDUG4kM",
        "outputId": "62254bd9-285b-4c90-eed7-04a087542384",
        "colab": {
          "base_uri": "https://localhost:8080/"
        }
      },
      "execution_count": 60,
      "outputs": [
        {
          "output_type": "execute_result",
          "data": {
            "text/plain": [
              "adorar cor de o olho"
            ]
          },
          "metadata": {},
          "execution_count": 60
        }
      ]
    },
    {
      "cell_type": "code",
      "source": [
        "previsao.cats"
      ],
      "metadata": {
        "id": "w8kvobluHA8Z",
        "outputId": "22d72c47-7954-4c6c-fc14-2b88368c4de0",
        "colab": {
          "base_uri": "https://localhost:8080/"
        }
      },
      "execution_count": 62,
      "outputs": [
        {
          "output_type": "execute_result",
          "data": {
            "text/plain": [
              "{'ALEGRIA': 1.0, 'MEDO': 4.170068734765664e-08}"
            ]
          },
          "metadata": {},
          "execution_count": 62
        }
      ]
    },
    {
      "cell_type": "code",
      "source": [
        "texto_negativo = 'estou com medo dele'\n",
        "previsao = modelo_carregado(preprocessamento(texto_negativo))\n",
        "previsao.cats"
      ],
      "metadata": {
        "id": "JWD95lamHG7C",
        "outputId": "afd6f9e4-7817-4f94-b0c8-7c3c848a5301",
        "colab": {
          "base_uri": "https://localhost:8080/"
        }
      },
      "execution_count": 63,
      "outputs": [
        {
          "output_type": "execute_result",
          "data": {
            "text/plain": [
              "{'ALEGRIA': 2.729612788243685e-06, 'MEDO': 0.9999972581863403}"
            ]
          },
          "metadata": {},
          "execution_count": 63
        }
      ]
    },
    {
      "cell_type": "markdown",
      "source": [
        "##Etapa 7: Avaliação do modelo"
      ],
      "metadata": {
        "id": "6hHJ9bWMHgYm"
      }
    },
    {
      "cell_type": "markdown",
      "source": [
        "###Avaliação na base de treinamento"
      ],
      "metadata": {
        "id": "Ahc9uKZJHjbB"
      }
    },
    {
      "cell_type": "code",
      "source": [
        "previsoes = []\n",
        "for texto in base_dados['texto']:\n",
        "  previsao = modelo_carregado(texto)\n",
        "  previsoes.append(previsao.cats)"
      ],
      "metadata": {
        "id": "N3LGhyDAHi05"
      },
      "execution_count": 73,
      "outputs": []
    },
    {
      "cell_type": "code",
      "source": [
        "previsoes"
      ],
      "metadata": {
        "id": "ksU6fuKNH08G",
        "outputId": "ef859e59-6364-41f9-9c0e-81b557f86a8f",
        "colab": {
          "base_uri": "https://localhost:8080/"
        }
      },
      "execution_count": 74,
      "outputs": [
        {
          "output_type": "execute_result",
          "data": {
            "text/plain": [
              "[{'ALEGRIA': 1.0, 'MEDO': 1.0175236653253705e-08},\n",
              " {'ALEGRIA': 1.0, 'MEDO': 2.4868814563205888e-08},\n",
              " {'ALEGRIA': 1.0, 'MEDO': 4.864415537042532e-09},\n",
              " {'ALEGRIA': 1.0, 'MEDO': 2.45215350247463e-08},\n",
              " {'ALEGRIA': 1.0, 'MEDO': 9.649425258828614e-09},\n",
              " {'ALEGRIA': 1.0, 'MEDO': 2.1528403948423147e-08},\n",
              " {'ALEGRIA': 1.0, 'MEDO': 4.170068734765664e-08},\n",
              " {'ALEGRIA': 1.0, 'MEDO': 1.8644792376676378e-08},\n",
              " {'ALEGRIA': 1.0, 'MEDO': 2.100036056162935e-08},\n",
              " {'ALEGRIA': 1.0, 'MEDO': 3.9976917776129994e-08},\n",
              " {'ALEGRIA': 1.0, 'MEDO': 5.911234612909766e-09},\n",
              " {'ALEGRIA': 1.0, 'MEDO': 1.341336464122378e-08},\n",
              " {'ALEGRIA': 1.0, 'MEDO': 5.531536118041913e-09},\n",
              " {'ALEGRIA': 1.0, 'MEDO': 7.986512784441402e-09},\n",
              " {'ALEGRIA': 1.0, 'MEDO': 4.437982070726321e-08},\n",
              " {'ALEGRIA': 1.0, 'MEDO': 1.6146374903769356e-08},\n",
              " {'ALEGRIA': 1.0, 'MEDO': 3.0582398835576896e-08},\n",
              " {'ALEGRIA': 1.0, 'MEDO': 1.9379298166199987e-09},\n",
              " {'ALEGRIA': 1.0, 'MEDO': 2.3621788969308e-08},\n",
              " {'ALEGRIA': 1.0, 'MEDO': 1.2182530539917025e-08},\n",
              " {'ALEGRIA': 1.0, 'MEDO': 1.5859374258297976e-08},\n",
              " {'ALEGRIA': 1.0, 'MEDO': 3.3170298507911866e-08},\n",
              " {'ALEGRIA': 1.0, 'MEDO': 2.089755213319222e-08},\n",
              " {'ALEGRIA': 1.0, 'MEDO': 7.591681061569489e-09},\n",
              " {'ALEGRIA': 1.0, 'MEDO': 5.466904262618755e-09},\n",
              " {'ALEGRIA': 1.0, 'MEDO': 3.8624691001132305e-08},\n",
              " {'ALEGRIA': 1.0, 'MEDO': 1.3687211364299401e-08},\n",
              " {'ALEGRIA': 1.0, 'MEDO': 1.5933535379986097e-08},\n",
              " {'ALEGRIA': 1.0, 'MEDO': 4.0984854621228806e-08},\n",
              " {'ALEGRIA': 1.0, 'MEDO': 6.327137036521435e-09},\n",
              " {'ALEGRIA': 0.9999998807907104, 'MEDO': 1.3297163548031676e-07},\n",
              " {'ALEGRIA': 1.0, 'MEDO': 5.831356286734035e-09},\n",
              " {'ALEGRIA': 1.0, 'MEDO': 6.725856760425586e-09},\n",
              " {'ALEGRIA': 1.0, 'MEDO': 1.3003904619779405e-08},\n",
              " {'ALEGRIA': 1.0, 'MEDO': 1.0818847151483624e-08},\n",
              " {'ALEGRIA': 1.0, 'MEDO': 8.114758642818742e-09},\n",
              " {'ALEGRIA': 1.0, 'MEDO': 4.975236578275144e-08},\n",
              " {'ALEGRIA': 1.0, 'MEDO': 3.4539822113544005e-09},\n",
              " {'ALEGRIA': 1.0, 'MEDO': 1.673298655191502e-08},\n",
              " {'ALEGRIA': 1.0, 'MEDO': 1.8114979738470538e-08},\n",
              " {'ALEGRIA': 1.0, 'MEDO': 5.143104431226675e-08},\n",
              " {'ALEGRIA': 1.0, 'MEDO': 3.006063664656722e-08},\n",
              " {'ALEGRIA': 1.0, 'MEDO': 2.4936262832397915e-08},\n",
              " {'ALEGRIA': 1.0, 'MEDO': 2.199173998462811e-08},\n",
              " {'ALEGRIA': 1.0, 'MEDO': 3.7054146417858647e-08},\n",
              " {'ALEGRIA': 1.0, 'MEDO': 2.278759048124357e-08},\n",
              " {'ALEGRIA': 1.0, 'MEDO': 1.6374700706478507e-08},\n",
              " {'ALEGRIA': 1.0, 'MEDO': 5.169984973463215e-08},\n",
              " {'ALEGRIA': 1.0, 'MEDO': 2.3545231542243528e-08},\n",
              " {'ALEGRIA': 1.0, 'MEDO': 3.3620799477773744e-09},\n",
              " {'ALEGRIA': 1.0, 'MEDO': 2.066196813643728e-08},\n",
              " {'ALEGRIA': 1.0, 'MEDO': 4.6005230736057e-09},\n",
              " {'ALEGRIA': 1.0, 'MEDO': 3.6777009881916456e-08},\n",
              " {'ALEGRIA': 1.0, 'MEDO': 1.7320516576546652e-08},\n",
              " {'ALEGRIA': 1.0, 'MEDO': 2.1022563245765014e-08},\n",
              " {'ALEGRIA': 1.0, 'MEDO': 3.203706100407544e-08},\n",
              " {'ALEGRIA': 1.0, 'MEDO': 2.3866890686008446e-08},\n",
              " {'ALEGRIA': 1.0, 'MEDO': 3.1332369587744324e-08},\n",
              " {'ALEGRIA': 1.0, 'MEDO': 1.544299088607204e-08},\n",
              " {'ALEGRIA': 1.0, 'MEDO': 1.1312412340203082e-08},\n",
              " {'ALEGRIA': 1.0, 'MEDO': 2.3706059337769148e-08},\n",
              " {'ALEGRIA': 1.0, 'MEDO': 1.2713916142104154e-08},\n",
              " {'ALEGRIA': 1.0, 'MEDO': 1.4471631670787133e-09},\n",
              " {'ALEGRIA': 1.0, 'MEDO': 2.7812876446375867e-09},\n",
              " {'ALEGRIA': 1.0, 'MEDO': 4.370842354717297e-09},\n",
              " {'ALEGRIA': 1.0, 'MEDO': 1.1369888142098716e-08},\n",
              " {'ALEGRIA': 1.0, 'MEDO': 1.0480746936991636e-08},\n",
              " {'ALEGRIA': 1.0, 'MEDO': 3.0936877948306574e-08},\n",
              " {'ALEGRIA': 1.0, 'MEDO': 3.320523944694287e-08},\n",
              " {'ALEGRIA': 1.0, 'MEDO': 7.2032637632446495e-09},\n",
              " {'ALEGRIA': 1.0, 'MEDO': 3.2674465355597704e-09},\n",
              " {'ALEGRIA': 1.0, 'MEDO': 1.4160908001770167e-08},\n",
              " {'ALEGRIA': 1.0, 'MEDO': 5.257022195337413e-08},\n",
              " {'ALEGRIA': 1.0, 'MEDO': 3.66213335212251e-08},\n",
              " {'ALEGRIA': 1.0, 'MEDO': 6.667484786504474e-09},\n",
              " {'ALEGRIA': 1.0, 'MEDO': 2.624276795870628e-08},\n",
              " {'ALEGRIA': 1.0, 'MEDO': 5.367910560494238e-08},\n",
              " {'ALEGRIA': 1.0, 'MEDO': 2.8830507758925705e-08},\n",
              " {'ALEGRIA': 1.0, 'MEDO': 1.0929017690841647e-08},\n",
              " {'ALEGRIA': 1.0, 'MEDO': 1.0892183155419843e-08},\n",
              " {'ALEGRIA': 1.0, 'MEDO': 4.504483896994316e-08},\n",
              " {'ALEGRIA': 1.0, 'MEDO': 1.7850229738769485e-08},\n",
              " {'ALEGRIA': 1.0, 'MEDO': 2.2976131219820672e-08},\n",
              " {'ALEGRIA': 1.0, 'MEDO': 1.6986057005397015e-08},\n",
              " {'ALEGRIA': 1.0, 'MEDO': 2.8135483276514606e-08},\n",
              " {'ALEGRIA': 1.0, 'MEDO': 2.5039208040311678e-08},\n",
              " {'ALEGRIA': 1.0, 'MEDO': 1.0508170333878297e-08},\n",
              " {'ALEGRIA': 0.9999997615814209, 'MEDO': 1.9130938255784713e-07},\n",
              " {'ALEGRIA': 1.0, 'MEDO': 4.429119826454553e-08},\n",
              " {'ALEGRIA': 1.0, 'MEDO': 1.834246887710833e-08},\n",
              " {'ALEGRIA': 1.0, 'MEDO': 1.5083756466083287e-08},\n",
              " {'ALEGRIA': 1.0, 'MEDO': 7.52731743602908e-09},\n",
              " {'ALEGRIA': 1.0, 'MEDO': 1.1755108886291055e-08},\n",
              " {'ALEGRIA': 1.0, 'MEDO': 1.5053405633125294e-08},\n",
              " {'ALEGRIA': 1.0, 'MEDO': 4.468941661173176e-09},\n",
              " {'ALEGRIA': 1.0, 'MEDO': 1.7933256657443053e-08},\n",
              " {'ALEGRIA': 1.0, 'MEDO': 1.6343964404086364e-08},\n",
              " {'ALEGRIA': 1.0, 'MEDO': 5.445915363111453e-08},\n",
              " {'ALEGRIA': 1.0, 'MEDO': 1.14105134230158e-08},\n",
              " {'ALEGRIA': 1.0, 'MEDO': 1.593295984037013e-08},\n",
              " {'ALEGRIA': 1.0, 'MEDO': 1.0178498044410844e-08},\n",
              " {'ALEGRIA': 1.0, 'MEDO': 3.127439640593366e-08},\n",
              " {'ALEGRIA': 1.0, 'MEDO': 4.817262144740653e-09},\n",
              " {'ALEGRIA': 1.0, 'MEDO': 1.0660545335383631e-08},\n",
              " {'ALEGRIA': 1.0, 'MEDO': 1.3057141146077811e-08},\n",
              " {'ALEGRIA': 1.0, 'MEDO': 3.955445393444279e-08},\n",
              " {'ALEGRIA': 1.0, 'MEDO': 1.4461072339599923e-08},\n",
              " {'ALEGRIA': 1.0, 'MEDO': 1.0943577599675791e-08},\n",
              " {'ALEGRIA': 1.0, 'MEDO': 7.0950236796818444e-09},\n",
              " {'ALEGRIA': 1.0, 'MEDO': 7.994666262334249e-09},\n",
              " {'ALEGRIA': 1.0, 'MEDO': 1.76387686678936e-08},\n",
              " {'ALEGRIA': 1.0, 'MEDO': 2.913798979875537e-08},\n",
              " {'ALEGRIA': 2.2200865146260185e-08, 'MEDO': 1.0},\n",
              " {'ALEGRIA': 3.676674964481208e-09, 'MEDO': 1.0},\n",
              " {'ALEGRIA': 8.815932872607846e-09, 'MEDO': 1.0},\n",
              " {'ALEGRIA': 2.4832697675947202e-08, 'MEDO': 1.0},\n",
              " {'ALEGRIA': 1.6073490982648764e-08, 'MEDO': 1.0},\n",
              " {'ALEGRIA': 2.2656058362713338e-08, 'MEDO': 1.0},\n",
              " {'ALEGRIA': 5.6017275262831845e-09, 'MEDO': 1.0},\n",
              " {'ALEGRIA': 4.564435940324074e-08, 'MEDO': 1.0},\n",
              " {'ALEGRIA': 8.338053802958711e-09, 'MEDO': 1.0},\n",
              " {'ALEGRIA': 9.917522802993517e-09, 'MEDO': 1.0},\n",
              " {'ALEGRIA': 2.6288155652309797e-08, 'MEDO': 1.0},\n",
              " {'ALEGRIA': 2.39758065845308e-07, 'MEDO': 0.9999997615814209},\n",
              " {'ALEGRIA': 3.850611562938866e-08, 'MEDO': 1.0},\n",
              " {'ALEGRIA': 2.6894218407846893e-08, 'MEDO': 1.0},\n",
              " {'ALEGRIA': 1.5914492834667726e-08, 'MEDO': 1.0},\n",
              " {'ALEGRIA': 4.226698635534376e-08, 'MEDO': 1.0},\n",
              " {'ALEGRIA': 2.6181622203580446e-08, 'MEDO': 1.0},\n",
              " {'ALEGRIA': 1.9085849345401584e-08, 'MEDO': 1.0},\n",
              " {'ALEGRIA': 1.8235304821700993e-08, 'MEDO': 1.0},\n",
              " {'ALEGRIA': 2.788300790257381e-08, 'MEDO': 1.0},\n",
              " {'ALEGRIA': 5.515430956393175e-08, 'MEDO': 1.0},\n",
              " {'ALEGRIA': 8.823991315409785e-09, 'MEDO': 1.0},\n",
              " {'ALEGRIA': 2.0006298839803094e-08, 'MEDO': 1.0},\n",
              " {'ALEGRIA': 1.961795703664393e-08, 'MEDO': 1.0},\n",
              " {'ALEGRIA': 2.756667605297025e-08, 'MEDO': 1.0},\n",
              " {'ALEGRIA': 5.928261437304627e-09, 'MEDO': 1.0},\n",
              " {'ALEGRIA': 2.539933152689855e-09, 'MEDO': 1.0},\n",
              " {'ALEGRIA': 4.757410820843688e-08, 'MEDO': 1.0},\n",
              " {'ALEGRIA': 3.8385907785709605e-09, 'MEDO': 1.0},\n",
              " {'ALEGRIA': 8.381903171539307e-09, 'MEDO': 1.0},\n",
              " {'ALEGRIA': 4.757462868099083e-09, 'MEDO': 1.0},\n",
              " {'ALEGRIA': 6.38852126755296e-09, 'MEDO': 1.0},\n",
              " {'ALEGRIA': 1.171484331763395e-08, 'MEDO': 1.0},\n",
              " {'ALEGRIA': 9.610305085061555e-08, 'MEDO': 0.9999998807907104},\n",
              " {'ALEGRIA': 2.8317872491356866e-09, 'MEDO': 1.0},\n",
              " {'ALEGRIA': 1.6648813883080038e-08, 'MEDO': 1.0},\n",
              " {'ALEGRIA': 5.8744614506167636e-08, 'MEDO': 1.0},\n",
              " {'ALEGRIA': 2.2012041078767197e-09, 'MEDO': 1.0},\n",
              " {'ALEGRIA': 2.0333372319214504e-08, 'MEDO': 1.0},\n",
              " {'ALEGRIA': 1.1053454818110708e-09, 'MEDO': 1.0},\n",
              " {'ALEGRIA': 1.5993304458561397e-08, 'MEDO': 1.0},\n",
              " {'ALEGRIA': 2.2471645877431e-08, 'MEDO': 1.0},\n",
              " {'ALEGRIA': 5.662316127086342e-08, 'MEDO': 1.0},\n",
              " {'ALEGRIA': 1.1761186691217063e-08, 'MEDO': 1.0},\n",
              " {'ALEGRIA': 2.9440551330139897e-08, 'MEDO': 1.0},\n",
              " {'ALEGRIA': 1.7096244420145013e-08, 'MEDO': 1.0},\n",
              " {'ALEGRIA': 1.7505415428331617e-07, 'MEDO': 0.9999998807907104},\n",
              " {'ALEGRIA': 2.7347299536018e-08, 'MEDO': 1.0},\n",
              " {'ALEGRIA': 1.8415031277640992e-08, 'MEDO': 1.0},\n",
              " {'ALEGRIA': 8.227734937804598e-09, 'MEDO': 1.0},\n",
              " {'ALEGRIA': 1.5945141873530133e-09, 'MEDO': 1.0},\n",
              " {'ALEGRIA': 2.4739280846119982e-08, 'MEDO': 1.0},\n",
              " {'ALEGRIA': 1.3124156872379444e-08, 'MEDO': 1.0},\n",
              " {'ALEGRIA': 2.0211764706346003e-08, 'MEDO': 1.0},\n",
              " {'ALEGRIA': 2.149664624084835e-08, 'MEDO': 1.0},\n",
              " {'ALEGRIA': 2.8185812794845333e-08, 'MEDO': 1.0},\n",
              " {'ALEGRIA': 3.0394915029319236e-08, 'MEDO': 1.0},\n",
              " {'ALEGRIA': 1.4552131055722839e-08, 'MEDO': 1.0},\n",
              " {'ALEGRIA': 5.0435410514637624e-08, 'MEDO': 1.0},\n",
              " {'ALEGRIA': 7.52077244925431e-09, 'MEDO': 1.0},\n",
              " {'ALEGRIA': 3.356706201884663e-08, 'MEDO': 1.0},\n",
              " {'ALEGRIA': 4.141280385283608e-08, 'MEDO': 1.0},\n",
              " {'ALEGRIA': 2.9182986693854218e-08, 'MEDO': 1.0},\n",
              " {'ALEGRIA': 3.102598711279825e-08, 'MEDO': 1.0},\n",
              " {'ALEGRIA': 6.413381470338209e-08, 'MEDO': 0.9999998807907104},\n",
              " {'ALEGRIA': 4.553149679509261e-08, 'MEDO': 1.0},\n",
              " {'ALEGRIA': 4.5187164232629584e-08, 'MEDO': 1.0},\n",
              " {'ALEGRIA': 3.9904470838791894e-08, 'MEDO': 1.0},\n",
              " {'ALEGRIA': 3.359050282369935e-08, 'MEDO': 1.0},\n",
              " {'ALEGRIA': 2.6567661848275748e-08, 'MEDO': 1.0},\n",
              " {'ALEGRIA': 3.150525884620947e-08, 'MEDO': 1.0},\n",
              " {'ALEGRIA': 5.742077480164198e-09, 'MEDO': 1.0},\n",
              " {'ALEGRIA': 1.3313501412426376e-08, 'MEDO': 1.0},\n",
              " {'ALEGRIA': 2.9345187613216694e-08, 'MEDO': 1.0},\n",
              " {'ALEGRIA': 6.177434119791769e-09, 'MEDO': 1.0},\n",
              " {'ALEGRIA': 2.4198298476107993e-08, 'MEDO': 1.0},\n",
              " {'ALEGRIA': 1.8669238599500204e-08, 'MEDO': 1.0},\n",
              " {'ALEGRIA': 1.211477673734862e-08, 'MEDO': 1.0},\n",
              " {'ALEGRIA': 4.4717655356407704e-08, 'MEDO': 1.0},\n",
              " {'ALEGRIA': 3.247937740979978e-08, 'MEDO': 1.0},\n",
              " {'ALEGRIA': 2.2944425026594217e-08, 'MEDO': 1.0},\n",
              " {'ALEGRIA': 4.197928049620714e-08, 'MEDO': 1.0},\n",
              " {'ALEGRIA': 2.751377969900659e-08, 'MEDO': 1.0},\n",
              " {'ALEGRIA': 1.310826149847344e-07, 'MEDO': 0.9999998807907104}]"
            ]
          },
          "metadata": {},
          "execution_count": 74
        }
      ]
    },
    {
      "cell_type": "code",
      "source": [
        "previsoes_final = []\n",
        "for previsao in previsoes:\n",
        "  if previsao['ALEGRIA'] > previsao['MEDO']:\n",
        "    previsoes_final.append('alegria')\n",
        "  else:\n",
        "    previsoes_final.append('medo')\n",
        "\n",
        "previsoes_final = np.array(previsoes_final)"
      ],
      "metadata": {
        "id": "Sno5g5-SH1bK"
      },
      "execution_count": 76,
      "outputs": []
    },
    {
      "cell_type": "code",
      "source": [
        "previsoes_final"
      ],
      "metadata": {
        "id": "B4NulvYQImCE",
        "outputId": "283ecb98-83d5-481d-c14a-d376482d7162",
        "colab": {
          "base_uri": "https://localhost:8080/"
        }
      },
      "execution_count": 77,
      "outputs": [
        {
          "output_type": "execute_result",
          "data": {
            "text/plain": [
              "array(['alegria', 'alegria', 'alegria', 'alegria', 'alegria', 'alegria',\n",
              "       'alegria', 'alegria', 'alegria', 'alegria', 'alegria', 'alegria',\n",
              "       'alegria', 'alegria', 'alegria', 'alegria', 'alegria', 'alegria',\n",
              "       'alegria', 'alegria', 'alegria', 'alegria', 'alegria', 'alegria',\n",
              "       'alegria', 'alegria', 'alegria', 'alegria', 'alegria', 'alegria',\n",
              "       'alegria', 'alegria', 'alegria', 'alegria', 'alegria', 'alegria',\n",
              "       'alegria', 'alegria', 'alegria', 'alegria', 'alegria', 'alegria',\n",
              "       'alegria', 'alegria', 'alegria', 'alegria', 'alegria', 'alegria',\n",
              "       'alegria', 'alegria', 'alegria', 'alegria', 'alegria', 'alegria',\n",
              "       'alegria', 'alegria', 'alegria', 'alegria', 'alegria', 'alegria',\n",
              "       'alegria', 'alegria', 'alegria', 'alegria', 'alegria', 'alegria',\n",
              "       'alegria', 'alegria', 'alegria', 'alegria', 'alegria', 'alegria',\n",
              "       'alegria', 'alegria', 'alegria', 'alegria', 'alegria', 'alegria',\n",
              "       'alegria', 'alegria', 'alegria', 'alegria', 'alegria', 'alegria',\n",
              "       'alegria', 'alegria', 'alegria', 'alegria', 'alegria', 'alegria',\n",
              "       'alegria', 'alegria', 'alegria', 'alegria', 'alegria', 'alegria',\n",
              "       'alegria', 'alegria', 'alegria', 'alegria', 'alegria', 'alegria',\n",
              "       'alegria', 'alegria', 'alegria', 'alegria', 'alegria', 'alegria',\n",
              "       'alegria', 'alegria', 'alegria', 'alegria', 'medo', 'medo', 'medo',\n",
              "       'medo', 'medo', 'medo', 'medo', 'medo', 'medo', 'medo', 'medo',\n",
              "       'medo', 'medo', 'medo', 'medo', 'medo', 'medo', 'medo', 'medo',\n",
              "       'medo', 'medo', 'medo', 'medo', 'medo', 'medo', 'medo', 'medo',\n",
              "       'medo', 'medo', 'medo', 'medo', 'medo', 'medo', 'medo', 'medo',\n",
              "       'medo', 'medo', 'medo', 'medo', 'medo', 'medo', 'medo', 'medo',\n",
              "       'medo', 'medo', 'medo', 'medo', 'medo', 'medo', 'medo', 'medo',\n",
              "       'medo', 'medo', 'medo', 'medo', 'medo', 'medo', 'medo', 'medo',\n",
              "       'medo', 'medo', 'medo', 'medo', 'medo', 'medo', 'medo', 'medo',\n",
              "       'medo', 'medo', 'medo', 'medo', 'medo', 'medo', 'medo', 'medo',\n",
              "       'medo', 'medo', 'medo', 'medo', 'medo', 'medo', 'medo', 'medo',\n",
              "       'medo'], dtype='<U7')"
            ]
          },
          "metadata": {},
          "execution_count": 77
        }
      ]
    },
    {
      "cell_type": "code",
      "source": [
        "respostas_reais = base_dados['emocao'].values\n",
        "respostas_reais"
      ],
      "metadata": {
        "id": "OGzhWyerIvJO",
        "outputId": "49a5fe10-23ff-4746-dc2d-cf8017e31a04",
        "colab": {
          "base_uri": "https://localhost:8080/"
        }
      },
      "execution_count": 79,
      "outputs": [
        {
          "output_type": "execute_result",
          "data": {
            "text/plain": [
              "array(['alegria', 'alegria', 'alegria', 'alegria', 'alegria', 'alegria',\n",
              "       'alegria', 'alegria', 'alegria', 'alegria', 'alegria', 'alegria',\n",
              "       'alegria', 'alegria', 'alegria', 'alegria', 'alegria', 'alegria',\n",
              "       'alegria', 'alegria', 'alegria', 'alegria', 'alegria', 'alegria',\n",
              "       'alegria', 'alegria', 'alegria', 'alegria', 'alegria', 'alegria',\n",
              "       'alegria', 'alegria', 'alegria', 'alegria', 'alegria', 'alegria',\n",
              "       'alegria', 'alegria', 'alegria', 'alegria', 'alegria', 'alegria',\n",
              "       'alegria', 'alegria', 'alegria', 'alegria', 'alegria', 'alegria',\n",
              "       'alegria', 'alegria', 'alegria', 'alegria', 'alegria', 'alegria',\n",
              "       'alegria', 'alegria', 'alegria', 'alegria', 'alegria', 'alegria',\n",
              "       'alegria', 'alegria', 'alegria', 'alegria', 'alegria', 'alegria',\n",
              "       'alegria', 'alegria', 'alegria', 'alegria', 'alegria', 'alegria',\n",
              "       'alegria', 'alegria', 'alegria', 'alegria', 'alegria', 'alegria',\n",
              "       'alegria', 'alegria', 'alegria', 'alegria', 'alegria', 'alegria',\n",
              "       'alegria', 'alegria', 'alegria', 'alegria', 'alegria', 'alegria',\n",
              "       'alegria', 'alegria', 'alegria', 'alegria', 'alegria', 'alegria',\n",
              "       'alegria', 'alegria', 'alegria', 'alegria', 'alegria', 'alegria',\n",
              "       'alegria', 'alegria', 'alegria', 'alegria', 'alegria', 'alegria',\n",
              "       'alegria', 'alegria', 'alegria', 'alegria', 'medo', 'medo', 'medo',\n",
              "       'medo', 'medo', 'medo', 'medo', 'medo', 'medo', 'medo', 'medo',\n",
              "       'medo', 'medo', 'medo', 'medo', 'medo', 'medo', 'medo', 'medo',\n",
              "       'medo', 'medo', 'medo', 'medo', 'medo', 'medo', 'medo', 'medo',\n",
              "       'medo', 'medo', 'medo', 'medo', 'medo', 'medo', 'medo', 'medo',\n",
              "       'medo', 'medo', 'medo', 'medo', 'medo', 'medo', 'medo', 'medo',\n",
              "       'medo', 'medo', 'medo', 'medo', 'medo', 'medo', 'medo', 'medo',\n",
              "       'medo', 'medo', 'medo', 'medo', 'medo', 'medo', 'medo', 'medo',\n",
              "       'medo', 'medo', 'medo', 'medo', 'medo', 'medo', 'medo', 'medo',\n",
              "       'medo', 'medo', 'medo', 'medo', 'medo', 'medo', 'medo', 'medo',\n",
              "       'medo', 'medo', 'medo', 'medo', 'medo', 'medo', 'medo', 'medo',\n",
              "       'medo'], dtype=object)"
            ]
          },
          "metadata": {},
          "execution_count": 79
        }
      ]
    },
    {
      "cell_type": "code",
      "source": [
        "from sklearn.metrics import confusion_matrix, accuracy_score"
      ],
      "metadata": {
        "id": "25wMjGzsI066"
      },
      "execution_count": 81,
      "outputs": []
    },
    {
      "cell_type": "code",
      "source": [
        "accuracy_score(respostas_reais, previsoes_final)"
      ],
      "metadata": {
        "id": "M-ILIWIZI8VZ",
        "outputId": "57c9abda-bc1d-4e0d-ccae-660bbdd0bd92",
        "colab": {
          "base_uri": "https://localhost:8080/"
        }
      },
      "execution_count": 83,
      "outputs": [
        {
          "output_type": "execute_result",
          "data": {
            "text/plain": [
              "1.0"
            ]
          },
          "metadata": {},
          "execution_count": 83
        }
      ]
    },
    {
      "cell_type": "code",
      "source": [
        "cm = confusion_matrix(respostas_reais, previsoes_final)\n",
        "cm"
      ],
      "metadata": {
        "id": "QUkc7sujJDrx",
        "outputId": "f6b9e1ca-89fb-4522-963d-15fbb7eeb5b6",
        "colab": {
          "base_uri": "https://localhost:8080/"
        }
      },
      "execution_count": 84,
      "outputs": [
        {
          "output_type": "execute_result",
          "data": {
            "text/plain": [
              "array([[112,   0],\n",
              "       [  0,  84]])"
            ]
          },
          "metadata": {},
          "execution_count": 84
        }
      ]
    },
    {
      "cell_type": "markdown",
      "source": [
        "###Avaliação na base de teste"
      ],
      "metadata": {
        "id": "IOvuc159JgPW"
      }
    },
    {
      "cell_type": "code",
      "source": [
        "base_dados_teste = pd.read_csv('base_teste.txt', encoding = 'utf-8')"
      ],
      "metadata": {
        "id": "2FuKc6FDJZZm"
      },
      "execution_count": 86,
      "outputs": []
    },
    {
      "cell_type": "code",
      "source": [
        "base_dados_teste.head()"
      ],
      "metadata": {
        "id": "OYMO2Zk7JrSz",
        "outputId": "f9f71a4e-256f-49e9-e46b-f69d905d6473",
        "colab": {
          "base_uri": "https://localhost:8080/",
          "height": 206
        }
      },
      "execution_count": 87,
      "outputs": [
        {
          "output_type": "execute_result",
          "data": {
            "text/plain": [
              "                                    texto   emocao\n",
              "0           não precisei pagar o ingresso  alegria\n",
              "1             se eu ajeitar tudo fica bem  alegria\n",
              "2        minha fortuna ultrapassará a sua  alegria\n",
              "3                    sou muito afortunado  alegria\n",
              "4  é benéfico para todos esta nova medida  alegria"
            ],
            "text/html": [
              "\n",
              "  <div id=\"df-fe9273b3-aa95-45e1-99b9-a605d8600da2\" class=\"colab-df-container\">\n",
              "    <div>\n",
              "<style scoped>\n",
              "    .dataframe tbody tr th:only-of-type {\n",
              "        vertical-align: middle;\n",
              "    }\n",
              "\n",
              "    .dataframe tbody tr th {\n",
              "        vertical-align: top;\n",
              "    }\n",
              "\n",
              "    .dataframe thead th {\n",
              "        text-align: right;\n",
              "    }\n",
              "</style>\n",
              "<table border=\"1\" class=\"dataframe\">\n",
              "  <thead>\n",
              "    <tr style=\"text-align: right;\">\n",
              "      <th></th>\n",
              "      <th>texto</th>\n",
              "      <th>emocao</th>\n",
              "    </tr>\n",
              "  </thead>\n",
              "  <tbody>\n",
              "    <tr>\n",
              "      <th>0</th>\n",
              "      <td>não precisei pagar o ingresso</td>\n",
              "      <td>alegria</td>\n",
              "    </tr>\n",
              "    <tr>\n",
              "      <th>1</th>\n",
              "      <td>se eu ajeitar tudo fica bem</td>\n",
              "      <td>alegria</td>\n",
              "    </tr>\n",
              "    <tr>\n",
              "      <th>2</th>\n",
              "      <td>minha fortuna ultrapassará a sua</td>\n",
              "      <td>alegria</td>\n",
              "    </tr>\n",
              "    <tr>\n",
              "      <th>3</th>\n",
              "      <td>sou muito afortunado</td>\n",
              "      <td>alegria</td>\n",
              "    </tr>\n",
              "    <tr>\n",
              "      <th>4</th>\n",
              "      <td>é benéfico para todos esta nova medida</td>\n",
              "      <td>alegria</td>\n",
              "    </tr>\n",
              "  </tbody>\n",
              "</table>\n",
              "</div>\n",
              "    <div class=\"colab-df-buttons\">\n",
              "\n",
              "  <div class=\"colab-df-container\">\n",
              "    <button class=\"colab-df-convert\" onclick=\"convertToInteractive('df-fe9273b3-aa95-45e1-99b9-a605d8600da2')\"\n",
              "            title=\"Convert this dataframe to an interactive table.\"\n",
              "            style=\"display:none;\">\n",
              "\n",
              "  <svg xmlns=\"http://www.w3.org/2000/svg\" height=\"24px\" viewBox=\"0 -960 960 960\">\n",
              "    <path d=\"M120-120v-720h720v720H120Zm60-500h600v-160H180v160Zm220 220h160v-160H400v160Zm0 220h160v-160H400v160ZM180-400h160v-160H180v160Zm440 0h160v-160H620v160ZM180-180h160v-160H180v160Zm440 0h160v-160H620v160Z\"/>\n",
              "  </svg>\n",
              "    </button>\n",
              "\n",
              "  <style>\n",
              "    .colab-df-container {\n",
              "      display:flex;\n",
              "      gap: 12px;\n",
              "    }\n",
              "\n",
              "    .colab-df-convert {\n",
              "      background-color: #E8F0FE;\n",
              "      border: none;\n",
              "      border-radius: 50%;\n",
              "      cursor: pointer;\n",
              "      display: none;\n",
              "      fill: #1967D2;\n",
              "      height: 32px;\n",
              "      padding: 0 0 0 0;\n",
              "      width: 32px;\n",
              "    }\n",
              "\n",
              "    .colab-df-convert:hover {\n",
              "      background-color: #E2EBFA;\n",
              "      box-shadow: 0px 1px 2px rgba(60, 64, 67, 0.3), 0px 1px 3px 1px rgba(60, 64, 67, 0.15);\n",
              "      fill: #174EA6;\n",
              "    }\n",
              "\n",
              "    .colab-df-buttons div {\n",
              "      margin-bottom: 4px;\n",
              "    }\n",
              "\n",
              "    [theme=dark] .colab-df-convert {\n",
              "      background-color: #3B4455;\n",
              "      fill: #D2E3FC;\n",
              "    }\n",
              "\n",
              "    [theme=dark] .colab-df-convert:hover {\n",
              "      background-color: #434B5C;\n",
              "      box-shadow: 0px 1px 3px 1px rgba(0, 0, 0, 0.15);\n",
              "      filter: drop-shadow(0px 1px 2px rgba(0, 0, 0, 0.3));\n",
              "      fill: #FFFFFF;\n",
              "    }\n",
              "  </style>\n",
              "\n",
              "    <script>\n",
              "      const buttonEl =\n",
              "        document.querySelector('#df-fe9273b3-aa95-45e1-99b9-a605d8600da2 button.colab-df-convert');\n",
              "      buttonEl.style.display =\n",
              "        google.colab.kernel.accessAllowed ? 'block' : 'none';\n",
              "\n",
              "      async function convertToInteractive(key) {\n",
              "        const element = document.querySelector('#df-fe9273b3-aa95-45e1-99b9-a605d8600da2');\n",
              "        const dataTable =\n",
              "          await google.colab.kernel.invokeFunction('convertToInteractive',\n",
              "                                                    [key], {});\n",
              "        if (!dataTable) return;\n",
              "\n",
              "        const docLinkHtml = 'Like what you see? Visit the ' +\n",
              "          '<a target=\"_blank\" href=https://colab.research.google.com/notebooks/data_table.ipynb>data table notebook</a>'\n",
              "          + ' to learn more about interactive tables.';\n",
              "        element.innerHTML = '';\n",
              "        dataTable['output_type'] = 'display_data';\n",
              "        await google.colab.output.renderOutput(dataTable, element);\n",
              "        const docLink = document.createElement('div');\n",
              "        docLink.innerHTML = docLinkHtml;\n",
              "        element.appendChild(docLink);\n",
              "      }\n",
              "    </script>\n",
              "  </div>\n",
              "\n",
              "\n",
              "<div id=\"df-6a04af5b-3ee7-43f4-b6d9-009cdc0b7689\">\n",
              "  <button class=\"colab-df-quickchart\" onclick=\"quickchart('df-6a04af5b-3ee7-43f4-b6d9-009cdc0b7689')\"\n",
              "            title=\"Suggest charts\"\n",
              "            style=\"display:none;\">\n",
              "\n",
              "<svg xmlns=\"http://www.w3.org/2000/svg\" height=\"24px\"viewBox=\"0 0 24 24\"\n",
              "     width=\"24px\">\n",
              "    <g>\n",
              "        <path d=\"M19 3H5c-1.1 0-2 .9-2 2v14c0 1.1.9 2 2 2h14c1.1 0 2-.9 2-2V5c0-1.1-.9-2-2-2zM9 17H7v-7h2v7zm4 0h-2V7h2v10zm4 0h-2v-4h2v4z\"/>\n",
              "    </g>\n",
              "</svg>\n",
              "  </button>\n",
              "\n",
              "<style>\n",
              "  .colab-df-quickchart {\n",
              "      --bg-color: #E8F0FE;\n",
              "      --fill-color: #1967D2;\n",
              "      --hover-bg-color: #E2EBFA;\n",
              "      --hover-fill-color: #174EA6;\n",
              "      --disabled-fill-color: #AAA;\n",
              "      --disabled-bg-color: #DDD;\n",
              "  }\n",
              "\n",
              "  [theme=dark] .colab-df-quickchart {\n",
              "      --bg-color: #3B4455;\n",
              "      --fill-color: #D2E3FC;\n",
              "      --hover-bg-color: #434B5C;\n",
              "      --hover-fill-color: #FFFFFF;\n",
              "      --disabled-bg-color: #3B4455;\n",
              "      --disabled-fill-color: #666;\n",
              "  }\n",
              "\n",
              "  .colab-df-quickchart {\n",
              "    background-color: var(--bg-color);\n",
              "    border: none;\n",
              "    border-radius: 50%;\n",
              "    cursor: pointer;\n",
              "    display: none;\n",
              "    fill: var(--fill-color);\n",
              "    height: 32px;\n",
              "    padding: 0;\n",
              "    width: 32px;\n",
              "  }\n",
              "\n",
              "  .colab-df-quickchart:hover {\n",
              "    background-color: var(--hover-bg-color);\n",
              "    box-shadow: 0 1px 2px rgba(60, 64, 67, 0.3), 0 1px 3px 1px rgba(60, 64, 67, 0.15);\n",
              "    fill: var(--button-hover-fill-color);\n",
              "  }\n",
              "\n",
              "  .colab-df-quickchart-complete:disabled,\n",
              "  .colab-df-quickchart-complete:disabled:hover {\n",
              "    background-color: var(--disabled-bg-color);\n",
              "    fill: var(--disabled-fill-color);\n",
              "    box-shadow: none;\n",
              "  }\n",
              "\n",
              "  .colab-df-spinner {\n",
              "    border: 2px solid var(--fill-color);\n",
              "    border-color: transparent;\n",
              "    border-bottom-color: var(--fill-color);\n",
              "    animation:\n",
              "      spin 1s steps(1) infinite;\n",
              "  }\n",
              "\n",
              "  @keyframes spin {\n",
              "    0% {\n",
              "      border-color: transparent;\n",
              "      border-bottom-color: var(--fill-color);\n",
              "      border-left-color: var(--fill-color);\n",
              "    }\n",
              "    20% {\n",
              "      border-color: transparent;\n",
              "      border-left-color: var(--fill-color);\n",
              "      border-top-color: var(--fill-color);\n",
              "    }\n",
              "    30% {\n",
              "      border-color: transparent;\n",
              "      border-left-color: var(--fill-color);\n",
              "      border-top-color: var(--fill-color);\n",
              "      border-right-color: var(--fill-color);\n",
              "    }\n",
              "    40% {\n",
              "      border-color: transparent;\n",
              "      border-right-color: var(--fill-color);\n",
              "      border-top-color: var(--fill-color);\n",
              "    }\n",
              "    60% {\n",
              "      border-color: transparent;\n",
              "      border-right-color: var(--fill-color);\n",
              "    }\n",
              "    80% {\n",
              "      border-color: transparent;\n",
              "      border-right-color: var(--fill-color);\n",
              "      border-bottom-color: var(--fill-color);\n",
              "    }\n",
              "    90% {\n",
              "      border-color: transparent;\n",
              "      border-bottom-color: var(--fill-color);\n",
              "    }\n",
              "  }\n",
              "</style>\n",
              "\n",
              "  <script>\n",
              "    async function quickchart(key) {\n",
              "      const quickchartButtonEl =\n",
              "        document.querySelector('#' + key + ' button');\n",
              "      quickchartButtonEl.disabled = true;  // To prevent multiple clicks.\n",
              "      quickchartButtonEl.classList.add('colab-df-spinner');\n",
              "      try {\n",
              "        const charts = await google.colab.kernel.invokeFunction(\n",
              "            'suggestCharts', [key], {});\n",
              "      } catch (error) {\n",
              "        console.error('Error during call to suggestCharts:', error);\n",
              "      }\n",
              "      quickchartButtonEl.classList.remove('colab-df-spinner');\n",
              "      quickchartButtonEl.classList.add('colab-df-quickchart-complete');\n",
              "    }\n",
              "    (() => {\n",
              "      let quickchartButtonEl =\n",
              "        document.querySelector('#df-6a04af5b-3ee7-43f4-b6d9-009cdc0b7689 button');\n",
              "      quickchartButtonEl.style.display =\n",
              "        google.colab.kernel.accessAllowed ? 'block' : 'none';\n",
              "    })();\n",
              "  </script>\n",
              "</div>\n",
              "\n",
              "    </div>\n",
              "  </div>\n"
            ],
            "application/vnd.google.colaboratory.intrinsic+json": {
              "type": "dataframe",
              "variable_name": "base_dados_teste",
              "summary": "{\n  \"name\": \"base_dados_teste\",\n  \"rows\": 84,\n  \"fields\": [\n    {\n      \"column\": \"texto\",\n      \"properties\": {\n        \"dtype\": \"string\",\n        \"num_unique_values\": 84,\n        \"samples\": [\n          \"tenho medo de ser advertida novamente\",\n          \"n\\u00e3o precisei pagar o ingresso\",\n          \"estou desconfiada de voc\\u00ea\"\n        ],\n        \"semantic_type\": \"\",\n        \"description\": \"\"\n      }\n    },\n    {\n      \"column\": \"emocao\",\n      \"properties\": {\n        \"dtype\": \"category\",\n        \"num_unique_values\": 2,\n        \"samples\": [\n          \"medo\",\n          \"alegria\"\n        ],\n        \"semantic_type\": \"\",\n        \"description\": \"\"\n      }\n    }\n  ]\n}"
            }
          },
          "metadata": {},
          "execution_count": 87
        }
      ]
    },
    {
      "cell_type": "code",
      "source": [
        "base_dados_teste['texto'] = base_dados_teste['texto'].apply(preprocessamento)"
      ],
      "metadata": {
        "id": "96z3BB87JvGu"
      },
      "execution_count": 89,
      "outputs": []
    },
    {
      "cell_type": "code",
      "source": [
        "base_dados_teste.head()"
      ],
      "metadata": {
        "id": "XU50B7opKXBf",
        "outputId": "8d953958-1d6f-4f0f-9195-0ed0c8b0a28a",
        "colab": {
          "base_uri": "https://localhost:8080/",
          "height": 206
        }
      },
      "execution_count": 90,
      "outputs": [
        {
          "output_type": "execute_result",
          "data": {
            "text/plain": [
              "                     texto   emocao\n",
              "0  precisar pagar ingresso  alegria\n",
              "1            ajeitar ficar  alegria\n",
              "2      fortuna ultrapassar  alegria\n",
              "3                afortunar  alegria\n",
              "4          benéfico medida  alegria"
            ],
            "text/html": [
              "\n",
              "  <div id=\"df-a233cfed-526e-41d7-9996-f11adc480d32\" class=\"colab-df-container\">\n",
              "    <div>\n",
              "<style scoped>\n",
              "    .dataframe tbody tr th:only-of-type {\n",
              "        vertical-align: middle;\n",
              "    }\n",
              "\n",
              "    .dataframe tbody tr th {\n",
              "        vertical-align: top;\n",
              "    }\n",
              "\n",
              "    .dataframe thead th {\n",
              "        text-align: right;\n",
              "    }\n",
              "</style>\n",
              "<table border=\"1\" class=\"dataframe\">\n",
              "  <thead>\n",
              "    <tr style=\"text-align: right;\">\n",
              "      <th></th>\n",
              "      <th>texto</th>\n",
              "      <th>emocao</th>\n",
              "    </tr>\n",
              "  </thead>\n",
              "  <tbody>\n",
              "    <tr>\n",
              "      <th>0</th>\n",
              "      <td>precisar pagar ingresso</td>\n",
              "      <td>alegria</td>\n",
              "    </tr>\n",
              "    <tr>\n",
              "      <th>1</th>\n",
              "      <td>ajeitar ficar</td>\n",
              "      <td>alegria</td>\n",
              "    </tr>\n",
              "    <tr>\n",
              "      <th>2</th>\n",
              "      <td>fortuna ultrapassar</td>\n",
              "      <td>alegria</td>\n",
              "    </tr>\n",
              "    <tr>\n",
              "      <th>3</th>\n",
              "      <td>afortunar</td>\n",
              "      <td>alegria</td>\n",
              "    </tr>\n",
              "    <tr>\n",
              "      <th>4</th>\n",
              "      <td>benéfico medida</td>\n",
              "      <td>alegria</td>\n",
              "    </tr>\n",
              "  </tbody>\n",
              "</table>\n",
              "</div>\n",
              "    <div class=\"colab-df-buttons\">\n",
              "\n",
              "  <div class=\"colab-df-container\">\n",
              "    <button class=\"colab-df-convert\" onclick=\"convertToInteractive('df-a233cfed-526e-41d7-9996-f11adc480d32')\"\n",
              "            title=\"Convert this dataframe to an interactive table.\"\n",
              "            style=\"display:none;\">\n",
              "\n",
              "  <svg xmlns=\"http://www.w3.org/2000/svg\" height=\"24px\" viewBox=\"0 -960 960 960\">\n",
              "    <path d=\"M120-120v-720h720v720H120Zm60-500h600v-160H180v160Zm220 220h160v-160H400v160Zm0 220h160v-160H400v160ZM180-400h160v-160H180v160Zm440 0h160v-160H620v160ZM180-180h160v-160H180v160Zm440 0h160v-160H620v160Z\"/>\n",
              "  </svg>\n",
              "    </button>\n",
              "\n",
              "  <style>\n",
              "    .colab-df-container {\n",
              "      display:flex;\n",
              "      gap: 12px;\n",
              "    }\n",
              "\n",
              "    .colab-df-convert {\n",
              "      background-color: #E8F0FE;\n",
              "      border: none;\n",
              "      border-radius: 50%;\n",
              "      cursor: pointer;\n",
              "      display: none;\n",
              "      fill: #1967D2;\n",
              "      height: 32px;\n",
              "      padding: 0 0 0 0;\n",
              "      width: 32px;\n",
              "    }\n",
              "\n",
              "    .colab-df-convert:hover {\n",
              "      background-color: #E2EBFA;\n",
              "      box-shadow: 0px 1px 2px rgba(60, 64, 67, 0.3), 0px 1px 3px 1px rgba(60, 64, 67, 0.15);\n",
              "      fill: #174EA6;\n",
              "    }\n",
              "\n",
              "    .colab-df-buttons div {\n",
              "      margin-bottom: 4px;\n",
              "    }\n",
              "\n",
              "    [theme=dark] .colab-df-convert {\n",
              "      background-color: #3B4455;\n",
              "      fill: #D2E3FC;\n",
              "    }\n",
              "\n",
              "    [theme=dark] .colab-df-convert:hover {\n",
              "      background-color: #434B5C;\n",
              "      box-shadow: 0px 1px 3px 1px rgba(0, 0, 0, 0.15);\n",
              "      filter: drop-shadow(0px 1px 2px rgba(0, 0, 0, 0.3));\n",
              "      fill: #FFFFFF;\n",
              "    }\n",
              "  </style>\n",
              "\n",
              "    <script>\n",
              "      const buttonEl =\n",
              "        document.querySelector('#df-a233cfed-526e-41d7-9996-f11adc480d32 button.colab-df-convert');\n",
              "      buttonEl.style.display =\n",
              "        google.colab.kernel.accessAllowed ? 'block' : 'none';\n",
              "\n",
              "      async function convertToInteractive(key) {\n",
              "        const element = document.querySelector('#df-a233cfed-526e-41d7-9996-f11adc480d32');\n",
              "        const dataTable =\n",
              "          await google.colab.kernel.invokeFunction('convertToInteractive',\n",
              "                                                    [key], {});\n",
              "        if (!dataTable) return;\n",
              "\n",
              "        const docLinkHtml = 'Like what you see? Visit the ' +\n",
              "          '<a target=\"_blank\" href=https://colab.research.google.com/notebooks/data_table.ipynb>data table notebook</a>'\n",
              "          + ' to learn more about interactive tables.';\n",
              "        element.innerHTML = '';\n",
              "        dataTable['output_type'] = 'display_data';\n",
              "        await google.colab.output.renderOutput(dataTable, element);\n",
              "        const docLink = document.createElement('div');\n",
              "        docLink.innerHTML = docLinkHtml;\n",
              "        element.appendChild(docLink);\n",
              "      }\n",
              "    </script>\n",
              "  </div>\n",
              "\n",
              "\n",
              "<div id=\"df-6d701fb6-5eac-42ba-80d4-4867a6e929d2\">\n",
              "  <button class=\"colab-df-quickchart\" onclick=\"quickchart('df-6d701fb6-5eac-42ba-80d4-4867a6e929d2')\"\n",
              "            title=\"Suggest charts\"\n",
              "            style=\"display:none;\">\n",
              "\n",
              "<svg xmlns=\"http://www.w3.org/2000/svg\" height=\"24px\"viewBox=\"0 0 24 24\"\n",
              "     width=\"24px\">\n",
              "    <g>\n",
              "        <path d=\"M19 3H5c-1.1 0-2 .9-2 2v14c0 1.1.9 2 2 2h14c1.1 0 2-.9 2-2V5c0-1.1-.9-2-2-2zM9 17H7v-7h2v7zm4 0h-2V7h2v10zm4 0h-2v-4h2v4z\"/>\n",
              "    </g>\n",
              "</svg>\n",
              "  </button>\n",
              "\n",
              "<style>\n",
              "  .colab-df-quickchart {\n",
              "      --bg-color: #E8F0FE;\n",
              "      --fill-color: #1967D2;\n",
              "      --hover-bg-color: #E2EBFA;\n",
              "      --hover-fill-color: #174EA6;\n",
              "      --disabled-fill-color: #AAA;\n",
              "      --disabled-bg-color: #DDD;\n",
              "  }\n",
              "\n",
              "  [theme=dark] .colab-df-quickchart {\n",
              "      --bg-color: #3B4455;\n",
              "      --fill-color: #D2E3FC;\n",
              "      --hover-bg-color: #434B5C;\n",
              "      --hover-fill-color: #FFFFFF;\n",
              "      --disabled-bg-color: #3B4455;\n",
              "      --disabled-fill-color: #666;\n",
              "  }\n",
              "\n",
              "  .colab-df-quickchart {\n",
              "    background-color: var(--bg-color);\n",
              "    border: none;\n",
              "    border-radius: 50%;\n",
              "    cursor: pointer;\n",
              "    display: none;\n",
              "    fill: var(--fill-color);\n",
              "    height: 32px;\n",
              "    padding: 0;\n",
              "    width: 32px;\n",
              "  }\n",
              "\n",
              "  .colab-df-quickchart:hover {\n",
              "    background-color: var(--hover-bg-color);\n",
              "    box-shadow: 0 1px 2px rgba(60, 64, 67, 0.3), 0 1px 3px 1px rgba(60, 64, 67, 0.15);\n",
              "    fill: var(--button-hover-fill-color);\n",
              "  }\n",
              "\n",
              "  .colab-df-quickchart-complete:disabled,\n",
              "  .colab-df-quickchart-complete:disabled:hover {\n",
              "    background-color: var(--disabled-bg-color);\n",
              "    fill: var(--disabled-fill-color);\n",
              "    box-shadow: none;\n",
              "  }\n",
              "\n",
              "  .colab-df-spinner {\n",
              "    border: 2px solid var(--fill-color);\n",
              "    border-color: transparent;\n",
              "    border-bottom-color: var(--fill-color);\n",
              "    animation:\n",
              "      spin 1s steps(1) infinite;\n",
              "  }\n",
              "\n",
              "  @keyframes spin {\n",
              "    0% {\n",
              "      border-color: transparent;\n",
              "      border-bottom-color: var(--fill-color);\n",
              "      border-left-color: var(--fill-color);\n",
              "    }\n",
              "    20% {\n",
              "      border-color: transparent;\n",
              "      border-left-color: var(--fill-color);\n",
              "      border-top-color: var(--fill-color);\n",
              "    }\n",
              "    30% {\n",
              "      border-color: transparent;\n",
              "      border-left-color: var(--fill-color);\n",
              "      border-top-color: var(--fill-color);\n",
              "      border-right-color: var(--fill-color);\n",
              "    }\n",
              "    40% {\n",
              "      border-color: transparent;\n",
              "      border-right-color: var(--fill-color);\n",
              "      border-top-color: var(--fill-color);\n",
              "    }\n",
              "    60% {\n",
              "      border-color: transparent;\n",
              "      border-right-color: var(--fill-color);\n",
              "    }\n",
              "    80% {\n",
              "      border-color: transparent;\n",
              "      border-right-color: var(--fill-color);\n",
              "      border-bottom-color: var(--fill-color);\n",
              "    }\n",
              "    90% {\n",
              "      border-color: transparent;\n",
              "      border-bottom-color: var(--fill-color);\n",
              "    }\n",
              "  }\n",
              "</style>\n",
              "\n",
              "  <script>\n",
              "    async function quickchart(key) {\n",
              "      const quickchartButtonEl =\n",
              "        document.querySelector('#' + key + ' button');\n",
              "      quickchartButtonEl.disabled = true;  // To prevent multiple clicks.\n",
              "      quickchartButtonEl.classList.add('colab-df-spinner');\n",
              "      try {\n",
              "        const charts = await google.colab.kernel.invokeFunction(\n",
              "            'suggestCharts', [key], {});\n",
              "      } catch (error) {\n",
              "        console.error('Error during call to suggestCharts:', error);\n",
              "      }\n",
              "      quickchartButtonEl.classList.remove('colab-df-spinner');\n",
              "      quickchartButtonEl.classList.add('colab-df-quickchart-complete');\n",
              "    }\n",
              "    (() => {\n",
              "      let quickchartButtonEl =\n",
              "        document.querySelector('#df-6d701fb6-5eac-42ba-80d4-4867a6e929d2 button');\n",
              "      quickchartButtonEl.style.display =\n",
              "        google.colab.kernel.accessAllowed ? 'block' : 'none';\n",
              "    })();\n",
              "  </script>\n",
              "</div>\n",
              "\n",
              "    </div>\n",
              "  </div>\n"
            ],
            "application/vnd.google.colaboratory.intrinsic+json": {
              "type": "dataframe",
              "variable_name": "base_dados_teste",
              "summary": "{\n  \"name\": \"base_dados_teste\",\n  \"rows\": 84,\n  \"fields\": [\n    {\n      \"column\": \"texto\",\n      \"properties\": {\n        \"dtype\": \"string\",\n        \"num_unique_values\": 83,\n        \"samples\": [\n          \"estimar fam\\u00edlia\",\n          \"precisar pagar ingresso\",\n          \"consentir or\\u00e7amento a o cliente\"\n        ],\n        \"semantic_type\": \"\",\n        \"description\": \"\"\n      }\n    },\n    {\n      \"column\": \"emocao\",\n      \"properties\": {\n        \"dtype\": \"category\",\n        \"num_unique_values\": 2,\n        \"samples\": [\n          \"medo\",\n          \"alegria\"\n        ],\n        \"semantic_type\": \"\",\n        \"description\": \"\"\n      }\n    }\n  ]\n}"
            }
          },
          "metadata": {},
          "execution_count": 90
        }
      ]
    },
    {
      "cell_type": "code",
      "source": [
        "previsoes = []\n",
        "for texto in base_dados_teste['texto']:\n",
        "  previsao = modelo_carregado(texto)\n",
        "  previsoes.append(previsao.cats)"
      ],
      "metadata": {
        "id": "obk_uepYKesc"
      },
      "execution_count": 91,
      "outputs": []
    },
    {
      "cell_type": "code",
      "source": [
        "previsoes_final = []\n",
        "for previsao in previsoes:\n",
        "  if previsao['ALEGRIA'] > previsao['MEDO']:\n",
        "    previsoes_final.append('alegria')\n",
        "  else:\n",
        "    previsoes_final.append('medo')\n",
        "\n",
        "previsoes_final = np.array(previsoes_final)"
      ],
      "metadata": {
        "id": "u0SgYHFzKo_5"
      },
      "execution_count": 92,
      "outputs": []
    },
    {
      "cell_type": "code",
      "source": [
        "respostas_reais = base_dados_teste['emocao'].values\n",
        "respostas_reais"
      ],
      "metadata": {
        "id": "Xh-SjMoBKuHk",
        "outputId": "1b8211b9-c176-46cd-a5ac-5033238198ba",
        "colab": {
          "base_uri": "https://localhost:8080/"
        }
      },
      "execution_count": 93,
      "outputs": [
        {
          "output_type": "execute_result",
          "data": {
            "text/plain": [
              "array(['alegria', 'alegria', 'alegria', 'alegria', 'alegria', 'alegria',\n",
              "       'alegria', 'alegria', 'alegria', 'alegria', 'alegria', 'alegria',\n",
              "       'alegria', 'alegria', 'alegria', 'alegria', 'alegria', 'alegria',\n",
              "       'alegria', 'alegria', 'alegria', 'alegria', 'alegria', 'alegria',\n",
              "       'alegria', 'alegria', 'alegria', 'alegria', 'alegria', 'alegria',\n",
              "       'alegria', 'alegria', 'alegria', 'alegria', 'alegria', 'alegria',\n",
              "       'alegria', 'alegria', 'alegria', 'alegria', 'alegria', 'alegria',\n",
              "       'alegria', 'alegria', 'alegria', 'alegria', 'alegria', 'alegria',\n",
              "       'medo', 'medo', 'medo', 'medo', 'medo', 'medo', 'medo', 'medo',\n",
              "       'medo', 'medo', 'medo', 'medo', 'medo', 'medo', 'medo', 'medo',\n",
              "       'medo', 'medo', 'medo', 'medo', 'medo', 'medo', 'medo', 'medo',\n",
              "       'medo', 'medo', 'medo', 'medo', 'medo', 'medo', 'medo', 'medo',\n",
              "       'medo', 'medo', 'medo', 'medo'], dtype=object)"
            ]
          },
          "metadata": {},
          "execution_count": 93
        }
      ]
    },
    {
      "cell_type": "code",
      "source": [
        "accuracy_score(respostas_reais, previsoes_final)"
      ],
      "metadata": {
        "id": "rIz9gzZSK5lN",
        "outputId": "0335eef5-f004-41e2-f39d-db8aa3bcbb53",
        "colab": {
          "base_uri": "https://localhost:8080/"
        }
      },
      "execution_count": 94,
      "outputs": [
        {
          "output_type": "execute_result",
          "data": {
            "text/plain": [
              "0.5833333333333334"
            ]
          },
          "metadata": {},
          "execution_count": 94
        }
      ]
    },
    {
      "cell_type": "code",
      "source": [
        "cm = confusion_matrix(respostas_reais, previsoes_final)\n",
        "cm"
      ],
      "metadata": {
        "id": "6tHG64JjK7Jz",
        "outputId": "de17c136-ca89-4142-853b-37f27a3814c8",
        "colab": {
          "base_uri": "https://localhost:8080/"
        }
      },
      "execution_count": 95,
      "outputs": [
        {
          "output_type": "execute_result",
          "data": {
            "text/plain": [
              "array([[31, 17],\n",
              "       [18, 18]])"
            ]
          },
          "metadata": {},
          "execution_count": 95
        }
      ]
    }
  ]
}